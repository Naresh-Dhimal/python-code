{
 "cells": [
  {
   "cell_type": "markdown",
   "id": "d8df9727-1d13-445e-a299-95411c8743b8",
   "metadata": {},
   "source": [
    "# Arithmetic Operator\n",
    "\n",
    "Arithmetic operators are used with numeric values to perform common mathematical operations:\n",
    "* Addition (+)\n",
    "* Subtraction (-)\n",
    "* Multiplication (*)\n",
    "* Division (/)\n",
    "* Modules (%)\n",
    "* Exponentiation (**)\n",
    "* Floor division (//)\n"
   ]
  },
  {
   "cell_type": "markdown",
   "id": "ac467771-13c6-4622-8f01-f6ee4738d2ce",
   "metadata": {},
   "source": [
    "# Modules"
   ]
  },
  {
   "cell_type": "code",
   "execution_count": 2,
   "id": "bba4bf19-a619-42e4-b29a-7d31c28f7520",
   "metadata": {},
   "outputs": [
    {
     "data": {
      "text/plain": [
       "3"
      ]
     },
     "execution_count": 2,
     "metadata": {},
     "output_type": "execute_result"
    }
   ],
   "source": [
    "19 %  4 # modules operator le remainder dinxa\n"
   ]
  },
  {
   "cell_type": "code",
   "execution_count": 4,
   "id": "7e05ceaf-3907-4b8e-980d-97038afe7151",
   "metadata": {},
   "outputs": [
    {
     "data": {
      "text/plain": [
       "2"
      ]
     },
     "execution_count": 4,
     "metadata": {},
     "output_type": "execute_result"
    }
   ],
   "source": [
    "22 % 5 # modules operator le remaider 2 deko xa\n"
   ]
  },
  {
   "cell_type": "code",
   "execution_count": 5,
   "id": "6d4e8d31-2d17-4f3b-bc87-9a14d40bfc97",
   "metadata": {},
   "outputs": [
    {
     "data": {
      "text/plain": [
       "0"
      ]
     },
     "execution_count": 5,
     "metadata": {},
     "output_type": "execute_result"
    }
   ],
   "source": [
    "25 % 5 # modules operator le remainder 0 dinxa"
   ]
  },
  {
   "cell_type": "markdown",
   "id": "317d22fd-af9f-4c80-b10e-e98857f105b0",
   "metadata": {},
   "source": [
    "# Exponentiation"
   ]
  },
  {
   "cell_type": "code",
   "execution_count": 7,
   "id": "d773e568-a93b-42be-9d12-721bcada924b",
   "metadata": {},
   "outputs": [
    {
     "data": {
      "text/plain": [
       "3125"
      ]
     },
     "execution_count": 7,
     "metadata": {},
     "output_type": "execute_result"
    }
   ],
   "source": [
    "5 ** 5 # 5 ko power 5"
   ]
  },
  {
   "cell_type": "code",
   "execution_count": 8,
   "id": "bb2d2dc2-6fa5-4b5a-9a19-ec1dd5ae4808",
   "metadata": {},
   "outputs": [
    {
     "data": {
      "text/plain": [
       "36"
      ]
     },
     "execution_count": 8,
     "metadata": {},
     "output_type": "execute_result"
    }
   ],
   "source": [
    "6 ** 2 # 6 ko power 2 or 6 to the power 2"
   ]
  },
  {
   "cell_type": "markdown",
   "id": "1c32f0a0-6b0c-4267-a3b9-e8b48b04515d",
   "metadata": {},
   "source": [
    "# Floor Division"
   ]
  },
  {
   "cell_type": "code",
   "execution_count": 12,
   "id": "87a0ea61-ab6b-48cf-8e07-0cc38275581c",
   "metadata": {},
   "outputs": [
    {
     "data": {
      "text/plain": [
       "3"
      ]
     },
     "execution_count": 12,
     "metadata": {},
     "output_type": "execute_result"
    }
   ],
   "source": [
    "15 //  4 # floor divison le talako value or integer value herxa"
   ]
  },
  {
   "cell_type": "code",
   "execution_count": 13,
   "id": "ece619e1-4af8-438e-b5da-8f240c5899f9",
   "metadata": {},
   "outputs": [
    {
     "data": {
      "text/plain": [
       "4"
      ]
     },
     "execution_count": 13,
     "metadata": {},
     "output_type": "execute_result"
    }
   ],
   "source": [
    "22 // 5"
   ]
  },
  {
   "cell_type": "markdown",
   "id": "b9b0a89d-e555-4fea-b837-40c87cfb5376",
   "metadata": {},
   "source": [
    "# Example\n",
    "\n",
    "The radius of a sphare is 5cm what is its volume?"
   ]
  },
  {
   "cell_type": "code",
   "execution_count": 14,
   "id": "a930a869-fc22-439b-89e7-257e296fbf8e",
   "metadata": {},
   "outputs": [
    {
     "name": "stdout",
     "output_type": "stream",
     "text": [
      "523.3333333333334\n"
     ]
    }
   ],
   "source": [
    "r = 5 # given\n",
    "volume = 4/3 * 3.14 * r ** 3\n",
    "print(volume)"
   ]
  },
  {
   "cell_type": "code",
   "execution_count": 18,
   "id": "bdf95c63-55ad-47a7-9eb4-dfd25dd32fab",
   "metadata": {},
   "outputs": [
    {
     "data": {
      "text/plain": [
       "523.33"
      ]
     },
     "execution_count": 18,
     "metadata": {},
     "output_type": "execute_result"
    }
   ],
   "source": [
    "round(volume, 2) # round off function"
   ]
  },
  {
   "cell_type": "code",
   "execution_count": 19,
   "id": "2cc106a7-ccf5-40b1-9a5a-be5819051f16",
   "metadata": {},
   "outputs": [
    {
     "name": "stdout",
     "output_type": "stream",
     "text": [
      "523.5988\n"
     ]
    }
   ],
   "source": [
    "import math\n",
    "r = 5\n",
    "volume = 4/3 * math.pi * r ** 3\n",
    "print(round(volume,4))"
   ]
  },
  {
   "cell_type": "markdown",
   "id": "1f787b9e-5363-4715-87a4-c9e18ab2310a",
   "metadata": {},
   "source": [
    "# Operator Precedence"
   ]
  },
  {
   "cell_type": "code",
   "execution_count": 25,
   "id": "4e6cf7a3-ff93-40af-9a37-9077bc7d289c",
   "metadata": {},
   "outputs": [
    {
     "data": {
      "text/plain": [
       "18"
      ]
     },
     "execution_count": 25,
     "metadata": {},
     "output_type": "execute_result"
    }
   ],
   "source": [
    "2 * 3 ** 2"
   ]
  },
  {
   "cell_type": "code",
   "execution_count": 26,
   "id": "1fd1458a-f508-475c-8f38-7dd5ab5c0389",
   "metadata": {
    "jp-MarkdownHeadingCollapsed": true
   },
   "outputs": [
    {
     "data": {
      "text/plain": [
       "36"
      ]
     },
     "execution_count": 26,
     "metadata": {},
     "output_type": "execute_result"
    }
   ],
   "source": [
    "6 ** 2"
   ]
  },
  {
   "cell_type": "code",
   "execution_count": 27,
   "id": "823eb5c2-8850-4e0b-8cff-5f4ebbff79f5",
   "metadata": {},
   "outputs": [
    {
     "data": {
      "text/plain": [
       "18"
      ]
     },
     "execution_count": 27,
     "metadata": {},
     "output_type": "execute_result"
    }
   ],
   "source": [
    "2 * 9"
   ]
  },
  {
   "cell_type": "code",
   "execution_count": null,
   "id": "648c5d09-f35c-4859-90c8-aa2fe7824866",
   "metadata": {},
   "outputs": [],
   "source": []
  }
 ],
 "metadata": {
  "kernelspec": {
   "display_name": "Python 3 (ipykernel)",
   "language": "python",
   "name": "python3"
  },
  "language_info": {
   "codemirror_mode": {
    "name": "ipython",
    "version": 3
   },
   "file_extension": ".py",
   "mimetype": "text/x-python",
   "name": "python",
   "nbconvert_exporter": "python",
   "pygments_lexer": "ipython3",
   "version": "3.11.1"
  }
 },
 "nbformat": 4,
 "nbformat_minor": 5
}
