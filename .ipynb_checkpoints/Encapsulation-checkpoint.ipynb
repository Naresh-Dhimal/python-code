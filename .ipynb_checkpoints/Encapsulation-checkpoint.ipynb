{
 "cells": [
  {
   "cell_type": "markdown",
   "id": "278f214d-2831-42d7-b4a9-823268a7496a",
   "metadata": {},
   "source": [
    "# Encapsulation\n",
    "<b>Are access specifiers used in python? - No but has concept of limiting behavoiur of variables: private attribute are nit inherited"
   ]
  },
  {
   "cell_type": "code",
   "execution_count": 3,
   "id": "ccc9f552-2fb2-4fc4-904c-998c78446979",
   "metadata": {},
   "outputs": [],
   "source": [
    "class Tutor:\n",
    "    #public\n",
    "    name = \"Kshitiz\"\n",
    "\n",
    "    #protected\n",
    "    _address = \"Patan\"\n",
    "\n",
    "    # private\n",
    "    __age = 26"
   ]
  },
  {
   "cell_type": "code",
   "execution_count": 4,
   "id": "0c0f8ef7-eefb-4aee-96ee-0fd55615d712",
   "metadata": {},
   "outputs": [
    {
     "data": {
      "text/plain": [
       "'Kshitiz'"
      ]
     },
     "execution_count": 4,
     "metadata": {},
     "output_type": "execute_result"
    }
   ],
   "source": [
    "t1 = Tutor()\n",
    "t1.name"
   ]
  },
  {
   "cell_type": "code",
   "execution_count": 5,
   "id": "baf8e761-9aca-458f-beff-1b34d749b681",
   "metadata": {},
   "outputs": [
    {
     "data": {
      "text/plain": [
       "'Patan'"
      ]
     },
     "execution_count": 5,
     "metadata": {},
     "output_type": "execute_result"
    }
   ],
   "source": [
    "t1._address"
   ]
  },
  {
   "cell_type": "code",
   "execution_count": 6,
   "id": "d9ae5d2c-6e79-43bb-858b-20f50aad74a7",
   "metadata": {},
   "outputs": [
    {
     "ename": "AttributeError",
     "evalue": "'Tutor' object has no attribute '__age'",
     "output_type": "error",
     "traceback": [
      "\u001b[1;31m---------------------------------------------------------------------------\u001b[0m",
      "\u001b[1;31mAttributeError\u001b[0m                            Traceback (most recent call last)",
      "Cell \u001b[1;32mIn[6], line 1\u001b[0m\n\u001b[1;32m----> 1\u001b[0m \u001b[43mt1\u001b[49m\u001b[38;5;241;43m.\u001b[39;49m\u001b[43m__age\u001b[49m\n",
      "\u001b[1;31mAttributeError\u001b[0m: 'Tutor' object has no attribute '__age'"
     ]
    }
   ],
   "source": [
    "t1.__age"
   ]
  },
  {
   "cell_type": "code",
   "execution_count": null,
   "id": "afd38806-d4fe-4e0f-bd91-afa20eb83301",
   "metadata": {},
   "outputs": [],
   "source": []
  }
 ],
 "metadata": {
  "kernelspec": {
   "display_name": "Python 3 (ipykernel)",
   "language": "python",
   "name": "python3"
  },
  "language_info": {
   "codemirror_mode": {
    "name": "ipython",
    "version": 3
   },
   "file_extension": ".py",
   "mimetype": "text/x-python",
   "name": "python",
   "nbconvert_exporter": "python",
   "pygments_lexer": "ipython3",
   "version": "3.11.1"
  }
 },
 "nbformat": 4,
 "nbformat_minor": 5
}
