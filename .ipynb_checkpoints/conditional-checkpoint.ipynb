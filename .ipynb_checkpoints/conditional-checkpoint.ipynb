{
 "cells": [
  {
   "cell_type": "markdown",
   "id": "22885fd1-0d82-4bb6-aed1-3b9e7b262b60",
   "metadata": {},
   "source": [
    "# Conditional Statement in python\n"
   ]
  },
  {
   "cell_type": "markdown",
   "id": "b0f3a283-dd02-468b-b429-c3ed5d27d421",
   "metadata": {},
   "source": [
    "# If statement\n"
   ]
  },
  {
   "cell_type": "code",
   "execution_count": 4,
   "id": "88219e65-4e8a-4663-8575-3b46f3c5a677",
   "metadata": {},
   "outputs": [
    {
     "name": "stdin",
     "output_type": "stream",
     "text": [
      "Enter a number:  5\n"
     ]
    }
   ],
   "source": [
    "# example\n",
    "number = int(input('Enter a number: '))\n",
    "if number > 5:\n",
    "    print('Number is greater than 5.')"
   ]
  },
  {
   "cell_type": "code",
   "execution_count": 5,
   "id": "2afea8a0-6cec-40be-bfe5-e85f724597d6",
   "metadata": {},
   "outputs": [
    {
     "name": "stdout",
     "output_type": "stream",
     "text": [
      "number is divisible by 5.\n"
     ]
    }
   ],
   "source": [
    "if number % 5 == 0:\n",
    "    print('number is divisible by 5.')"
   ]
  },
  {
   "cell_type": "markdown",
   "id": "7765f58d-db22-4d5b-987b-d223082eb9b4",
   "metadata": {},
   "source": [
    "# if-else statement"
   ]
  },
  {
   "cell_type": "code",
   "execution_count": 7,
   "id": "bd5d1ca4-b550-4e1f-9574-9c84cc2455ea",
   "metadata": {},
   "outputs": [
    {
     "name": "stdin",
     "output_type": "stream",
     "text": [
      "Enter a number:  35\n"
     ]
    },
    {
     "name": "stdout",
     "output_type": "stream",
     "text": [
      "35 is divisible by 5.\n"
     ]
    }
   ],
   "source": [
    "# example\n",
    "num = int(input('Enter a number: '))\n",
    "if num % 5 == 0:\n",
    "    print(f'{num} is divisible by 5.')\n",
    "else:\n",
    "    print(f'{num} is not divisible by 5.')"
   ]
  },
  {
   "cell_type": "code",
   "execution_count": null,
   "id": "ba059bd6-7826-4ae7-aa7c-6816e260bdb3",
   "metadata": {},
   "outputs": [],
   "source": []
  }
 ],
 "metadata": {
  "kernelspec": {
   "display_name": "Python 3 (ipykernel)",
   "language": "python",
   "name": "python3"
  },
  "language_info": {
   "codemirror_mode": {
    "name": "ipython",
    "version": 3
   },
   "file_extension": ".py",
   "mimetype": "text/x-python",
   "name": "python",
   "nbconvert_exporter": "python",
   "pygments_lexer": "ipython3",
   "version": "3.11.1"
  }
 },
 "nbformat": 4,
 "nbformat_minor": 5
}
