{
 "cells": [
  {
   "cell_type": "markdown",
   "id": "4de720c0-c718-4a3f-ad08-e21ee61f3f3e",
   "metadata": {},
   "source": [
    "# Dictionary in Python\n",
    "<b>-> python mapping data type<br>\n",
    "<b>-> Dictionaries are used to store data values in  key:value pairs.<br>\n",
    "<b>-> A dictionary is a collection which is ordered , changeable and do not allow duplicate values.<br>\n",
    "<b>syntax:\n",
    "```python\n",
    "{\n",
    "    key1 : value1,\n",
    "    key2 : value2\n",
    "}\n",
    "```"
   ]
  },
  {
   "cell_type": "markdown",
   "id": "939981b3-c324-44e5-82a2-98f4ba402a98",
   "metadata": {},
   "source": [
    "# creating empty dictionary\n"
   ]
  },
  {
   "cell_type": "code",
   "execution_count": 2,
   "id": "14a5d47e-948c-4dbf-bcac-2c6c0c3fa035",
   "metadata": {},
   "outputs": [
    {
     "data": {
      "text/plain": [
       "dict"
      ]
     },
     "execution_count": 2,
     "metadata": {},
     "output_type": "execute_result"
    }
   ],
   "source": [
    "d = {}\n",
    "type(d)"
   ]
  },
  {
   "cell_type": "code",
   "execution_count": 4,
   "id": "a0537d11-94a4-4da6-b6e0-3daca0a7834b",
   "metadata": {},
   "outputs": [
    {
     "data": {
      "text/plain": [
       "dict"
      ]
     },
     "execution_count": 4,
     "metadata": {},
     "output_type": "execute_result"
    }
   ],
   "source": [
    "d = dict()\n",
    "type(d)"
   ]
  },
  {
   "cell_type": "markdown",
   "id": "1709a4a8-cd31-407d-bffa-32f27f0cbfb3",
   "metadata": {},
   "source": [
    "# creating your own dictionary"
   ]
  },
  {
   "cell_type": "code",
   "execution_count": 6,
   "id": "4c5dabf9-5397-4c99-9950-b760b2cb2e7f",
   "metadata": {},
   "outputs": [
    {
     "data": {
      "text/plain": [
       "{'name': 'Kshitiz Regmi',\n",
       " 'age': 26,\n",
       " 'teaches': ['Data science', 'Python', 'AI']}"
      ]
     },
     "execution_count": 6,
     "metadata": {},
     "output_type": "execute_result"
    }
   ],
   "source": [
    "teacher = {\n",
    "    \"name\": \"Kshitiz Regmi\",\n",
    "    \"age\": 26,\n",
    "    \"teaches\": [\"Data science\", \"Python\", \"AI\"],\n",
    "}\n",
    "teacher"
   ]
  },
  {
   "cell_type": "markdown",
   "id": "96c65176-02c3-4aa1-8c05-f3b53dabb639",
   "metadata": {},
   "source": [
    "# accessing values of dictionary using keys"
   ]
  },
  {
   "cell_type": "code",
   "execution_count": 8,
   "id": "a342267a-ea0b-4420-851c-9d67516bc48d",
   "metadata": {},
   "outputs": [
    {
     "data": {
      "text/plain": [
       "26"
      ]
     },
     "execution_count": 8,
     "metadata": {},
     "output_type": "execute_result"
    }
   ],
   "source": [
    "teacher[\"age\"]"
   ]
  },
  {
   "cell_type": "code",
   "execution_count": 10,
   "id": "cf7c22a3-ea49-4011-9eae-0dea9e98cf7d",
   "metadata": {},
   "outputs": [
    {
     "data": {
      "text/plain": [
       "26"
      ]
     },
     "execution_count": 10,
     "metadata": {},
     "output_type": "execute_result"
    }
   ],
   "source": [
    "teacher.get(\"age\")"
   ]
  },
  {
   "cell_type": "code",
   "execution_count": 9,
   "id": "b10a5d54-d932-4c52-81db-ccfa701c344a",
   "metadata": {},
   "outputs": [
    {
     "data": {
      "text/plain": [
       "['Data science', 'Python', 'AI']"
      ]
     },
     "execution_count": 9,
     "metadata": {},
     "output_type": "execute_result"
    }
   ],
   "source": [
    "teacher[\"teaches\"]"
   ]
  },
  {
   "cell_type": "code",
   "execution_count": 13,
   "id": "2a4b0431-354c-4db5-a366-690db8b0a4d2",
   "metadata": {},
   "outputs": [],
   "source": [
    "teacher.get(\"address\") # address key exist gardaina tai vayera None aayo value"
   ]
  },
  {
   "cell_type": "code",
   "execution_count": 14,
   "id": "a24c0a06-0695-428c-b5e2-3c2a5ad9b552",
   "metadata": {},
   "outputs": [
    {
     "ename": "KeyError",
     "evalue": "'address'",
     "output_type": "error",
     "traceback": [
      "\u001b[1;31m---------------------------------------------------------------------------\u001b[0m",
      "\u001b[1;31mKeyError\u001b[0m                                  Traceback (most recent call last)",
      "Cell \u001b[1;32mIn[14], line 1\u001b[0m\n\u001b[1;32m----> 1\u001b[0m \u001b[43mteacher\u001b[49m\u001b[43m[\u001b[49m\u001b[38;5;124;43m\"\u001b[39;49m\u001b[38;5;124;43maddress\u001b[39;49m\u001b[38;5;124;43m\"\u001b[39;49m\u001b[43m]\u001b[49m\n",
      "\u001b[1;31mKeyError\u001b[0m: 'address'"
     ]
    }
   ],
   "source": [
    "teacher[\"address\"] # address key exist gardaina tei vayera eeror aayo None ayena"
   ]
  },
  {
   "cell_type": "code",
   "execution_count": 15,
   "id": "df723ae9-8814-4b77-9f77-39251795c5e0",
   "metadata": {},
   "outputs": [
    {
     "data": {
      "text/plain": [
       "'Kshitiz Regmi'"
      ]
     },
     "execution_count": 15,
     "metadata": {},
     "output_type": "execute_result"
    }
   ],
   "source": [
    "teacher[\"name\"]"
   ]
  },
  {
   "cell_type": "code",
   "execution_count": 16,
   "id": "b04094c5-9c2b-4422-8f6f-af3c6c35a97b",
   "metadata": {},
   "outputs": [
    {
     "data": {
      "text/plain": [
       "'Kshitiz Regmi'"
      ]
     },
     "execution_count": 16,
     "metadata": {},
     "output_type": "execute_result"
    }
   ],
   "source": [
    "teacher.get(\"name\")"
   ]
  },
  {
   "cell_type": "code",
   "execution_count": 17,
   "id": "b60d4fe9-c8fa-40c5-926d-0aa77595d280",
   "metadata": {},
   "outputs": [
    {
     "data": {
      "text/plain": [
       "['Data science', 'Python', 'AI']"
      ]
     },
     "execution_count": 17,
     "metadata": {},
     "output_type": "execute_result"
    }
   ],
   "source": [
    "teacher.get(\"teaches\")"
   ]
  },
  {
   "cell_type": "code",
   "execution_count": 18,
   "id": "b1eace70-2518-4d1c-b379-aa8148467425",
   "metadata": {},
   "outputs": [
    {
     "data": {
      "text/plain": [
       "'AI'"
      ]
     },
     "execution_count": 18,
     "metadata": {},
     "output_type": "execute_result"
    }
   ],
   "source": [
    "teacher.get(\"teaches\")[2]\n"
   ]
  },
  {
   "cell_type": "markdown",
   "id": "c7ef096e-5d8c-4c70-ab85-bc8a76966cff",
   "metadata": {},
   "source": [
    "# Adding key:value pair in dictionary"
   ]
  },
  {
   "cell_type": "code",
   "execution_count": 19,
   "id": "ff6c244f-3f6f-419d-80db-9335b740e02b",
   "metadata": {},
   "outputs": [],
   "source": [
    "teacher = {\n",
    "    \"name\": \"Kshitiz Regmi\",\n",
    "    \"age\": 26,\n",
    "    \"teaches\": [\"Data science\", \"Python\", \"AI\"],\n",
    "}"
   ]
  },
  {
   "cell_type": "code",
   "execution_count": 20,
   "id": "558817f1-3638-42b8-8fe5-fe6d634b0057",
   "metadata": {},
   "outputs": [
    {
     "data": {
      "text/plain": [
       "{'name': 'Kshitiz Regmi',\n",
       " 'age': 26,\n",
       " 'teaches': ['Data science', 'Python', 'AI']}"
      ]
     },
     "execution_count": 20,
     "metadata": {},
     "output_type": "execute_result"
    }
   ],
   "source": [
    "teacher"
   ]
  },
  {
   "cell_type": "code",
   "execution_count": 25,
   "id": "772b892c-8265-4dd7-8c5a-cc7fd5df8786",
   "metadata": {},
   "outputs": [],
   "source": [
    "teacher[\"address\"] = \"Patan\" # teacher ko address key ma patan rakhne ho"
   ]
  },
  {
   "cell_type": "code",
   "execution_count": 22,
   "id": "6ade5687-ace5-4419-97b8-695ee8ba8fd0",
   "metadata": {},
   "outputs": [
    {
     "data": {
      "text/plain": [
       "{'name': 'Kshitiz Regmi',\n",
       " 'age': 26,\n",
       " 'teaches': ['Data science', 'Python', 'AI'],\n",
       " 'address': 'Patan'}"
      ]
     },
     "execution_count": 22,
     "metadata": {},
     "output_type": "execute_result"
    }
   ],
   "source": [
    "teacher"
   ]
  },
  {
   "cell_type": "code",
   "execution_count": 26,
   "id": "d26f13b8-fb44-4c19-91df-bbc1f3382548",
   "metadata": {},
   "outputs": [],
   "source": [
    "# address key exist key garxa\n",
    "teacher[\"address\"] = \"lalitpur\""
   ]
  },
  {
   "cell_type": "code",
   "execution_count": 30,
   "id": "05979477-116d-449d-934a-faa7acc9188f",
   "metadata": {},
   "outputs": [
    {
     "data": {
      "text/plain": [
       "{'name': 'Kshitiz Regmi', 'age': 26, 'teaches': 'ML', 'address': 'lalitpur'}"
      ]
     },
     "execution_count": 30,
     "metadata": {},
     "output_type": "execute_result"
    }
   ],
   "source": [
    "teacher # already existing key cha vnae naya value halda key ko value update hunxa"
   ]
  },
  {
   "cell_type": "code",
   "execution_count": 58,
   "id": "c2bce6cc-7157-4a8f-9772-d3eae0c90464",
   "metadata": {},
   "outputs": [
    {
     "ename": "AttributeError",
     "evalue": "'str' object has no attribute 'append'",
     "output_type": "error",
     "traceback": [
      "\u001b[1;31m---------------------------------------------------------------------------\u001b[0m",
      "\u001b[1;31mAttributeError\u001b[0m                            Traceback (most recent call last)",
      "Cell \u001b[1;32mIn[58], line 1\u001b[0m\n\u001b[1;32m----> 1\u001b[0m \u001b[43mteacher\u001b[49m\u001b[43m[\u001b[49m\u001b[38;5;124;43m\"\u001b[39;49m\u001b[38;5;124;43mteaches\u001b[39;49m\u001b[38;5;124;43m\"\u001b[39;49m\u001b[43m]\u001b[49m\u001b[38;5;241;43m.\u001b[39;49m\u001b[43mappend\u001b[49m(\u001b[38;5;124m\"\u001b[39m\u001b[38;5;124mML\u001b[39m\u001b[38;5;124m\"\u001b[39m)\n",
      "\u001b[1;31mAttributeError\u001b[0m: 'str' object has no attribute 'append'"
     ]
    }
   ],
   "source": [
    "teacher[\"teaches\"].append(\"ML\")"
   ]
  },
  {
   "cell_type": "code",
   "execution_count": 29,
   "id": "6edf0c36-59c8-4217-8292-4ef418af5218",
   "metadata": {},
   "outputs": [
    {
     "data": {
      "text/plain": [
       "{'name': 'Kshitiz Regmi', 'age': 26, 'teaches': 'ML', 'address': 'lalitpur'}"
      ]
     },
     "execution_count": 29,
     "metadata": {},
     "output_type": "execute_result"
    }
   ],
   "source": [
    "teacher"
   ]
  },
  {
   "cell_type": "code",
   "execution_count": 32,
   "id": "365569e5-a560-447c-a3e5-49839e046c64",
   "metadata": {},
   "outputs": [],
   "source": [
    "d = {\n",
    "    \"Name\" : \"Broadway\"\n",
    "}"
   ]
  },
  {
   "cell_type": "code",
   "execution_count": 33,
   "id": "9d7d1c85-b44a-4228-957d-345f85289f9b",
   "metadata": {},
   "outputs": [
    {
     "data": {
      "text/plain": [
       "'Broadway'"
      ]
     },
     "execution_count": 33,
     "metadata": {},
     "output_type": "execute_result"
    }
   ],
   "source": [
    "d[\"Name\"]"
   ]
  },
  {
   "cell_type": "code",
   "execution_count": 34,
   "id": "4400bd55-3ae3-4280-9a9e-875fc376dcc3",
   "metadata": {},
   "outputs": [
    {
     "data": {
      "text/plain": [
       "'Broadway'"
      ]
     },
     "execution_count": 34,
     "metadata": {},
     "output_type": "execute_result"
    }
   ],
   "source": [
    "d.get(\"Name\")"
   ]
  },
  {
   "cell_type": "code",
   "execution_count": 37,
   "id": "4dc32b03-d4b9-4ef2-8515-4aa621cfe9c5",
   "metadata": {},
   "outputs": [],
   "source": [
    "d[\"Address\"] = \"Tinkune\" # address key exist gardaina tai vayera key:value create hunxa"
   ]
  },
  {
   "cell_type": "code",
   "execution_count": 36,
   "id": "0a7ff2c9-72c9-4fd0-b3e1-763744464a62",
   "metadata": {},
   "outputs": [
    {
     "data": {
      "text/plain": [
       "{'Name': 'Broadway', 'Address': 'Tinkune'}"
      ]
     },
     "execution_count": 36,
     "metadata": {},
     "output_type": "execute_result"
    }
   ],
   "source": [
    "d"
   ]
  },
  {
   "cell_type": "code",
   "execution_count": 39,
   "id": "422a876c-091a-47be-a196-6d8334f0295c",
   "metadata": {},
   "outputs": [],
   "source": [
    "# aba address vanna key chha if if write\n",
    "d[\"Address\"] = \"Kathmandu\""
   ]
  },
  {
   "cell_type": "code",
   "execution_count": 40,
   "id": "8d1ba945-1db9-44ed-98e7-336d013725ad",
   "metadata": {},
   "outputs": [
    {
     "data": {
      "text/plain": [
       "{'Name': 'Broadway', 'Address': 'Kathmandu'}"
      ]
     },
     "execution_count": 40,
     "metadata": {},
     "output_type": "execute_result"
    }
   ],
   "source": [
    "d"
   ]
  },
  {
   "cell_type": "code",
   "execution_count": 41,
   "id": "c49ef288-7dda-4428-9207-9aa42fa68eb3",
   "metadata": {},
   "outputs": [],
   "source": [
    "# key xara value update vayo"
   ]
  },
  {
   "cell_type": "code",
   "execution_count": 44,
   "id": "9a5ecfeb-7ed9-40f3-9ea8-fa9a3f978a07",
   "metadata": {},
   "outputs": [],
   "source": [
    "# alternative way\n",
    "d  = {\n",
    "    \"Name\": \"Broadway\"\n",
    "    \n",
    "}\n",
    "d.update({\"address\": \"Tinkune\"}) # key value pair naya create hunxa"
   ]
  },
  {
   "cell_type": "code",
   "execution_count": 43,
   "id": "7b7e05ac-7dd3-455c-a7cf-ebf6356bb994",
   "metadata": {},
   "outputs": [
    {
     "data": {
      "text/plain": [
       "{'Name': 'Broadway', 'address': 'Tinkune'}"
      ]
     },
     "execution_count": 43,
     "metadata": {},
     "output_type": "execute_result"
    }
   ],
   "source": [
    "d"
   ]
  },
  {
   "cell_type": "code",
   "execution_count": 50,
   "id": "49f42a50-a882-4352-baa3-d79bb09bde9c",
   "metadata": {},
   "outputs": [],
   "source": [
    "d.update({\"address\": \"kathmandu\", \"codurse\": \"Python\"}) # esma address pailei exist garxa aba address updatehunxa"
   ]
  },
  {
   "cell_type": "code",
   "execution_count": 47,
   "id": "ac1be508-1ed5-422a-9b22-a62cc89e50b6",
   "metadata": {},
   "outputs": [
    {
     "data": {
      "text/plain": [
       "{'Name': 'Broadway', 'address': 'kathmandu', 'course': 'Python'}"
      ]
     },
     "execution_count": 47,
     "metadata": {},
     "output_type": "execute_result"
    }
   ],
   "source": [
    "d"
   ]
  },
  {
   "cell_type": "markdown",
   "id": "f8c953e9-b741-4428-84ea-e0d2a7310489",
   "metadata": {},
   "source": [
    "# .pop()"
   ]
  },
  {
   "cell_type": "code",
   "execution_count": 52,
   "id": "3c8e6535-9126-4cab-bfda-64b2368c1871",
   "metadata": {},
   "outputs": [],
   "source": [
    "d = {'Name': 'Broadway', 'address': 'Tinkune'}"
   ]
  },
  {
   "cell_type": "code",
   "execution_count": 53,
   "id": "4803a73e-6469-45e4-94af-5e72f79a097a",
   "metadata": {},
   "outputs": [
    {
     "data": {
      "text/plain": [
       "'Tinkune'"
      ]
     },
     "execution_count": 53,
     "metadata": {},
     "output_type": "execute_result"
    }
   ],
   "source": [
    "d.pop(\"address\")"
   ]
  },
  {
   "cell_type": "code",
   "execution_count": 54,
   "id": "8b06b3ba-a9ba-4561-ad68-69035eef7968",
   "metadata": {},
   "outputs": [
    {
     "data": {
      "text/plain": [
       "{'Name': 'Broadway'}"
      ]
     },
     "execution_count": 54,
     "metadata": {},
     "output_type": "execute_result"
    }
   ],
   "source": [
    "d"
   ]
  },
  {
   "cell_type": "markdown",
   "id": "2ef09aab-dbaa-4954-bc17-2881a4bbae5e",
   "metadata": {},
   "source": [
    "# Accessing keys and values only"
   ]
  },
  {
   "cell_type": "code",
   "execution_count": 55,
   "id": "97dc8bc4-95cf-4125-8704-244e5d6c7197",
   "metadata": {},
   "outputs": [],
   "source": [
    "d = {'Name': 'Broadway', 'address': 'Tinkune'}"
   ]
  },
  {
   "cell_type": "code",
   "execution_count": 56,
   "id": "98373866-b6b6-467d-8672-cf28c5673155",
   "metadata": {},
   "outputs": [
    {
     "data": {
      "text/plain": [
       "dict_keys(['Name', 'address'])"
      ]
     },
     "execution_count": 56,
     "metadata": {},
     "output_type": "execute_result"
    }
   ],
   "source": [
    "d.keys()"
   ]
  },
  {
   "cell_type": "code",
   "execution_count": 57,
   "id": "9a247ed6-875b-4f31-993b-1b12cbc5a607",
   "metadata": {},
   "outputs": [
    {
     "data": {
      "text/plain": [
       "dict_values(['Broadway', 'Tinkune'])"
      ]
     },
     "execution_count": 57,
     "metadata": {},
     "output_type": "execute_result"
    }
   ],
   "source": [
    "d.values()"
   ]
  },
  {
   "cell_type": "code",
   "execution_count": 59,
   "id": "cdf6d9dd-f6a7-4d2e-908e-32aefa6e7adc",
   "metadata": {},
   "outputs": [
    {
     "data": {
      "text/plain": [
       "dict_items([('Name', 'Broadway'), ('address', 'Tinkune')])"
      ]
     },
     "execution_count": 59,
     "metadata": {},
     "output_type": "execute_result"
    }
   ],
   "source": [
    "d.items()"
   ]
  },
  {
   "cell_type": "code",
   "execution_count": 64,
   "id": "e18395dc-f456-474f-879a-2e92c093c259",
   "metadata": {},
   "outputs": [
    {
     "name": "stdout",
     "output_type": "stream",
     "text": [
      "Name Broadway\n",
      "address Tinkune\n"
     ]
    }
   ],
   "source": [
    "for key,value in d.items():\n",
    "    print(key, value)"
   ]
  },
  {
   "cell_type": "code",
   "execution_count": 65,
   "id": "35abe2f8-b3af-43ce-8ada-ab8343f8d4ee",
   "metadata": {},
   "outputs": [
    {
     "name": "stdout",
     "output_type": "stream",
     "text": [
      "('Name', 'Broadway')\n",
      "('address', 'Tinkune')\n"
     ]
    }
   ],
   "source": [
    "for item in d.items():\n",
    "    print(item)"
   ]
  },
  {
   "cell_type": "code",
   "execution_count": 66,
   "id": "67bc5a8b-4cce-4a63-962a-20c05d7c4f64",
   "metadata": {},
   "outputs": [],
   "source": [
    "d = {'Name': 'Broadway', 'address': 'Tinkune'}"
   ]
  },
  {
   "cell_type": "code",
   "execution_count": 67,
   "id": "2baa2c1f-b39c-4614-af18-0989a7f12b0d",
   "metadata": {},
   "outputs": [
    {
     "name": "stdout",
     "output_type": "stream",
     "text": [
      "Name\n",
      "address\n"
     ]
    }
   ],
   "source": [
    "for key in d.keys():\n",
    "    print(key)"
   ]
  },
  {
   "cell_type": "code",
   "execution_count": 68,
   "id": "6abb137f-bb20-4d15-903f-9ed467f7e4af",
   "metadata": {},
   "outputs": [
    {
     "name": "stdout",
     "output_type": "stream",
     "text": [
      "Broadway\n",
      "Tinkune\n"
     ]
    }
   ],
   "source": [
    "for value in d.values():\n",
    "    print(value)"
   ]
  },
  {
   "cell_type": "code",
   "execution_count": 70,
   "id": "c7064add-9a30-4d2a-8145-bee04bf82816",
   "metadata": {},
   "outputs": [
    {
     "name": "stdout",
     "output_type": "stream",
     "text": [
      "Name\n",
      "Broadway\n"
     ]
    }
   ],
   "source": [
    "item = (\"Name\", \"Broadway\")\n",
    "key, value = item\n",
    "print(key)\n",
    "print(value)"
   ]
  },
  {
   "cell_type": "code",
   "execution_count": 72,
   "id": "7eced37b-0488-47cd-afd3-f5221e28f6fa",
   "metadata": {},
   "outputs": [
    {
     "name": "stdout",
     "output_type": "stream",
     "text": [
      "Name\n",
      "address\n"
     ]
    }
   ],
   "source": [
    "d = {'Name': 'Broadway', 'address': 'Tinkune'}\n",
    "for item in d:\n",
    "    print(item)"
   ]
  },
  {
   "cell_type": "markdown",
   "id": "0c1468ae-4d8f-4066-bf0a-d7ab8bef54db",
   "metadata": {},
   "source": [
    "# Nested DicTionary"
   ]
  },
  {
   "cell_type": "code",
   "execution_count": 75,
   "id": "29e05174-d47f-4e72-912d-1ab52ab36694",
   "metadata": {},
   "outputs": [],
   "source": [
    "c = {\n",
    "    \"child1\": {\"name\": \"sonam\", \"age\": 12},\n",
    "    \"child2\": {\"name\": 'Harry'},\n",
    "    \"child3\": {\"name\":\"David\",\"address\": \"kathmandu\"}\n",
    "}"
   ]
  },
  {
   "cell_type": "code",
   "execution_count": 76,
   "id": "8cce007d-7fc0-42c4-9419-dd31bf9b2f77",
   "metadata": {},
   "outputs": [
    {
     "data": {
      "text/plain": [
       "{'child1': {'name': 'sonam', 'age': 12},\n",
       " 'child2': {'name': 'Harry'},\n",
       " 'child3': {'name': 'David', 'address': 'kathmandu'}}"
      ]
     },
     "execution_count": 76,
     "metadata": {},
     "output_type": "execute_result"
    }
   ],
   "source": [
    "c"
   ]
  },
  {
   "cell_type": "markdown",
   "id": "9758d639-1fd6-4551-b2fb-48ba118fa567",
   "metadata": {},
   "source": [
    "# Accessing key:value in nested dictionary"
   ]
  },
  {
   "cell_type": "code",
   "execution_count": 80,
   "id": "af42f1ab-2026-497f-b352-b22f7bf83f99",
   "metadata": {},
   "outputs": [
    {
     "data": {
      "text/plain": [
       "{'name': 'sonam', 'age': 12}"
      ]
     },
     "execution_count": 80,
     "metadata": {},
     "output_type": "execute_result"
    }
   ],
   "source": [
    "c[\"child1\"]"
   ]
  },
  {
   "cell_type": "code",
   "execution_count": 77,
   "id": "ad4bc3cc-6c35-43e1-bf3f-b16b3fdd6187",
   "metadata": {},
   "outputs": [
    {
     "data": {
      "text/plain": [
       "12"
      ]
     },
     "execution_count": 77,
     "metadata": {},
     "output_type": "execute_result"
    }
   ],
   "source": [
    "c[\"child1\"][\"age\"]"
   ]
  },
  {
   "cell_type": "code",
   "execution_count": 79,
   "id": "724e3dbb-9b3d-487b-9c3c-dc207bca2010",
   "metadata": {},
   "outputs": [
    {
     "data": {
      "text/plain": [
       "'kathmandu'"
      ]
     },
     "execution_count": 79,
     "metadata": {},
     "output_type": "execute_result"
    }
   ],
   "source": [
    "c[\"child3\"][\"address\"]"
   ]
  },
  {
   "cell_type": "code",
   "execution_count": 81,
   "id": "d4f6107f-d7ae-4035-86a3-d8fdc947c4fd",
   "metadata": {},
   "outputs": [],
   "source": [
    "# print the name of each child"
   ]
  },
  {
   "cell_type": "code",
   "execution_count": 82,
   "id": "defe86a6-a121-46ce-8544-b5962302b6ff",
   "metadata": {},
   "outputs": [
    {
     "data": {
      "text/plain": [
       "'sonam'"
      ]
     },
     "execution_count": 82,
     "metadata": {},
     "output_type": "execute_result"
    }
   ],
   "source": [
    "c['child1']['name']"
   ]
  },
  {
   "cell_type": "code",
   "execution_count": 84,
   "id": "f1358c5e-7488-4123-9465-f00fc8a3773b",
   "metadata": {},
   "outputs": [
    {
     "name": "stdout",
     "output_type": "stream",
     "text": [
      "sonam\n",
      "Harry\n",
      "David\n"
     ]
    }
   ],
   "source": [
    "for key in c.keys():\n",
    "    print(c[key][\"name\"])"
   ]
  },
  {
   "cell_type": "code",
   "execution_count": 85,
   "id": "3fe5cc45-6b38-44d8-a927-e28ab4aba9d6",
   "metadata": {},
   "outputs": [],
   "source": [
    "url = \"https://jsonplaceholder.typicode.com/posts\""
   ]
  },
  {
   "cell_type": "code",
   "execution_count": 86,
   "id": "be6b9dee-e9d3-48a0-a4a3-a81d51a6b240",
   "metadata": {},
   "outputs": [],
   "source": [
    "import requests"
   ]
  },
  {
   "cell_type": "code",
   "execution_count": 89,
   "id": "837455f0-a551-4849-b029-1f2140706101",
   "metadata": {},
   "outputs": [
    {
     "data": {
      "text/plain": [
       "<Response [200]>"
      ]
     },
     "execution_count": 89,
     "metadata": {},
     "output_type": "execute_result"
    }
   ],
   "source": [
    "requests.get(url)"
   ]
  },
  {
   "cell_type": "code",
   "execution_count": 91,
   "id": "c5d32540-103e-4fb8-b5a1-38a487f2d9be",
   "metadata": {},
   "outputs": [],
   "source": [
    "data = requests.get(url).json()"
   ]
  },
  {
   "cell_type": "code",
   "execution_count": 90,
   "id": "85c7a575-8c37-4229-aed1-0626f1d49228",
   "metadata": {},
   "outputs": [
    {
     "data": {
      "text/plain": [
       "list"
      ]
     },
     "execution_count": 90,
     "metadata": {},
     "output_type": "execute_result"
    }
   ],
   "source": [
    "type(data)"
   ]
  },
  {
   "cell_type": "code",
   "execution_count": 98,
   "id": "24f84e86-9906-4ac8-9d7f-52146e377231",
   "metadata": {},
   "outputs": [
    {
     "data": {
      "text/plain": [
       "dict"
      ]
     },
     "execution_count": 98,
     "metadata": {},
     "output_type": "execute_result"
    }
   ],
   "source": [
    "type(data[0])"
   ]
  },
  {
   "cell_type": "code",
   "execution_count": 93,
   "id": "7a09a3ba-3c71-4509-9c2e-5855a9d846e1",
   "metadata": {},
   "outputs": [
    {
     "data": {
      "text/plain": [
       "1"
      ]
     },
     "execution_count": 93,
     "metadata": {},
     "output_type": "execute_result"
    }
   ],
   "source": [
    "data[0]['userId']"
   ]
  },
  {
   "cell_type": "code",
   "execution_count": 94,
   "id": "b7dd5bfb-c2c7-4d8d-ab0a-40860d1b7ba6",
   "metadata": {},
   "outputs": [
    {
     "data": {
      "text/plain": [
       "[1,\n",
       " 1,\n",
       " 1,\n",
       " 1,\n",
       " 1,\n",
       " 1,\n",
       " 1,\n",
       " 1,\n",
       " 1,\n",
       " 1,\n",
       " 2,\n",
       " 2,\n",
       " 2,\n",
       " 2,\n",
       " 2,\n",
       " 2,\n",
       " 2,\n",
       " 2,\n",
       " 2,\n",
       " 2,\n",
       " 3,\n",
       " 3,\n",
       " 3,\n",
       " 3,\n",
       " 3,\n",
       " 3,\n",
       " 3,\n",
       " 3,\n",
       " 3,\n",
       " 3,\n",
       " 4,\n",
       " 4,\n",
       " 4,\n",
       " 4,\n",
       " 4,\n",
       " 4,\n",
       " 4,\n",
       " 4,\n",
       " 4,\n",
       " 4,\n",
       " 5,\n",
       " 5,\n",
       " 5,\n",
       " 5,\n",
       " 5,\n",
       " 5,\n",
       " 5,\n",
       " 5,\n",
       " 5,\n",
       " 5,\n",
       " 6,\n",
       " 6,\n",
       " 6,\n",
       " 6,\n",
       " 6,\n",
       " 6,\n",
       " 6,\n",
       " 6,\n",
       " 6,\n",
       " 6,\n",
       " 7,\n",
       " 7,\n",
       " 7,\n",
       " 7,\n",
       " 7,\n",
       " 7,\n",
       " 7,\n",
       " 7,\n",
       " 7,\n",
       " 7,\n",
       " 8,\n",
       " 8,\n",
       " 8,\n",
       " 8,\n",
       " 8,\n",
       " 8,\n",
       " 8,\n",
       " 8,\n",
       " 8,\n",
       " 8,\n",
       " 9,\n",
       " 9,\n",
       " 9,\n",
       " 9,\n",
       " 9,\n",
       " 9,\n",
       " 9,\n",
       " 9,\n",
       " 9,\n",
       " 9,\n",
       " 10,\n",
       " 10,\n",
       " 10,\n",
       " 10,\n",
       " 10,\n",
       " 10,\n",
       " 10,\n",
       " 10,\n",
       " 10,\n",
       " 10]"
      ]
     },
     "execution_count": 94,
     "metadata": {},
     "output_type": "execute_result"
    }
   ],
   "source": [
    "[item['userId'] for item in data] # esma item vanya dictionary ho"
   ]
  },
  {
   "cell_type": "code",
   "execution_count": 96,
   "id": "98b1bf6f-7ead-4acc-986e-4558bf2e05f9",
   "metadata": {},
   "outputs": [
    {
     "data": {
      "text/plain": [
       "[1,\n",
       " 2,\n",
       " 3,\n",
       " 4,\n",
       " 5,\n",
       " 6,\n",
       " 7,\n",
       " 8,\n",
       " 9,\n",
       " 10,\n",
       " 11,\n",
       " 12,\n",
       " 13,\n",
       " 14,\n",
       " 15,\n",
       " 16,\n",
       " 17,\n",
       " 18,\n",
       " 19,\n",
       " 20,\n",
       " 21,\n",
       " 22,\n",
       " 23,\n",
       " 24,\n",
       " 25,\n",
       " 26,\n",
       " 27,\n",
       " 28,\n",
       " 29,\n",
       " 30,\n",
       " 31,\n",
       " 32,\n",
       " 33,\n",
       " 34,\n",
       " 35,\n",
       " 36,\n",
       " 37,\n",
       " 38,\n",
       " 39,\n",
       " 40,\n",
       " 41,\n",
       " 42,\n",
       " 43,\n",
       " 44,\n",
       " 45,\n",
       " 46,\n",
       " 47,\n",
       " 48,\n",
       " 49,\n",
       " 50,\n",
       " 51,\n",
       " 52,\n",
       " 53,\n",
       " 54,\n",
       " 55,\n",
       " 56,\n",
       " 57,\n",
       " 58,\n",
       " 59,\n",
       " 60,\n",
       " 61,\n",
       " 62,\n",
       " 63,\n",
       " 64,\n",
       " 65,\n",
       " 66,\n",
       " 67,\n",
       " 68,\n",
       " 69,\n",
       " 70,\n",
       " 71,\n",
       " 72,\n",
       " 73,\n",
       " 74,\n",
       " 75,\n",
       " 76,\n",
       " 77,\n",
       " 78,\n",
       " 79,\n",
       " 80,\n",
       " 81,\n",
       " 82,\n",
       " 83,\n",
       " 84,\n",
       " 85,\n",
       " 86,\n",
       " 87,\n",
       " 88,\n",
       " 89,\n",
       " 90,\n",
       " 91,\n",
       " 92,\n",
       " 93,\n",
       " 94,\n",
       " 95,\n",
       " 96,\n",
       " 97,\n",
       " 98,\n",
       " 99,\n",
       " 100]"
      ]
     },
     "execution_count": 96,
     "metadata": {},
     "output_type": "execute_result"
    }
   ],
   "source": [
    "[item.get(\"id\") for item in data]"
   ]
  },
  {
   "cell_type": "code",
   "execution_count": 97,
   "id": "d78c2061-da3f-4e02-a7b6-bbdc6d05b8d1",
   "metadata": {},
   "outputs": [
    {
     "data": {
      "text/plain": [
       "['sunt aut facere repellat provident occaecati excepturi optio reprehenderit',\n",
       " 'qui est esse',\n",
       " 'ea molestias quasi exercitationem repellat qui ipsa sit aut',\n",
       " 'eum et est occaecati',\n",
       " 'nesciunt quas odio',\n",
       " 'dolorem eum magni eos aperiam quia',\n",
       " 'magnam facilis autem',\n",
       " 'dolorem dolore est ipsam',\n",
       " 'nesciunt iure omnis dolorem tempora et accusantium',\n",
       " 'optio molestias id quia eum',\n",
       " 'et ea vero quia laudantium autem',\n",
       " 'in quibusdam tempore odit est dolorem',\n",
       " 'dolorum ut in voluptas mollitia et saepe quo animi',\n",
       " 'voluptatem eligendi optio',\n",
       " 'eveniet quod temporibus',\n",
       " 'sint suscipit perspiciatis velit dolorum rerum ipsa laboriosam odio',\n",
       " 'fugit voluptas sed molestias voluptatem provident',\n",
       " 'voluptate et itaque vero tempora molestiae',\n",
       " 'adipisci placeat illum aut reiciendis qui',\n",
       " 'doloribus ad provident suscipit at',\n",
       " 'asperiores ea ipsam voluptatibus modi minima quia sint',\n",
       " 'dolor sint quo a velit explicabo quia nam',\n",
       " 'maxime id vitae nihil numquam',\n",
       " 'autem hic labore sunt dolores incidunt',\n",
       " 'rem alias distinctio quo quis',\n",
       " 'est et quae odit qui non',\n",
       " 'quasi id et eos tenetur aut quo autem',\n",
       " 'delectus ullam et corporis nulla voluptas sequi',\n",
       " 'iusto eius quod necessitatibus culpa ea',\n",
       " 'a quo magni similique perferendis',\n",
       " 'ullam ut quidem id aut vel consequuntur',\n",
       " 'doloremque illum aliquid sunt',\n",
       " 'qui explicabo molestiae dolorem',\n",
       " 'magnam ut rerum iure',\n",
       " 'id nihil consequatur molestias animi provident',\n",
       " 'fuga nam accusamus voluptas reiciendis itaque',\n",
       " 'provident vel ut sit ratione est',\n",
       " 'explicabo et eos deleniti nostrum ab id repellendus',\n",
       " 'eos dolorem iste accusantium est eaque quam',\n",
       " 'enim quo cumque',\n",
       " 'non est facere',\n",
       " 'commodi ullam sint et excepturi error explicabo praesentium voluptas',\n",
       " 'eligendi iste nostrum consequuntur adipisci praesentium sit beatae perferendis',\n",
       " 'optio dolor molestias sit',\n",
       " 'ut numquam possimus omnis eius suscipit laudantium iure',\n",
       " 'aut quo modi neque nostrum ducimus',\n",
       " 'quibusdam cumque rem aut deserunt',\n",
       " 'ut voluptatem illum ea doloribus itaque eos',\n",
       " 'laborum non sunt aut ut assumenda perspiciatis voluptas',\n",
       " 'repellendus qui recusandae incidunt voluptates tenetur qui omnis exercitationem',\n",
       " 'soluta aliquam aperiam consequatur illo quis voluptas',\n",
       " 'qui enim et consequuntur quia animi quis voluptate quibusdam',\n",
       " 'ut quo aut ducimus alias',\n",
       " 'sit asperiores ipsam eveniet odio non quia',\n",
       " 'sit vel voluptatem et non libero',\n",
       " 'qui et at rerum necessitatibus',\n",
       " 'sed ab est est',\n",
       " 'voluptatum itaque dolores nisi et quasi',\n",
       " 'qui commodi dolor at maiores et quis id accusantium',\n",
       " 'consequatur placeat omnis quisquam quia reprehenderit fugit veritatis facere',\n",
       " 'voluptatem doloribus consectetur est ut ducimus',\n",
       " 'beatae enim quia vel',\n",
       " 'voluptas blanditiis repellendus animi ducimus error sapiente et suscipit',\n",
       " 'et fugit quas eum in in aperiam quod',\n",
       " 'consequatur id enim sunt et et',\n",
       " 'repudiandae ea animi iusto',\n",
       " 'aliquid eos sed fuga est maxime repellendus',\n",
       " 'odio quis facere architecto reiciendis optio',\n",
       " 'fugiat quod pariatur odit minima',\n",
       " 'voluptatem laborum magni',\n",
       " 'et iusto veniam et illum aut fuga',\n",
       " 'sint hic doloribus consequatur eos non id',\n",
       " 'consequuntur deleniti eos quia temporibus ab aliquid at',\n",
       " 'enim unde ratione doloribus quas enim ut sit sapiente',\n",
       " 'dignissimos eum dolor ut enim et delectus in',\n",
       " 'doloremque officiis ad et non perferendis',\n",
       " 'necessitatibus quasi exercitationem odio',\n",
       " 'quam voluptatibus rerum veritatis',\n",
       " 'pariatur consequatur quia magnam autem omnis non amet',\n",
       " 'labore in ex et explicabo corporis aut quas',\n",
       " 'tempora rem veritatis voluptas quo dolores vero',\n",
       " 'laudantium voluptate suscipit sunt enim enim',\n",
       " 'odit et voluptates doloribus alias odio et',\n",
       " 'optio ipsam molestias necessitatibus occaecati facilis veritatis dolores aut',\n",
       " 'dolore veritatis porro provident adipisci blanditiis et sunt',\n",
       " 'placeat quia et porro iste',\n",
       " 'nostrum quis quasi placeat',\n",
       " 'sapiente omnis fugit eos',\n",
       " 'sint soluta et vel magnam aut ut sed qui',\n",
       " 'ad iusto omnis odit dolor voluptatibus',\n",
       " 'aut amet sed',\n",
       " 'ratione ex tenetur perferendis',\n",
       " 'beatae soluta recusandae',\n",
       " 'qui qui voluptates illo iste minima',\n",
       " 'id minus libero illum nam ad officiis',\n",
       " 'quaerat velit veniam amet cupiditate aut numquam ut sequi',\n",
       " 'quas fugiat ut perspiciatis vero provident',\n",
       " 'laboriosam dolor voluptates',\n",
       " 'temporibus sit alias delectus eligendi possimus magni',\n",
       " 'at nam consequatur ea labore ea harum']"
      ]
     },
     "execution_count": 97,
     "metadata": {},
     "output_type": "execute_result"
    }
   ],
   "source": [
    "[item['title'] for item in data]"
   ]
  },
  {
   "cell_type": "markdown",
   "id": "f6f11814-1d8d-4a0f-a316-2528a804e996",
   "metadata": {},
   "source": [
    "# learn about zip() method"
   ]
  },
  {
   "cell_type": "code",
   "execution_count": null,
   "id": "fa4e8bb0-c5e7-484f-9cab-c14573a29095",
   "metadata": {},
   "outputs": [],
   "source": []
  }
 ],
 "metadata": {
  "kernelspec": {
   "display_name": "Python 3 (ipykernel)",
   "language": "python",
   "name": "python3"
  },
  "language_info": {
   "codemirror_mode": {
    "name": "ipython",
    "version": 3
   },
   "file_extension": ".py",
   "mimetype": "text/x-python",
   "name": "python",
   "nbconvert_exporter": "python",
   "pygments_lexer": "ipython3",
   "version": "3.11.1"
  }
 },
 "nbformat": 4,
 "nbformat_minor": 5
}
