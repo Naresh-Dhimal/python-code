{
 "cells": [
  {
   "cell_type": "markdown",
   "id": "610d5a8b-57f8-421d-8878-21568c0fa475",
   "metadata": {},
   "source": [
    "# Function Example"
   ]
  },
  {
   "cell_type": "code",
   "execution_count": 1,
   "id": "edc83b8a-9689-4e74-a22b-a759677278c0",
   "metadata": {},
   "outputs": [],
   "source": [
    "import math"
   ]
  },
  {
   "cell_type": "code",
   "execution_count": 2,
   "id": "a258ce31-9723-42f3-9184-7a89d74c894a",
   "metadata": {},
   "outputs": [
    {
     "data": {
      "text/plain": [
       "5"
      ]
     },
     "execution_count": 2,
     "metadata": {},
     "output_type": "execute_result"
    }
   ],
   "source": [
    "math.gcd(5, 25)"
   ]
  },
  {
   "cell_type": "code",
   "execution_count": 3,
   "id": "60be50b1-20c1-4571-8a76-5080dfec041d",
   "metadata": {},
   "outputs": [
    {
     "data": {
      "text/plain": [
       "25"
      ]
     },
     "execution_count": 3,
     "metadata": {},
     "output_type": "execute_result"
    }
   ],
   "source": [
    "math.lcm(5,25)"
   ]
  },
  {
   "cell_type": "code",
   "execution_count": 5,
   "id": "4e39bb6b-0eb0-412c-9df3-5357aa48b4eb",
   "metadata": {},
   "outputs": [],
   "source": [
    "def find_gcd_lcm(a,b):\n",
    "    gcd = math.gcd(a,b)\n",
    "    lcm = math.lcm(a,b)\n",
    "    return gcd, lcm"
   ]
  },
  {
   "cell_type": "code",
   "execution_count": 6,
   "id": "b20b6895-b7da-4430-8add-d874126eaeaf",
   "metadata": {},
   "outputs": [],
   "source": [
    "hcf, lcm = find_gcd_lcm(a=5, b=25)"
   ]
  },
  {
   "cell_type": "code",
   "execution_count": 7,
   "id": "b042625a-a680-4a60-ae03-6d4e570c946a",
   "metadata": {},
   "outputs": [
    {
     "data": {
      "text/plain": [
       "5"
      ]
     },
     "execution_count": 7,
     "metadata": {},
     "output_type": "execute_result"
    }
   ],
   "source": [
    "hcf\n"
   ]
  },
  {
   "cell_type": "code",
   "execution_count": 8,
   "id": "a1c6b53a-eb5b-4aa7-99b4-2d542313cbb2",
   "metadata": {},
   "outputs": [
    {
     "data": {
      "text/plain": [
       "25"
      ]
     },
     "execution_count": 8,
     "metadata": {},
     "output_type": "execute_result"
    }
   ],
   "source": [
    "lcm"
   ]
  },
  {
   "cell_type": "markdown",
   "id": "73a39a44-f84f-44a6-9ef3-71863311147f",
   "metadata": {},
   "source": [
    "# Find a factorial of a given number\n",
    "0! = 1\n",
    "\n",
    "1! = 1 * 0! = 1\n",
    "\n",
    "2! = 2 * 1! = 2\n",
    "\n",
    "3! = 3 * 2! = 6\n",
    "\n",
    "4! = 4 * 3! = 24\n",
    "\n",
    "5! = 5 * 4! = 120\n"
   ]
  },
  {
   "cell_type": "code",
   "execution_count": 10,
   "id": "8a8cb91a-5673-46a1-a3a6-5a2b25778d56",
   "metadata": {},
   "outputs": [],
   "source": [
    "num = 5\n",
    "fact = 1"
   ]
  },
  {
   "cell_type": "code",
   "execution_count": 11,
   "id": "b55703f8-7dfa-440f-a352-b760de984ae2",
   "metadata": {},
   "outputs": [],
   "source": [
    "for index in range(1, num + 1):\n",
    "    fact = fact * index"
   ]
  },
  {
   "cell_type": "code",
   "execution_count": 12,
   "id": "48416abc-040e-4862-b131-7f0e32d1c9d7",
   "metadata": {},
   "outputs": [
    {
     "name": "stdout",
     "output_type": "stream",
     "text": [
      "120\n"
     ]
    }
   ],
   "source": [
    "print(fact)"
   ]
  },
  {
   "cell_type": "code",
   "execution_count": 13,
   "id": "d8e98f5a-647c-446b-a35c-f0c95e5c6cbf",
   "metadata": {},
   "outputs": [],
   "source": [
    "def factorial(num):\n",
    "    fact = 1\n",
    "    for index in range(1, num + 1):\n",
    "        fact = fact * index\n",
    "    return fact"
   ]
  },
  {
   "cell_type": "code",
   "execution_count": 17,
   "id": "aa6044b8-ab83-4991-b5ac-f186f0fb0771",
   "metadata": {},
   "outputs": [
    {
     "data": {
      "text/plain": [
       "24"
      ]
     },
     "execution_count": 17,
     "metadata": {},
     "output_type": "execute_result"
    }
   ],
   "source": [
    "factorial(num=4)"
   ]
  },
  {
   "cell_type": "code",
   "execution_count": 16,
   "id": "9b0f9d09-fb86-4d81-a541-7c1e5c82ae08",
   "metadata": {},
   "outputs": [
    {
     "data": {
      "text/plain": [
       "6227020800"
      ]
     },
     "execution_count": 16,
     "metadata": {},
     "output_type": "execute_result"
    }
   ],
   "source": [
    "factorial(num=13)"
   ]
  },
  {
   "cell_type": "markdown",
   "id": "e2d6ff6f-b39e-48ed-99ce-f1e2b626f1b6",
   "metadata": {},
   "source": [
    "# Check prime"
   ]
  },
  {
   "cell_type": "code",
   "execution_count": 22,
   "id": "0ad718b6-1dc7-4288-a420-11c235b15524",
   "metadata": {},
   "outputs": [
    {
     "name": "stdout",
     "output_type": "stream",
     "text": [
      "5 is not divisible by 2\n",
      "5 is not divisible by 3\n",
      "5 is not divisible by 4\n"
     ]
    }
   ],
   "source": [
    "num = 5\n",
    "for index in range(2,num):\n",
    "    if num % index == 0:\n",
    "        print(f\"{num} is divisible by {index}\")\n",
    "    else:\n",
    "        print(f\"{num} is not divisible by {index}\")"
   ]
  },
  {
   "cell_type": "code",
   "execution_count": 28,
   "id": "9bb488d2-3651-4f98-8e65-46bceb480da9",
   "metadata": {},
   "outputs": [],
   "source": [
    "def check_prime(num):\n",
    "    for index in range(2,num):\n",
    "        if num % index == 0:\n",
    "            return False\n",
    "    return True"
   ]
  },
  {
   "cell_type": "code",
   "execution_count": 29,
   "id": "a201df2e-c808-40ae-b234-a2a457eb30a4",
   "metadata": {},
   "outputs": [
    {
     "data": {
      "text/plain": [
       "True"
      ]
     },
     "execution_count": 29,
     "metadata": {},
     "output_type": "execute_result"
    }
   ],
   "source": [
    "check_prime(5)"
   ]
  },
  {
   "cell_type": "code",
   "execution_count": 30,
   "id": "b355b391-3df2-434f-8fce-26483aec7fc7",
   "metadata": {},
   "outputs": [
    {
     "data": {
      "text/plain": [
       "[[2, True],\n",
       " [3, True],\n",
       " [4, False],\n",
       " [5, True],\n",
       " [6, False],\n",
       " [7, True],\n",
       " [8, False],\n",
       " [9, False],\n",
       " [10, False],\n",
       " [11, True],\n",
       " [12, False],\n",
       " [13, True],\n",
       " [14, False]]"
      ]
     },
     "execution_count": 30,
     "metadata": {},
     "output_type": "execute_result"
    }
   ],
   "source": [
    "[[num, check_prime(num)] for num in range(2,15)]"
   ]
  },
  {
   "cell_type": "code",
   "execution_count": null,
   "id": "13f40d8b-d93e-4af3-9a51-0a245576c45e",
   "metadata": {},
   "outputs": [],
   "source": []
  }
 ],
 "metadata": {
  "kernelspec": {
   "display_name": "Python 3 (ipykernel)",
   "language": "python",
   "name": "python3"
  },
  "language_info": {
   "codemirror_mode": {
    "name": "ipython",
    "version": 3
   },
   "file_extension": ".py",
   "mimetype": "text/x-python",
   "name": "python",
   "nbconvert_exporter": "python",
   "pygments_lexer": "ipython3",
   "version": "3.11.1"
  }
 },
 "nbformat": 4,
 "nbformat_minor": 5
}
