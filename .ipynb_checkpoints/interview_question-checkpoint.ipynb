{
 "cells": [
  {
   "cell_type": "markdown",
   "id": "832f3c2c-7f4e-40bc-ab60-5d727a3c1afa",
   "metadata": {},
   "source": [
    "# why list comprehension is used?\n",
    "<b>list comprehension is faster than python loop"
   ]
  },
  {
   "cell_type": "markdown",
   "id": "3b47ed79-d718-43c1-a935-6512c54ff611",
   "metadata": {},
   "source": [
    "# list Vs Tuple"
   ]
  },
  {
   "cell_type": "markdown",
   "id": "eed89c51-8385-4225-814b-cf788f38e696",
   "metadata": {},
   "source": [
    "# Swap key ,val  in given dictionary\n",
    "<b>d = {1: 'a', 2:'b', 3:'c'}\n",
    "# expected output: {\"a\":1,\"b\":2,\"c\":3}"
   ]
  },
  {
   "cell_type": "code",
   "execution_count": 14,
   "id": "638108f9-2d7d-48c7-a887-40088f130e88",
   "metadata": {},
   "outputs": [],
   "source": [
    "d = {1: 'a', 2: 'b', 3: 'c'}"
   ]
  },
  {
   "cell_type": "code",
   "execution_count": 4,
   "id": "27d7ef77-1100-423f-8475-42e0ded2839e",
   "metadata": {},
   "outputs": [],
   "source": [
    "key = d.keys()"
   ]
  },
  {
   "cell_type": "code",
   "execution_count": 5,
   "id": "3ff3db05-c4a8-478d-961c-015bf1394896",
   "metadata": {},
   "outputs": [],
   "source": [
    "val = d.values()"
   ]
  },
  {
   "cell_type": "code",
   "execution_count": 9,
   "id": "eba8677a-f167-4910-9d31-012554bf8535",
   "metadata": {},
   "outputs": [],
   "source": [
    "new_dict = {}"
   ]
  },
  {
   "cell_type": "code",
   "execution_count": 13,
   "id": "14606d76-1434-4663-9a4f-c7ebe12a0410",
   "metadata": {},
   "outputs": [
    {
     "name": "stdout",
     "output_type": "stream",
     "text": [
      "{'a': 1, 'b': 2, 'c': 3}\n"
     ]
    }
   ],
   "source": [
    "for key ,value in d.items():\n",
    "    new_dict.update({value:key})\n",
    "    # or this step\n",
    "    # new_dict[value] = key\n",
    "print(new_dict)"
   ]
  },
  {
   "cell_type": "code",
   "execution_count": 15,
   "id": "93b3a47f-3fd1-4543-849d-c5eaf56ab509",
   "metadata": {},
   "outputs": [],
   "source": [
    "d = {1: 'a', 2: 'b', 3: 'c'}"
   ]
  },
  {
   "cell_type": "code",
   "execution_count": 16,
   "id": "aa5723a3-0c2f-45bb-b258-9f9f205d1b12",
   "metadata": {},
   "outputs": [
    {
     "data": {
      "text/plain": [
       "{'a': 1, 'b': 2, 'c': 3}"
      ]
     },
     "execution_count": 16,
     "metadata": {},
     "output_type": "execute_result"
    }
   ],
   "source": [
    "{value:key for key, value in d.items()}"
   ]
  },
  {
   "cell_type": "markdown",
   "id": "39ae9bc1-ca51-4b5a-8124-2a573bdf3864",
   "metadata": {},
   "source": [
    "# args Vs kwargs"
   ]
  },
  {
   "cell_type": "markdown",
   "id": "a03b4be9-330c-4a93-bbd3-dd6e2c5c95b5",
   "metadata": {},
   "source": [
    "# *agrs"
   ]
  },
  {
   "cell_type": "code",
   "execution_count": 3,
   "id": "eb5cf89c-1c72-4dcb-b4dd-fc8038d31c33",
   "metadata": {},
   "outputs": [
    {
     "data": {
      "text/plain": [
       "9"
      ]
     },
     "execution_count": 3,
     "metadata": {},
     "output_type": "execute_result"
    }
   ],
   "source": [
    "def add(a,b):\n",
    "    return a + b\n",
    "add(a = 2, b = 7)"
   ]
  },
  {
   "cell_type": "code",
   "execution_count": 6,
   "id": "12edb391-06f4-4057-bde2-7cba9276c259",
   "metadata": {},
   "outputs": [],
   "source": [
    "def add(*args):\n",
    "    print(args, type(args))"
   ]
  },
  {
   "cell_type": "code",
   "execution_count": 7,
   "id": "2d5e424c-8414-4957-8b65-681f19cdd1be",
   "metadata": {},
   "outputs": [
    {
     "name": "stdout",
     "output_type": "stream",
     "text": [
      "(2, 3) <class 'tuple'>\n"
     ]
    }
   ],
   "source": [
    "add(2,3)"
   ]
  },
  {
   "cell_type": "code",
   "execution_count": 8,
   "id": "bd93d880-cc26-49c5-8dcc-1f19f659aa06",
   "metadata": {},
   "outputs": [
    {
     "name": "stdout",
     "output_type": "stream",
     "text": [
      "(3, 4, 7) <class 'tuple'>\n"
     ]
    }
   ],
   "source": [
    "add(3, 4, 7)"
   ]
  },
  {
   "cell_type": "code",
   "execution_count": 14,
   "id": "420e845c-a6dd-45e7-a984-de919c1e50b4",
   "metadata": {},
   "outputs": [],
   "source": [
    "def add(*args):\n",
    "    return sum(args)\n",
    "    # for item in args:\n",
    "    #     total = total + item\n",
    "    # return total"
   ]
  },
  {
   "cell_type": "code",
   "execution_count": 15,
   "id": "a9fe502a-7b83-4092-a568-8ebe63a7b90d",
   "metadata": {},
   "outputs": [
    {
     "data": {
      "text/plain": [
       "5"
      ]
     },
     "execution_count": 15,
     "metadata": {},
     "output_type": "execute_result"
    }
   ],
   "source": [
    "add(2,3)"
   ]
  },
  {
   "cell_type": "code",
   "execution_count": 16,
   "id": "a17f92be-5c56-470b-8b7b-0098242a1a55",
   "metadata": {},
   "outputs": [
    {
     "data": {
      "text/plain": [
       "22"
      ]
     },
     "execution_count": 16,
     "metadata": {},
     "output_type": "execute_result"
    }
   ],
   "source": [
    "add(2,5,6,7,2)"
   ]
  },
  {
   "cell_type": "markdown",
   "id": "5f31c76c-fe54-4771-b7b0-b0ea23a97a5c",
   "metadata": {},
   "source": [
    "# **kwargs"
   ]
  },
  {
   "cell_type": "code",
   "execution_count": 17,
   "id": "f52a4c0f-5124-4483-961d-ff52a7f612b1",
   "metadata": {},
   "outputs": [],
   "source": [
    "def about(**kewargs):\n",
    "    print(kewargs, type(kewargs))"
   ]
  },
  {
   "cell_type": "code",
   "execution_count": 18,
   "id": "a56e1ce5-e12c-43fb-b2cc-b842316414c1",
   "metadata": {},
   "outputs": [
    {
     "name": "stdout",
     "output_type": "stream",
     "text": [
      "{'name': 'khistiz', 'age': 26, 'location': 'patan'} <class 'dict'>\n"
     ]
    }
   ],
   "source": [
    "about(name = \"khistiz\", age = 26, location = \"patan\")"
   ]
  },
  {
   "cell_type": "markdown",
   "id": "314d1334-44f6-4758-8f30-be9aa90cfc1d",
   "metadata": {},
   "source": [
    "# *args and **kwargs supports variable length input: make function flexibleis \n",
    "* *args is in tuple and **kwargs is in dictionary"
   ]
  },
  {
   "cell_type": "markdown",
   "id": "04a0763b-219d-47ef-b746-dad694f9a0a5",
   "metadata": {},
   "source": [
    "# iterator Vs generator"
   ]
  },
  {
   "cell_type": "markdown",
   "id": "1fac6b40-35b6-416f-9f48-c3390e4b783b",
   "metadata": {},
   "source": [
    "# pass vs continue vs break "
   ]
  },
  {
   "cell_type": "markdown",
   "id": "3d223f50-d956-4a4e-bde3-94ae296c2457",
   "metadata": {},
   "source": [
    "# class attribute vs object attribute"
   ]
  },
  {
   "cell_type": "markdown",
   "id": "1779326a-00c2-4030-aa69-d7ea14853497",
   "metadata": {},
   "source": [
    "# public Vs protected Vs private"
   ]
  },
  {
   "cell_type": "markdown",
   "id": "c1452a51-9140-47b9-a9b9-76bd578aae4b",
   "metadata": {},
   "source": [
    "# polymorphisim use"
   ]
  },
  {
   "cell_type": "code",
   "execution_count": null,
   "id": "aad5870d-bf15-4fd7-a61e-d890b15a538a",
   "metadata": {},
   "outputs": [],
   "source": []
  }
 ],
 "metadata": {
  "kernelspec": {
   "display_name": "Python 3 (ipykernel)",
   "language": "python",
   "name": "python3"
  },
  "language_info": {
   "codemirror_mode": {
    "name": "ipython",
    "version": 3
   },
   "file_extension": ".py",
   "mimetype": "text/x-python",
   "name": "python",
   "nbconvert_exporter": "python",
   "pygments_lexer": "ipython3",
   "version": "3.11.1"
  }
 },
 "nbformat": 4,
 "nbformat_minor": 5
}
