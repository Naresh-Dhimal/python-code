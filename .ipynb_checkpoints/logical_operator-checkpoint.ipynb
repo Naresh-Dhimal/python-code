{
 "cells": [
  {
   "cell_type": "markdown",
   "id": "86ca2de6-ee53-4e5d-a929-f3b8436b2ba6",
   "metadata": {},
   "source": [
    "# Logical operator\n",
    "<b>and , or, not are the logical operator in python"
   ]
  },
  {
   "cell_type": "markdown",
   "id": "94e47170-6947-47e9-9fd0-e53ae31fbfba",
   "metadata": {},
   "source": [
    "# and operator"
   ]
  },
  {
   "cell_type": "code",
   "execution_count": 1,
   "id": "e8cf8b5f-f4d0-44dc-b006-d64918f45092",
   "metadata": {},
   "outputs": [
    {
     "data": {
      "text/plain": [
       "True"
      ]
     },
     "execution_count": 1,
     "metadata": {},
     "output_type": "execute_result"
    }
   ],
   "source": [
    "True and True"
   ]
  },
  {
   "cell_type": "code",
   "execution_count": 2,
   "id": "1ec12f66-645e-4e8f-a651-4d56679e8125",
   "metadata": {},
   "outputs": [
    {
     "data": {
      "text/plain": [
       "False"
      ]
     },
     "execution_count": 2,
     "metadata": {},
     "output_type": "execute_result"
    }
   ],
   "source": [
    "True and False"
   ]
  },
  {
   "cell_type": "code",
   "execution_count": 3,
   "id": "d595c8bc-360b-4958-b601-c42cc9671420",
   "metadata": {},
   "outputs": [
    {
     "data": {
      "text/plain": [
       "False"
      ]
     },
     "execution_count": 3,
     "metadata": {},
     "output_type": "execute_result"
    }
   ],
   "source": [
    "False and True"
   ]
  },
  {
   "cell_type": "code",
   "execution_count": 4,
   "id": "04fb2c04-3e6b-47b4-b6b6-93ffb9550aa8",
   "metadata": {},
   "outputs": [
    {
     "data": {
      "text/plain": [
       "False"
      ]
     },
     "execution_count": 4,
     "metadata": {},
     "output_type": "execute_result"
    }
   ],
   "source": [
    "False and False"
   ]
  },
  {
   "cell_type": "markdown",
   "id": "58d5059f-608d-4175-a693-a530213913b9",
   "metadata": {},
   "source": [
    "# and operator lagauda left ra right both True vaye matra True hunxa"
   ]
  },
  {
   "cell_type": "code",
   "execution_count": 9,
   "id": "4d853ce5-89ba-4c98-86d5-e3abfa5f3516",
   "metadata": {},
   "outputs": [
    {
     "data": {
      "text/plain": [
       "True"
      ]
     },
     "execution_count": 9,
     "metadata": {},
     "output_type": "execute_result"
    }
   ],
   "source": [
    "age = 15\n",
    "age >= 13 and age <= 19   "
   ]
  },
  {
   "cell_type": "code",
   "execution_count": 13,
   "id": "24581c3e-e3bd-4cfd-9a41-6438d2734709",
   "metadata": {},
   "outputs": [
    {
     "name": "stdin",
     "output_type": "stream",
     "text": [
      "Enter your age:  12\n"
     ]
    },
    {
     "name": "stdout",
     "output_type": "stream",
     "text": [
      "You are not a teenager.\n"
     ]
    }
   ],
   "source": [
    "age = int(input('Enter your age: '))\n",
    "if age >=13 and age <= 19:\n",
    "    print('You are teenager.')\n",
    "else:\n",
    "    print('You are not a teenager.')"
   ]
  },
  {
   "cell_type": "markdown",
   "id": "92ecbbf9-6b2c-461d-935b-65131ebf85e7",
   "metadata": {},
   "source": [
    "# or operator"
   ]
  },
  {
   "cell_type": "code",
   "execution_count": 14,
   "id": "a9973421-297b-421d-b4b5-d19faff88891",
   "metadata": {},
   "outputs": [
    {
     "data": {
      "text/plain": [
       "True"
      ]
     },
     "execution_count": 14,
     "metadata": {},
     "output_type": "execute_result"
    }
   ],
   "source": [
    "True or True\n"
   ]
  },
  {
   "cell_type": "code",
   "execution_count": 15,
   "id": "e0939e9e-f76f-4596-95a1-ddd683869696",
   "metadata": {},
   "outputs": [
    {
     "data": {
      "text/plain": [
       "True"
      ]
     },
     "execution_count": 15,
     "metadata": {},
     "output_type": "execute_result"
    }
   ],
   "source": [
    "True or False"
   ]
  },
  {
   "cell_type": "code",
   "execution_count": 16,
   "id": "0d585c5e-fcb1-4245-8eed-2a4054692cc7",
   "metadata": {},
   "outputs": [
    {
     "data": {
      "text/plain": [
       "True"
      ]
     },
     "execution_count": 16,
     "metadata": {},
     "output_type": "execute_result"
    }
   ],
   "source": [
    "False or True\n"
   ]
  },
  {
   "cell_type": "code",
   "execution_count": 17,
   "id": "fba2b5e6-75fe-4237-8808-fd963a9cdd97",
   "metadata": {},
   "outputs": [
    {
     "data": {
      "text/plain": [
       "False"
      ]
     },
     "execution_count": 17,
     "metadata": {},
     "output_type": "execute_result"
    }
   ],
   "source": [
    "False or False"
   ]
  },
  {
   "cell_type": "markdown",
   "id": "951abaef-2456-4a15-bfa9-dcf5e35ddab6",
   "metadata": {},
   "source": [
    "# or operator ko output True aauna ko lagi atleast euta input True hunu parxa"
   ]
  },
  {
   "cell_type": "code",
   "execution_count": 8,
   "id": "0d6e71d8-9246-4ae7-b870-a02fa8154bed",
   "metadata": {},
   "outputs": [],
   "source": [
    "percentage = 79\n",
    "if percentage == 80 or percentage > 80:\n",
    "    print('You scored distinction. ')\n"
   ]
  },
  {
   "cell_type": "markdown",
   "id": "d9a7c92a-a273-40af-a34b-6085d102ae3e",
   "metadata": {},
   "source": [
    "# not operator"
   ]
  },
  {
   "cell_type": "code",
   "execution_count": 24,
   "id": "7705d7ef-42c4-4a6b-92d3-5a0ba3823115",
   "metadata": {},
   "outputs": [
    {
     "data": {
      "text/plain": [
       "False"
      ]
     },
     "execution_count": 24,
     "metadata": {},
     "output_type": "execute_result"
    }
   ],
   "source": [
    "not True\n"
   ]
  },
  {
   "cell_type": "code",
   "execution_count": 25,
   "id": "81ae3180-8077-4808-b1e8-1ca68382de3b",
   "metadata": {},
   "outputs": [
    {
     "data": {
      "text/plain": [
       "True"
      ]
     },
     "execution_count": 25,
     "metadata": {},
     "output_type": "execute_result"
    }
   ],
   "source": [
    "not False"
   ]
  },
  {
   "cell_type": "code",
   "execution_count": 16,
   "id": "2800d864-5f88-461f-ae7d-3ba249173ace",
   "metadata": {},
   "outputs": [
    {
     "name": "stdin",
     "output_type": "stream",
     "text": [
      "Enter your percentage:  100\n"
     ]
    },
    {
     "name": "stdout",
     "output_type": "stream",
     "text": [
      "you scored distinction.\n"
     ]
    }
   ],
   "source": [
    "#Example\n",
    "percentage = float(input('Enter your percentage: '))\n",
    "if percentage <= 45:\n",
    "    print('You Failed.')\n",
    "elif percentage > 45 and percentage < 60:\n",
    "    print('Second Division.')\n",
    "elif percentage >= 60 and percentage < 80:\n",
    "    print('First Division.')\n",
    "elif percentage >= 80 and percentage <= 100:\n",
    "    print('you scored distinction.')"
   ]
  },
  {
   "cell_type": "code",
   "execution_count": null,
   "id": "b4813a25-9d24-41d5-b641-9c406ab565f2",
   "metadata": {},
   "outputs": [],
   "source": []
  }
 ],
 "metadata": {
  "kernelspec": {
   "display_name": "Python 3 (ipykernel)",
   "language": "python",
   "name": "python3"
  },
  "language_info": {
   "codemirror_mode": {
    "name": "ipython",
    "version": 3
   },
   "file_extension": ".py",
   "mimetype": "text/x-python",
   "name": "python",
   "nbconvert_exporter": "python",
   "pygments_lexer": "ipython3",
   "version": "3.11.1"
  }
 },
 "nbformat": 4,
 "nbformat_minor": 5
}
