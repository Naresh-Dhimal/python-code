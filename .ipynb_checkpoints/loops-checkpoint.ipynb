{
 "cells": [
  {
   "cell_type": "markdown",
   "id": "d0fae237-c8b8-49a2-8e5c-bf9cce81d9f3",
   "metadata": {},
   "source": [
    "# Syntax\n",
    "`Range:`\n",
    "```Python\n",
    "for index in range(start, stop, step):\n",
    "    # body of for loop\n",
    "```\n",
    "`Iterables:`\n",
    "```Python\n",
    "for item in iterables:\n",
    "    # body of for loop\n",
    "```\n",
    "`indexing sadhai '0' bata suru hunxa`\n"
   ]
  },
  {
   "cell_type": "code",
   "execution_count": 9,
   "id": "68f48b74-5e83-4442-909e-bff126b84ec2",
   "metadata": {},
   "outputs": [
    {
     "name": "stdout",
     "output_type": "stream",
     "text": [
      "0\n",
      "1\n",
      "2\n",
      "3\n",
      "4\n"
     ]
    }
   ],
   "source": [
    "s = 'hello'\n",
    "for index in range(0,len(s)):\n",
    "    print(index)"
   ]
  },
  {
   "cell_type": "code",
   "execution_count": 6,
   "id": "633d89a7-e249-442c-b5ac-1d15a2fd0db0",
   "metadata": {},
   "outputs": [
    {
     "data": {
      "text/plain": [
       "'l'"
      ]
     },
     "execution_count": 6,
     "metadata": {},
     "output_type": "execute_result"
    }
   ],
   "source": [
    "s = 'hello'\n",
    "s[2]"
   ]
  },
  {
   "cell_type": "code",
   "execution_count": 10,
   "id": "c7b395bc-79ac-46bd-b1c0-c04d86b85e09",
   "metadata": {},
   "outputs": [
    {
     "data": {
      "text/plain": [
       "'o'"
      ]
     },
     "execution_count": 10,
     "metadata": {},
     "output_type": "execute_result"
    }
   ],
   "source": [
    "s[4] # indexing"
   ]
  },
  {
   "cell_type": "code",
   "execution_count": 11,
   "id": "c7687007-b947-460c-a208-8464d418a500",
   "metadata": {},
   "outputs": [
    {
     "data": {
      "text/plain": [
       "'l'"
      ]
     },
     "execution_count": 11,
     "metadata": {},
     "output_type": "execute_result"
    }
   ],
   "source": [
    "s[2:3]"
   ]
  },
  {
   "cell_type": "code",
   "execution_count": 13,
   "id": "d3c176e8-c606-4ba1-9a9e-e34ae1ef15bd",
   "metadata": {},
   "outputs": [
    {
     "data": {
      "text/plain": [
       "'ello'"
      ]
     },
     "execution_count": 13,
     "metadata": {},
     "output_type": "execute_result"
    }
   ],
   "source": [
    "s[1:5] # slicing"
   ]
  },
  {
   "cell_type": "code",
   "execution_count": 14,
   "id": "ec7b9a72-9a0b-4588-9528-cf952665ca9e",
   "metadata": {},
   "outputs": [
    {
     "name": "stdout",
     "output_type": "stream",
     "text": [
      "Index = 0 and letter = h\n",
      "Index = 1 and letter = e\n",
      "Index = 2 and letter = l\n",
      "Index = 3 and letter = l\n",
      "Index = 4 and letter = o\n"
     ]
    }
   ],
   "source": [
    "s = 'hello'\n",
    "for index in range(len(s)):\n",
    "    letter = s[index]\n",
    "    print(f'Index = {index} and letter = {letter}')\n"
   ]
  },
  {
   "cell_type": "code",
   "execution_count": 15,
   "id": "ca635c88-39b5-4a00-ac36-f4469f5e551e",
   "metadata": {},
   "outputs": [
    {
     "name": "stdout",
     "output_type": "stream",
     "text": [
      "f\n",
      "u\n",
      "l\n",
      "l\n",
      "m\n",
      "a\n",
      "r\n",
      "k\n",
      "s\n"
     ]
    }
   ],
   "source": [
    "text = 'fullmarks'\n",
    "for item in text:\n",
    "    print(item)"
   ]
  },
  {
   "cell_type": "code",
   "execution_count": 16,
   "id": "373c0f97-b44f-490c-b94f-2a9eb63927fc",
   "metadata": {},
   "outputs": [
    {
     "data": {
      "text/plain": [
       "'l'"
      ]
     },
     "execution_count": 16,
     "metadata": {},
     "output_type": "execute_result"
    }
   ],
   "source": [
    "text[2] # indexing"
   ]
  },
  {
   "cell_type": "code",
   "execution_count": 19,
   "id": "69aa7833-95c1-4199-8d36-24064f671a99",
   "metadata": {},
   "outputs": [
    {
     "data": {
      "text/plain": [
       "9"
      ]
     },
     "execution_count": 19,
     "metadata": {},
     "output_type": "execute_result"
    }
   ],
   "source": [
    "len(text) # length methods"
   ]
  },
  {
   "cell_type": "code",
   "execution_count": 20,
   "id": "47dba60d-f67e-40d8-9f5f-5ff4e33a08f7",
   "metadata": {},
   "outputs": [
    {
     "data": {
      "text/plain": [
       "'r'"
      ]
     },
     "execution_count": 20,
     "metadata": {},
     "output_type": "execute_result"
    }
   ],
   "source": [
    "text[6] # indexing"
   ]
  },
  {
   "cell_type": "code",
   "execution_count": 22,
   "id": "c9c62650-071d-490a-a872-40aca16feaa8",
   "metadata": {},
   "outputs": [
    {
     "data": {
      "text/plain": [
       "'llmar'"
      ]
     },
     "execution_count": 22,
     "metadata": {},
     "output_type": "execute_result"
    }
   ],
   "source": [
    "text[2:7] # slicing"
   ]
  },
  {
   "cell_type": "code",
   "execution_count": 23,
   "id": "fc8b0112-2e81-47bb-a62d-b182f8ddae55",
   "metadata": {},
   "outputs": [
    {
     "data": {
      "text/plain": [
       "'fullmar'"
      ]
     },
     "execution_count": 23,
     "metadata": {},
     "output_type": "execute_result"
    }
   ],
   "source": [
    "text[:7] # slicing"
   ]
  },
  {
   "cell_type": "code",
   "execution_count": 24,
   "id": "ed06711a-c1fa-409e-b939-def8a7ba3847",
   "metadata": {},
   "outputs": [
    {
     "data": {
      "text/plain": [
       "'Mercedes'"
      ]
     },
     "execution_count": 24,
     "metadata": {},
     "output_type": "execute_result"
    }
   ],
   "source": [
    "cars = ['Audi', 'Mercedes', 'BMW']\n",
    "index = 1\n",
    "item = cars[index]\n",
    "item"
   ]
  },
  {
   "cell_type": "code",
   "execution_count": 26,
   "id": "0b70a96f-59c6-40b3-bb53-b82f95f7d589",
   "metadata": {},
   "outputs": [
    {
     "name": "stdout",
     "output_type": "stream",
     "text": [
      "Cars_item_index = 0 and Cars_item = Audi\n",
      "Cars_item_index = 1 and Cars_item = Mercedes\n",
      "Cars_item_index = 2 and Cars_item = BMW\n"
     ]
    }
   ],
   "source": [
    "for cars_item_index in range(len(cars)):\n",
    "    cars_item = cars[cars_item_index]\n",
    "    print(f'Cars_item_index = {cars_item_index} and Cars_item = {cars_item}')"
   ]
  },
  {
   "cell_type": "code",
   "execution_count": 27,
   "id": "a749d45f-8823-4a7f-95f0-fd4c79bd7794",
   "metadata": {},
   "outputs": [
    {
     "name": "stdout",
     "output_type": "stream",
     "text": [
      "Cars_item = Audi\n",
      "Cars_item = Mercedes\n",
      "Cars_item = BMW\n"
     ]
    }
   ],
   "source": [
    "for cars_item in cars:\n",
    "    print(f'Cars_item = {cars_item}')"
   ]
  },
  {
   "cell_type": "code",
   "execution_count": null,
   "id": "0b445a14-6fbe-4f78-8668-7cc8a642f121",
   "metadata": {},
   "outputs": [],
   "source": []
  }
 ],
 "metadata": {
  "kernelspec": {
   "display_name": "Python 3 (ipykernel)",
   "language": "python",
   "name": "python3"
  },
  "language_info": {
   "codemirror_mode": {
    "name": "ipython",
    "version": 3
   },
   "file_extension": ".py",
   "mimetype": "text/x-python",
   "name": "python",
   "nbconvert_exporter": "python",
   "pygments_lexer": "ipython3",
   "version": "3.11.1"
  }
 },
 "nbformat": 4,
 "nbformat_minor": 5
}
