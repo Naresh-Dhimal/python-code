{
 "cells": [
  {
   "cell_type": "markdown",
   "id": "2109f218-0254-43d2-960b-a37f79c4ba5e",
   "metadata": {},
   "source": [
    "# Polymorphisim"
   ]
  },
  {
   "cell_type": "code",
   "execution_count": 1,
   "id": "c98fd464-2a4d-4d2f-b501-590cb4a4ae8b",
   "metadata": {},
   "outputs": [
    {
     "data": {
      "text/plain": [
       "5"
      ]
     },
     "execution_count": 1,
     "metadata": {},
     "output_type": "execute_result"
    }
   ],
   "source": [
    "2 + 3"
   ]
  },
  {
   "cell_type": "code",
   "execution_count": 2,
   "id": "b7e82918-010c-47d8-89d6-7f97b1321d71",
   "metadata": {},
   "outputs": [
    {
     "data": {
      "text/plain": [
       "'RadheRadhe'"
      ]
     },
     "execution_count": 2,
     "metadata": {},
     "output_type": "execute_result"
    }
   ],
   "source": [
    "\"Radhe\" + \"Radhe\""
   ]
  },
  {
   "cell_type": "code",
   "execution_count": 3,
   "id": "1106f98f-42da-4734-8fcc-b0e043222753",
   "metadata": {},
   "outputs": [
    {
     "data": {
      "text/plain": [
       "5"
      ]
     },
     "execution_count": 3,
     "metadata": {},
     "output_type": "execute_result"
    }
   ],
   "source": [
    "len(\"hello\")"
   ]
  },
  {
   "cell_type": "code",
   "execution_count": 4,
   "id": "194f492f-7beb-40f3-9c18-199e3dcb454e",
   "metadata": {},
   "outputs": [
    {
     "data": {
      "text/plain": [
       "2"
      ]
     },
     "execution_count": 4,
     "metadata": {},
     "output_type": "execute_result"
    }
   ],
   "source": [
    "len([5,2])"
   ]
  },
  {
   "cell_type": "code",
   "execution_count": 5,
   "id": "25fe62e1-af10-4f0b-9ce9-752c6bef1b22",
   "metadata": {},
   "outputs": [],
   "source": [
    "class Point:\n",
    "    def __init__(self,p):\n",
    "        self.p = p"
   ]
  },
  {
   "cell_type": "code",
   "execution_count": 8,
   "id": "fc0ff3f8-5c08-4bcd-864f-f28de9b7efa8",
   "metadata": {},
   "outputs": [],
   "source": [
    "p1 = Point(p = 5)\n",
    "p2 = Point(p = 9)"
   ]
  },
  {
   "cell_type": "code",
   "execution_count": 11,
   "id": "323c44f0-b9c9-4bb8-8b79-51cddf8db11a",
   "metadata": {},
   "outputs": [
    {
     "data": {
      "text/plain": [
       "(__main__.Point, __main__.Point)"
      ]
     },
     "execution_count": 11,
     "metadata": {},
     "output_type": "execute_result"
    }
   ],
   "source": [
    "type(p1), type(p2)"
   ]
  },
  {
   "cell_type": "code",
   "execution_count": 13,
   "id": "2e02a17a-ead2-4ba0-a71e-bef08fb087f4",
   "metadata": {},
   "outputs": [
    {
     "ename": "NameError",
     "evalue": "name 'P1' is not defined",
     "output_type": "error",
     "traceback": [
      "\u001b[1;31m---------------------------------------------------------------------------\u001b[0m",
      "\u001b[1;31mNameError\u001b[0m                                 Traceback (most recent call last)",
      "Cell \u001b[1;32mIn[13], line 1\u001b[0m\n\u001b[1;32m----> 1\u001b[0m p1 \u001b[38;5;241m+\u001b[39m \u001b[43mP1\u001b[49m \u001b[38;5;66;03m# p1 ra p2 user defined class ko object ho yo object ma + ko kam k ho define vako xaena\u001b[39;00m\n",
      "\u001b[1;31mNameError\u001b[0m: name 'P1' is not defined"
     ]
    }
   ],
   "source": [
    "p1 + P1 # p1 ra p2 user defined class ko object ho yo object ma + ko kam k ho define vako xaena"
   ]
  },
  {
   "cell_type": "code",
   "execution_count": 19,
   "id": "7a3fcec1-eddb-4c7d-bda8-d1c011035b94",
   "metadata": {},
   "outputs": [],
   "source": [
    "class Point:\n",
    "    def __init__(self,p):\n",
    "        self.p = p\n",
    "    def __add__(self, other_obj):\n",
    "        return self.p + other_obj.p\n",
    "    def __lt__(self, other_obj):\n",
    "        return self.p < other_obj.p\n",
    "        "
   ]
  },
  {
   "cell_type": "code",
   "execution_count": 23,
   "id": "3eb3c888-ca3e-4b7f-9040-cc69eb13dabb",
   "metadata": {},
   "outputs": [],
   "source": [
    "p1 = Point(p = 5)\n",
    "p2 = Point(p = 9)\n",
    "p3 = Point(p = 7)"
   ]
  },
  {
   "cell_type": "code",
   "execution_count": 24,
   "id": "50570751-8d20-4790-aeca-2bf7ab8a3558",
   "metadata": {},
   "outputs": [
    {
     "data": {
      "text/plain": [
       "14"
      ]
     },
     "execution_count": 24,
     "metadata": {},
     "output_type": "execute_result"
    }
   ],
   "source": [
    "p1 + p2"
   ]
  },
  {
   "cell_type": "code",
   "execution_count": 25,
   "id": "76f0c3e7-bb97-447d-aaac-5c9c24afe56c",
   "metadata": {},
   "outputs": [
    {
     "data": {
      "text/plain": [
       "True"
      ]
     },
     "execution_count": 25,
     "metadata": {},
     "output_type": "execute_result"
    }
   ],
   "source": [
    "p1 < p3"
   ]
  },
  {
   "cell_type": "code",
   "execution_count": 26,
   "id": "e1711a34-256e-4158-a71e-9a517f43f12b",
   "metadata": {},
   "outputs": [
    {
     "data": {
      "text/plain": [
       "False"
      ]
     },
     "execution_count": 26,
     "metadata": {},
     "output_type": "execute_result"
    }
   ],
   "source": [
    "p2 < p3"
   ]
  },
  {
   "cell_type": "code",
   "execution_count": 27,
   "id": "c48f6ae3-d916-491c-a206-6d16f127ea48",
   "metadata": {},
   "outputs": [
    {
     "data": {
      "text/plain": [
       "True"
      ]
     },
     "execution_count": 27,
     "metadata": {},
     "output_type": "execute_result"
    }
   ],
   "source": [
    "p3 < p2"
   ]
  },
  {
   "cell_type": "code",
   "execution_count": null,
   "id": "7848f878-94d5-4acc-8db9-4e1e04c4b40b",
   "metadata": {},
   "outputs": [],
   "source": [
    "# function overriding"
   ]
  }
 ],
 "metadata": {
  "kernelspec": {
   "display_name": "Python 3 (ipykernel)",
   "language": "python",
   "name": "python3"
  },
  "language_info": {
   "codemirror_mode": {
    "name": "ipython",
    "version": 3
   },
   "file_extension": ".py",
   "mimetype": "text/x-python",
   "name": "python",
   "nbconvert_exporter": "python",
   "pygments_lexer": "ipython3",
   "version": "3.11.1"
  }
 },
 "nbformat": 4,
 "nbformat_minor": 5
}
