{
 "cells": [
  {
   "cell_type": "markdown",
   "id": "479ae187-fb1c-4985-a40a-712bc523533b",
   "metadata": {},
   "source": [
    "# Python String\n",
    "<b>single line string(' ' or \" \")"
   ]
  },
  {
   "cell_type": "code",
   "execution_count": 1,
   "id": "7f011a45-70fa-4dd9-9103-a230a18f2198",
   "metadata": {},
   "outputs": [
    {
     "data": {
      "text/plain": [
       "str"
      ]
     },
     "execution_count": 1,
     "metadata": {},
     "output_type": "execute_result"
    }
   ],
   "source": [
    "text = 'hello'\n",
    "type(text)"
   ]
  },
  {
   "cell_type": "code",
   "execution_count": 2,
   "id": "5d83e74a-0d18-4c68-9632-1cbf23e41792",
   "metadata": {},
   "outputs": [
    {
     "data": {
      "text/plain": [
       "str"
      ]
     },
     "execution_count": 2,
     "metadata": {},
     "output_type": "execute_result"
    }
   ],
   "source": [
    "text = \"world\"\n",
    "type(text)"
   ]
  },
  {
   "cell_type": "code",
   "execution_count": 3,
   "id": "e4ef7904-81bd-4e9d-a3ca-0f4b6cf7158f",
   "metadata": {},
   "outputs": [
    {
     "data": {
      "text/plain": [
       "True"
      ]
     },
     "execution_count": 3,
     "metadata": {},
     "output_type": "execute_result"
    }
   ],
   "source": [
    "c1 = 'p'\n",
    "c2 = \"p\"\n",
    "c1 == c2\n"
   ]
  },
  {
   "cell_type": "code",
   "execution_count": 4,
   "id": "cb751e4d-b9e4-426c-ba02-5729c8c0a7e8",
   "metadata": {},
   "outputs": [
    {
     "data": {
      "text/plain": [
       "True"
      ]
     },
     "execution_count": 4,
     "metadata": {},
     "output_type": "execute_result"
    }
   ],
   "source": [
    "c1 is c2"
   ]
  },
  {
   "cell_type": "code",
   "execution_count": 5,
   "id": "c0281dc9-4cd1-4221-9e99-214a773e9b93",
   "metadata": {},
   "outputs": [
    {
     "data": {
      "text/plain": [
       "False"
      ]
     },
     "execution_count": 5,
     "metadata": {},
     "output_type": "execute_result"
    }
   ],
   "source": [
    "c1 != c2"
   ]
  },
  {
   "cell_type": "code",
   "execution_count": 6,
   "id": "90ef59bc-39d1-40e0-8dd3-dc0ca49c140b",
   "metadata": {},
   "outputs": [],
   "source": [
    "time = 24\n",
    "assert time == 24\n"
   ]
  },
  {
   "cell_type": "code",
   "execution_count": 7,
   "id": "538057a4-2f4b-419e-b98c-3fa3764ea775",
   "metadata": {},
   "outputs": [
    {
     "ename": "AssertionError",
     "evalue": "",
     "output_type": "error",
     "traceback": [
      "\u001b[1;31m---------------------------------------------------------------------------\u001b[0m",
      "\u001b[1;31mAssertionError\u001b[0m                            Traceback (most recent call last)",
      "Cell \u001b[1;32mIn[7], line 2\u001b[0m\n\u001b[0;32m      1\u001b[0m time \u001b[38;5;241m=\u001b[39m \u001b[38;5;241m25\u001b[39m\n\u001b[1;32m----> 2\u001b[0m \u001b[38;5;28;01massert\u001b[39;00m time \u001b[38;5;241m==\u001b[39m \u001b[38;5;241m24\u001b[39m\n",
      "\u001b[1;31mAssertionError\u001b[0m: "
     ]
    }
   ],
   "source": [
    "time = 25\n",
    "assert time == 24"
   ]
  },
  {
   "cell_type": "code",
   "execution_count": 8,
   "id": "22a7f565-4b2f-400c-ac0d-c743f5d8172e",
   "metadata": {},
   "outputs": [
    {
     "name": "stdout",
     "output_type": "stream",
     "text": [
      "How are you?\n"
     ]
    }
   ],
   "source": [
    "msg = 'How are you?'\n",
    "print(msg)"
   ]
  },
  {
   "cell_type": "markdown",
   "id": "8c2cfc3c-9472-4f07-ad7f-57c09c56ecd9",
   "metadata": {},
   "source": [
    "# Multiple-line string('''  ''' or \"\"\"  \"\"\")"
   ]
  },
  {
   "cell_type": "code",
   "execution_count": 9,
   "id": "7b69a2a7-b3f8-42b4-a1e3-b6e608118e34",
   "metadata": {},
   "outputs": [
    {
     "ename": "SyntaxError",
     "evalue": "unterminated string literal (detected at line 1) (1182092813.py, line 1)",
     "output_type": "error",
     "traceback": [
      "\u001b[1;36m  Cell \u001b[1;32mIn[9], line 1\u001b[1;36m\u001b[0m\n\u001b[1;33m    kabita = 'संसार रुपी सुख स्वर्गभित्र,\u001b[0m\n\u001b[1;37m             ^\u001b[0m\n\u001b[1;31mSyntaxError\u001b[0m\u001b[1;31m:\u001b[0m unterminated string literal (detected at line 1)\n"
     ]
    }
   ],
   "source": [
    "kabita = 'संसार रुपी सुख स्वर्गभित्र,\n",
    "रमें रमाएँ लिइ भित्र चित्र ।\n",
    "सारा भयो त्यो मरुभूमि तुल्य,\n",
    "रातै परेझैं अब बुझ्छु बल्ल ।\n",
    "रहेछ संसार निशा समान,\n",
    "आएन ज्यूँदै रहँदा नि ज्ञान ।\n",
    "आखीर श्रीकृष्ण रहेछ एक,\n",
    "न भक्ति भो, ज्ञान, नभो विवेक ।\n",
    "महामरुमा कणझैं म तातो,\n",
    "जलेर मर्दो बिनु आश लाटो ।\n",
    "सुकी रहेको तरुझैं छु खाली,\n",
    "चिताग्नि तापी जल डाल्न फाली ।\n",
    "संस्कार आफ्नो सब नै गुमाएँ,\n",
    "म शून्यमा शून्य सरी बिलाएँ ।\n",
    "जन्मेँ म यो स्वर्गविषे पलाएँ,\n",
    "आखीर भै खाक त्यसै बिलाएँ '"
   ]
  },
  {
   "cell_type": "code",
   "execution_count": 10,
   "id": "f025be01-2965-4b7e-9451-0a5424e6ee7b",
   "metadata": {},
   "outputs": [
    {
     "name": "stdout",
     "output_type": "stream",
     "text": [
      "\n",
      "संसार रुपी सुख स्वर्गभित्र,\n",
      "रमें रमाएँ लिइ भित्र चित्र ।\n",
      "सारा भयो त्यो मरुभूमि तुल्य,\n",
      "रातै परेझैं अब बुझ्छु बल्ल ।\n",
      "रहेछ संसार निशा समान,\n",
      "आएन ज्यूँदै रहँदा नि ज्ञान ।\n",
      "आखीर श्रीकृष्ण रहेछ एक,\n",
      "न भक्ति भो, ज्ञान, नभो विवेक ।\n",
      "महामरुमा कणझैं म तातो,\n",
      "जलेर मर्दो बिनु आश लाटो ।\n",
      "सुकी रहेको तरुझैं छु खाली,\n",
      "चिताग्नि तापी जल डाल्न फाली ।\n",
      "संस्कार आफ्नो सब नै गुमाएँ,\n",
      "म शून्यमा शून्य सरी बिलाएँ ।\n",
      "जन्मेँ म यो स्वर्गविषे पलाएँ,\n",
      "आखीर भै खाक त्यसै बिलाएँ\n"
     ]
    }
   ],
   "source": [
    "# cot or double cot le multi line string leknu mildaena\n",
    "# example:\n",
    "kabita = '''\n",
    "संसार रुपी सुख स्वर्गभित्र,\n",
    "रमें रमाएँ लिइ भित्र चित्र ।\n",
    "सारा भयो त्यो मरुभूमि तुल्य,\n",
    "रातै परेझैं अब बुझ्छु बल्ल ।\n",
    "रहेछ संसार निशा समान,\n",
    "आएन ज्यूँदै रहँदा नि ज्ञान ।\n",
    "आखीर श्रीकृष्ण रहेछ एक,\n",
    "न भक्ति भो, ज्ञान, नभो विवेक ।\n",
    "महामरुमा कणझैं म तातो,\n",
    "जलेर मर्दो बिनु आश लाटो ।\n",
    "सुकी रहेको तरुझैं छु खाली,\n",
    "चिताग्नि तापी जल डाल्न फाली ।\n",
    "संस्कार आफ्नो सब नै गुमाएँ,\n",
    "म शून्यमा शून्य सरी बिलाएँ ।\n",
    "जन्मेँ म यो स्वर्गविषे पलाएँ,\n",
    "आखीर भै खाक त्यसै बिलाएँ'''\n",
    "print(kabita)"
   ]
  },
  {
   "cell_type": "markdown",
   "id": "eb715c0c-648f-41f4-827a-d7bd63e418dc",
   "metadata": {},
   "source": [
    "# Indexing and Slicing"
   ]
  },
  {
   "cell_type": "code",
   "execution_count": 12,
   "id": "0373d5c6-a1b2-44c3-9eb8-97db4f1ed40c",
   "metadata": {},
   "outputs": [],
   "source": [
    "text = 'hello world'"
   ]
  },
  {
   "cell_type": "code",
   "execution_count": 13,
   "id": "72aef5f2-5bd4-4b44-b93d-88e012c6d48b",
   "metadata": {},
   "outputs": [
    {
     "data": {
      "text/plain": [
       "'o'"
      ]
     },
     "execution_count": 13,
     "metadata": {},
     "output_type": "execute_result"
    }
   ],
   "source": [
    "text[4]"
   ]
  },
  {
   "cell_type": "code",
   "execution_count": 14,
   "id": "e2cd38e9-c492-4d12-bf1f-f606892b932f",
   "metadata": {},
   "outputs": [
    {
     "data": {
      "text/plain": [
       "'h'"
      ]
     },
     "execution_count": 14,
     "metadata": {},
     "output_type": "execute_result"
    }
   ],
   "source": [
    "text[0]\n"
   ]
  },
  {
   "cell_type": "code",
   "execution_count": 15,
   "id": "91c63de6-2ceb-4e95-9350-7a3f03df2f22",
   "metadata": {},
   "outputs": [
    {
     "data": {
      "text/plain": [
       "'e'"
      ]
     },
     "execution_count": 15,
     "metadata": {},
     "output_type": "execute_result"
    }
   ],
   "source": [
    "text[1]"
   ]
  },
  {
   "cell_type": "code",
   "execution_count": 16,
   "id": "043a2413-7a56-4f0e-96fa-d5251c19ba88",
   "metadata": {},
   "outputs": [
    {
     "data": {
      "text/plain": [
       "'l'"
      ]
     },
     "execution_count": 16,
     "metadata": {},
     "output_type": "execute_result"
    }
   ],
   "source": [
    "text[2]"
   ]
  },
  {
   "cell_type": "code",
   "execution_count": 17,
   "id": "811b828a-77d2-4594-b710-42e9eca85ff1",
   "metadata": {},
   "outputs": [
    {
     "data": {
      "text/plain": [
       "'l'"
      ]
     },
     "execution_count": 17,
     "metadata": {},
     "output_type": "execute_result"
    }
   ],
   "source": [
    "text[3]"
   ]
  },
  {
   "cell_type": "code",
   "execution_count": 18,
   "id": "b76a79a1-6ed6-4750-9234-583b87668f48",
   "metadata": {},
   "outputs": [
    {
     "data": {
      "text/plain": [
       "' '"
      ]
     },
     "execution_count": 18,
     "metadata": {},
     "output_type": "execute_result"
    }
   ],
   "source": [
    "text[5]"
   ]
  },
  {
   "cell_type": "code",
   "execution_count": 19,
   "id": "558d85e5-7803-40e8-8f9a-bb550f4d987c",
   "metadata": {},
   "outputs": [
    {
     "data": {
      "text/plain": [
       "'l'"
      ]
     },
     "execution_count": 19,
     "metadata": {},
     "output_type": "execute_result"
    }
   ],
   "source": [
    "text[9]"
   ]
  },
  {
   "cell_type": "code",
   "execution_count": 20,
   "id": "3fb19f3b-23a0-4d58-9450-542683566dfd",
   "metadata": {},
   "outputs": [
    {
     "data": {
      "text/plain": [
       "'d'"
      ]
     },
     "execution_count": 20,
     "metadata": {},
     "output_type": "execute_result"
    }
   ],
   "source": [
    "text[10]"
   ]
  },
  {
   "cell_type": "code",
   "execution_count": 21,
   "id": "ecf35564-d25d-4563-8f28-838282e8073d",
   "metadata": {},
   "outputs": [
    {
     "ename": "IndexError",
     "evalue": "string index out of range",
     "output_type": "error",
     "traceback": [
      "\u001b[1;31m---------------------------------------------------------------------------\u001b[0m",
      "\u001b[1;31mIndexError\u001b[0m                                Traceback (most recent call last)",
      "Cell \u001b[1;32mIn[21], line 1\u001b[0m\n\u001b[1;32m----> 1\u001b[0m \u001b[43mtext\u001b[49m\u001b[43m[\u001b[49m\u001b[38;5;241;43m11\u001b[39;49m\u001b[43m]\u001b[49m\n",
      "\u001b[1;31mIndexError\u001b[0m: string index out of range"
     ]
    }
   ],
   "source": [
    "text[11]"
   ]
  },
  {
   "cell_type": "code",
   "execution_count": 22,
   "id": "9a1d863e-435e-4ba2-8ebc-33d81543aeb8",
   "metadata": {},
   "outputs": [
    {
     "data": {
      "text/plain": [
       "11"
      ]
     },
     "execution_count": 22,
     "metadata": {},
     "output_type": "execute_result"
    }
   ],
   "source": [
    "len(text)"
   ]
  },
  {
   "cell_type": "code",
   "execution_count": 23,
   "id": "431c17df-bbf4-4de5-b5e5-0dd02357c1fd",
   "metadata": {},
   "outputs": [
    {
     "data": {
      "text/plain": [
       "'llo'"
      ]
     },
     "execution_count": 23,
     "metadata": {},
     "output_type": "execute_result"
    }
   ],
   "source": [
    "text[2:5]"
   ]
  },
  {
   "cell_type": "code",
   "execution_count": 25,
   "id": "abc60324-ea86-4590-a34a-5db9b230b6e9",
   "metadata": {},
   "outputs": [
    {
     "data": {
      "text/plain": [
       "'rld'"
      ]
     },
     "execution_count": 25,
     "metadata": {},
     "output_type": "execute_result"
    }
   ],
   "source": [
    "text[8:11]"
   ]
  },
  {
   "cell_type": "code",
   "execution_count": 26,
   "id": "9e5cf8bf-0901-4c0b-a58c-8638fb60094e",
   "metadata": {},
   "outputs": [
    {
     "data": {
      "text/plain": [
       "'world'"
      ]
     },
     "execution_count": 26,
     "metadata": {},
     "output_type": "execute_result"
    }
   ],
   "source": [
    "text[6:11]"
   ]
  },
  {
   "cell_type": "code",
   "execution_count": 27,
   "id": "da938803-de74-4205-b816-9e8c069bfb67",
   "metadata": {},
   "outputs": [
    {
     "data": {
      "text/plain": [
       "'hello'"
      ]
     },
     "execution_count": 27,
     "metadata": {},
     "output_type": "execute_result"
    }
   ],
   "source": [
    "text[0:5]"
   ]
  },
  {
   "cell_type": "markdown",
   "id": "22422bb1-dfa2-447c-a779-2ebe41a04465",
   "metadata": {},
   "source": [
    "# Indexing ma  last ko index value  print hudaena"
   ]
  },
  {
   "cell_type": "code",
   "execution_count": 28,
   "id": "d7abf178-39d4-4437-be40-74ae42c19fd5",
   "metadata": {},
   "outputs": [
    {
     "data": {
      "text/plain": [
       "'hello'"
      ]
     },
     "execution_count": 28,
     "metadata": {},
     "output_type": "execute_result"
    }
   ],
   "source": [
    "text[:5] # indexing ko by default index value '0' hunxa"
   ]
  },
  {
   "cell_type": "code",
   "execution_count": 34,
   "id": "20a1b923-2d7d-4fbc-9ede-8e7fdc3d2d16",
   "metadata": {},
   "outputs": [
    {
     "data": {
      "text/plain": [
       "'HloWrd'"
      ]
     },
     "execution_count": 34,
     "metadata": {},
     "output_type": "execute_result"
    }
   ],
   "source": [
    "text = 'Hello World'\n",
    "text[0:11:2] #[start:stop:step]"
   ]
  },
  {
   "cell_type": "code",
   "execution_count": 31,
   "id": "c97aa5ff-aa06-4504-829a-c665c961244a",
   "metadata": {},
   "outputs": [
    {
     "data": {
      "text/plain": [
       "'HloWrd'"
      ]
     },
     "execution_count": 31,
     "metadata": {},
     "output_type": "execute_result"
    }
   ],
   "source": [
    "text[::2]"
   ]
  },
  {
   "cell_type": "code",
   "execution_count": 32,
   "id": "bbf233a8-7abb-4bf9-8d9e-1841e9523beb",
   "metadata": {},
   "outputs": [
    {
     "data": {
      "text/plain": [
       "'el ol'"
      ]
     },
     "execution_count": 32,
     "metadata": {},
     "output_type": "execute_result"
    }
   ],
   "source": [
    "text[1::2]"
   ]
  },
  {
   "cell_type": "code",
   "execution_count": 33,
   "id": "2a9b2e65-d674-4505-a4d5-77260f126499",
   "metadata": {},
   "outputs": [
    {
     "data": {
      "text/plain": [
       "'orld'"
      ]
     },
     "execution_count": 33,
     "metadata": {},
     "output_type": "execute_result"
    }
   ],
   "source": [
    "text[7:11]"
   ]
  },
  {
   "cell_type": "code",
   "execution_count": 35,
   "id": "50c87ad9-bfc5-4664-95ab-ebb1d6624f5a",
   "metadata": {},
   "outputs": [
    {
     "data": {
      "text/plain": [
       "'ello World'"
      ]
     },
     "execution_count": 35,
     "metadata": {},
     "output_type": "execute_result"
    }
   ],
   "source": [
    "text[1:]"
   ]
  },
  {
   "cell_type": "code",
   "execution_count": 36,
   "id": "6efaefec-b5aa-4228-a620-dbab629477a2",
   "metadata": {},
   "outputs": [
    {
     "data": {
      "text/plain": [
       "'HloWrd'"
      ]
     },
     "execution_count": 36,
     "metadata": {},
     "output_type": "execute_result"
    }
   ],
   "source": [
    "text[:11:2]"
   ]
  },
  {
   "cell_type": "code",
   "execution_count": null,
   "id": "0810dfe4-7664-4be2-8956-095f50fab2e2",
   "metadata": {},
   "outputs": [],
   "source": []
  }
 ],
 "metadata": {
  "kernelspec": {
   "display_name": "Python 3 (ipykernel)",
   "language": "python",
   "name": "python3"
  },
  "language_info": {
   "codemirror_mode": {
    "name": "ipython",
    "version": 3
   },
   "file_extension": ".py",
   "mimetype": "text/x-python",
   "name": "python",
   "nbconvert_exporter": "python",
   "pygments_lexer": "ipython3",
   "version": "3.11.1"
  }
 },
 "nbformat": 4,
 "nbformat_minor": 5
}
