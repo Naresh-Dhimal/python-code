{
 "cells": [
  {
   "cell_type": "markdown",
   "id": "5eeb26e6-c503-48be-87ef-9fa257ebf506",
   "metadata": {},
   "source": [
    "# Set (set is one of four built-in data type)\n",
    "* <b>unindexed\n",
    "* <b>unordered\n",
    "* <b>don't allow duplicate\n",
    "  "
   ]
  },
  {
   "cell_type": "code",
   "execution_count": 4,
   "id": "780542a9-f380-4419-b6c1-6a964aae5931",
   "metadata": {},
   "outputs": [
    {
     "data": {
      "text/plain": [
       "{'Bhat', 'Chattni', 'Dahi', 'Dal', 'Gheu', 'Masu', 'Salad'}"
      ]
     },
     "execution_count": 4,
     "metadata": {},
     "output_type": "execute_result"
    }
   ],
   "source": [
    "thakali_set = {\"Dal\", \"Bhat\", \"Chattni\", \"Salad\", \"Dahi\", \"Masu\", \"Gheu\", \"Gheu\"}\n",
    "thakali_set"
   ]
  },
  {
   "cell_type": "code",
   "execution_count": 2,
   "id": "a011b070-ded2-440d-9541-6c3d3b12ae96",
   "metadata": {},
   "outputs": [
    {
     "ename": "TypeError",
     "evalue": "'set' object is not subscriptable",
     "output_type": "error",
     "traceback": [
      "\u001b[1;31m---------------------------------------------------------------------------\u001b[0m",
      "\u001b[1;31mTypeError\u001b[0m                                 Traceback (most recent call last)",
      "Cell \u001b[1;32mIn[2], line 1\u001b[0m\n\u001b[1;32m----> 1\u001b[0m \u001b[43mthakali_set\u001b[49m\u001b[43m[\u001b[49m\u001b[38;5;241;43m0\u001b[39;49m\u001b[43m]\u001b[49m\n",
      "\u001b[1;31mTypeError\u001b[0m: 'set' object is not subscriptable"
     ]
    }
   ],
   "source": [
    "thakali_set[0]"
   ]
  },
  {
   "cell_type": "markdown",
   "id": "eb01d7db-5f77-43ba-bdec-9f05903f2ccf",
   "metadata": {},
   "source": [
    "# to add item in set (.add(\"item_name\"))"
   ]
  },
  {
   "cell_type": "code",
   "execution_count": 6,
   "id": "1c8db779-45c9-4cc7-ad91-a035c757b023",
   "metadata": {},
   "outputs": [
    {
     "data": {
      "text/plain": [
       "{'Bhat', 'Chattni', 'Dahi', 'Dal', 'Gheu', 'Masu', 'Pappad', 'Salad'}"
      ]
     },
     "execution_count": 6,
     "metadata": {},
     "output_type": "execute_result"
    }
   ],
   "source": [
    "thakali_set = {\"Dal\", \"Bhat\", \"Chattni\", \"Salad\", \"Dahi\", \"Masu\", \"Gheu\", \"Gheu\"}\n",
    "thakali_set.add(\"Pappad\")\n",
    "thakali_set"
   ]
  },
  {
   "cell_type": "code",
   "execution_count": 7,
   "id": "728856cd-eb74-48c2-880c-e557b9e8392b",
   "metadata": {},
   "outputs": [
    {
     "data": {
      "text/plain": [
       "{'Bhat', 'Chattni', 'Dahi', 'Dal', 'Gheu', 'Gunduk', 'Masu', 'Pappad', 'Salad'}"
      ]
     },
     "execution_count": 7,
     "metadata": {},
     "output_type": "execute_result"
    }
   ],
   "source": [
    "thakali_set.add(\"Gunduk\")\n",
    "thakali_set"
   ]
  },
  {
   "cell_type": "markdown",
   "id": "f750a68f-d4ff-4c28-b9cc-01f3cc1f456f",
   "metadata": {},
   "source": [
    "# to remove item in set(.remove(\"item_name\"))"
   ]
  },
  {
   "cell_type": "code",
   "execution_count": 8,
   "id": "89c5ddd0-b48a-4aa4-bd51-57ed2e404c27",
   "metadata": {},
   "outputs": [],
   "source": [
    "thakali_set = {\"Dal\", \"Bhat\", \"Chattni\", \"Salad\", \"Dahi\", \"Masu\", \"Gheu\", \"Gheu\"}\n",
    "thakali_set.remove(\"Dal\")\n"
   ]
  },
  {
   "cell_type": "code",
   "execution_count": 9,
   "id": "0307783e-09c5-47c3-9059-b65aef297f38",
   "metadata": {},
   "outputs": [
    {
     "data": {
      "text/plain": [
       "{'Bhat', 'Chattni', 'Dahi', 'Gheu', 'Masu', 'Salad'}"
      ]
     },
     "execution_count": 9,
     "metadata": {},
     "output_type": "execute_result"
    }
   ],
   "source": [
    "thakali_set"
   ]
  },
  {
   "cell_type": "code",
   "execution_count": 10,
   "id": "9932bb8a-81dc-4c86-b551-6823261940c1",
   "metadata": {},
   "outputs": [
    {
     "ename": "KeyError",
     "evalue": "'Dhedo'",
     "output_type": "error",
     "traceback": [
      "\u001b[1;31m---------------------------------------------------------------------------\u001b[0m",
      "\u001b[1;31mKeyError\u001b[0m                                  Traceback (most recent call last)",
      "Cell \u001b[1;32mIn[10], line 2\u001b[0m\n\u001b[0;32m      1\u001b[0m thakali_set \u001b[38;5;241m=\u001b[39m {\u001b[38;5;124m\"\u001b[39m\u001b[38;5;124mDal\u001b[39m\u001b[38;5;124m\"\u001b[39m, \u001b[38;5;124m\"\u001b[39m\u001b[38;5;124mBhat\u001b[39m\u001b[38;5;124m\"\u001b[39m, \u001b[38;5;124m\"\u001b[39m\u001b[38;5;124mChattni\u001b[39m\u001b[38;5;124m\"\u001b[39m, \u001b[38;5;124m\"\u001b[39m\u001b[38;5;124mSalad\u001b[39m\u001b[38;5;124m\"\u001b[39m, \u001b[38;5;124m\"\u001b[39m\u001b[38;5;124mDahi\u001b[39m\u001b[38;5;124m\"\u001b[39m, \u001b[38;5;124m\"\u001b[39m\u001b[38;5;124mMasu\u001b[39m\u001b[38;5;124m\"\u001b[39m, \u001b[38;5;124m\"\u001b[39m\u001b[38;5;124mGheu\u001b[39m\u001b[38;5;124m\"\u001b[39m, \u001b[38;5;124m\"\u001b[39m\u001b[38;5;124mGheu\u001b[39m\u001b[38;5;124m\"\u001b[39m}\n\u001b[1;32m----> 2\u001b[0m \u001b[43mthakali_set\u001b[49m\u001b[38;5;241;43m.\u001b[39;49m\u001b[43mremove\u001b[49m\u001b[43m(\u001b[49m\u001b[38;5;124;43m\"\u001b[39;49m\u001b[38;5;124;43mDhedo\u001b[39;49m\u001b[38;5;124;43m\"\u001b[39;49m\u001b[43m)\u001b[49m\n",
      "\u001b[1;31mKeyError\u001b[0m: 'Dhedo'"
     ]
    }
   ],
   "source": [
    "thakali_set = {\"Dal\", \"Bhat\", \"Chattni\", \"Salad\", \"Dahi\", \"Masu\", \"Gheu\", \"Gheu\"}\n",
    "thakali_set.remove(\"Dhedo\")"
   ]
  },
  {
   "cell_type": "code",
   "execution_count": 11,
   "id": "1deb775d-85e6-423d-b59d-9f0d4cae2960",
   "metadata": {},
   "outputs": [],
   "source": [
    "thakali_set = {\"Dal\", \"Bhat\", \"Chattni\", \"Salad\", \"Dahi\", \"Masu\", \"Gheu\", \"Gheu\"}\n",
    "thakali_set.discard(\"Gundruk\")"
   ]
  },
  {
   "cell_type": "markdown",
   "id": "9ba85b08-c40d-4b3f-8fa4-4b066c98d230",
   "metadata": {},
   "source": [
    "# discard le item exist garxa vane remove garxa gardaina bhane ignore garxa"
   ]
  },
  {
   "cell_type": "markdown",
   "id": "abad987e-61fa-46f9-8c12-e816227ceddc",
   "metadata": {},
   "source": [
    "# Type casting in set\n"
   ]
  },
  {
   "cell_type": "code",
   "execution_count": 13,
   "id": "fbe2d260-b56e-42bf-8c04-566abe69d298",
   "metadata": {},
   "outputs": [
    {
     "data": {
      "text/plain": [
       "['Dal', 'Chattni', 'Gheu', 'Masu', 'Bhat', 'Dahi', 'Salad']"
      ]
     },
     "execution_count": 13,
     "metadata": {},
     "output_type": "execute_result"
    }
   ],
   "source": [
    "thakali_set = {\"Dal\", \"Bhat\", \"Chattni\", \"Salad\", \"Dahi\", \"Masu\", \"Gheu\", \"Gheu\"}\n",
    "list(thakali_set)"
   ]
  },
  {
   "cell_type": "code",
   "execution_count": 15,
   "id": "f0cd1c5a-1a83-4b26-97da-78de25b32811",
   "metadata": {},
   "outputs": [],
   "source": [
    "a = [2, 2 , 6, 3, 3, 2]"
   ]
  },
  {
   "cell_type": "code",
   "execution_count": 19,
   "id": "807e80a7-d22e-4e42-8c64-199fec35417f",
   "metadata": {},
   "outputs": [
    {
     "data": {
      "text/plain": [
       "{2, 3, 6}"
      ]
     },
     "execution_count": 19,
     "metadata": {},
     "output_type": "execute_result"
    }
   ],
   "source": [
    "b = set(a)\n",
    "b"
   ]
  },
  {
   "cell_type": "code",
   "execution_count": 20,
   "id": "6363455d-a088-4f78-a525-f69cb684a3bd",
   "metadata": {},
   "outputs": [
    {
     "data": {
      "text/plain": [
       "[2, 3, 6]"
      ]
     },
     "execution_count": 20,
     "metadata": {},
     "output_type": "execute_result"
    }
   ],
   "source": [
    "list(b)"
   ]
  },
  {
   "cell_type": "markdown",
   "id": "0abea3b3-e1df-4881-b6d7-5fa6181ba9f7",
   "metadata": {},
   "source": [
    "# Set operation in python: union, intersection, difference"
   ]
  },
  {
   "cell_type": "code",
   "execution_count": 27,
   "id": "ba841d97-6266-4429-9999-83c0827833f6",
   "metadata": {},
   "outputs": [],
   "source": [
    "A = {\"apple\", \"banana\", \"cherry\"}\n",
    "B = {\"google\",\"microsoft\", \"apple\"}"
   ]
  },
  {
   "cell_type": "code",
   "execution_count": 28,
   "id": "03a4f0f0-d388-4185-bd29-f133e1c17d00",
   "metadata": {},
   "outputs": [
    {
     "data": {
      "text/plain": [
       "{'apple'}"
      ]
     },
     "execution_count": 28,
     "metadata": {},
     "output_type": "execute_result"
    }
   ],
   "source": [
    "A.intersection(B)"
   ]
  },
  {
   "cell_type": "code",
   "execution_count": 29,
   "id": "1fce1761-be4f-44a7-8e8a-1411b972a105",
   "metadata": {},
   "outputs": [
    {
     "data": {
      "text/plain": [
       "{'apple', 'banana', 'cherry', 'google', 'microsoft'}"
      ]
     },
     "execution_count": 29,
     "metadata": {},
     "output_type": "execute_result"
    }
   ],
   "source": [
    "A.union(B)"
   ]
  },
  {
   "cell_type": "code",
   "execution_count": 30,
   "id": "5dd36644-c788-4403-ae19-4f1022a1c829",
   "metadata": {},
   "outputs": [
    {
     "data": {
      "text/plain": [
       "{'banana', 'cherry'}"
      ]
     },
     "execution_count": 30,
     "metadata": {},
     "output_type": "execute_result"
    }
   ],
   "source": [
    "A - B"
   ]
  },
  {
   "cell_type": "code",
   "execution_count": 31,
   "id": "e5199701-f9e6-4fc9-a191-4cb0270abbe5",
   "metadata": {},
   "outputs": [
    {
     "data": {
      "text/plain": [
       "{'google', 'microsoft'}"
      ]
     },
     "execution_count": 31,
     "metadata": {},
     "output_type": "execute_result"
    }
   ],
   "source": [
    "B - A"
   ]
  },
  {
   "cell_type": "markdown",
   "id": "ec31f00d-2389-4d80-a94b-640667600143",
   "metadata": {},
   "source": [
    "# other set type: frozenset -> Frozen set is just immutable  version of python set object"
   ]
  },
  {
   "cell_type": "code",
   "execution_count": 32,
   "id": "5970194b-15c3-4964-881b-adaf2aa55553",
   "metadata": {},
   "outputs": [
    {
     "data": {
      "text/plain": [
       "frozenset"
      ]
     },
     "execution_count": 32,
     "metadata": {},
     "output_type": "execute_result"
    }
   ],
   "source": [
    "B = {\"google\",\"microsoft\", \"apple\"}\n",
    "s_frozen = frozenset(B)\n",
    "type(s_frozen)"
   ]
  },
  {
   "cell_type": "code",
   "execution_count": 33,
   "id": "87c5ac43-1047-47dd-9751-502b3692aa1b",
   "metadata": {},
   "outputs": [
    {
     "ename": "AttributeError",
     "evalue": "'frozenset' object has no attribute 'add'",
     "output_type": "error",
     "traceback": [
      "\u001b[1;31m---------------------------------------------------------------------------\u001b[0m",
      "\u001b[1;31mAttributeError\u001b[0m                            Traceback (most recent call last)",
      "Cell \u001b[1;32mIn[33], line 1\u001b[0m\n\u001b[1;32m----> 1\u001b[0m \u001b[43ms_frozen\u001b[49m\u001b[38;5;241;43m.\u001b[39;49m\u001b[43madd\u001b[49m(\u001b[38;5;124m\"\u001b[39m\u001b[38;5;124mmeta\u001b[39m\u001b[38;5;124m\"\u001b[39m)\n",
      "\u001b[1;31mAttributeError\u001b[0m: 'frozenset' object has no attribute 'add'"
     ]
    }
   ],
   "source": [
    "s_frozen.add(\"meta\")"
   ]
  },
  {
   "cell_type": "code",
   "execution_count": 39,
   "id": "9a35e6ca-7b16-4b21-8733-3a9013e7facd",
   "metadata": {},
   "outputs": [
    {
     "data": {
      "text/plain": [
       "tuple"
      ]
     },
     "execution_count": 39,
     "metadata": {},
     "output_type": "execute_result"
    }
   ],
   "source": [
    "tuple =(\"googel\", \"meta\" )\n",
    "type(tuple)"
   ]
  },
  {
   "cell_type": "code",
   "execution_count": 40,
   "id": "237ef082-d554-4ca3-a221-d108d8fcc965",
   "metadata": {},
   "outputs": [
    {
     "data": {
      "text/plain": [
       "set"
      ]
     },
     "execution_count": 40,
     "metadata": {},
     "output_type": "execute_result"
    }
   ],
   "source": [
    "set = {\"google\",\"microsoft\", \"apple\"}\n",
    "type(set)\n"
   ]
  },
  {
   "cell_type": "code",
   "execution_count": 42,
   "id": "5fa48e82-39de-4c51-aecc-6fca9780db2f",
   "metadata": {},
   "outputs": [],
   "source": [
    "set_forzon = frozenset(set)"
   ]
  },
  {
   "cell_type": "code",
   "execution_count": 45,
   "id": "4d635ed3-784b-4047-84a4-2725b8385f0c",
   "metadata": {},
   "outputs": [
    {
     "data": {
      "text/plain": [
       "frozenset({'apple', 'google', 'microsoft'})"
      ]
     },
     "execution_count": 45,
     "metadata": {},
     "output_type": "execute_result"
    }
   ],
   "source": [
    "set_forzon"
   ]
  },
  {
   "cell_type": "code",
   "execution_count": null,
   "id": "ecf3db5b-a0fa-4cd7-98da-94f15bbf4b29",
   "metadata": {},
   "outputs": [],
   "source": []
  }
 ],
 "metadata": {
  "kernelspec": {
   "display_name": "Python 3 (ipykernel)",
   "language": "python",
   "name": "python3"
  },
  "language_info": {
   "codemirror_mode": {
    "name": "ipython",
    "version": 3
   },
   "file_extension": ".py",
   "mimetype": "text/x-python",
   "name": "python",
   "nbconvert_exporter": "python",
   "pygments_lexer": "ipython3",
   "version": "3.11.1"
  }
 },
 "nbformat": 4,
 "nbformat_minor": 5
}
