{
 "cells": [
  {
   "cell_type": "markdown",
   "id": "16169f45-6763-4c7f-bf08-365ffa20d7a4",
   "metadata": {},
   "source": [
    "# String Methods\n"
   ]
  },
  {
   "cell_type": "code",
   "execution_count": 1,
   "id": "536ba808-44ec-4c0c-baf8-d168bc669d84",
   "metadata": {},
   "outputs": [
    {
     "name": "stdout",
     "output_type": "stream",
     "text": [
      "nare$h\n"
     ]
    }
   ],
   "source": [
    "name = 'nare$h'\n",
    "print(name)"
   ]
  },
  {
   "cell_type": "code",
   "execution_count": 2,
   "id": "4c1faa23-8acc-4b03-8691-7577947759ea",
   "metadata": {},
   "outputs": [
    {
     "data": {
      "text/plain": [
       "'$'"
      ]
     },
     "execution_count": 2,
     "metadata": {},
     "output_type": "execute_result"
    }
   ],
   "source": [
    "name[4]"
   ]
  },
  {
   "cell_type": "code",
   "execution_count": 3,
   "id": "938db0d9-aadd-478b-ba9b-b8b65bf58b00",
   "metadata": {},
   "outputs": [
    {
     "ename": "TypeError",
     "evalue": "'str' object does not support item assignment",
     "output_type": "error",
     "traceback": [
      "\u001b[1;31m---------------------------------------------------------------------------\u001b[0m",
      "\u001b[1;31mTypeError\u001b[0m                                 Traceback (most recent call last)",
      "Cell \u001b[1;32mIn[3], line 1\u001b[0m\n\u001b[1;32m----> 1\u001b[0m \u001b[43mname\u001b[49m\u001b[43m[\u001b[49m\u001b[38;5;241;43m4\u001b[39;49m\u001b[43m]\u001b[49m \u001b[38;5;241m=\u001b[39m \u001b[38;5;124m'\u001b[39m\u001b[38;5;124ms\u001b[39m\u001b[38;5;124m'\u001b[39m\n",
      "\u001b[1;31mTypeError\u001b[0m: 'str' object does not support item assignment"
     ]
    }
   ],
   "source": [
    "name[4] = 's'"
   ]
  },
  {
   "cell_type": "markdown",
   "id": "3e909dce-56af-4403-8d92-0b4245c835fc",
   "metadata": {},
   "source": [
    "# string is  immutable object; same memory location ma value update garna mildaena"
   ]
  },
  {
   "cell_type": "markdown",
   "id": "32899961-4963-4c4a-859e-9a1250d6e92a",
   "metadata": {},
   "source": [
    "# .replace()"
   ]
  },
  {
   "cell_type": "code",
   "execution_count": 4,
   "id": "d35c5391-8bd3-47a8-bf58-6e20f1a1508c",
   "metadata": {},
   "outputs": [
    {
     "data": {
      "text/plain": [
       "2115819851120"
      ]
     },
     "execution_count": 4,
     "metadata": {},
     "output_type": "execute_result"
    }
   ],
   "source": [
    "name = 'nare$h'\n",
    "id(name)"
   ]
  },
  {
   "cell_type": "code",
   "execution_count": 7,
   "id": "f1d44885-6dc2-4c57-848f-083b6d735f39",
   "metadata": {},
   "outputs": [
    {
     "name": "stdout",
     "output_type": "stream",
     "text": [
      "naresh\n"
     ]
    }
   ],
   "source": [
    "name_copy = name.replace('$', 's')\n",
    "print(name_copy)"
   ]
  },
  {
   "cell_type": "markdown",
   "id": "3584619b-ae51-466b-9a1f-2b335ed17c3d",
   "metadata": {},
   "source": [
    "# String is immutable data type"
   ]
  },
  {
   "cell_type": "code",
   "execution_count": 14,
   "id": "989884b4-43f0-4fd9-8232-f5298f519bf3",
   "metadata": {},
   "outputs": [
    {
     "data": {
      "text/plain": [
       "'Happy Fantastic Year'"
      ]
     },
     "execution_count": 14,
     "metadata": {},
     "output_type": "execute_result"
    }
   ],
   "source": [
    "message = 'Happy New Year'\n",
    "message.replace('New', 'Fantastic')"
   ]
  },
  {
   "cell_type": "markdown",
   "id": "d282f212-8f55-422e-9396-1dfe62f2e174",
   "metadata": {},
   "source": [
    "# .upper(), .lower() , .title()"
   ]
  },
  {
   "cell_type": "code",
   "execution_count": 15,
   "id": "68bc4ed7-9fc5-41c8-bdb4-c3f988229fa2",
   "metadata": {},
   "outputs": [
    {
     "data": {
      "text/plain": [
       "'HAPPY NEW YEAR'"
      ]
     },
     "execution_count": 15,
     "metadata": {},
     "output_type": "execute_result"
    }
   ],
   "source": [
    "message.upper()"
   ]
  },
  {
   "cell_type": "code",
   "execution_count": 16,
   "id": "0c2eeb8a-51c2-496d-b041-4e74a4e90b8c",
   "metadata": {},
   "outputs": [
    {
     "data": {
      "text/plain": [
       "'happy new year'"
      ]
     },
     "execution_count": 16,
     "metadata": {},
     "output_type": "execute_result"
    }
   ],
   "source": [
    "message.lower()"
   ]
  },
  {
   "cell_type": "code",
   "execution_count": 17,
   "id": "8df81ad2-40a3-4437-9dc2-7e68ee8ddf7b",
   "metadata": {},
   "outputs": [
    {
     "data": {
      "text/plain": [
       "'Happy New Year'"
      ]
     },
     "execution_count": 17,
     "metadata": {},
     "output_type": "execute_result"
    }
   ],
   "source": [
    "message.title()"
   ]
  },
  {
   "cell_type": "code",
   "execution_count": 18,
   "id": "cf652aa1-06b6-44b5-928c-2fdae31ea855",
   "metadata": {},
   "outputs": [
    {
     "data": {
      "text/plain": [
       "'NARESH'"
      ]
     },
     "execution_count": 18,
     "metadata": {},
     "output_type": "execute_result"
    }
   ],
   "source": [
    "name = 'naresh'\n",
    "name.upper()\n"
   ]
  },
  {
   "cell_type": "code",
   "execution_count": 19,
   "id": "b407dbfb-ccac-40b9-ab45-53a8665ef6cb",
   "metadata": {},
   "outputs": [
    {
     "data": {
      "text/plain": [
       "'naresh'"
      ]
     },
     "execution_count": 19,
     "metadata": {},
     "output_type": "execute_result"
    }
   ],
   "source": [
    "name.lower()"
   ]
  },
  {
   "cell_type": "code",
   "execution_count": 20,
   "id": "abcc2571-2d51-4a78-ad4e-b45db5316635",
   "metadata": {},
   "outputs": [
    {
     "data": {
      "text/plain": [
       "'Naresh'"
      ]
     },
     "execution_count": 20,
     "metadata": {},
     "output_type": "execute_result"
    }
   ],
   "source": [
    "name.title()"
   ]
  },
  {
   "cell_type": "markdown",
   "id": "4c85b429-348b-4da0-a91b-2ab90d196fbd",
   "metadata": {},
   "source": [
    "# .strip(), .lstrip(), .rstrip()"
   ]
  },
  {
   "cell_type": "code",
   "execution_count": 21,
   "id": "164a09a5-0e39-4607-af26-c0513dd44545",
   "metadata": {},
   "outputs": [],
   "source": [
    "msg = '  Hello   World   '"
   ]
  },
  {
   "cell_type": "code",
   "execution_count": 22,
   "id": "de263058-dd5b-413a-a21a-5b6a3ca5894b",
   "metadata": {},
   "outputs": [
    {
     "name": "stdout",
     "output_type": "stream",
     "text": [
      "  Hello   World   \n"
     ]
    }
   ],
   "source": [
    "print(msg)"
   ]
  },
  {
   "cell_type": "code",
   "execution_count": 26,
   "id": "db0221b2-4da1-40e7-b0c8-0158b6ca7967",
   "metadata": {},
   "outputs": [
    {
     "data": {
      "text/plain": [
       "'Hello   World   '"
      ]
     },
     "execution_count": 26,
     "metadata": {},
     "output_type": "execute_result"
    }
   ],
   "source": [
    "msg.lstrip() # left"
   ]
  },
  {
   "cell_type": "code",
   "execution_count": 27,
   "id": "08e027f7-9f07-4c8a-b3c8-5ee3eeffcf29",
   "metadata": {},
   "outputs": [
    {
     "data": {
      "text/plain": [
       "'  Hello   World'"
      ]
     },
     "execution_count": 27,
     "metadata": {},
     "output_type": "execute_result"
    }
   ],
   "source": [
    "msg.rstrip() # right\n"
   ]
  },
  {
   "cell_type": "code",
   "execution_count": 30,
   "id": "91aef525-09e8-4363-9def-b0ac35d8a87a",
   "metadata": {},
   "outputs": [
    {
     "data": {
      "text/plain": [
       "'Hello   World'"
      ]
     },
     "execution_count": 30,
     "metadata": {},
     "output_type": "execute_result"
    }
   ],
   "source": [
    "msg.strip() # both left and right"
   ]
  },
  {
   "cell_type": "markdown",
   "id": "435e235d-71a5-4723-8eaf-09f94157d7f6",
   "metadata": {},
   "source": [
    "# .split(), .join()"
   ]
  },
  {
   "cell_type": "code",
   "execution_count": 6,
   "id": "914a53c6-461b-4d64-91c4-913f8cb353bd",
   "metadata": {},
   "outputs": [],
   "source": [
    "msg = 'I study Python in broadway'"
   ]
  },
  {
   "cell_type": "code",
   "execution_count": 11,
   "id": "41169038-bb31-47c5-9ed9-9a04df7cf784",
   "metadata": {},
   "outputs": [
    {
     "name": "stdout",
     "output_type": "stream",
     "text": [
      "['I', 'study', 'Python', 'in', 'broadway']\n"
     ]
    }
   ],
   "source": [
    "words_collection = msg.split(' ')\n",
    "print(words_collection)"
   ]
  },
  {
   "cell_type": "code",
   "execution_count": 7,
   "id": "d847d7e6-491c-47fa-a02b-8acfa279b394",
   "metadata": {},
   "outputs": [
    {
     "data": {
      "text/plain": [
       "'IstudyPythoninbroadway'"
      ]
     },
     "execution_count": 7,
     "metadata": {},
     "output_type": "execute_result"
    }
   ],
   "source": [
    "msg.replace(' ', '')"
   ]
  },
  {
   "cell_type": "code",
   "execution_count": 8,
   "id": "414310d1-33bb-457f-b2a0-dfaf1e46f45b",
   "metadata": {},
   "outputs": [
    {
     "data": {
      "text/plain": [
       "list"
      ]
     },
     "execution_count": 8,
     "metadata": {},
     "output_type": "execute_result"
    }
   ],
   "source": [
    "type(words_collection)"
   ]
  },
  {
   "cell_type": "code",
   "execution_count": 12,
   "id": "afee2512-d021-4751-8e68-0fbc5e56c3db",
   "metadata": {},
   "outputs": [
    {
     "data": {
      "text/plain": [
       "'I study Python in broadway'"
      ]
     },
     "execution_count": 12,
     "metadata": {},
     "output_type": "execute_result"
    }
   ],
   "source": [
    "' '.join(words_collection)"
   ]
  },
  {
   "cell_type": "code",
   "execution_count": null,
   "id": "924ff72b-3889-41da-8f82-366833e5ed31",
   "metadata": {},
   "outputs": [],
   "source": []
  }
 ],
 "metadata": {
  "kernelspec": {
   "display_name": "Python 3 (ipykernel)",
   "language": "python",
   "name": "python3"
  },
  "language_info": {
   "codemirror_mode": {
    "name": "ipython",
    "version": 3
   },
   "file_extension": ".py",
   "mimetype": "text/x-python",
   "name": "python",
   "nbconvert_exporter": "python",
   "pygments_lexer": "ipython3",
   "version": "3.11.1"
  }
 },
 "nbformat": 4,
 "nbformat_minor": 5
}
