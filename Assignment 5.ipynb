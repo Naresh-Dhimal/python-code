{
 "cells": [
  {
   "cell_type": "markdown",
   "id": "8b0d4597-d5ea-4e0e-be46-592727b6a273",
   "metadata": {},
   "source": [
    "# Assignment 5:"
   ]
  },
  {
   "attachments": {
    "d31b1a6e-a662-4de2-8656-e00b056d20a1.png": {
     "image/png": "[encoded data removed]"
    }
   },
   "cell_type": "markdown",
   "id": "38527dcf-100f-44b0-9589-fbe33fbc15bf",
   "metadata": {},
   "source": [
    "# Assignment 5.1:\n",
    "![image.png](attachment:d31b1a6e-a662-4de2-8656-e00b056d20a1.png)"
   ]
  },
  {
   "cell_type": "code",
   "execution_count": 4,
   "id": "f5b1128e-6a6f-460e-9b45-4bf21d37755e",
   "metadata": {},
   "outputs": [
    {
     "data": {
      "text/plain": [
       "20"
      ]
     },
     "execution_count": 4,
     "metadata": {},
     "output_type": "execute_result"
    }
   ],
   "source": [
    "# any no of input can be added\n",
    "def add(*args):\n",
    "    total = sum(args)\n",
    "    return total\n",
    "\n",
    "\n",
    "add(2,3,4,5,6)"
   ]
  },
  {
   "cell_type": "code",
   "execution_count": 12,
   "id": "7cd02728-4116-4ff1-b9f5-abb3bdfa0009",
   "metadata": {},
   "outputs": [
    {
     "data": {
      "text/plain": [
       "19"
      ]
     },
     "execution_count": 12,
     "metadata": {},
     "output_type": "execute_result"
    }
   ],
   "source": [
    "def add_num(*args):\n",
    "    total = 0\n",
    "    for item in args:\n",
    "        total = total + item\n",
    "    return total\n",
    "\n",
    "\n",
    "add_num(1,2,6,7,3)"
   ]
  },
  {
   "cell_type": "code",
   "execution_count": 13,
   "id": "6af0f7b2-276f-4af5-97cb-1f8c8879ee86",
   "metadata": {},
   "outputs": [
    {
     "name": "stdin",
     "output_type": "stream",
     "text": [
      "Enter a first number:  12\n",
      "Enter a second number:  2\n"
     ]
    },
    {
     "data": {
      "text/plain": [
       "10"
      ]
     },
     "execution_count": 13,
     "metadata": {},
     "output_type": "execute_result"
    }
   ],
   "source": [
    "# two number can be subtracted\n",
    "def subtract(a,b):\n",
    "    difference = a - b\n",
    "    return difference\n",
    "\n",
    "first_number = int(input(\"Enter a first number: \"))\n",
    "second_number = int(input(\"Enter a second number: \"))\n",
    "subtract(a = first_number, b = second_number)"
   ]
  },
  {
   "cell_type": "code",
   "execution_count": 14,
   "id": "33e76857-2275-45b4-a38f-7d86813bb94c",
   "metadata": {},
   "outputs": [
    {
     "data": {
      "text/plain": [
       "9.0"
      ]
     },
     "execution_count": 14,
     "metadata": {},
     "output_type": "execute_result"
    }
   ],
   "source": [
    "# calculate mean of any number \n",
    "def mean(*args):\n",
    "    total = sum(args)\n",
    "    return total / len(args)\n",
    "\n",
    "mean(3, 8, 9 ,10, 15)"
   ]
  },
  {
   "cell_type": "code",
   "execution_count": 15,
   "id": "cc5eff6f-bb21-411e-82d3-3e3465aa0cdd",
   "metadata": {},
   "outputs": [
    {
     "name": "stdin",
     "output_type": "stream",
     "text": [
      "Enter a number:  12\n"
     ]
    },
    {
     "data": {
      "text/plain": [
       "144"
      ]
     },
     "execution_count": 15,
     "metadata": {},
     "output_type": "execute_result"
    }
   ],
   "source": [
    "# squares the given number\n",
    "def squares(num):\n",
    "    return num ** 2\n",
    "\n",
    "number = int(input(\"Enter a number: \"))\n",
    "squares(num = number)"
   ]
  },
  {
   "cell_type": "code",
   "execution_count": 17,
   "id": "06dc2de0-27ac-4c55-91d1-ef97b52453d5",
   "metadata": {},
   "outputs": [
    {
     "name": "stdin",
     "output_type": "stream",
     "text": [
      "Enter an number:  13\n"
     ]
    },
    {
     "data": {
      "text/plain": [
       "'13 is odd.'"
      ]
     },
     "execution_count": 17,
     "metadata": {},
     "output_type": "execute_result"
    }
   ],
   "source": [
    "# identify if a given number  is even or odd\n",
    "def check_even(num):\n",
    "    if num % 2 == 0:\n",
    "        return f\"{num} is even.\"\n",
    "    return f\"{num} is odd.\"\n",
    "\n",
    "number = int(input(\"Enter an number: \"))\n",
    "check_even(num = number)"
   ]
  },
  {
   "cell_type": "code",
   "execution_count": 3,
   "id": "e55588cf-c3c3-4414-bd22-8b5a23d41bb7",
   "metadata": {},
   "outputs": [
    {
     "name": "stdin",
     "output_type": "stream",
     "text": [
      "Enter a radius:  3\n"
     ]
    },
    {
     "data": {
      "text/plain": [
       "28.274333882308138"
      ]
     },
     "execution_count": 3,
     "metadata": {},
     "output_type": "execute_result"
    }
   ],
   "source": [
    "import math\n",
    "\n",
    "class Circle:\n",
    "    def __init__(self,radius):\n",
    "        self.radius = radius\n",
    "    def area(self):\n",
    "        return math.pi * self.radius ** 2\n",
    "\n",
    "r = float(input(\"Enter a radius: \"))\n",
    "c1 = Circle(radius = r)\n",
    "c1.area()\n",
    "\n",
    "    "
   ]
  },
  {
   "cell_type": "code",
   "execution_count": null,
   "id": "2e4a448e-6b59-49ec-969d-26a7d8f47843",
   "metadata": {},
   "outputs": [],
   "source": []
  }
 ],
 "metadata": {
  "kernelspec": {
   "display_name": "Python 3 (ipykernel)",
   "language": "python",
   "name": "python3"
  },
  "language_info": {
   "codemirror_mode": {
    "name": "ipython",
    "version": 3
   },
   "file_extension": ".py",
   "mimetype": "text/x-python",
   "name": "python",
   "nbconvert_exporter": "python",
   "pygments_lexer": "ipython3",
   "version": "3.11.1"
  }
 },
 "nbformat": 4,
 "nbformat_minor": 5
}
