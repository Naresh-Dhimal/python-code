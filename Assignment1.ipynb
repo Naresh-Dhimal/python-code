{
 "cells": [
  {
   "cell_type": "markdown",
   "id": "e9e8f853-fc81-415a-affc-d184967a9c4b",
   "metadata": {},
   "source": [
    "# `Assignment1`"
   ]
  },
  {
   "cell_type": "markdown",
   "id": "342ac66f-3e78-4b4f-9d55-4f9452cb999d",
   "metadata": {},
   "source": [
    "# Assignment 1.1:\n",
    "num1 = 2.5, num = 0.36\n",
    "#swap\n",
    "Output : num1 = 0.36 , num2 = 2.5\n"
   ]
  },
  {
   "cell_type": "code",
   "execution_count": 10,
   "id": "47d0028d-e5ec-42e9-88a9-27a6824d88df",
   "metadata": {},
   "outputs": [
    {
     "name": "stdout",
     "output_type": "stream",
     "text": [
      "Before Swap\n",
      "num1 = 2.5 and num2 = 0.36\n",
      "After Swap\n",
      "num1 = 0.36 and num2 = 2.5\n"
     ]
    }
   ],
   "source": [
    "num1 = 2.5 #given\n",
    "num2 = 0.36 #given\n",
    "print(\"Before Swap\")\n",
    "print(f\"num1 = {num1} and num2 = {num2}\")\n",
    "temp = num1\n",
    "num1 = num2\n",
    "num2 = temp\n",
    "print(\"After Swap\")\n",
    "print(f\"num1 = {num1} and num2 = {num2}\")"
   ]
  },
  {
   "cell_type": "code",
   "execution_count": 6,
   "id": "8925a199-cae3-43de-afff-e337dec28176",
   "metadata": {},
   "outputs": [],
   "source": [
    "num1, num2 = 6, 7"
   ]
  },
  {
   "cell_type": "code",
   "execution_count": 10,
   "id": "b1139d5d-9b7b-4280-b435-4ff9e9bafcac",
   "metadata": {},
   "outputs": [
    {
     "name": "stdout",
     "output_type": "stream",
     "text": [
      "7 6\n"
     ]
    }
   ],
   "source": [
    "num1, num2 = num2 ,num1\n",
    "print(num1 ,num2)"
   ]
  },
  {
   "cell_type": "markdown",
   "id": "15301fb1-3894-4645-b21b-7267607f3e85",
   "metadata": {},
   "source": [
    "# Assignment 1.2:\n",
    "Start the python inerpreter and use it as a calculator.\n",
    "* How many second are there in 42 minutes 42 seconds?\n",
    "* How many miles are there in 10 kilometers? Hint there are 1.609 kilometer in a mile.\n",
    "* If you run a 10 kilometer race in 42 minutes 42 seconds, what is your average pace(speed: mile in minutes and miles in seconds)?\n"
   ]
  },
  {
   "cell_type": "code",
   "execution_count": 2,
   "id": "9b8f13c4-05ac-4839-a7ca-7befcab55bde",
   "metadata": {},
   "outputs": [
    {
     "name": "stdout",
     "output_type": "stream",
     "text": [
      "There are 2562 seconds in 42 minutes 42 seconds.\n"
     ]
    }
   ],
   "source": [
    "# How many second are there in 42 minutes 42 seconds?\n",
    "minutes = 42 # given 42 minutes\n",
    "seconds = 42# given 42 seconds = minutes * 60 + seconds # where 'c' will also be in seconds ra 1 minutes ma 60 second bhayera 60 le 42 minute  lai multiply garera second ma nikaleko\n",
    "time_in_sec = 42 * 60 +42\n",
    "print(f'There are {time_in_sec} seconds in {minutes} minutes {seconds} seconds.')"
   ]
  },
  {
   "cell_type": "code",
   "execution_count": 3,
   "id": "61e976dd-957b-4461-b31a-27f9f324d002",
   "metadata": {},
   "outputs": [
    {
     "name": "stdout",
     "output_type": "stream",
     "text": [
      "There are 6.215040397762586 in 10 kilometer.\n"
     ]
    }
   ],
   "source": [
    "# How many miles are ther in 10 kilometers? Hint there are 1.609 kilometer in a mile.\n",
    "distance_in_kilo = 10 # given 10 kilometer\n",
    "distance_in_miles = distance_in_kilo / 1.609 # 1 kilometer ma 1/1.609 miles hunxa ra kilometer lai miles ma lanu 1.609 le multiply garnu parxa\n",
    "print(f'There are {distance_in_miles} in {distance_in_kilo} kilometer.')"
   ]
  },
  {
   "cell_type": "code",
   "execution_count": 41,
   "id": "8ad7b1ff-cc13-4c40-80c0-756f0a7fa23f",
   "metadata": {},
   "outputs": [
    {
     "name": "stdout",
     "output_type": "stream",
     "text": [
      "Speed in mile per second\n",
      "Speed = 0.0024258549561914852\n",
      "Speed in mile per minutes\n",
      "Speed =  0.1455512973714891\n"
     ]
    }
   ],
   "source": [
    "# If you run a 10 kilometer race in 42 minutes 42 seconds , What is your average pace (speed: mile in minutes and miles in seconds)\n",
    "# speed = distance / time taken\n",
    "distance = 10 # given which is in kilometer need to change in miles\n",
    "distance = distance / 1.609 # 1 kilo = 1.609 miles\n",
    "TimeInMinutes = 42 # given \n",
    "TimeInSeconds = 42 # given\n",
    "TotalTimeSeconds = TimeInMinutes * 60 + TimeInSeconds # 1 min = 60 second\n",
    "# speed in second\n",
    "SpeedInSeconds = distance / TotalTimeSeconds\n",
    "print(\"Speed in mile per second\")\n",
    "print(f\"Speed = {SpeedInSeconds}\")\n",
    "# speed in minutes\n",
    "TotalTimeMinutes = TimeInMinutes + TimeInSeconds / 60 # 60 second = 1 min\n",
    "SpeedInMinutes = distance / TotalTimeMinutes\n",
    "print(\"Speed in mile per minutes\")\n",
    "print(f\"Speed =  {SpeedInMinutes}\")"
   ]
  },
  {
   "cell_type": "markdown",
   "id": "930ce8d5-dc19-4b82-87c3-6829f5c317a4",
   "metadata": {},
   "source": [
    "install python (version 3.11.5)"
   ]
  },
  {
   "cell_type": "code",
   "execution_count": 2,
   "id": "a3fba95d-5b31-4d53-8d46-033ffeeb5fe0",
   "metadata": {},
   "outputs": [],
   "source": [
    "import turtle\n",
    "import time\n",
    "import random\n",
    "\n",
    "delay = 0.1\n",
    "\n",
    "# Set up the screen\n",
    "win = turtle.Screen()\n",
    "win.title(\"Snake Game\")\n",
    "win.bgcolor(\"black\")\n",
    "win.setup(width=600, height=600)\n",
    "win.tracer(0)\n",
    "\n",
    "# Snake head\n",
    "head = turtle.Turtle()\n",
    "head.speed(0)\n",
    "head.shape(\"square\")\n",
    "head.color(\"white\")\n",
    "head.penup()\n",
    "head.goto(0, 0)\n",
    "head.direction = \"Stop\"\n",
    "\n",
    "# Functions to move the snake\n",
    "def go_up():\n",
    "    if head.direction != \"down\":\n",
    "        head.direction = \"up\"\n",
    "\n",
    "def go_down():\n",
    "    if head.direction != \"up\":\n",
    "        head.direction = \"down\"\n",
    "\n",
    "def go_left():\n",
    "    if head.direction != \"right\":\n",
    "        head.direction = \"left\"\n",
    "\n",
    "def go_right():\n",
    "    if head.direction != \"left\":\n",
    "        head.direction = \"right\"\n",
    "\n",
    "def move():\n",
    "    if head.direction == \"up\":\n",
    "        y = head.ycor()\n",
    "        head.sety(y + 20)\n",
    "\n",
    "    if head.direction == \"down\":\n",
    "        y = head.ycor()\n",
    "        head.sety(y - 20)\n",
    "\n",
    "    if head.direction == \"left\":\n",
    "        x = head.xcor()\n",
    "        head.setx(x - 20)\n",
    "\n",
    "    if head.direction == \"right\":\n",
    "        x = head.xcor()\n",
    "        head.setx(x + 20)\n",
    "\n",
    "# Keyboard bindings\n",
    "win.listen()\n",
    "win.onkeypress(go_up, \"w\")\n",
    "win.onkeypress(go_down, \"s\")\n",
    "win.onkeypress(go_left, \"a\")\n",
    "win.onkeypress(go_right, \"d\")\n",
    "\n",
    "# Main game loop\n"
   ]
  },
  {
   "cell_type": "code",
   "execution_count": 1,
   "id": "d056a071-a864-4cd7-8433-f6ec31bae1f1",
   "metadata": {},
   "outputs": [],
   "source": [
    "import turtle\n",
    "\n",
    "# Create a screen\n",
    "screen = turtle.Screen()\n",
    "\n",
    "# Set up the screen attributes\n",
    "screen.setup(width=600, height=400)\n",
    "screen.bgcolor('black')\n",
    "\n",
    "# Create a turtle\n",
    "t = turtle.Turtle()\n",
    "t.speed(10)\n",
    "t.color('cyan')\n",
    "\n",
    "# Drawing loop\n",
    "b = 200\n",
    "while b > 0:\n",
    "    t.left(b)\n",
    "    t.forward(b * 3)\n",
    "    b = b - 1\n",
    "\n",
    "# Close the window on click\n",
    "screen.exitonclick()\n"
   ]
  },
  {
   "cell_type": "code",
   "execution_count": null,
   "id": "bee31f5d-f797-4eda-b5ac-78a5b72a8fcd",
   "metadata": {},
   "outputs": [],
   "source": []
  }
 ],
 "metadata": {
  "kernelspec": {
   "display_name": "Python 3 (ipykernel)",
   "language": "python",
   "name": "python3"
  },
  "language_info": {
   "codemirror_mode": {
    "name": "ipython",
    "version": 3
   },
   "file_extension": ".py",
   "mimetype": "text/x-python",
   "name": "python",
   "nbconvert_exporter": "python",
   "pygments_lexer": "ipython3",
   "version": "3.11.1"
  }
 },
 "nbformat": 4,
 "nbformat_minor": 5
}
