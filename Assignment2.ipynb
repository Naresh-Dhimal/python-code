{
 "cells": [
  {
   "cell_type": "markdown",
   "id": "79237e83-c0f8-40b8-9f75-28b9fe1af81e",
   "metadata": {},
   "source": [
    "# Assignment 2"
   ]
  },
  {
   "cell_type": "markdown",
   "id": "0a985245-de68-4a54-bb0e-df5ea4a3eb77",
   "metadata": {},
   "source": [
    "# `Arithmetic Operation Calculator `"
   ]
  },
  {
   "cell_type": "markdown",
   "id": "abbfa7cf-897d-4a8d-bb1a-09b0da1f318b",
   "metadata": {},
   "source": [
    "# Assignment 2.1:\n",
    "Addition of two number from user input."
   ]
  },
  {
   "cell_type": "code",
   "execution_count": 10,
   "id": "0d219323-9e92-4b1a-8ca1-feeec51b74d7",
   "metadata": {},
   "outputs": [
    {
     "name": "stdin",
     "output_type": "stream",
     "text": [
      "Enter first number: 25\n",
      "Enter second number: 78\n"
     ]
    },
    {
     "name": "stdout",
     "output_type": "stream",
     "text": [
      "The total sum of 25.0 and 78.0 is 103.0.\n"
     ]
    }
   ],
   "source": [
    "first_number = float(input(\"Enter first number:\"))\n",
    "second_number = float(input(\"Enter second number:\"))\n",
    "total_sum = first_number + second_number\n",
    "print(f'The total sum of {first_number} and {second_number} is {total_sum}.')"
   ]
  },
  {
   "cell_type": "markdown",
   "id": "9acf14f7-6967-4ca8-9c53-f5fa7f33dcb2",
   "metadata": {},
   "source": [
    "# Assignment 2.2:\n",
    "Substraction of two number from user input."
   ]
  },
  {
   "cell_type": "code",
   "execution_count": 3,
   "id": "1e070678-0ad2-49d5-ac09-f360d9a4f5f9",
   "metadata": {},
   "outputs": [
    {
     "name": "stdin",
     "output_type": "stream",
     "text": [
      "Enter first number: 12\n",
      "Enter second number: 24\n"
     ]
    },
    {
     "name": "stdout",
     "output_type": "stream",
     "text": [
      "The substraction of 12.0 and 24.0 is -12.0.\n"
     ]
    }
   ],
   "source": [
    "first_number = float(input(\"Enter first number:\"))\n",
    "second_number = float(input(\"Enter second number:\"))\n",
    "difference = first_number - second_number\n",
    "\n",
    "print(f'The substraction of {first_number} and {second_number} is {difference}.')"
   ]
  },
  {
   "cell_type": "markdown",
   "id": "a0f5520b-8ded-4c8f-a7f0-5304a1f142c0",
   "metadata": {},
   "source": [
    "# Assignment 2.3:\n",
    "Multiplication of two number from user input.\n"
   ]
  },
  {
   "cell_type": "code",
   "execution_count": 11,
   "id": "72d0a47f-d2dd-4aaf-970d-0d04e01434f9",
   "metadata": {},
   "outputs": [
    {
     "name": "stdin",
     "output_type": "stream",
     "text": [
      "Enter first number: 24\n",
      "Enter second number: 5\n"
     ]
    },
    {
     "name": "stdout",
     "output_type": "stream",
     "text": [
      "The multiplication of 24.0 and 5.0 is 120.0.\n"
     ]
    }
   ],
   "source": [
    "number1 = float(input(\"Enter first number:\"))\n",
    "number2 = float(input(\"Enter second number:\"))\n",
    "mul = number1 * number2\n",
    "print(f'The multiplication of {number1} and {number2} is {mul}.')"
   ]
  },
  {
   "cell_type": "markdown",
   "id": "17ce263d-3183-4e14-b4ea-60f745f910a4",
   "metadata": {},
   "source": [
    "# Assignment 2.4:\n",
    "Division of two number from user input."
   ]
  },
  {
   "cell_type": "code",
   "execution_count": 8,
   "id": "937634db-7ef9-4398-9de8-406f63fc77f1",
   "metadata": {},
   "outputs": [
    {
     "name": "stdin",
     "output_type": "stream",
     "text": [
      "Enter first number: 56\n",
      "Enter second number: 2\n"
     ]
    },
    {
     "name": "stdout",
     "output_type": "stream",
     "text": [
      "The division of 56.0 and 2.0 is 28.0.\n"
     ]
    }
   ],
   "source": [
    "number1 = float(input(\"Enter first number:\"))\n",
    "number2 = float(input(\"Enter second number:\"))\n",
    "division = number1 / number2 \n",
    "print(f'The division of {number1} and {number2} is {division}.')\n"
   ]
  },
  {
   "cell_type": "markdown",
   "id": "3340d8ab-6d3e-4612-9486-79c06188fd89",
   "metadata": {},
   "source": [
    "# Assignment 2.5:\n",
    "Modules of two number from user input.\n"
   ]
  },
  {
   "cell_type": "code",
   "execution_count": 12,
   "id": "47e4dcd3-9a4c-4ab5-8599-c4d503bae189",
   "metadata": {},
   "outputs": [
    {
     "name": "stdin",
     "output_type": "stream",
     "text": [
      "Enter a first number: 56\n",
      "Enter a second number 5\n"
     ]
    },
    {
     "name": "stdout",
     "output_type": "stream",
     "text": [
      "The modules of 56.0 and 5.0 is 1.0. \n"
     ]
    }
   ],
   "source": [
    "num1 = float(input('Enter a first number:'))\n",
    "num2 = float(input('Enter a second number'))\n",
    "mod = num1 % num2\n",
    "print(f'The modules of {num1} and {num2} is {mod}. ')"
   ]
  },
  {
   "cell_type": "markdown",
   "id": "109c09f4-5f63-44da-b96f-b26f82c41f7e",
   "metadata": {},
   "source": [
    "# Assignment 2.6:\n",
    "Exponentiation between two number from user input."
   ]
  },
  {
   "cell_type": "code",
   "execution_count": 13,
   "id": "b5e6284c-3a50-4a1e-a40e-39c051feaeb8",
   "metadata": {},
   "outputs": [
    {
     "name": "stdin",
     "output_type": "stream",
     "text": [
      "Enter a number: 12\n",
      "Enter a exponentiation number: 2\n"
     ]
    },
    {
     "name": "stdout",
     "output_type": "stream",
     "text": [
      "The exponentiation of 56.0 to the power 2.0 is 144.0.\n"
     ]
    }
   ],
   "source": [
    "num = float(input('Enter a number:'))\n",
    "expo_num = float(input('Enter a exponentiation number:'))\n",
    "expo = num ** expo_num\n",
    "print(f'The exponentiation of {num1} to the power {expo_num} is {expo}.')"
   ]
  },
  {
   "cell_type": "markdown",
   "id": "6b397df8-3373-43dc-8122-29bb32080be2",
   "metadata": {},
   "source": [
    "# Assignment 2.7:\n",
    "Floor Division fo two number from user input."
   ]
  },
  {
   "cell_type": "code",
   "execution_count": 15,
   "id": "64c67687-2fa1-4538-a5cf-7468c7f4d219",
   "metadata": {},
   "outputs": [
    {
     "name": "stdin",
     "output_type": "stream",
     "text": [
      "Enter a first number:  55\n",
      "Enter a second number: 4\n"
     ]
    },
    {
     "name": "stdout",
     "output_type": "stream",
     "text": [
      "The floor division of 55.0 and 4.0 is 13.0.\n"
     ]
    }
   ],
   "source": [
    "number1 = float(input('Enter a first number: '))\n",
    "number2 = float(input('Enter a second number:'))\n",
    "floor = number1 // number2\n",
    "print(f'The floor division of {number1} and {number2} is {floor}.')"
   ]
  },
  {
   "cell_type": "markdown",
   "id": "53849000-7e9b-4676-a5f0-af3c36f0a9b5",
   "metadata": {},
   "source": [
    "# Assignment 2.8:\n",
    "Swap two number using addition and subtraction."
   ]
  },
  {
   "cell_type": "code",
   "execution_count": 18,
   "id": "c8e72875-360c-4991-b80b-6e05bd679daa",
   "metadata": {},
   "outputs": [
    {
     "name": "stdin",
     "output_type": "stream",
     "text": [
      "Enter first number: 12\n",
      "Enter second number: 13\n"
     ]
    },
    {
     "name": "stdout",
     "output_type": "stream",
     "text": [
      "Before Swap:\n",
      "num1 = 12.0 and num2 = 13.0.\n",
      "After Swap:\n",
      "num1 = 13.0 and num2 = 12.0.\n"
     ]
    }
   ],
   "source": [
    "num1 = float(input('Enter first number:'))\n",
    "num2 = float(input('Enter second number:'))\n",
    "print('Before Swap:')\n",
    "print(f'num1 = {num1} and num2 = {num2}.')\n",
    "temp = num1 + num2\n",
    "num1 = temp - num1\n",
    "num2 = temp - num2\n",
    "print('After Swap:')\n",
    "print(f'num1 = {num1} and num2 = {num2}.')"
   ]
  },
  {
   "cell_type": "markdown",
   "id": "43743a43-c438-4099-925c-65f2bedf4b39",
   "metadata": {},
   "source": [
    "# Assignment 2.9:\n",
    "Find the volume of sphere."
   ]
  },
  {
   "cell_type": "code",
   "execution_count": 2,
   "id": "39467802-c342-40d7-832f-966632daa017",
   "metadata": {},
   "outputs": [
    {
     "name": "stdin",
     "output_type": "stream",
     "text": [
      "Enter a radius of sphare:  4\n"
     ]
    },
    {
     "name": "stdout",
     "output_type": "stream",
     "text": [
      "The volume of sphare with 4.0 radius is 268.0826\n"
     ]
    }
   ],
   "source": [
    "import math\n",
    "radius = float(input('Enter a radius of sphare: '))\n",
    "volume = round(4 / 3 * math.pi * radius ** 3, 4)\n",
    "print(f'The volume of sphere with {radius} radius is {volume}')"
   ]
  },
  {
   "cell_type": "markdown",
   "id": "56e080bb-5bdb-4432-82de-a755355891c1",
   "metadata": {},
   "source": [
    "# Assignment 2.10:\n",
    "Perform arithmetic operation using if - else statement\n"
   ]
  },
  {
   "cell_type": "code",
   "execution_count": 15,
   "id": "64ff9b18-16a9-420d-9f69-df515c63b38b",
   "metadata": {},
   "outputs": [
    {
     "name": "stdin",
     "output_type": "stream",
     "text": [
      "Enter a first number: 12\n",
      "Enter a second number:  13\n",
      "Enter arithmetic operation you want to perform.[1. Addition 2. Substraction 3. Multiplication 4. Division 5. Modules 6. Exponentiation 7. Floor Division] 8\n"
     ]
    },
    {
     "name": "stdout",
     "output_type": "stream",
     "text": [
      "Operation is unvalid.\n"
     ]
    }
   ],
   "source": [
    "# input\n",
    "first_number = float(input('Enter a first number:'))\n",
    "second_number = float(input('Enter a second number: '))\n",
    "operation = int(input('Enter arithmetic operation you want to perform.[1. Addition 2. Substraction 3. Multiplication 4. Division 5. Modules 6. Exponentiation 7. Floor Division]'))\n",
    "if operation == 1 : # addition\n",
    "    addition = first_number + second_number\n",
    "    print(f'The addition of {first_number} and {second_number} is {addition}.')\n",
    "elif operation == 2 : #substraction\n",
    "    difference = first_number - second_number\n",
    "    print(f'The substraction of {first_number} and {second_number} is {difference}.')\n",
    "elif operation == 3 : # multiplication\n",
    "    mul = first_number * second_number\n",
    "    print(f'The mutiplication of {first_number} and {second_number} is {mul}.')\n",
    "elif operation == 4 : # division\n",
    "    div = first_number / second_number \n",
    "    print(f'The division of {first_number} and {second_number} is {div}.')\n",
    "elif operation == 5 : # modules\n",
    "    mod = first_number % second_number\n",
    "    print(f'The modules of {first_number} and {second_number} is {mod}.')\n",
    "elif operation == 6 : # exponentiation\n",
    "    expo = first_number ** second_number\n",
    "    print(f'The exponentiation of {first_number} and {second_number} is {expo}.')\n",
    "elif operation == 7 : # floor division\n",
    "    floor = first_number // second_number\n",
    "    print(f'The floor division of {first_number} and {second_number} is {floor}.')\n",
    "else :\n",
    "    print(\"Operation is unvalid.\")\n",
    "    \n",
    "\n"
   ]
  },
  {
   "cell_type": "markdown",
   "id": "bb917390-54da-49e7-8823-87088db812aa",
   "metadata": {},
   "source": []
  }
 ],
 "metadata": {
  "kernelspec": {
   "display_name": "Python 3 (ipykernel)",
   "language": "python",
   "name": "python3"
  },
  "language_info": {
   "codemirror_mode": {
    "name": "ipython",
    "version": 3
   },
   "file_extension": ".py",
   "mimetype": "text/x-python",
   "name": "python",
   "nbconvert_exporter": "python",
   "pygments_lexer": "ipython3",
   "version": "3.11.1"
  }
 },
 "nbformat": 4,
 "nbformat_minor": 5
}
