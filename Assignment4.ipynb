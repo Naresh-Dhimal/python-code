{
 "cells": [
  {
   "cell_type": "markdown",
   "id": "3adb136d-d074-41be-ad0f-d3a65d7f61c5",
   "metadata": {},
   "source": [
    "# Assignment 4:\n"
   ]
  },
  {
   "cell_type": "markdown",
   "id": "3425b930-2e98-4b41-ac3a-b64638f50ee4",
   "metadata": {},
   "source": [
    "# Assignment 4.1:\n",
    "<b> Wap to count how many upper case and lower case are there in user input."
   ]
  },
  {
   "cell_type": "code",
   "execution_count": 4,
   "id": "928bfd16-f726-440d-b0ca-cdfcada21731",
   "metadata": {},
   "outputs": [
    {
     "name": "stdin",
     "output_type": "stream",
     "text": [
      "Enter a message:  My Name\n"
     ]
    },
    {
     "name": "stdout",
     "output_type": "stream",
     "text": [
      "The capital letter in My Name is 2\n",
      "The small letter in My Name is 4\n"
     ]
    }
   ],
   "source": [
    "text = input('Enter a message: ')\n",
    "upper_count = 0\n",
    "lower_count = 0\n",
    "for msg in text:\n",
    "    if msg.isupper():\n",
    "        upper_count = upper_count + 1\n",
    "    elif msg == ' ':\n",
    "        continue\n",
    "    else:\n",
    "        lower_count = lower_count + 1\n",
    "print(f'The capital letter in {text} is {upper_count}')\n",
    "print(f'The small letter in {text} is {lower_count}')\n"
   ]
  },
  {
   "cell_type": "code",
   "execution_count": 5,
   "id": "fb678ffe-41dd-440a-bf04-6c27f4929c0c",
   "metadata": {},
   "outputs": [
    {
     "name": "stdin",
     "output_type": "stream",
     "text": [
      "Enter a message:  My Name is Naresh Dhimal\n"
     ]
    },
    {
     "name": "stdout",
     "output_type": "stream",
     "text": [
      "The small letter in My Name is Naresh Dhimal is 16\n",
      "The capital letter in My Name is Naresh Dhimal is 4\n"
     ]
    }
   ],
   "source": [
    "message = input('Enter a message: ')\n",
    "upper_count = 0\n",
    "lower_count = 0\n",
    "for index in range(len(message)):\n",
    "    letter = message[index]\n",
    "    if letter.islower():\n",
    "        lower_count = lower_count + 1\n",
    "    elif letter == ' ':\n",
    "        continue\n",
    "    else:\n",
    "        upper_count = upper_count + 1\n",
    "print(f'The small letter in {message} is {lower_count}')\n",
    "print(f'The capital letter in {message} is {upper_count}')"
   ]
  },
  {
   "attachments": {
    "37d97f93-ee6d-4d75-a4e6-2e039ccf6acb.png": {
     "image/png": "[encoded data removed]"
    }
   },
   "cell_type": "markdown",
   "id": "1388f226-c124-4146-adcb-5fd21c318f2b",
   "metadata": {},
   "source": [
    "# Assignment 4.2:\n",
    "![image.png](attachment:37d97f93-ee6d-4d75-a4e6-2e039ccf6acb.png)"
   ]
  },
  {
   "cell_type": "code",
   "execution_count": 1,
   "id": "ccf109f7-8405-4f2e-8fae-e08b69b08b83",
   "metadata": {},
   "outputs": [],
   "source": [
    "string1 = \"NEPALINDIACHINA\"\n",
    "string2 = \"indiachinanepal\"\n",
    "shift = 5"
   ]
  },
  {
   "cell_type": "code",
   "execution_count": 7,
   "id": "2e7a3a3b-9717-40c7-98b7-89d6bc1587a2",
   "metadata": {},
   "outputs": [],
   "source": [
    "string1 = string1.lower()\n",
    "string2 = string2.lower()"
   ]
  },
  {
   "cell_type": "code",
   "execution_count": 10,
   "id": "ea11edf0-8243-4ee3-868e-8055c2d8e4ed",
   "metadata": {},
   "outputs": [
    {
     "name": "stdout",
     "output_type": "stream",
     "text": [
      "String2 is rotation of string1.\n"
     ]
    }
   ],
   "source": [
    "rotated_string = string1[shift:] + string1[:shift]\n",
    "if rotated_string in string2:\n",
    "    print(\"String2 is rotation of string1.\")\n",
    "else:\n",
    "    print(\"String2 is not rotation  of string1.\")"
   ]
  },
  {
   "cell_type": "code",
   "execution_count": 9,
   "id": "f3b47eeb-514d-4432-8a18-8bf328d474e3",
   "metadata": {},
   "outputs": [
    {
     "data": {
      "text/plain": [
       "'indiachinanepal'"
      ]
     },
     "execution_count": 9,
     "metadata": {},
     "output_type": "execute_result"
    }
   ],
   "source": [
    "rotated_string"
   ]
  },
  {
   "cell_type": "code",
   "execution_count": 18,
   "id": "58637966-d59f-4102-91f0-c2944ef9c241",
   "metadata": {},
   "outputs": [
    {
     "name": "stdin",
     "output_type": "stream",
     "text": [
      "Enter a first string:  NEPALINDIACHINA\n",
      "Enter a second string:  indiachinanepal\n"
     ]
    }
   ],
   "source": [
    "first_string = input(\"Enter a first string: \")\n",
    "second_string = input(\"Enter a second string: \")\n"
   ]
  },
  {
   "cell_type": "code",
   "execution_count": 19,
   "id": "c6098311-d43c-4625-bba8-423bc52148ee",
   "metadata": {},
   "outputs": [
    {
     "name": "stdin",
     "output_type": "stream",
     "text": [
      "Enter a number to shift:  5\n"
     ]
    }
   ],
   "source": [
    "shift = int(input(\"Enter a number to shift: \"))\n"
   ]
  },
  {
   "cell_type": "code",
   "execution_count": 20,
   "id": "8d8bc8ac-31db-4f73-bc7c-d35d8e78fcdf",
   "metadata": {},
   "outputs": [
    {
     "name": "stdout",
     "output_type": "stream",
     "text": [
      "Second string is rotation of first string:\n"
     ]
    }
   ],
   "source": [
    "rotated_string = first_string[shift:] + first_string[:shift]\n",
    "if rotated_string.lower() == second_string.lower():\n",
    "    print(\"Second string is rotation of first string:\")\n",
    "else:\n",
    "    print(\"Second string is not rotation of first string:\")"
   ]
  },
  {
   "cell_type": "code",
   "execution_count": 5,
   "id": "9457b2fd-cb54-4f0a-a4ad-3fc5e87b3a5c",
   "metadata": {},
   "outputs": [],
   "source": [
    "string1 = \"NEPALINDIACHINA\"\n",
    "string2 = \"indiachinanepal\"\n",
    "string1 = string1.lower()\n",
    "string2 = string2.lower()\n"
   ]
  },
  {
   "cell_type": "code",
   "execution_count": 4,
   "id": "4c4cbd66-dab7-4c56-9800-a96872ff1e9f",
   "metadata": {
    "jp-MarkdownHeadingCollapsed": true
   },
   "outputs": [
    {
     "name": "stdout",
     "output_type": "stream",
     "text": [
      "String2 is not rotation of string1\n"
     ]
    }
   ],
   "source": [
    "if len(string1) != len(string2):\n",
    "    print(\"String2 is not rotation of string1\")\n",
    "else:\n",
    "    rotated_str = string1 + string1\n",
    "    if string2 in rotated_str:\n",
    "        print(\"String2 is  rotation of string1\")\n",
    "    else:\n",
    "        print(\"String2 is not rotation of string1\")\n",
    "        "
   ]
  },
  {
   "attachments": {
    "c6042621-e7f3-40b4-9e52-9856fc7d63f1.png": {
     "image/png": "[encoded data removed]"
    }
   },
   "cell_type": "markdown",
   "id": "91f6bf3f-6a56-4e06-b597-a04620869ee3",
   "metadata": {},
   "source": [
    "# Assignment 4.3:\n",
    "![image.png](attachment:c6042621-e7f3-40b4-9e52-9856fc7d63f1.png)"
   ]
  },
  {
   "cell_type": "code",
   "execution_count": 5,
   "id": "bbff27a9-501d-4d8b-b498-bfb3e1dd3148",
   "metadata": {},
   "outputs": [
    {
     "name": "stdin",
     "output_type": "stream",
     "text": [
      "Enter a string_:  Naresh Dhimal\n"
     ]
    },
    {
     "name": "stdout",
     "output_type": "stream",
     "text": [
      "The reverse order of string enter by user is lamihD hseraN.\n"
     ]
    }
   ],
   "source": [
    "text = input(\"Enter a string_: \")\n",
    "reverse_string = \"\"\n",
    "for index in range(len(text)-1, -1, -1):\n",
    "    letter = text[index]\n",
    "    reverse_string = reverse_string + letter\n",
    "print(f\"The reverse order of string enter by user is {reverse_string}.\")\n",
    "    "
   ]
  },
  {
   "attachments": {
    "88b089a7-85ea-4ed5-94be-37307a416067.png": {
     "image/png": "[encoded data removed]"
    }
   },
   "cell_type": "markdown",
   "id": "658e2214-63d9-48f2-8c38-8ae5b4a4d8b9",
   "metadata": {},
   "source": [
    "![image.png](attachment:88b089a7-85ea-4ed5-94be-37307a416067.png)"
   ]
  },
  {
   "cell_type": "code",
   "execution_count": 10,
   "id": "04c4571e-b90d-48d6-a86b-daf25de53e5c",
   "metadata": {},
   "outputs": [
    {
     "name": "stdin",
     "output_type": "stream",
     "text": [
      "Enter a string:  Nareshdhimal\n"
     ]
    },
    {
     "name": "stdout",
     "output_type": "stream",
     "text": [
      "The number of vowels in the \"Nareshdhimal\" is 4.\n"
     ]
    }
   ],
   "source": [
    "text = input(\"Enter a string: \")\n",
    "vowels_count = 0\n",
    "for i in text:\n",
    "    if i in 'aeiou':\n",
    "        vowels_count = vowels_count + 1\n",
    "print(f\"The number of vowels in the \\\"{text}\\\" is {vowels_count}.\")"
   ]
  },
  {
   "attachments": {
    "9c873ce7-2af2-446e-95b3-5e14f6a9714e.png": {
     "image/png": "[encoded data removed]"
    }
   },
   "cell_type": "markdown",
   "id": "7a96c221-fcf8-4dbf-86fb-13f7a5936681",
   "metadata": {},
   "source": [
    "![image.png](attachment:9c873ce7-2af2-446e-95b3-5e14f6a9714e.png)"
   ]
  },
  {
   "cell_type": "code",
   "execution_count": 14,
   "id": "6319044e-8281-456e-871e-d2949cc0284b",
   "metadata": {},
   "outputs": [
    {
     "name": "stdin",
     "output_type": "stream",
     "text": [
      "Enter a sentence:   dogs brake at you\n"
     ]
    },
    {
     "data": {
      "text/plain": [
       "' Dogs Brake At You'"
      ]
     },
     "execution_count": 14,
     "metadata": {},
     "output_type": "execute_result"
    }
   ],
   "source": [
    "sentence = input(\"Enter a sentence: \") \n",
    "sentence.title()"
   ]
  },
  {
   "attachments": {
    "d1cbbeff-39c8-454b-8c07-2853042bf694.png": {
     "image/png": "[encoded data removed]"
    }
   },
   "cell_type": "markdown",
   "id": "c661fd7f-a372-43d8-abdb-dee75290a3f0",
   "metadata": {},
   "source": [
    "![image.png](attachment:d1cbbeff-39c8-454b-8c07-2853042bf694.png)"
   ]
  },
  {
   "cell_type": "code",
   "execution_count": 21,
   "id": "546cef23-b9bf-443a-9dcb-531992796ab9",
   "metadata": {},
   "outputs": [
    {
     "name": "stdin",
     "output_type": "stream",
     "text": [
      "Enter a text:  naresh\n"
     ]
    },
    {
     "name": "stdout",
     "output_type": "stream",
     "text": [
      "norosh\n"
     ]
    }
   ],
   "source": [
    "text = input(\"Enter a text: \")\n",
    "replaced_text = \"\"\n",
    "for letter in text:\n",
    "    if letter in \"aeiou\":\n",
    "        replaced_letter = letter.replace(letter, \"o\")\n",
    "        replaced_text = replaced_text + replaced_letter\n",
    "    else:\n",
    "        replaced_text = replaced_text + letter\n",
    "print(replaced_text)\n",
    "        "
   ]
  },
  {
   "attachments": {
    "68f722bc-3e8c-4f6c-af9e-9ed52a87fac2.png": {
     "image/png": "[encoded data removed]"
    }
   },
   "cell_type": "markdown",
   "id": "8e1218eb-0ddb-40e2-bbcf-8309311a83c6",
   "metadata": {},
   "source": [
    "![image.png](attachment:68f722bc-3e8c-4f6c-af9e-9ed52a87fac2.png)"
   ]
  },
  {
   "cell_type": "code",
   "execution_count": 27,
   "id": "f69f0fc5-180a-472c-b424-8e0498f9afa4",
   "metadata": {},
   "outputs": [
    {
     "name": "stdin",
     "output_type": "stream",
     "text": [
      "Enter first number:  naresh\n",
      "Enter second number:  dhimal\n"
     ]
    },
    {
     "name": "stdout",
     "output_type": "stream",
     "text": [
      "naresh dhimal\n",
      "naresh dhimal\n"
     ]
    }
   ],
   "source": [
    "first_str = input(\"Enter first number: \")\n",
    "second_str = input(\"Enter second number: \")\n",
    "concatenated_str = first_str + \" \" + second_str\n",
    "print(f\"{first_str} {second_str}\")\n",
    "print(concatenated_str)"
   ]
  },
  {
   "attachments": {
    "103de721-a3e8-47f8-84bd-43ece3a01c97.png": {
     "image/png": "[encoded data removed]"
    }
   },
   "cell_type": "markdown",
   "id": "430b6c45-0769-4b6a-9de9-0ee13ff986c9",
   "metadata": {},
   "source": [
    "![image.png](attachment:103de721-a3e8-47f8-84bd-43ece3a01c97.png)"
   ]
  },
  {
   "cell_type": "code",
   "execution_count": 29,
   "id": "b1c6ef13-f7f6-4b48-ad1b-6a88af5b26ec",
   "metadata": {},
   "outputs": [
    {
     "name": "stdin",
     "output_type": "stream",
     "text": [
      "Enter a string:  naresh\n"
     ]
    },
    {
     "data": {
      "text/plain": [
       "'ares'"
      ]
     },
     "execution_count": 29,
     "metadata": {},
     "output_type": "execute_result"
    }
   ],
   "source": [
    "text = input(\"Enter a string: \")\n",
    "text[1:-1]"
   ]
  },
  {
   "attachments": {
    "73a74cb5-9302-4752-a4a1-0f1740637d93.png": {
     "image/png": "[encoded data removed]"
    }
   },
   "cell_type": "markdown",
   "id": "6f425ec5-c2fd-43dc-9083-73221ab4fc4b",
   "metadata": {},
   "source": [
    "![image.png](attachment:73a74cb5-9302-4752-a4a1-0f1740637d93.png)"
   ]
  },
  {
   "cell_type": "code",
   "execution_count": 30,
   "id": "a4a1c02c-b165-487e-8600-b820669e18d6",
   "metadata": {},
   "outputs": [
    {
     "name": "stdin",
     "output_type": "stream",
     "text": [
      "Enter a string:      Naresh     \n"
     ]
    },
    {
     "data": {
      "text/plain": [
       "'Naresh'"
      ]
     },
     "execution_count": 30,
     "metadata": {},
     "output_type": "execute_result"
    }
   ],
   "source": [
    "text = input(\"Enter a string: \")\n",
    "text.strip()"
   ]
  },
  {
   "attachments": {
    "0bbe3b50-3292-453b-9867-eb931698b2cb.png": {
     "image/png": "[encoded data removed]"
    }
   },
   "cell_type": "markdown",
   "id": "fb5ce3a3-2c98-4ffd-80c6-6a495b350f2a",
   "metadata": {},
   "source": [
    "![image.png](attachment:0bbe3b50-3292-453b-9867-eb931698b2cb.png)"
   ]
  },
  {
   "cell_type": "code",
   "execution_count": 32,
   "id": "f0bbc665-0fb0-4e38-ab23-b9b80497a75a",
   "metadata": {},
   "outputs": [
    {
     "name": "stdin",
     "output_type": "stream",
     "text": [
      "Enter a string:  naresh\n"
     ]
    },
    {
     "name": "stdout",
     "output_type": "stream",
     "text": [
      "h\n",
      "s\n",
      "e\n",
      "r\n",
      "a\n",
      "n\n"
     ]
    }
   ],
   "source": [
    "text = input(\"Enter a string: \")\n",
    "for index in range(len(text)-1, -1, -1):\n",
    "    print(text[index])\n"
   ]
  },
  {
   "cell_type": "code",
   "execution_count": 3,
   "id": "709b2d8a-27f6-44d4-9bc0-72498fde3b4e",
   "metadata": {},
   "outputs": [
    {
     "data": {
      "text/plain": [
       "True"
      ]
     },
     "execution_count": 3,
     "metadata": {},
     "output_type": "execute_result"
    }
   ],
   "source": [
    "5 != 2"
   ]
  },
  {
   "cell_type": "code",
   "execution_count": 4,
   "id": "982c4214-fd4f-4eae-b9d4-bce662840a82",
   "metadata": {},
   "outputs": [
    {
     "data": {
      "text/plain": [
       "True"
      ]
     },
     "execution_count": 4,
     "metadata": {},
     "output_type": "execute_result"
    }
   ],
   "source": [
    "2 != 5"
   ]
  },
  {
   "attachments": {
    "b1b4bc5b-8584-4920-bd34-f360f80a70d3.png": {
     "image/png": "[encoded data removed]"
    }
   },
   "cell_type": "markdown",
   "id": "3e5ec24b-2391-476a-9d1b-683114e8ade3",
   "metadata": {},
   "source": [
    "# Assignment 4.4:\n",
    "![image.png](attachment:b1b4bc5b-8584-4920-bd34-f360f80a70d3.png)"
   ]
  },
  {
   "cell_type": "code",
   "execution_count": 1,
   "id": "983fb623-6d13-4e27-8d44-d655db37d530",
   "metadata": {},
   "outputs": [],
   "source": [
    "input_string = \"green-red-yellow-black-white\""
   ]
  },
  {
   "cell_type": "code",
   "execution_count": 4,
   "id": "114606ae-b6d8-4818-a247-67c2fd6fe0a9",
   "metadata": {},
   "outputs": [],
   "source": [
    "new_string = input_string.split(\"-\")"
   ]
  },
  {
   "cell_type": "code",
   "execution_count": 5,
   "id": "fcdf1650-c88a-4d44-be95-b2604a06ba79",
   "metadata": {},
   "outputs": [
    {
     "data": {
      "text/plain": [
       "['green', 'red', 'yellow', 'black', 'white']"
      ]
     },
     "execution_count": 5,
     "metadata": {},
     "output_type": "execute_result"
    }
   ],
   "source": [
    "new_string"
   ]
  },
  {
   "cell_type": "code",
   "execution_count": 10,
   "id": "a9bea70c-3059-44e5-b561-8b76274bf7ff",
   "metadata": {},
   "outputs": [],
   "source": [
    "new_string.sort()"
   ]
  },
  {
   "cell_type": "code",
   "execution_count": 13,
   "id": "c1f10a14-0fb4-40b0-a5a1-7231b962b36e",
   "metadata": {},
   "outputs": [
    {
     "data": {
      "text/plain": [
       "['yellow', 'white', 'red', 'green', 'black']"
      ]
     },
     "execution_count": 13,
     "metadata": {},
     "output_type": "execute_result"
    }
   ],
   "source": [
    "new_string\n",
    "# new_string[::-1]"
   ]
  },
  {
   "cell_type": "code",
   "execution_count": 12,
   "id": "63a0083c-318d-4535-8a26-e83866cdaf08",
   "metadata": {},
   "outputs": [
    {
     "data": {
      "text/plain": [
       "'black-green-red-white-yellow'"
      ]
     },
     "execution_count": 12,
     "metadata": {},
     "output_type": "execute_result"
    }
   ],
   "source": [
    "\"-\".join(new_string)"
   ]
  },
  {
   "cell_type": "code",
   "execution_count": 14,
   "id": "dffc5ccd-7595-4230-ada2-b96e25b2d2ca",
   "metadata": {},
   "outputs": [],
   "source": [
    "# keyword\n",
    "pass"
   ]
  },
  {
   "cell_type": "code",
   "execution_count": null,
   "id": "754850b1-28bb-407b-a633-9882aadf46f6",
   "metadata": {},
   "outputs": [],
   "source": []
  }
 ],
 "metadata": {
  "kernelspec": {
   "display_name": "Python 3 (ipykernel)",
   "language": "python",
   "name": "python3"
  },
  "language_info": {
   "codemirror_mode": {
    "name": "ipython",
    "version": 3
   },
   "file_extension": ".py",
   "mimetype": "text/x-python",
   "name": "python",
   "nbconvert_exporter": "python",
   "pygments_lexer": "ipython3",
   "version": "3.11.1"
  }
 },
 "nbformat": 4,
 "nbformat_minor": 5
}
