{
 "cells": [
  {
   "cell_type": "markdown",
   "id": "f3d7e1d2-805c-4973-9420-cb98069eca19",
   "metadata": {},
   "source": [
    "# File Handling:\n",
    "<b>1. we open the file\n",
    "```python\n",
    "open(filename, mode\n",
    "```\n",
    "<b>mode:\n",
    "* <b>read: \"r\"\n",
    "* <b>write: \"w\"\n",
    "\n",
    "* <b>append: \"a\"\n",
    "* <b>create: \"x\""
   ]
  },
  {
   "cell_type": "code",
   "execution_count": 1,
   "id": "db66f3f0-b0de-4b02-bb5b-1157d7ac53b6",
   "metadata": {},
   "outputs": [
    {
     "ename": "FileNotFoundError",
     "evalue": "[Errno 2] No such file or directory: 'student.text'",
     "output_type": "error",
     "traceback": [
      "\u001b[1;31m---------------------------------------------------------------------------\u001b[0m",
      "\u001b[1;31mFileNotFoundError\u001b[0m                         Traceback (most recent call last)",
      "Cell \u001b[1;32mIn[1], line 1\u001b[0m\n\u001b[1;32m----> 1\u001b[0m file \u001b[38;5;241m=\u001b[39m \u001b[38;5;28;43mopen\u001b[39;49m\u001b[43m(\u001b[49m\u001b[38;5;124;43m\"\u001b[39;49m\u001b[38;5;124;43mstudent.text\u001b[39;49m\u001b[38;5;124;43m\"\u001b[39;49m\u001b[43m,\u001b[49m\u001b[38;5;124;43m\"\u001b[39;49m\u001b[38;5;124;43mr\u001b[39;49m\u001b[38;5;124;43m\"\u001b[39;49m\u001b[43m)\u001b[49m\n",
      "File \u001b[1;32m~\\AppData\\Local\\Programs\\Python\\Python311\\Lib\\site-packages\\IPython\\core\\interactiveshell.py:310\u001b[0m, in \u001b[0;36m_modified_open\u001b[1;34m(file, *args, **kwargs)\u001b[0m\n\u001b[0;32m    303\u001b[0m \u001b[38;5;28;01mif\u001b[39;00m file \u001b[38;5;129;01min\u001b[39;00m {\u001b[38;5;241m0\u001b[39m, \u001b[38;5;241m1\u001b[39m, \u001b[38;5;241m2\u001b[39m}:\n\u001b[0;32m    304\u001b[0m     \u001b[38;5;28;01mraise\u001b[39;00m \u001b[38;5;167;01mValueError\u001b[39;00m(\n\u001b[0;32m    305\u001b[0m         \u001b[38;5;124mf\u001b[39m\u001b[38;5;124m\"\u001b[39m\u001b[38;5;124mIPython won\u001b[39m\u001b[38;5;124m'\u001b[39m\u001b[38;5;124mt let you open fd=\u001b[39m\u001b[38;5;132;01m{\u001b[39;00mfile\u001b[38;5;132;01m}\u001b[39;00m\u001b[38;5;124m by default \u001b[39m\u001b[38;5;124m\"\u001b[39m\n\u001b[0;32m    306\u001b[0m         \u001b[38;5;124m\"\u001b[39m\u001b[38;5;124mas it is likely to crash IPython. If you know what you are doing, \u001b[39m\u001b[38;5;124m\"\u001b[39m\n\u001b[0;32m    307\u001b[0m         \u001b[38;5;124m\"\u001b[39m\u001b[38;5;124myou can use builtins\u001b[39m\u001b[38;5;124m'\u001b[39m\u001b[38;5;124m open.\u001b[39m\u001b[38;5;124m\"\u001b[39m\n\u001b[0;32m    308\u001b[0m     )\n\u001b[1;32m--> 310\u001b[0m \u001b[38;5;28;01mreturn\u001b[39;00m \u001b[43mio_open\u001b[49m\u001b[43m(\u001b[49m\u001b[43mfile\u001b[49m\u001b[43m,\u001b[49m\u001b[43m \u001b[49m\u001b[38;5;241;43m*\u001b[39;49m\u001b[43margs\u001b[49m\u001b[43m,\u001b[49m\u001b[43m \u001b[49m\u001b[38;5;241;43m*\u001b[39;49m\u001b[38;5;241;43m*\u001b[39;49m\u001b[43mkwargs\u001b[49m\u001b[43m)\u001b[49m\n",
      "\u001b[1;31mFileNotFoundError\u001b[0m: [Errno 2] No such file or directory: 'student.text'"
     ]
    }
   ],
   "source": [
    "file = open(\"student.text\",\"r\")"
   ]
  },
  {
   "cell_type": "markdown",
   "id": "70497c20-7c78-47f5-ad8b-e894771392f4",
   "metadata": {},
   "source": [
    "# Reading a file: \"r\""
   ]
  },
  {
   "cell_type": "code",
   "execution_count": 7,
   "id": "b4575dde-25f7-4126-9ba5-53133e6a3285",
   "metadata": {},
   "outputs": [
    {
     "name": "stdout",
     "output_type": "stream",
     "text": [
      "https//drive.google.comdrivefolders1Byk0jNsm5BH0HCP2Gi4ghxYM3j9nDLW6\n"
     ]
    }
   ],
   "source": [
    "file = open(\"drive link.txt\", \"r\")\n",
    "text = file.read()\n",
    "file.close()\n",
    "print(text)\n"
   ]
  },
  {
   "cell_type": "code",
   "execution_count": 4,
   "id": "165bc76d-776f-42fd-991c-2e5b617d155e",
   "metadata": {},
   "outputs": [
    {
     "name": "stdout",
     "output_type": "stream",
     "text": [
      "[Errno 2] No such file or directory: 'student.txt'\n"
     ]
    }
   ],
   "source": [
    "try :\n",
    "    file = open(\"student.txt\",\"r\")\n",
    "except FileNotFoundError as e:\n",
    "    print(e)"
   ]
  },
  {
   "cell_type": "code",
   "execution_count": 13,
   "id": "bd2be307-0f69-4f42-89e5-8b900d97340d",
   "metadata": {},
   "outputs": [
    {
     "name": "stdout",
     "output_type": "stream",
     "text": [
      "naresh\n",
      "rajendra\n",
      "\n"
     ]
    }
   ],
   "source": [
    "with open(\"name.txt\", \"r\") as file: # preferred way\n",
    "    text = file.read()\n",
    "print(text)"
   ]
  },
  {
   "cell_type": "code",
   "execution_count": 14,
   "id": "61bcda48-6e1d-4e5f-abcf-504cb32eceb4",
   "metadata": {},
   "outputs": [
    {
     "name": "stdout",
     "output_type": "stream",
     "text": [
      "['naresh\\n', 'rajendra\\n']\n"
     ]
    }
   ],
   "source": [
    "with open(\"name.txt\", \"r\") as file:\n",
    "    text = file.readlines()\n",
    "print(text)"
   ]
  },
  {
   "cell_type": "code",
   "execution_count": 15,
   "id": "f1a1b5bb-f0ce-4b95-a2ae-89b0c11a0069",
   "metadata": {},
   "outputs": [
    {
     "name": "stdout",
     "output_type": "stream",
     "text": [
      "naresh\n",
      "\n"
     ]
    }
   ],
   "source": [
    "with open(\"name.txt\",\"r\") as file:\n",
    "    text = file.readline()\n",
    "print(text)"
   ]
  },
  {
   "cell_type": "markdown",
   "id": "98163551-adb3-4414-9f94-033908d7441e",
   "metadata": {},
   "source": [
    "# Writing in a file: \"w\"\n",
    "* <b> write mode creates a file if itdoesnot exit if it exist it creates a new one and old data is lost"
   ]
  },
  {
   "cell_type": "code",
   "execution_count": 16,
   "id": "4da3b63e-b46e-491a-a98a-03bcd1697958",
   "metadata": {},
   "outputs": [],
   "source": [
    "with open(\"python1100.txt\",\"w\") as file:\n",
    "    file.write(\"yo Python 1000 ko file ho.\")"
   ]
  },
  {
   "cell_type": "code",
   "execution_count": 17,
   "id": "6625d1aa-fb8b-44ac-a456-c80fcb84eb71",
   "metadata": {},
   "outputs": [
    {
     "data": {
      "text/plain": [
       "True"
      ]
     },
     "execution_count": 17,
     "metadata": {},
     "output_type": "execute_result"
    }
   ],
   "source": [
    "import os\n",
    "os.path.exists(\"python1100.txt\")"
   ]
  },
  {
   "cell_type": "code",
   "execution_count": 18,
   "id": "b05ccf23-79a6-46c8-8f6c-58abf092cbf0",
   "metadata": {},
   "outputs": [
    {
     "ename": "SyntaxError",
     "evalue": "(unicode error) 'unicodeescape' codec can't decode bytes in position 2-3: truncated \\UXXXXXXXX escape (2949710835.py, line 1)",
     "output_type": "error",
     "traceback": [
      "\u001b[1;36m  Cell \u001b[1;32mIn[18], line 1\u001b[1;36m\u001b[0m\n\u001b[1;33m    with open(\"C:\\Users\\Thinkpad\\Desktop\\w.txt\",\"r\") as file:\u001b[0m\n\u001b[1;37m                                               ^\u001b[0m\n\u001b[1;31mSyntaxError\u001b[0m\u001b[1;31m:\u001b[0m (unicode error) 'unicodeescape' codec can't decode bytes in position 2-3: truncated \\UXXXXXXXX escape\n"
     ]
    }
   ],
   "source": [
    "# with open(\"C:\\Users\\Thinkpad\\Desktop\\w.txt\",\"r\") as file:\n",
    "#     text = file.read()"
   ]
  },
  {
   "cell_type": "code",
   "execution_count": 19,
   "id": "4a850036-89c4-4fa6-88d6-4df5fc3f6cc6",
   "metadata": {},
   "outputs": [
    {
     "name": "stdout",
     "output_type": "stream",
     "text": [
      "yo Python 1000 ko file ho.\n"
     ]
    }
   ],
   "source": [
    "with open(\"python1100.txt\",\"r\") as file:\n",
    "    text = file.read()\n",
    "print(text)"
   ]
  },
  {
   "cell_type": "markdown",
   "id": "d264d0ee-cf18-447d-b6bf-12f1714b03b0",
   "metadata": {},
   "source": [
    "# File already exist open in write mode"
   ]
  },
  {
   "cell_type": "code",
   "execution_count": 22,
   "id": "30135b22-3ab6-4e7f-a31e-ab36e1568d3a",
   "metadata": {},
   "outputs": [],
   "source": [
    "with open(\"python1100.txt\", \"w\") as file:\n",
    "    file.write(\"File already exist open in write mode\")"
   ]
  },
  {
   "cell_type": "code",
   "execution_count": 23,
   "id": "e1d3f43c-60cc-4405-8fed-d5169f8ab146",
   "metadata": {},
   "outputs": [
    {
     "name": "stdout",
     "output_type": "stream",
     "text": [
      "File already exist open in write mode\n"
     ]
    }
   ],
   "source": [
    "with open(\"python1100.txt\",\"r\") as file:\n",
    "    print(file.read())\n",
    "    "
   ]
  },
  {
   "cell_type": "markdown",
   "id": "b76b18ea-ad8d-4d63-927b-52c341fe48ad",
   "metadata": {},
   "source": [
    "# Create mode: \"x\""
   ]
  },
  {
   "cell_type": "code",
   "execution_count": 24,
   "id": "8ed71b53-96af-4f78-a14a-1174c149cc63",
   "metadata": {},
   "outputs": [],
   "source": [
    "file = open(\"newfile.text\",\"x\")\n",
    "file.close()"
   ]
  },
  {
   "cell_type": "markdown",
   "id": "d602e179-a33b-447c-b798-560467316536",
   "metadata": {},
   "source": [
    "# Append mode: \"a\""
   ]
  },
  {
   "cell_type": "code",
   "execution_count": 1,
   "id": "a6cf179c-dac8-4ccd-af93-53199d284d84",
   "metadata": {},
   "outputs": [],
   "source": [
    "with open(\"lang.txt\",\"a\") as file:\n",
    "    file.write(\"Python\")"
   ]
  },
  {
   "cell_type": "code",
   "execution_count": 3,
   "id": "77c84e03-9a76-485e-82e2-a24dcad586f7",
   "metadata": {},
   "outputs": [
    {
     "name": "stdout",
     "output_type": "stream",
     "text": [
      "Python\n"
     ]
    }
   ],
   "source": [
    "with open (\"lang.txt\",\"r\") as file:\n",
    "   print( file.read())"
   ]
  },
  {
   "cell_type": "code",
   "execution_count": 4,
   "id": "cecf16e4-4491-4dd7-b328-d22058a94d09",
   "metadata": {},
   "outputs": [],
   "source": [
    "# lang.txt exist garxa aba esma write garna khojyo vane apped mode ma data loss hudaina\n",
    "\n"
   ]
  },
  {
   "cell_type": "code",
   "execution_count": 5,
   "id": "df5084fa-3351-49ae-8913-74300ee1bab5",
   "metadata": {},
   "outputs": [],
   "source": [
    "with open(\"lang.txt\",\"a\") as file:\n",
    "    file.write(\"Flutter\")\n",
    "    "
   ]
  },
  {
   "cell_type": "code",
   "execution_count": 6,
   "id": "e75117d2-40fb-4342-8f83-62e48a2bab15",
   "metadata": {},
   "outputs": [
    {
     "name": "stdout",
     "output_type": "stream",
     "text": [
      "PythonFlutter\n"
     ]
    }
   ],
   "source": [
    "with open(\"lang.txt\",\"r\") as file:\n",
    "    print(file.read())"
   ]
  },
  {
   "cell_type": "code",
   "execution_count": 9,
   "id": "024970b6-7ccd-44c5-9b37-2a8e2ded25c4",
   "metadata": {},
   "outputs": [],
   "source": [
    "# read , write , create and append"
   ]
  },
  {
   "cell_type": "code",
   "execution_count": 12,
   "id": "48be0736-9663-4838-ace0-49765c1ba666",
   "metadata": {},
   "outputs": [
    {
     "ename": "FileNotFoundError",
     "evalue": "[Errno 2] No such file or directory: 'yname.txt'",
     "output_type": "error",
     "traceback": [
      "\u001b[1;31m---------------------------------------------------------------------------\u001b[0m",
      "\u001b[1;31mFileNotFoundError\u001b[0m                         Traceback (most recent call last)",
      "Cell \u001b[1;32mIn[12], line 2\u001b[0m\n\u001b[0;32m      1\u001b[0m \u001b[38;5;66;03m# for read \u001b[39;00m\n\u001b[1;32m----> 2\u001b[0m file \u001b[38;5;241m=\u001b[39m \u001b[38;5;28;43mopen\u001b[39;49m\u001b[43m(\u001b[49m\u001b[38;5;124;43m\"\u001b[39;49m\u001b[38;5;124;43myname.txt\u001b[39;49m\u001b[38;5;124;43m\"\u001b[39;49m\u001b[43m,\u001b[49m\u001b[38;5;124;43m\"\u001b[39;49m\u001b[38;5;124;43mr\u001b[39;49m\u001b[38;5;124;43m\"\u001b[39;49m\u001b[43m)\u001b[49m \u001b[38;5;66;03m# yedi file already exist xaaena bhane FileNotFoundError\u001b[39;00m\n\u001b[0;32m      3\u001b[0m \u001b[38;5;28mprint\u001b[39m(file\u001b[38;5;241m.\u001b[39mread())\n\u001b[0;32m      4\u001b[0m file\u001b[38;5;241m.\u001b[39mclose() \u001b[38;5;66;03m# in this approach close() method le file lai close garnu parxa\u001b[39;00m\n",
      "File \u001b[1;32m~\\AppData\\Local\\Programs\\Python\\Python311\\Lib\\site-packages\\IPython\\core\\interactiveshell.py:310\u001b[0m, in \u001b[0;36m_modified_open\u001b[1;34m(file, *args, **kwargs)\u001b[0m\n\u001b[0;32m    303\u001b[0m \u001b[38;5;28;01mif\u001b[39;00m file \u001b[38;5;129;01min\u001b[39;00m {\u001b[38;5;241m0\u001b[39m, \u001b[38;5;241m1\u001b[39m, \u001b[38;5;241m2\u001b[39m}:\n\u001b[0;32m    304\u001b[0m     \u001b[38;5;28;01mraise\u001b[39;00m \u001b[38;5;167;01mValueError\u001b[39;00m(\n\u001b[0;32m    305\u001b[0m         \u001b[38;5;124mf\u001b[39m\u001b[38;5;124m\"\u001b[39m\u001b[38;5;124mIPython won\u001b[39m\u001b[38;5;124m'\u001b[39m\u001b[38;5;124mt let you open fd=\u001b[39m\u001b[38;5;132;01m{\u001b[39;00mfile\u001b[38;5;132;01m}\u001b[39;00m\u001b[38;5;124m by default \u001b[39m\u001b[38;5;124m\"\u001b[39m\n\u001b[0;32m    306\u001b[0m         \u001b[38;5;124m\"\u001b[39m\u001b[38;5;124mas it is likely to crash IPython. If you know what you are doing, \u001b[39m\u001b[38;5;124m\"\u001b[39m\n\u001b[0;32m    307\u001b[0m         \u001b[38;5;124m\"\u001b[39m\u001b[38;5;124myou can use builtins\u001b[39m\u001b[38;5;124m'\u001b[39m\u001b[38;5;124m open.\u001b[39m\u001b[38;5;124m\"\u001b[39m\n\u001b[0;32m    308\u001b[0m     )\n\u001b[1;32m--> 310\u001b[0m \u001b[38;5;28;01mreturn\u001b[39;00m \u001b[43mio_open\u001b[49m\u001b[43m(\u001b[49m\u001b[43mfile\u001b[49m\u001b[43m,\u001b[49m\u001b[43m \u001b[49m\u001b[38;5;241;43m*\u001b[39;49m\u001b[43margs\u001b[49m\u001b[43m,\u001b[49m\u001b[43m \u001b[49m\u001b[38;5;241;43m*\u001b[39;49m\u001b[38;5;241;43m*\u001b[39;49m\u001b[43mkwargs\u001b[49m\u001b[43m)\u001b[49m\n",
      "\u001b[1;31mFileNotFoundError\u001b[0m: [Errno 2] No such file or directory: 'yname.txt'"
     ]
    }
   ],
   "source": [
    "# for read \n",
    "file = open(\"yname.txt\",\"r\") # yedi file already exist xaaena bhane FileNotFoundError\n",
    "print(file.read())\n",
    "file.close() # in this approach close() method le file lai close garnu parxa"
   ]
  },
  {
   "cell_type": "code",
   "execution_count": 1,
   "id": "6450fa4a-fa12-4322-a6d1-dbe907e4779a",
   "metadata": {},
   "outputs": [
    {
     "name": "stdout",
     "output_type": "stream",
     "text": [
      "\n"
     ]
    }
   ],
   "source": [
    "# aba existing lai read garne approach\n",
    "file = open(\"lang.txt\",\"r\") \n",
    "text = file.read()\n",
    "file.close()\n",
    "print(text)"
   ]
  },
  {
   "cell_type": "code",
   "execution_count": 9,
   "id": "a090ac3d-55f5-467b-a64e-68eb758f2f7c",
   "metadata": {},
   "outputs": [],
   "source": [
    "file = open(\"lang.txt\",\"w\")\n",
    "file.write(\"My name is naresh losingsingdonge dhimal\")\n",
    "file.close()"
   ]
  },
  {
   "cell_type": "code",
   "execution_count": 10,
   "id": "6f658b94-b42b-4705-8eda-17d882ab2401",
   "metadata": {},
   "outputs": [
    {
     "name": "stdout",
     "output_type": "stream",
     "text": [
      "My name is naresh losingsingdonge dhimal\n"
     ]
    }
   ],
   "source": [
    "file = open(\"lang.txt\",\"r\")\n",
    "text = file.read()\n",
    "file.close()\n",
    "print(text)"
   ]
  },
  {
   "cell_type": "code",
   "execution_count": 12,
   "id": "a97ba0df-04bf-4a87-bd37-8fc584efc021",
   "metadata": {},
   "outputs": [],
   "source": [
    "with open(\"dd.txt\",\"x\") as file:\n",
    "    pass"
   ]
  },
  {
   "cell_type": "markdown",
   "id": "d3127fb2-cd9a-42ae-879f-6d5e78c620b8",
   "metadata": {},
   "source": [
    "# csv (comma seperated value)"
   ]
  },
  {
   "cell_type": "code",
   "execution_count": 19,
   "id": "7465a7bc-b289-4b3a-8693-f07f6829ccac",
   "metadata": {},
   "outputs": [],
   "source": [
    "# write\n",
    "header = [\"roll_no\", \"name\"]\n",
    "import csv\n",
    "\n",
    "with open(\"student.csv\", \"w\") as file:\n",
    "    writer = csv.DictWriter(file,header)\n",
    "    writer.writeheader()\n",
    "\n",
    "    writer.writerow({\"roll_no\":1, \"name\":\"kishitiz\"})\n",
    "    writer.writerow({\"roll_no\":2, \"name\":\"isha\"})"
   ]
  },
  {
   "cell_type": "code",
   "execution_count": 24,
   "id": "e4ae3f8b-f141-43fe-b961-8c71cc92e143",
   "metadata": {},
   "outputs": [
    {
     "name": "stdout",
     "output_type": "stream",
     "text": [
      "{'roll_no': '1', 'name': 'kishitiz'}\n",
      "{'roll_no': '2', 'name': 'isha'}\n"
     ]
    }
   ],
   "source": [
    "# read\n",
    "import csv\n",
    "with open(\"student.csv\") as file:\n",
    "    reader = csv.DictReader(file)\n",
    "    \n",
    "    for row in reader:\n",
    "        # print(row[\"roll_no\"],row[\"name\"])\n",
    "        print(row)"
   ]
  },
  {
   "cell_type": "code",
   "execution_count": null,
   "id": "69c83944-51b6-426a-bcd1-b381eae9a45c",
   "metadata": {},
   "outputs": [],
   "source": []
  }
 ],
 "metadata": {
  "kernelspec": {
   "display_name": "Python 3 (ipykernel)",
   "language": "python",
   "name": "python3"
  },
  "language_info": {
   "codemirror_mode": {
    "name": "ipython",
    "version": 3
   },
   "file_extension": ".py",
   "mimetype": "text/x-python",
   "name": "python",
   "nbconvert_exporter": "python",
   "pygments_lexer": "ipython3",
   "version": "3.11.1"
  }
 },
 "nbformat": 4,
 "nbformat_minor": 5
}
