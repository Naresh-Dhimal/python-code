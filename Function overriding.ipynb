{
 "cells": [
  {
   "cell_type": "markdown",
   "id": "9cc72708-92d4-4e89-b62e-047825b20424",
   "metadata": {},
   "source": [
    "# Function overriding"
   ]
  },
  {
   "cell_type": "code",
   "execution_count": 30,
   "id": "dadf4f2c-4a8e-4ca2-b58b-b0fbf20eefbc",
   "metadata": {},
   "outputs": [],
   "source": [
    "class Parent:\n",
    "    def __init__(self):\n",
    "        self.value = \"Inside parent\"\n",
    "        self.t = \"4\"\n",
    "    def show(self):\n",
    "        print( self.value)\n",
    "class Child(Parent):\n",
    "    def __init__(self):\n",
    "        self.val = \"Inside Child\"\n",
    "        super().__init__()\n",
    "    def show(self):\n",
    "        print( self.val + self.t)\n",
    "obj2 = Child()"
   ]
  },
  {
   "cell_type": "code",
   "execution_count": 31,
   "id": "43077802-35e6-4e96-9af2-8b800d15cb8c",
   "metadata": {},
   "outputs": [
    {
     "name": "stdout",
     "output_type": "stream",
     "text": [
      "Inside Child4\n"
     ]
    }
   ],
   "source": [
    "obj2.show()"
   ]
  },
  {
   "cell_type": "code",
   "execution_count": null,
   "id": "ad583047-85c9-43b6-9e80-f79bf5e25114",
   "metadata": {},
   "outputs": [],
   "source": []
  },
  {
   "cell_type": "code",
   "execution_count": null,
   "id": "b6776b0e-7469-43c3-a528-badb4132027a",
   "metadata": {},
   "outputs": [],
   "source": []
  }
 ],
 "metadata": {
  "kernelspec": {
   "display_name": "Python 3 (ipykernel)",
   "language": "python",
   "name": "python3"
  },
  "language_info": {
   "codemirror_mode": {
    "name": "ipython",
    "version": 3
   },
   "file_extension": ".py",
   "mimetype": "text/x-python",
   "name": "python",
   "nbconvert_exporter": "python",
   "pygments_lexer": "ipython3",
   "version": "3.11.1"
  }
 },
 "nbformat": 4,
 "nbformat_minor": 5
}
