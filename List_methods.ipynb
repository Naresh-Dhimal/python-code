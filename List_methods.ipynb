{
 "cells": [
  {
   "cell_type": "markdown",
   "id": "63a1b24e-1c03-49cf-9b30-c5b7d9bae928",
   "metadata": {},
   "source": [
    "# List Methods"
   ]
  },
  {
   "cell_type": "markdown",
   "id": "940cae0c-4b50-4024-b2bc-883a35f6b7d7",
   "metadata": {},
   "source": [
    "# Empty list"
   ]
  },
  {
   "cell_type": "code",
   "execution_count": 2,
   "id": "a7a9a402-8479-4b93-8d92-d2b592c4c047",
   "metadata": {},
   "outputs": [
    {
     "data": {
      "text/plain": [
       "[]"
      ]
     },
     "execution_count": 2,
     "metadata": {},
     "output_type": "execute_result"
    }
   ],
   "source": [
    "cars_list = []\n",
    "cars_list\n"
   ]
  },
  {
   "cell_type": "code",
   "execution_count": 3,
   "id": "a106ecd0-5d7e-4146-8b57-e1a203f8f305",
   "metadata": {},
   "outputs": [
    {
     "data": {
      "text/plain": [
       "list"
      ]
     },
     "execution_count": 3,
     "metadata": {},
     "output_type": "execute_result"
    }
   ],
   "source": [
    "type(cars_list)"
   ]
  },
  {
   "cell_type": "code",
   "execution_count": 7,
   "id": "e1494811-d20a-40fe-af52-37894543d77b",
   "metadata": {},
   "outputs": [
    {
     "data": {
      "text/plain": [
       "[]"
      ]
     },
     "execution_count": 7,
     "metadata": {},
     "output_type": "execute_result"
    }
   ],
   "source": [
    "gift = list() # list() constructor used to create list\n",
    "gift\n"
   ]
  },
  {
   "cell_type": "code",
   "execution_count": 6,
   "id": "c6785c4d-252d-47d6-866e-33eef95dbbdf",
   "metadata": {},
   "outputs": [
    {
     "data": {
      "text/plain": [
       "list"
      ]
     },
     "execution_count": 6,
     "metadata": {},
     "output_type": "execute_result"
    }
   ],
   "source": [
    "type(gift)"
   ]
  },
  {
   "cell_type": "markdown",
   "id": "48a5bd3d-4535-4b85-a500-315cd11b7f0b",
   "metadata": {},
   "source": [
    "# .append()\n",
    "<b>using the append() method to append an item"
   ]
  },
  {
   "cell_type": "code",
   "execution_count": 1,
   "id": "2ac3be02-3653-4a75-a419-eb7bae7ef699",
   "metadata": {},
   "outputs": [
    {
     "data": {
      "text/plain": [
       "['Chocolate']"
      ]
     },
     "execution_count": 1,
     "metadata": {},
     "output_type": "execute_result"
    }
   ],
   "source": [
    "gift = []\n",
    "gift.append('Chocolate')\n",
    "gift"
   ]
  },
  {
   "cell_type": "code",
   "execution_count": 2,
   "id": "bd08afc6-fa88-49b6-8199-0506b4e6d723",
   "metadata": {},
   "outputs": [
    {
     "data": {
      "text/plain": [
       "['Chocolate']"
      ]
     },
     "execution_count": 2,
     "metadata": {},
     "output_type": "execute_result"
    }
   ],
   "source": [
    "gift"
   ]
  },
  {
   "cell_type": "code",
   "execution_count": 13,
   "id": "2b08bad0-460c-4062-8dac-3cb62777ac3a",
   "metadata": {},
   "outputs": [],
   "source": [
    "gift.append('laptop')"
   ]
  },
  {
   "cell_type": "code",
   "execution_count": 14,
   "id": "96b9ec16-2b1f-4831-b963-e55cac797c10",
   "metadata": {},
   "outputs": [
    {
     "data": {
      "text/plain": [
       "['Chocolate', 'iphone', 'iphone', 'iphone', 'laptop']"
      ]
     },
     "execution_count": 14,
     "metadata": {},
     "output_type": "execute_result"
    }
   ],
   "source": [
    "gift"
   ]
  },
  {
   "cell_type": "markdown",
   "id": "8879fc35-b827-430c-bac3-008d939ac1d0",
   "metadata": {},
   "source": [
    "# .pop\n",
    "<b>The pop() method removes the specified index."
   ]
  },
  {
   "cell_type": "code",
   "execution_count": 15,
   "id": "8bd5f303-e387-4e6f-b5f9-0b5dcc6c19cc",
   "metadata": {},
   "outputs": [
    {
     "data": {
      "text/plain": [
       "'Chocolate'"
      ]
     },
     "execution_count": 15,
     "metadata": {},
     "output_type": "execute_result"
    }
   ],
   "source": [
    "gift = ['Chocolate', 'Iphone', 'Laptop']\n",
    "gift.pop(0)"
   ]
  },
  {
   "cell_type": "code",
   "execution_count": 16,
   "id": "53d0cb98-c386-4a0c-befb-e096659ce90f",
   "metadata": {},
   "outputs": [
    {
     "data": {
      "text/plain": [
       "['Iphone', 'Laptop']"
      ]
     },
     "execution_count": 16,
     "metadata": {},
     "output_type": "execute_result"
    }
   ],
   "source": [
    "gift"
   ]
  },
  {
   "cell_type": "code",
   "execution_count": 17,
   "id": "0dd452c9-d5d0-48c2-95cc-f5f6dc4401fc",
   "metadata": {},
   "outputs": [
    {
     "data": {
      "text/plain": [
       "'Iphone'"
      ]
     },
     "execution_count": 17,
     "metadata": {},
     "output_type": "execute_result"
    }
   ],
   "source": [
    "gift.pop(0)"
   ]
  },
  {
   "cell_type": "code",
   "execution_count": 3,
   "id": "8dfcb316-959d-41b8-9190-f0444829b05d",
   "metadata": {},
   "outputs": [
    {
     "data": {
      "text/plain": [
       "['Chocolate']"
      ]
     },
     "execution_count": 3,
     "metadata": {},
     "output_type": "execute_result"
    }
   ],
   "source": [
    "gift"
   ]
  },
  {
   "cell_type": "code",
   "execution_count": 19,
   "id": "d25a1397-84fe-47ac-af8a-124a359c3933",
   "metadata": {},
   "outputs": [],
   "source": [
    "cars = ['Audi', 'BMW', 'Mercedes']"
   ]
  },
  {
   "cell_type": "code",
   "execution_count": 20,
   "id": "42c77728-73bf-4eaf-afad-404333c23036",
   "metadata": {},
   "outputs": [
    {
     "data": {
      "text/plain": [
       "'Mercedes'"
      ]
     },
     "execution_count": 20,
     "metadata": {},
     "output_type": "execute_result"
    }
   ],
   "source": [
    "cars.pop()"
   ]
  },
  {
   "cell_type": "markdown",
   "id": "ecffccf9-d1d2-47a3-89ca-04c5b5d414c7",
   "metadata": {},
   "source": [
    "# .pop(index) garda index ko value remove hunxa, .pop() matra garda last ko value falxa\n",
    "`Python list ma push ko kam append le garxa`"
   ]
  },
  {
   "cell_type": "markdown",
   "id": "ddd68fdc-a99b-4955-84b8-ed086d0b4ccf",
   "metadata": {},
   "source": [
    "# .extend()\n",
    "<b> to append elements from another list to the current list,"
   ]
  },
  {
   "cell_type": "code",
   "execution_count": 21,
   "id": "359ca54b-397d-4b5d-9b7d-7ee7658ef129",
   "metadata": {},
   "outputs": [],
   "source": [
    "a = ['Cheeseball', 'Biryani']\n",
    "b = ['Momo', 'Chowmin']"
   ]
  },
  {
   "cell_type": "code",
   "execution_count": 22,
   "id": "eca97d36-487e-4a04-9afb-36e70e124c4c",
   "metadata": {},
   "outputs": [
    {
     "data": {
      "text/plain": [
       "['Cheeseball', 'Biryani', 'Momo', 'Chowmin']"
      ]
     },
     "execution_count": 22,
     "metadata": {},
     "output_type": "execute_result"
    }
   ],
   "source": [
    "a + b"
   ]
  },
  {
   "cell_type": "code",
   "execution_count": 23,
   "id": "8009e5d3-efdc-4130-9f11-db27a05f1c67",
   "metadata": {},
   "outputs": [],
   "source": [
    "a.extend(b)"
   ]
  },
  {
   "cell_type": "code",
   "execution_count": 24,
   "id": "d93498fe-1c55-4683-8336-ae0ce126a9c0",
   "metadata": {},
   "outputs": [
    {
     "data": {
      "text/plain": [
       "['Cheeseball', 'Biryani', 'Momo', 'Chowmin']"
      ]
     },
     "execution_count": 24,
     "metadata": {},
     "output_type": "execute_result"
    }
   ],
   "source": [
    "a\n"
   ]
  },
  {
   "cell_type": "code",
   "execution_count": 25,
   "id": "987822cf-c238-42ed-8e2c-63df1e8e9742",
   "metadata": {},
   "outputs": [
    {
     "data": {
      "text/plain": [
       "['Momo', 'Chowmin']"
      ]
     },
     "execution_count": 25,
     "metadata": {},
     "output_type": "execute_result"
    }
   ],
   "source": [
    "b"
   ]
  },
  {
   "cell_type": "code",
   "execution_count": 1,
   "id": "0c16ec05-058f-4705-aacc-606330947359",
   "metadata": {},
   "outputs": [],
   "source": [
    "a = ['Cheeseball', 'Biryani']\n",
    "b = ['Momo', 'Chowmin']\n",
    "b.extend(a)"
   ]
  },
  {
   "cell_type": "markdown",
   "id": "3e0956dd-48bb-4ed2-87c6-8ead22bd23b5",
   "metadata": {},
   "source": [
    "# .insert() and .remove()\n",
    "<b>`.insert() method insert an item at the specified index<br>`\n",
    "\n"
   ]
  },
  {
   "cell_type": "code",
   "execution_count": 4,
   "id": "bfe43466-624d-45c3-9878-9eaa83281a76",
   "metadata": {},
   "outputs": [],
   "source": [
    "bikes = ['VR', 'Bullet', 'Duke', 'MT-15']"
   ]
  },
  {
   "cell_type": "code",
   "execution_count": 5,
   "id": "ac63daa2-1226-494f-8375-933965773bf8",
   "metadata": {},
   "outputs": [],
   "source": [
    "bikes.insert(1, 'Pulsar') # insert in index 1"
   ]
  },
  {
   "cell_type": "code",
   "execution_count": 6,
   "id": "a7319eed-a4b6-4880-8749-c4a3906bf2cd",
   "metadata": {},
   "outputs": [
    {
     "data": {
      "text/plain": [
       "['VR', 'Pulsar', 'Bullet', 'Duke', 'MT-15']"
      ]
     },
     "execution_count": 6,
     "metadata": {},
     "output_type": "execute_result"
    }
   ],
   "source": [
    "bikes"
   ]
  },
  {
   "cell_type": "code",
   "execution_count": 7,
   "id": "b887c384-dd69-4d77-90aa-44e15d8a3b06",
   "metadata": {},
   "outputs": [],
   "source": [
    "bikes.insert(4, 'Ninja')"
   ]
  },
  {
   "cell_type": "code",
   "execution_count": 8,
   "id": "98d9fd6c-d5fd-466d-8493-1018849f868e",
   "metadata": {},
   "outputs": [
    {
     "data": {
      "text/plain": [
       "['VR', 'Pulsar', 'Bullet', 'Duke', 'Ninja', 'MT-15']"
      ]
     },
     "execution_count": 8,
     "metadata": {},
     "output_type": "execute_result"
    }
   ],
   "source": [
    "bikes"
   ]
  },
  {
   "cell_type": "code",
   "execution_count": 9,
   "id": "d503c660-a135-45b6-a274-3deb2f597aaf",
   "metadata": {},
   "outputs": [],
   "source": [
    "bikes = ['VR', 'Bullet', 'Duke', 'MT-15', 'VR']\n"
   ]
  },
  {
   "cell_type": "code",
   "execution_count": 10,
   "id": "26f3ac8b-9f81-4037-a316-4689d983bd59",
   "metadata": {},
   "outputs": [
    {
     "data": {
      "text/plain": [
       "['VR', 'Bullet', 'Duke', 'MT-15', 'VR']"
      ]
     },
     "execution_count": 10,
     "metadata": {},
     "output_type": "execute_result"
    }
   ],
   "source": [
    "bikes"
   ]
  },
  {
   "cell_type": "markdown",
   "id": "5e6ebfaa-3154-4f92-bb2e-9cf4a0eb25e6",
   "metadata": {},
   "source": [
    "<b>`.remove() method remove specified item`"
   ]
  },
  {
   "cell_type": "code",
   "execution_count": 12,
   "id": "b5835e04-be52-49ee-8fb4-a260cf75b3cf",
   "metadata": {},
   "outputs": [
    {
     "data": {
      "text/plain": [
       "['Bullet', 'Duke', 'MT-15']"
      ]
     },
     "execution_count": 12,
     "metadata": {},
     "output_type": "execute_result"
    }
   ],
   "source": [
    "bikes.remove('VR')\n",
    "bikes"
   ]
  },
  {
   "cell_type": "markdown",
   "id": "c9a36be9-7ca5-450d-84f7-f64ec552ac69",
   "metadata": {},
   "source": [
    "# List is a mutable data type"
   ]
  },
  {
   "cell_type": "code",
   "execution_count": 13,
   "id": "7e41d8dd-cd7c-42aa-b30c-1999223917d9",
   "metadata": {},
   "outputs": [
    {
     "data": {
      "text/plain": [
       "2283178555072"
      ]
     },
     "execution_count": 13,
     "metadata": {},
     "output_type": "execute_result"
    }
   ],
   "source": [
    "cars = ['Audi', 'Tesla', 'Rolls Royace', 'Mercedes', 'BMW']\n",
    "id(cars)"
   ]
  },
  {
   "cell_type": "code",
   "execution_count": 14,
   "id": "dfe3e152-678e-49f2-a37d-ed1f30684c91",
   "metadata": {},
   "outputs": [
    {
     "data": {
      "text/plain": [
       "'Tesla'"
      ]
     },
     "execution_count": 14,
     "metadata": {},
     "output_type": "execute_result"
    }
   ],
   "source": [
    "cars[1]"
   ]
  },
  {
   "cell_type": "code",
   "execution_count": 15,
   "id": "8158e0b2-7e7f-46f8-afc2-eb3c490e80b1",
   "metadata": {},
   "outputs": [],
   "source": [
    "cars[1] = 'Land Cruiser'"
   ]
  },
  {
   "cell_type": "code",
   "execution_count": 16,
   "id": "11a81cc2-3d63-4612-bd3a-382353e9779a",
   "metadata": {},
   "outputs": [
    {
     "data": {
      "text/plain": [
       "['Audi', 'Land Cruiser', 'Rolls Royace', 'Mercedes', 'BMW']"
      ]
     },
     "execution_count": 16,
     "metadata": {},
     "output_type": "execute_result"
    }
   ],
   "source": [
    "cars"
   ]
  },
  {
   "cell_type": "code",
   "execution_count": 17,
   "id": "02a6a4ac-b9a4-4125-a628-310c8a002b80",
   "metadata": {},
   "outputs": [
    {
     "data": {
      "text/plain": [
       "2283178555072"
      ]
     },
     "execution_count": 17,
     "metadata": {},
     "output_type": "execute_result"
    }
   ],
   "source": [
    "id(cars)"
   ]
  },
  {
   "cell_type": "code",
   "execution_count": 18,
   "id": "06fe9615-483d-4f06-b514-1b7b1604121a",
   "metadata": {},
   "outputs": [
    {
     "name": "stdout",
     "output_type": "stream",
     "text": [
      "['apple', 'blackcurrent', 'watermelon', 'orange', 'kiwi', 'mango']\n"
     ]
    }
   ],
   "source": [
    "fruits = ['apple', 'banana', 'mango', 'orange', 'kiwi', 'mango']\n",
    "fruits[1:3] = ['blackcurrent', 'watermelon']\n",
    "print(fruits)"
   ]
  },
  {
   "cell_type": "markdown",
   "id": "2ebeb8fb-d212-4e75-9c87-cf12110913ff",
   "metadata": {},
   "source": [
    "# .sort()\n",
    "<b>sort() method that will sort the list alphanumerically, ascending, by default:"
   ]
  },
  {
   "cell_type": "code",
   "execution_count": 19,
   "id": "c35fcf1d-b1d4-40f2-9134-b70ef910f3b5",
   "metadata": {},
   "outputs": [
    {
     "name": "stdout",
     "output_type": "stream",
     "text": [
      "['apple', 'banana', 'kiwi', 'mango', 'mango', 'orange']\n"
     ]
    }
   ],
   "source": [
    "fruits = ['apple', 'banana', 'mango', 'orange', 'kiwi', 'mango']\n",
    "fruits.sort()\n",
    "print(fruits)"
   ]
  },
  {
   "cell_type": "markdown",
   "id": "e9577767-6d67-4d3f-b172-0d234ee7a88b",
   "metadata": {},
   "source": [
    "# mutable data type ma variable assign garne hoina"
   ]
  },
  {
   "cell_type": "code",
   "execution_count": 20,
   "id": "ea6b7138-1291-4957-a163-7f12302265df",
   "metadata": {},
   "outputs": [
    {
     "data": {
      "text/plain": [
       "['orange', 'mango', 'mango', 'kiwi', 'banana', 'apple']"
      ]
     },
     "execution_count": 20,
     "metadata": {},
     "output_type": "execute_result"
    }
   ],
   "source": [
    "fruits = ['apple', 'banana', 'mango', 'orange', 'kiwi', 'mango']\n",
    "fruits.sort(reverse = True)\n",
    "fruits"
   ]
  },
  {
   "cell_type": "code",
   "execution_count": 22,
   "id": "460a053a-e240-45f9-a540-7ee29d14657b",
   "metadata": {},
   "outputs": [
    {
     "name": "stdout",
     "output_type": "stream",
     "text": [
      "hi\n"
     ]
    }
   ],
   "source": [
    "text = 'Hi'\n",
    "text = text.lower()\n",
    "print(text)"
   ]
  },
  {
   "cell_type": "markdown",
   "id": "fdf73718-4451-4b24-9efd-6f318aa84f74",
   "metadata": {},
   "source": [
    "# sorted()"
   ]
  },
  {
   "cell_type": "code",
   "execution_count": 2,
   "id": "09fb61c1-76e0-4e63-8228-be1b0e9a463e",
   "metadata": {},
   "outputs": [
    {
     "name": "stdout",
     "output_type": "stream",
     "text": [
      "['apple', 'banana', 'kiwi', 'mango', 'mango', 'orange']\n"
     ]
    }
   ],
   "source": [
    "fruits = ['apple', 'banana', 'mango', 'orange', 'kiwi', 'mango']\n",
    "sorted_fruits = sorted(fruits) #built-in function\n",
    "print(sorted_fruits)\n",
    "# print(fruits)"
   ]
  },
  {
   "cell_type": "code",
   "execution_count": 3,
   "id": "64fc9ca7-2343-4985-b613-a9a6c1f05583",
   "metadata": {},
   "outputs": [
    {
     "name": "stdout",
     "output_type": "stream",
     "text": [
      "['apple', 'banana', 'mango', 'orange', 'kiwi', 'mango']\n"
     ]
    }
   ],
   "source": [
    "print(fruits)"
   ]
  },
  {
   "cell_type": "code",
   "execution_count": 6,
   "id": "91b07a89-77de-474a-8392-3f76439507fa",
   "metadata": {},
   "outputs": [],
   "source": [
    "a = fruits.reverse()"
   ]
  },
  {
   "cell_type": "code",
   "execution_count": 8,
   "id": "146d4f0e-217c-431f-8991-d090301f8d82",
   "metadata": {},
   "outputs": [
    {
     "name": "stdout",
     "output_type": "stream",
     "text": [
      "None\n"
     ]
    }
   ],
   "source": [
    "print(a)"
   ]
  },
  {
   "cell_type": "code",
   "execution_count": 9,
   "id": "f2da23dd-0b6e-4d0a-8575-e3bf61b02edf",
   "metadata": {},
   "outputs": [],
   "source": [
    "fruits = ['apple', 'banana', 'mango', 'orange', 'kiwi', 'mango']\n",
    "fruits.reverse()"
   ]
  },
  {
   "cell_type": "code",
   "execution_count": 10,
   "id": "5191dd2f-f0a0-4c35-855f-47c7f710132c",
   "metadata": {},
   "outputs": [
    {
     "data": {
      "text/plain": [
       "['mango', 'kiwi', 'orange', 'mango', 'banana', 'apple']"
      ]
     },
     "execution_count": 10,
     "metadata": {},
     "output_type": "execute_result"
    }
   ],
   "source": [
    "fruits"
   ]
  },
  {
   "cell_type": "code",
   "execution_count": 4,
   "id": "a604e3f9-3fed-4bf3-bd3d-0f2ad729ad32",
   "metadata": {},
   "outputs": [
    {
     "name": "stdout",
     "output_type": "stream",
     "text": [
      "Hello world\n"
     ]
    }
   ],
   "source": [
    "print(\"Hello world\")"
   ]
  }
 ],
 "metadata": {
  "kernelspec": {
   "display_name": "Python 3 (ipykernel)",
   "language": "python",
   "name": "python3"
  },
  "language_info": {
   "codemirror_mode": {
    "name": "ipython",
    "version": 3
   },
   "file_extension": ".py",
   "mimetype": "text/x-python",
   "name": "python",
   "nbconvert_exporter": "python",
   "pygments_lexer": "ipython3",
   "version": "3.12.1"
  }
 },
 "nbformat": 4,
 "nbformat_minor": 5
}
