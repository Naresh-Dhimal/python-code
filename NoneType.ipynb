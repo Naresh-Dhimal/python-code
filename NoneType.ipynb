{
 "cells": [
  {
   "cell_type": "markdown",
   "id": "3232788e-03e3-4069-afb2-67af8a14123f",
   "metadata": {},
   "source": [
    "# NoneType"
   ]
  },
  {
   "cell_type": "code",
   "execution_count": 2,
   "id": "7c19757e-15e4-48ff-8ef9-30826731b1b2",
   "metadata": {},
   "outputs": [
    {
     "data": {
      "text/plain": [
       "NoneType"
      ]
     },
     "execution_count": 2,
     "metadata": {},
     "output_type": "execute_result"
    }
   ],
   "source": [
    "a = None\n",
    "type(a)"
   ]
  },
  {
   "cell_type": "code",
   "execution_count": 3,
   "id": "df5458af-a7b6-474a-a480-5de66245a19d",
   "metadata": {},
   "outputs": [
    {
     "data": {
      "text/plain": [
       "False"
      ]
     },
     "execution_count": 3,
     "metadata": {},
     "output_type": "execute_result"
    }
   ],
   "source": [
    "a == False"
   ]
  },
  {
   "cell_type": "code",
   "execution_count": 4,
   "id": "545b26ce-54b9-41ce-81ff-a79da18cde51",
   "metadata": {},
   "outputs": [
    {
     "data": {
      "text/plain": [
       "False"
      ]
     },
     "execution_count": 4,
     "metadata": {},
     "output_type": "execute_result"
    }
   ],
   "source": [
    "a == 0"
   ]
  },
  {
   "cell_type": "markdown",
   "id": "7a745a7e-2915-4549-b2c8-d07cfc73fa3c",
   "metadata": {},
   "source": [
    "# only none can be none"
   ]
  },
  {
   "cell_type": "code",
   "execution_count": 6,
   "id": "c9945274-c923-4867-b0f5-26cee0a7ab06",
   "metadata": {},
   "outputs": [],
   "source": [
    "x = None\n"
   ]
  },
  {
   "cell_type": "code",
   "execution_count": 7,
   "id": "042056b5-d9ee-4346-b306-530f5827ec6b",
   "metadata": {},
   "outputs": [
    {
     "data": {
      "text/plain": [
       "True"
      ]
     },
     "execution_count": 7,
     "metadata": {},
     "output_type": "execute_result"
    }
   ],
   "source": [
    "x == None # bad practice"
   ]
  },
  {
   "cell_type": "code",
   "execution_count": 10,
   "id": "42348a2b-a21e-4827-bc95-668dfab2b3f4",
   "metadata": {},
   "outputs": [
    {
     "data": {
      "text/plain": [
       "True"
      ]
     },
     "execution_count": 10,
     "metadata": {},
     "output_type": "execute_result"
    }
   ],
   "source": [
    "x is None # preferred"
   ]
  },
  {
   "cell_type": "code",
   "execution_count": 9,
   "id": "e4769fd1-6aed-4522-a63e-71f71c94acc4",
   "metadata": {},
   "outputs": [
    {
     "data": {
      "text/plain": [
       "False"
      ]
     },
     "execution_count": 9,
     "metadata": {},
     "output_type": "execute_result"
    }
   ],
   "source": [
    "x is not None"
   ]
  },
  {
   "cell_type": "markdown",
   "id": "360515c9-cb91-4658-9811-13106ff7228c",
   "metadata": {},
   "source": [
    "# \"is\" and \"is not \" are identity operator in python"
   ]
  },
  {
   "cell_type": "code",
   "execution_count": 13,
   "id": "783da41a-1f01-46ee-89df-e69ed2b3102b",
   "metadata": {},
   "outputs": [
    {
     "name": "stdout",
     "output_type": "stream",
     "text": [
      "True\n",
      "False\n",
      "True\n"
     ]
    }
   ],
   "source": [
    "x = None\n",
    "print(x is None)\n",
    "print(x is not None)\n",
    "print(x is not float)"
   ]
  },
  {
   "cell_type": "markdown",
   "id": "a8b57102-8fb8-4d17-8962-027830a6b131",
   "metadata": {},
   "source": [
    "# What is identity operator in python?\n",
    "<b>Identity operator are used to compare the objects, not if they are equal , but if they are actually the same object, with the same memory location"
   ]
  },
  {
   "cell_type": "code",
   "execution_count": null,
   "id": "dad0283c-2516-41b9-b5b4-7c5ba6777bab",
   "metadata": {},
   "outputs": [],
   "source": []
  }
 ],
 "metadata": {
  "kernelspec": {
   "display_name": "Python 3 (ipykernel)",
   "language": "python",
   "name": "python3"
  },
  "language_info": {
   "codemirror_mode": {
    "name": "ipython",
    "version": 3
   },
   "file_extension": ".py",
   "mimetype": "text/x-python",
   "name": "python",
   "nbconvert_exporter": "python",
   "pygments_lexer": "ipython3",
   "version": "3.11.1"
  }
 },
 "nbformat": 4,
 "nbformat_minor": 5
}
