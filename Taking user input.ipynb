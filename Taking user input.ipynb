{
 "cells": [
  {
   "cell_type": "code",
   "execution_count": 4,
   "id": "ecdd62f3-bbe8-4dc3-8237-d3359308260d",
   "metadata": {},
   "outputs": [
    {
     "name": "stdout",
     "output_type": "stream",
     "text": [
      "113.097\n"
     ]
    }
   ],
   "source": [
    "import math\n",
    "r = 3\n",
    "volume= round(4 / 3 * math.pi * r ** 3 , 3)\n",
    "print(volume)"
   ]
  },
  {
   "cell_type": "markdown",
   "id": "29fb80bf-6783-4c3f-be86-1b4ea83545de",
   "metadata": {},
   "source": [
    "# Taking input for user\n",
    "- syntax : input()"
   ]
  },
  {
   "cell_type": "code",
   "execution_count": 5,
   "id": "1edf8735-7734-41e2-b2e5-859711d0bbe7",
   "metadata": {},
   "outputs": [
    {
     "name": "stdin",
     "output_type": "stream",
     "text": [
      " hello\n"
     ]
    },
    {
     "data": {
      "text/plain": [
       "'hello'"
      ]
     },
     "execution_count": 5,
     "metadata": {},
     "output_type": "execute_result"
    }
   ],
   "source": [
    "input()"
   ]
  },
  {
   "cell_type": "code",
   "execution_count": 7,
   "id": "20f06f8b-801e-4b2e-a565-983918099af3",
   "metadata": {},
   "outputs": [
    {
     "name": "stdin",
     "output_type": "stream",
     "text": [
      "Enter your message: Hello World\n"
     ]
    }
   ],
   "source": [
    "msg = input(\"Enter your message:\")"
   ]
  },
  {
   "cell_type": "code",
   "execution_count": 8,
   "id": "cc8c9b46-ccba-485a-9372-d2384285b12a",
   "metadata": {},
   "outputs": [
    {
     "name": "stdout",
     "output_type": "stream",
     "text": [
      "Hello World\n"
     ]
    }
   ],
   "source": [
    "print(msg)"
   ]
  },
  {
   "cell_type": "code",
   "execution_count": 12,
   "id": "35c2e540-4089-4cbf-9a1d-37e6204dcf2d",
   "metadata": {},
   "outputs": [
    {
     "name": "stdin",
     "output_type": "stream",
     "text": [
      "What is your name? Naresh dhimal\n"
     ]
    },
    {
     "name": "stdout",
     "output_type": "stream",
     "text": [
      "My name is Naresh dhimal.\n"
     ]
    }
   ],
   "source": [
    "name = input(\"What is your name?\")\n",
    "print(f'My name is {name}.')"
   ]
  },
  {
   "cell_type": "code",
   "execution_count": 13,
   "id": "5e367548-25ce-4cc8-876a-f9cb44dc8e0d",
   "metadata": {},
   "outputs": [
    {
     "name": "stdin",
     "output_type": "stream",
     "text": [
      "Enter your first name: Naresh\n",
      "Enter your last name: Dhimal\n"
     ]
    },
    {
     "name": "stdout",
     "output_type": "stream",
     "text": [
      "My full name is Naresh Dhimal\n"
     ]
    }
   ],
   "source": [
    "first_name = input(\"Enter your first name:\")\n",
    "last_name = input(\"Enter your last name:\")\n",
    "print(f\"My full name is {first_name} {last_name}\")\n"
   ]
  },
  {
   "cell_type": "markdown",
   "id": "46df7755-8863-44b6-8b71-b432373d5938",
   "metadata": {},
   "source": [
    "# Note\n"
   ]
  },
  {
   "cell_type": "code",
   "execution_count": 15,
   "id": "6bb68a7f-e722-4067-ae82-2a6c1a9c210f",
   "metadata": {},
   "outputs": [
    {
     "name": "stdin",
     "output_type": "stream",
     "text": [
      "Enter a number: 5\n"
     ]
    },
    {
     "name": "stdout",
     "output_type": "stream",
     "text": [
      "5\n"
     ]
    }
   ],
   "source": [
    "a = input(\"Enter a number:\")\n",
    "print(a)\n"
   ]
  },
  {
   "cell_type": "code",
   "execution_count": 16,
   "id": "41654a66-19c8-4e7b-bf01-457b2fc16a5c",
   "metadata": {},
   "outputs": [
    {
     "data": {
      "text/plain": [
       "str"
      ]
     },
     "execution_count": 16,
     "metadata": {},
     "output_type": "execute_result"
    }
   ],
   "source": [
    "type(a)"
   ]
  },
  {
   "cell_type": "code",
   "execution_count": null,
   "id": "325912c2-5b33-480e-8597-8ffd1f55014e",
   "metadata": {},
   "outputs": [],
   "source": []
  }
 ],
 "metadata": {
  "kernelspec": {
   "display_name": "Python 3 (ipykernel)",
   "language": "python",
   "name": "python3"
  },
  "language_info": {
   "codemirror_mode": {
    "name": "ipython",
    "version": 3
   },
   "file_extension": ".py",
   "mimetype": "text/x-python",
   "name": "python",
   "nbconvert_exporter": "python",
   "pygments_lexer": "ipython3",
   "version": "3.11.1"
  }
 },
 "nbformat": 4,
 "nbformat_minor": 5
}
