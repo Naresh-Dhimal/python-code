{
 "cells": [
  {
   "cell_type": "markdown",
   "id": "1bc1c3af-3b04-4cc7-b7d6-a75160182b95",
   "metadata": {},
   "source": [
    "# Type Casting\n",
    "We use the predefined functions like int() , float() , str() , etc to perform `explicit type conversion`. This type of conversion is also called typecasting because the user casts (changes) the data type of the objects. Typecasting can be done by assigning the required data type function to the expression."
   ]
  },
  {
   "cell_type": "markdown",
   "id": "1a632790-3b50-4bfc-9e4a-e2a4fef87875",
   "metadata": {},
   "source": [
    "# Example"
   ]
  },
  {
   "cell_type": "code",
   "execution_count": 1,
   "id": "e36bdde8-b670-4509-a920-4bbb2ec53ac1",
   "metadata": {},
   "outputs": [
    {
     "data": {
      "text/plain": [
       "str"
      ]
     },
     "execution_count": 1,
     "metadata": {},
     "output_type": "execute_result"
    }
   ],
   "source": [
    "a = '5'\n",
    "type(a)"
   ]
  },
  {
   "cell_type": "code",
   "execution_count": 4,
   "id": "a99ae24a-493e-48dd-a8b8-340455ada0eb",
   "metadata": {},
   "outputs": [
    {
     "data": {
      "text/plain": [
       "int"
      ]
     },
     "execution_count": 4,
     "metadata": {},
     "output_type": "execute_result"
    }
   ],
   "source": [
    "a_casted = int(a)\n",
    "type(a_casted)"
   ]
  },
  {
   "cell_type": "code",
   "execution_count": 5,
   "id": "70c1b7e1-69d7-418f-8c44-489f11ed39e3",
   "metadata": {},
   "outputs": [
    {
     "name": "stdout",
     "output_type": "stream",
     "text": [
      "Enter a number: 34\n"
     ]
    },
    {
     "data": {
      "text/plain": [
       "int"
      ]
     },
     "execution_count": 5,
     "metadata": {},
     "output_type": "execute_result"
    }
   ],
   "source": [
    "a = int(input(\"Enter a number:\"))\n",
    "type(a)"
   ]
  },
  {
   "cell_type": "markdown",
   "id": "04c5a1b2-5f72-4c61-93ec-1a9b19a86a8c",
   "metadata": {},
   "source": [
    "<img src =\"https://www.pluggedin.com/wp-content/uploads/2019/12/How-To-Train-Your-Dragon-2-large.jpg\">"
   ]
  },
  {
   "cell_type": "markdown",
   "id": "a583b134-966a-4e2a-985f-b776756ecae6",
   "metadata": {},
   "source": [
    "[How to Train Your Dragon (film)](https://en.wikipedia.org/wiki/How_to_Train_Your_Dragon_(film))"
   ]
  },
  {
   "cell_type": "code",
   "execution_count": null,
   "id": "717c2b94-f31f-41dc-a700-dbff9ab5ac41",
   "metadata": {},
   "outputs": [],
   "source": []
  }
 ],
 "metadata": {
  "kernelspec": {
   "display_name": "Python 3 (ipykernel)",
   "language": "python",
   "name": "python3"
  },
  "language_info": {
   "codemirror_mode": {
    "name": "ipython",
    "version": 3
   },
   "file_extension": ".py",
   "mimetype": "text/x-python",
   "name": "python",
   "nbconvert_exporter": "python",
   "pygments_lexer": "ipython3",
   "version": "3.11.1"
  }
 },
 "nbformat": 4,
 "nbformat_minor": 5
}
