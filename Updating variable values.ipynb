{
 "cells": [
  {
   "cell_type": "markdown",
   "id": "c3d2705e-88ec-4e07-b332-ad225ea0db5a",
   "metadata": {},
   "source": [
    "# Type of updating varaible value"
   ]
  },
  {
   "cell_type": "code",
   "execution_count": 1,
   "id": "0a1101bf-7998-466c-b6f0-08302a783b49",
   "metadata": {},
   "outputs": [
    {
     "name": "stdout",
     "output_type": "stream",
     "text": [
      "20\n"
     ]
    }
   ],
   "source": [
    "weight = 20\n",
    "print(weight)"
   ]
  },
  {
   "cell_type": "code",
   "execution_count": 2,
   "id": "ce5c11e0-c571-4248-91dc-019ec36ff8f2",
   "metadata": {},
   "outputs": [
    {
     "name": "stdout",
     "output_type": "stream",
     "text": [
      "90\n"
     ]
    }
   ],
   "source": [
    "weight = 90\n",
    "print(weight)"
   ]
  },
  {
   "cell_type": "code",
   "execution_count": 4,
   "id": "4ca7a2a5-343e-4253-86e8-488ca6f8551b",
   "metadata": {},
   "outputs": [
    {
     "name": "stdout",
     "output_type": "stream",
     "text": [
      "61.0\n"
     ]
    }
   ],
   "source": [
    "weight = 60.5\n",
    "weight = weight + 0.5\n",
    "print(weight)"
   ]
  },
  {
   "cell_type": "markdown",
   "id": "96598024-6d73-4898-ae1f-aa08ac07ccd5",
   "metadata": {},
   "source": [
    "# Assignment multiple values to multiple variables"
   ]
  },
  {
   "cell_type": "code",
   "execution_count": 5,
   "id": "48120daf-ebce-457d-a8c6-af6667d18435",
   "metadata": {},
   "outputs": [],
   "source": [
    "a = 4 # int\n",
    "b = 0.3 # float\n",
    "c = 0.6 + 5j # complex\n"
   ]
  },
  {
   "cell_type": "code",
   "execution_count": 9,
   "id": "546cfa3d-6a23-4e15-86b4-c2ac0a64677d",
   "metadata": {},
   "outputs": [
    {
     "name": "stdout",
     "output_type": "stream",
     "text": [
      "4\n"
     ]
    }
   ],
   "source": [
    "print(a)\n"
   ]
  },
  {
   "cell_type": "code",
   "execution_count": 10,
   "id": "2db5be1b-3f7d-4ef7-acc1-4037dd4518c0",
   "metadata": {},
   "outputs": [
    {
     "name": "stdout",
     "output_type": "stream",
     "text": [
      "0.3\n"
     ]
    }
   ],
   "source": [
    "print(b)"
   ]
  },
  {
   "cell_type": "code",
   "execution_count": 11,
   "id": "03e4bfa9-6072-461b-a9c8-352f2ce70b5e",
   "metadata": {},
   "outputs": [
    {
     "name": "stdout",
     "output_type": "stream",
     "text": [
      "(0.6+5j)\n"
     ]
    }
   ],
   "source": [
    "print(c)"
   ]
  },
  {
   "cell_type": "code",
   "execution_count": 1,
   "id": "911cd646-46ed-418c-98a0-4bd0d4314570",
   "metadata": {},
   "outputs": [
    {
     "name": "stdout",
     "output_type": "stream",
     "text": [
      "5 4.5 (45+6j)\n"
     ]
    }
   ],
   "source": [
    "a, b, c = 5, 4.5 , 45 + 6j\n",
    "print(a, b,c)"
   ]
  },
  {
   "cell_type": "markdown",
   "id": "0b063c48-97b2-4627-b45a-5b7d9dc2690b",
   "metadata": {},
   "source": [
    "# Note"
   ]
  },
  {
   "cell_type": "code",
   "execution_count": 13,
   "id": "abd1dde0-987a-4a8e-aae1-a3f181dc032e",
   "metadata": {},
   "outputs": [
    {
     "ename": "ValueError",
     "evalue": "not enough values to unpack (expected 3, got 2)",
     "output_type": "error",
     "traceback": [
      "\u001b[1;31m---------------------------------------------------------------------------\u001b[0m",
      "\u001b[1;31mValueError\u001b[0m                                Traceback (most recent call last)",
      "Cell \u001b[1;32mIn[13], line 1\u001b[0m\n\u001b[1;32m----> 1\u001b[0m ram , shyam , radhe \u001b[38;5;241m=\u001b[39m \u001b[38;5;124m\"\u001b[39m\u001b[38;5;124mKit-Kit \u001b[39m\u001b[38;5;124m\"\u001b[39m, \u001b[38;5;124m\"\u001b[39m\u001b[38;5;124mDairy Milk\u001b[39m\u001b[38;5;124m\"\u001b[39m\n",
      "\u001b[1;31mValueError\u001b[0m: not enough values to unpack (expected 3, got 2)"
     ]
    }
   ],
   "source": [
    "ram , shyam , radhe = \"Kit-Kit \", \"Dairy Milk\" "
   ]
  },
  {
   "cell_type": "code",
   "execution_count": 14,
   "id": "1bb5ed88-2df5-4c95-830b-53584ce790db",
   "metadata": {},
   "outputs": [
    {
     "ename": "ValueError",
     "evalue": "too many values to unpack (expected 2)",
     "output_type": "error",
     "traceback": [
      "\u001b[1;31m---------------------------------------------------------------------------\u001b[0m",
      "\u001b[1;31mValueError\u001b[0m                                Traceback (most recent call last)",
      "Cell \u001b[1;32mIn[14], line 1\u001b[0m\n\u001b[1;32m----> 1\u001b[0m ram , shyam \u001b[38;5;241m=\u001b[39m \u001b[38;5;124m\"\u001b[39m\u001b[38;5;124mKit-kit\u001b[39m\u001b[38;5;124m\"\u001b[39m,\u001b[38;5;124m\"\u001b[39m\u001b[38;5;124mDairy Milk\u001b[39m\u001b[38;5;124m\"\u001b[39m,\u001b[38;5;124m\"\u001b[39m\u001b[38;5;124mRefalo\u001b[39m\u001b[38;5;124m\"\u001b[39m\n",
      "\u001b[1;31mValueError\u001b[0m: too many values to unpack (expected 2)"
     ]
    }
   ],
   "source": [
    "ram , shyam = \"Kit-kit\",\"Dairy Milk\",\"Refalo\""
   ]
  },
  {
   "cell_type": "code",
   "execution_count": null,
   "id": "0dbe97ee-4046-4b93-9b8f-0f7c3d16f4b0",
   "metadata": {},
   "outputs": [],
   "source": []
  }
 ],
 "metadata": {
  "kernelspec": {
   "display_name": "Python 3 (ipykernel)",
   "language": "python",
   "name": "python3"
  },
  "language_info": {
   "codemirror_mode": {
    "name": "ipython",
    "version": 3
   },
   "file_extension": ".py",
   "mimetype": "text/x-python",
   "name": "python",
   "nbconvert_exporter": "python",
   "pygments_lexer": "ipython3",
   "version": "3.11.1"
  }
 },
 "nbformat": 4,
 "nbformat_minor": 5
}
