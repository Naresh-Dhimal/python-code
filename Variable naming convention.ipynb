{
 "cells": [
  {
   "cell_type": "code",
   "execution_count": 5,
   "id": "f4a05dd3-7f10-4e92-9425-509b3d63b857",
   "metadata": {},
   "outputs": [],
   "source": [
    "a = 20"
   ]
  },
  {
   "cell_type": "code",
   "execution_count": 6,
   "id": "865f85a2-1059-49f7-94aa-fa7695faf0ae",
   "metadata": {},
   "outputs": [
    {
     "ename": "SyntaxError",
     "evalue": "cannot assign to literal here. Maybe you meant '==' instead of '='? (2886916378.py, line 1)",
     "output_type": "error",
     "traceback": [
      "\u001b[1;36m  Cell \u001b[1;32mIn[6], line 1\u001b[1;36m\u001b[0m\n\u001b[1;33m    40 = c\u001b[0m\n\u001b[1;37m    ^\u001b[0m\n\u001b[1;31mSyntaxError\u001b[0m\u001b[1;31m:\u001b[0m cannot assign to literal here. Maybe you meant '==' instead of '='?\n"
     ]
    }
   ],
   "source": [
    "40 = c"
   ]
  },
  {
   "cell_type": "code",
   "execution_count": 7,
   "id": "982baf0c-1da6-4baa-a35d-5750db5ff32a",
   "metadata": {},
   "outputs": [
    {
     "ename": "SyntaxError",
     "evalue": "invalid syntax (467723225.py, line 1)",
     "output_type": "error",
     "traceback": [
      "\u001b[1;36m  Cell \u001b[1;32mIn[7], line 1\u001b[1;36m\u001b[0m\n\u001b[1;33m    first name = \"Radhe\"\u001b[0m\n\u001b[1;37m          ^\u001b[0m\n\u001b[1;31mSyntaxError\u001b[0m\u001b[1;31m:\u001b[0m invalid syntax\n"
     ]
    }
   ],
   "source": [
    "first name = \"Radhe\""
   ]
  },
  {
   "cell_type": "code",
   "execution_count": 8,
   "id": "8bd8dcab-198e-4f01-b29a-4ece61b836a3",
   "metadata": {},
   "outputs": [],
   "source": [
    "first_name = \"Radhe\""
   ]
  },
  {
   "cell_type": "code",
   "execution_count": 9,
   "id": "e16abc5b-ff56-4bac-95d9-dcb65141884e",
   "metadata": {},
   "outputs": [
    {
     "name": "stdout",
     "output_type": "stream",
     "text": [
      "Radhe\n"
     ]
    }
   ],
   "source": [
    "print(first_name)"
   ]
  },
  {
   "cell_type": "markdown",
   "id": "c7d72c12-7417-4f63-aab5-c123c03f7fa8",
   "metadata": {},
   "source": [
    "# `You cannot assign any name to variable`"
   ]
  },
  {
   "cell_type": "markdown",
   "id": "bdd4f4ed-4e24-47cf-954a-a92a56ec6f62",
   "metadata": {},
   "source": [
    "# Rule 1 : Keywords cannot be variable names\n",
    "Keyworsd are the reserved words in python. We cannot use a keyword  as a variable name , fuction name or any other identifier. They ares used to define the syntax and structure of the Python language. In python, keyword are case sensitive."
   ]
  },
  {
   "cell_type": "code",
   "execution_count": 11,
   "id": "fdece5d0-a262-484b-a685-7f1ca4e14176",
   "metadata": {},
   "outputs": [
    {
     "name": "stdout",
     "output_type": "stream",
     "text": [
      "\n",
      "Here is a list of the Python keywords.  Enter any keyword to get more help.\n",
      "\n",
      "False               class               from                or\n",
      "None                continue            global              pass\n",
      "True                def                 if                  raise\n",
      "and                 del                 import              return\n",
      "as                  elif                in                  try\n",
      "assert              else                is                  while\n",
      "async               except              lambda              with\n",
      "await               finally             nonlocal            yield\n",
      "break               for                 not                 \n",
      "\n"
     ]
    }
   ],
   "source": [
    "help('keywords')"
   ]
  },
  {
   "cell_type": "code",
   "execution_count": 14,
   "id": "ee28fd5b-4b67-4ad7-93fb-9c27278b279c",
   "metadata": {},
   "outputs": [
    {
     "ename": "SyntaxError",
     "evalue": "cannot assign to False (1779503221.py, line 1)",
     "output_type": "error",
     "traceback": [
      "\u001b[1;36m  Cell \u001b[1;32mIn[14], line 1\u001b[1;36m\u001b[0m\n\u001b[1;33m    False = 0 # False is a keywords\u001b[0m\n\u001b[1;37m    ^\u001b[0m\n\u001b[1;31mSyntaxError\u001b[0m\u001b[1;31m:\u001b[0m cannot assign to False\n"
     ]
    }
   ],
   "source": [
    "False = 0 # False is a keywords"
   ]
  },
  {
   "cell_type": "code",
   "execution_count": 16,
   "id": "bfac3e55-2af0-4099-b20d-e2d79bb6ea2b",
   "metadata": {},
   "outputs": [
    {
     "ename": "SyntaxError",
     "evalue": "invalid syntax (2018684544.py, line 1)",
     "output_type": "error",
     "traceback": [
      "\u001b[1;36m  Cell \u001b[1;32mIn[16], line 1\u001b[1;36m\u001b[0m\n\u001b[1;33m    global = \"hello\" # global is a keyword\u001b[0m\n\u001b[1;37m           ^\u001b[0m\n\u001b[1;31mSyntaxError\u001b[0m\u001b[1;31m:\u001b[0m invalid syntax\n"
     ]
    }
   ],
   "source": [
    "global = \"hello\" # global is a keyword"
   ]
  },
  {
   "cell_type": "markdown",
   "id": "62fafb3b-00fd-4165-9bb4-f388a2b0695c",
   "metadata": {},
   "source": [
    "# `Python keywords are case sensitive`\n",
    "False = 0 //error,\n",
    "false = 0 //execute"
   ]
  },
  {
   "cell_type": "code",
   "execution_count": null,
   "id": "bc551d18-cb87-4416-b2fd-7b65bbc902aa",
   "metadata": {},
   "outputs": [],
   "source": [
    "# jun language le uppercase ra lowercase ma farak garxa tyo case ssensitive language ho.\n",
    "# python is a case sensitive language\n",
    "# sql is case insensitive language"
   ]
  },
  {
   "cell_type": "code",
   "execution_count": 18,
   "id": "3d63e9ec-a4e8-4e4f-9a37-b56980a893fd",
   "metadata": {},
   "outputs": [
    {
     "ename": "SyntaxError",
     "evalue": "cannot assign to False (1160946929.py, line 1)",
     "output_type": "error",
     "traceback": [
      "\u001b[1;36m  Cell \u001b[1;32mIn[18], line 1\u001b[1;36m\u001b[0m\n\u001b[1;33m    False = 0\u001b[0m\n\u001b[1;37m    ^\u001b[0m\n\u001b[1;31mSyntaxError\u001b[0m\u001b[1;31m:\u001b[0m cannot assign to False\n"
     ]
    }
   ],
   "source": [
    "False = 0"
   ]
  },
  {
   "cell_type": "code",
   "execution_count": 19,
   "id": "c370483b-d697-4068-aa54-17a1206a424d",
   "metadata": {},
   "outputs": [],
   "source": [
    "false = 0"
   ]
  },
  {
   "cell_type": "code",
   "execution_count": 20,
   "id": "9a4a4ef7-fc66-4127-a71d-23b5a97d17b3",
   "metadata": {},
   "outputs": [
    {
     "name": "stdout",
     "output_type": "stream",
     "text": [
      "30\n"
     ]
    }
   ],
   "source": [
    "weight = 60\n",
    "weight = 30\n",
    "print(weight)"
   ]
  },
  {
   "cell_type": "code",
   "execution_count": 21,
   "id": "a85e3521-07b7-4466-aacd-ecf223044091",
   "metadata": {},
   "outputs": [
    {
     "name": "stdout",
     "output_type": "stream",
     "text": [
      "Weight =  20\n",
      "weight =  90\n"
     ]
    }
   ],
   "source": [
    "weight = 90\n",
    "Weight = 20\n",
    "print(\"Weight = \", Weight)\n",
    "print(\"weight = \", weight)"
   ]
  },
  {
   "cell_type": "markdown",
   "id": "c02c61c7-7633-4779-987c-9a30bdfc218e",
   "metadata": {},
   "source": [
    "# f-String or .format()"
   ]
  },
  {
   "cell_type": "code",
   "execution_count": 25,
   "id": "7afa30b0-b5e5-467a-b3a9-682c4f8da47e",
   "metadata": {},
   "outputs": [
    {
     "name": "stdout",
     "output_type": "stream",
     "text": [
      "The value of a is 50\n"
     ]
    }
   ],
   "source": [
    "a = 50\n",
    "print(f\"The value of a is {a}\")"
   ]
  },
  {
   "cell_type": "code",
   "execution_count": 27,
   "id": "0b62f244-0f55-401b-b68f-623fc19a2100",
   "metadata": {},
   "outputs": [
    {
     "name": "stdout",
     "output_type": "stream",
     "text": [
      "The value of a is 10\n"
     ]
    }
   ],
   "source": [
    "a = 10\n",
    "print(\"The value of a is {}\".format(a))"
   ]
  },
  {
   "cell_type": "markdown",
   "id": "7dc49de4-6329-4543-b2a0-706e36f37b5f",
   "metadata": {},
   "source": [
    "# Example"
   ]
  },
  {
   "cell_type": "code",
   "execution_count": 29,
   "id": "ff1f47d9-3696-4423-be3a-8a940a762d64",
   "metadata": {},
   "outputs": [
    {
     "name": "stdout",
     "output_type": "stream",
     "text": [
      "I am learning Data science With Python from Broadway.\n"
     ]
    }
   ],
   "source": [
    "language = \"Data science With Python\"\n",
    "school = \"Broadway\"\n",
    "text = f\"I am learning {language} from {school}.\"\n",
    "print(text)"
   ]
  },
  {
   "cell_type": "markdown",
   "id": "31ed8e81-5fe3-4671-b3e4-fec1db0110bb",
   "metadata": {},
   "source": [
    "# Rule 2 : You cannot use space bar in variable name."
   ]
  },
  {
   "cell_type": "code",
   "execution_count": 30,
   "id": "174880a3-468b-4549-9775-33016322e4d1",
   "metadata": {},
   "outputs": [
    {
     "ename": "SyntaxError",
     "evalue": "invalid syntax (1695883574.py, line 1)",
     "output_type": "error",
     "traceback": [
      "\u001b[1;36m  Cell \u001b[1;32mIn[30], line 1\u001b[1;36m\u001b[0m\n\u001b[1;33m    first name = \"Ram\" # not allowed\u001b[0m\n\u001b[1;37m          ^\u001b[0m\n\u001b[1;31mSyntaxError\u001b[0m\u001b[1;31m:\u001b[0m invalid syntax\n"
     ]
    }
   ],
   "source": [
    "first name = \"Ram\" # not allowed"
   ]
  },
  {
   "cell_type": "code",
   "execution_count": 31,
   "id": "9e758ba4-63a3-407d-aece-936ea5c680f7",
   "metadata": {},
   "outputs": [],
   "source": [
    "name = \"Ram\" #allowed"
   ]
  },
  {
   "cell_type": "markdown",
   "id": "b387f603-ad79-47bb-bd7a-dea79e5c44f2",
   "metadata": {},
   "source": [
    "# Rule 3 : You cannot use - or dash on variable name."
   ]
  },
  {
   "cell_type": "code",
   "execution_count": 32,
   "id": "56651d96-6f4d-40b4-a19b-b185e29e960e",
   "metadata": {},
   "outputs": [
    {
     "ename": "SyntaxError",
     "evalue": "cannot assign to expression here. Maybe you meant '==' instead of '='? (4064711161.py, line 1)",
     "output_type": "error",
     "traceback": [
      "\u001b[1;36m  Cell \u001b[1;32mIn[32], line 1\u001b[1;36m\u001b[0m\n\u001b[1;33m    first-name = \"Ram\"\u001b[0m\n\u001b[1;37m    ^\u001b[0m\n\u001b[1;31mSyntaxError\u001b[0m\u001b[1;31m:\u001b[0m cannot assign to expression here. Maybe you meant '==' instead of '='?\n"
     ]
    }
   ],
   "source": [
    "first-name = \"Ram\" # not allowed\n"
   ]
  },
  {
   "cell_type": "markdown",
   "id": "a284db93-05a9-484d-805a-99dedf20fc15",
   "metadata": {},
   "source": [
    "# Rule 4 : You cannot use special symbol in variable name."
   ]
  },
  {
   "cell_type": "code",
   "execution_count": 33,
   "id": "36d7977a-6541-491a-ab62-c32679176bf3",
   "metadata": {},
   "outputs": [
    {
     "ename": "SyntaxError",
     "evalue": "invalid syntax (1660520338.py, line 1)",
     "output_type": "error",
     "traceback": [
      "\u001b[1;36m  Cell \u001b[1;32mIn[33], line 1\u001b[1;36m\u001b[0m\n\u001b[1;33m    $name = \"sita\"\u001b[0m\n\u001b[1;37m    ^\u001b[0m\n\u001b[1;31mSyntaxError\u001b[0m\u001b[1;31m:\u001b[0m invalid syntax\n"
     ]
    }
   ],
   "source": [
    "$name = \"sita\" # not allowed"
   ]
  },
  {
   "cell_type": "code",
   "execution_count": 35,
   "id": "80935576-be86-4d9b-80e7-5ba99c00eb31",
   "metadata": {},
   "outputs": [
    {
     "ename": "SyntaxError",
     "evalue": "invalid syntax (2188398199.py, line 1)",
     "output_type": "error",
     "traceback": [
      "\u001b[1;36m  Cell \u001b[1;32mIn[35], line 1\u001b[1;36m\u001b[0m\n\u001b[1;33m    $name = \"hari\"\u001b[0m\n\u001b[1;37m    ^\u001b[0m\n\u001b[1;31mSyntaxError\u001b[0m\u001b[1;31m:\u001b[0m invalid syntax\n"
     ]
    }
   ],
   "source": [
    "$name = \"hari\""
   ]
  },
  {
   "cell_type": "markdown",
   "id": "a4e3be12-6c62-44ad-b906-3a75770dbf0b",
   "metadata": {},
   "source": [
    "# Rule 5 : You can use underscores in variable name."
   ]
  },
  {
   "cell_type": "code",
   "execution_count": 36,
   "id": "7167474e-9b29-443e-8e6f-8edd93a80feb",
   "metadata": {},
   "outputs": [],
   "source": [
    "first_name = \" Naresh\""
   ]
  },
  {
   "cell_type": "code",
   "execution_count": 37,
   "id": "ea1e7146-74f7-4ee5-b2b5-014fbd536e8f",
   "metadata": {},
   "outputs": [
    {
     "name": "stdout",
     "output_type": "stream",
     "text": [
      " Naresh\n"
     ]
    }
   ],
   "source": [
    "print(first_name)"
   ]
  },
  {
   "cell_type": "code",
   "execution_count": 38,
   "id": "bd10a8a7-f730-4253-afba-4200ae19a5ce",
   "metadata": {},
   "outputs": [
    {
     "name": "stdout",
     "output_type": "stream",
     "text": [
      "Dhimal\n"
     ]
    }
   ],
   "source": [
    "last_name = \"Dhimal\"\n",
    "print(last_name)"
   ]
  },
  {
   "cell_type": "markdown",
   "id": "89e6caa6-5266-4f11-b647-ee2902086d3b",
   "metadata": {},
   "source": [
    "# Rule 6 : Number cannot come at the first letter of variabe name."
   ]
  },
  {
   "cell_type": "code",
   "execution_count": 40,
   "id": "800af765-d699-47d3-9347-74af0c8d23a8",
   "metadata": {},
   "outputs": [
    {
     "ename": "SyntaxError",
     "evalue": "invalid decimal literal (3317533442.py, line 1)",
     "output_type": "error",
     "traceback": [
      "\u001b[1;36m  Cell \u001b[1;32mIn[40], line 1\u001b[1;36m\u001b[0m\n\u001b[1;33m    1name = \"Ram\"\u001b[0m\n\u001b[1;37m    ^\u001b[0m\n\u001b[1;31mSyntaxError\u001b[0m\u001b[1;31m:\u001b[0m invalid decimal literal\n"
     ]
    }
   ],
   "source": [
    "1name = \"Ram\""
   ]
  },
  {
   "cell_type": "code",
   "execution_count": 41,
   "id": "332a0a8b-8fc6-40a3-9a41-aca74482341d",
   "metadata": {},
   "outputs": [],
   "source": [
    "name1 = \"Naresh\""
   ]
  },
  {
   "cell_type": "code",
   "execution_count": 42,
   "id": "c86ff4e2-79dd-4c0f-9d22-08f45ceb9d27",
   "metadata": {},
   "outputs": [
    {
     "name": "stdout",
     "output_type": "stream",
     "text": [
      "Naresh\n"
     ]
    }
   ],
   "source": [
    "print(name1)"
   ]
  },
  {
   "cell_type": "markdown",
   "id": "c5a4e40a-1fb1-4864-97c2-27202d827292",
   "metadata": {},
   "source": [
    "<img src = \"https://khalilstemmler.com/img/blog/camel-snake-pascal-case/camel-case-snake-case-pascal-case.png\">"
   ]
  },
  {
   "cell_type": "code",
   "execution_count": 43,
   "id": "9c22b20a-da50-4ee3-8bb8-b5ab2e8d0e6b",
   "metadata": {},
   "outputs": [],
   "source": [
    "# variable name and fuction name haru snake_case ma lekhne ho\n",
    "# class PascalCase ma lekhne ho"
   ]
  },
  {
   "cell_type": "markdown",
   "id": "0222f4a3-822a-4da4-be89-befca5b66981",
   "metadata": {},
   "source": [
    "[PEP 8 – Style Guide for Python Code](https://peps.python.org/pep-0008/)"
   ]
  },
  {
   "cell_type": "code",
   "execution_count": null,
   "id": "c21d2d59-95ec-4d1a-8041-c7aa3d85a3d5",
   "metadata": {},
   "outputs": [],
   "source": []
  }
 ],
 "metadata": {
  "kernelspec": {
   "display_name": "Python 3 (ipykernel)",
   "language": "python",
   "name": "python3"
  },
  "language_info": {
   "codemirror_mode": {
    "name": "ipython",
    "version": 3
   },
   "file_extension": ".py",
   "mimetype": "text/x-python",
   "name": "python",
   "nbconvert_exporter": "python",
   "pygments_lexer": "ipython3",
   "version": "3.11.1"
  }
 },
 "nbformat": 4,
 "nbformat_minor": 5
}
