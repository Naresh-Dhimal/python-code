{
 "cells": [
  {
   "cell_type": "markdown",
   "id": "28754dd8-5ca6-48b8-a33f-93afdfadb3a4",
   "metadata": {},
   "source": [
    "# Continue\n",
    "<b> The continue statement in Python is used to skip the remaining code inside a loop for the current iteration only"
   ]
  },
  {
   "cell_type": "code",
   "execution_count": 2,
   "id": "cfb9e415-6d35-4abe-bb6c-02d56f38e651",
   "metadata": {},
   "outputs": [
    {
     "name": "stdout",
     "output_type": "stream",
     "text": [
      "0\n",
      "1\n",
      "2\n",
      "3\n",
      "4\n"
     ]
    }
   ],
   "source": [
    "for index in range(5): # 0-5 (excluded)\n",
    "    print(index)"
   ]
  },
  {
   "cell_type": "code",
   "execution_count": 5,
   "id": "82ebbf8b-85eb-4a18-a105-8b860338dcae",
   "metadata": {},
   "outputs": [
    {
     "name": "stdout",
     "output_type": "stream",
     "text": [
      "0\n",
      "1\n",
      "3\n",
      "4\n"
     ]
    }
   ],
   "source": [
    "for index in range(5):\n",
    "    if index == 2:\n",
    "        continue\n",
    "    print(index)\n",
    "        "
   ]
  },
  {
   "cell_type": "markdown",
   "id": "5d42673f-9cc3-4ae5-99ac-60f5902ec682",
   "metadata": {},
   "source": [
    "# Break\n",
    "<b> A break statement in Python alters the flow of a loop by terminating it once a specified condition is met."
   ]
  },
  {
   "cell_type": "code",
   "execution_count": 6,
   "id": "8f6af87f-aabe-4701-a816-41c9af8cccc5",
   "metadata": {},
   "outputs": [
    {
     "name": "stdout",
     "output_type": "stream",
     "text": [
      "0\n",
      "1\n"
     ]
    }
   ],
   "source": [
    "for index in range(5):\n",
    "    if index == 2:\n",
    "        break\n",
    "    print(index)\n"
   ]
  },
  {
   "cell_type": "code",
   "execution_count": null,
   "id": "b6b33c4e-b554-4710-b3dd-f4a4cf60c36e",
   "metadata": {},
   "outputs": [],
   "source": []
  }
 ],
 "metadata": {
  "kernelspec": {
   "display_name": "Python 3 (ipykernel)",
   "language": "python",
   "name": "python3"
  },
  "language_info": {
   "codemirror_mode": {
    "name": "ipython",
    "version": 3
   },
   "file_extension": ".py",
   "mimetype": "text/x-python",
   "name": "python",
   "nbconvert_exporter": "python",
   "pygments_lexer": "ipython3",
   "version": "3.11.1"
  }
 },
 "nbformat": 4,
 "nbformat_minor": 5
}
