{
 "cells": [
  {
   "cell_type": "markdown",
   "id": "d7594d21-5fa8-4c7b-8535-78c051075bd1",
   "metadata": {},
   "source": [
    "# OOP(object oriented programing)\n",
    "python in high level object oriented programing language.\n",
    "oops concepts:\n",
    "* object\n",
    "* class\n",
    "* inheritance\n",
    "* polymorphism\n",
    "* abstraction\n",
    "* encapsulation"
   ]
  },
  {
   "cell_type": "markdown",
   "id": "27d4a01e-3efb-48c8-bc36-0bf067fd7872",
   "metadata": {},
   "source": [
    "# class and object"
   ]
  },
  {
   "cell_type": "markdown",
   "id": "55a6a75e-de27-4535-8585-362d75d21cfc",
   "metadata": {},
   "source": [
    "# creating an empty class"
   ]
  },
  {
   "cell_type": "code",
   "execution_count": 1,
   "id": "29b4bf21-b4ec-4cb5-b2ce-dc48e50badaf",
   "metadata": {},
   "outputs": [],
   "source": [
    "class Mammal:\n",
    "    pass"
   ]
  },
  {
   "cell_type": "markdown",
   "id": "7fcdbe91-ba96-43a6-951f-95c04d7ca62a",
   "metadata": {},
   "source": [
    "# creating object using class"
   ]
  },
  {
   "cell_type": "code",
   "execution_count": 2,
   "id": "83c44414-d01f-47ba-8c16-cc50489ecf69",
   "metadata": {},
   "outputs": [],
   "source": [
    "human = Mammal() # creates an object human from Mammal class"
   ]
  },
  {
   "cell_type": "code",
   "execution_count": 4,
   "id": "39b68cf1-ba78-43fa-aa0a-0eb8abe91034",
   "metadata": {},
   "outputs": [
    {
     "name": "stdout",
     "output_type": "stream",
     "text": [
      "<class '__main__.Mammal'>\n"
     ]
    }
   ],
   "source": [
    "print(type(human))"
   ]
  },
  {
   "cell_type": "code",
   "execution_count": 6,
   "id": "5d469929-a3f7-4298-a6cc-650377bab5b8",
   "metadata": {},
   "outputs": [
    {
     "name": "stdout",
     "output_type": "stream",
     "text": [
      "<class '__main__.Mammal'>\n"
     ]
    }
   ],
   "source": [
    "cow = Mammal() # creates an object coe from Mammal class\n",
    "print(type(cow))"
   ]
  },
  {
   "cell_type": "markdown",
   "id": "3a1f08c4-ff23-4c3c-a0ef-d0e28eab98fe",
   "metadata": {},
   "source": [
    "# Class is a blueprint to create an object"
   ]
  },
  {
   "cell_type": "markdown",
   "id": "682b093d-237d-4350-98c1-9148acc280f0",
   "metadata": {},
   "source": [
    "# Object is an instance of a class. Object are real world entity."
   ]
  },
  {
   "cell_type": "code",
   "execution_count": 8,
   "id": "a84a2ed5-6085-4458-b145-6cdf3e5c6295",
   "metadata": {},
   "outputs": [],
   "source": [
    "class Person:\n",
    "    pass"
   ]
  },
  {
   "cell_type": "code",
   "execution_count": 10,
   "id": "61cdf403-2f3a-4681-8747-15dab559d6d8",
   "metadata": {},
   "outputs": [
    {
     "name": "stdout",
     "output_type": "stream",
     "text": [
      "<class '__main__.Person'>\n",
      "<class '__main__.Person'>\n"
     ]
    }
   ],
   "source": [
    "p1 = Person()\n",
    "p2 = Person()\n",
    "print(type(p1))\n",
    "print(type(p2))"
   ]
  },
  {
   "cell_type": "code",
   "execution_count": 12,
   "id": "e817a44d-84d4-4e22-aa6b-ef4548a101f7",
   "metadata": {},
   "outputs": [
    {
     "name": "stdout",
     "output_type": "stream",
     "text": [
      "<class '__main__.Person'> <class '__main__.Person'>\n"
     ]
    }
   ],
   "source": [
    "class Person:\n",
    "    pass\n",
    "if __name__ == \"__main__\":\n",
    "    p1 =Person()\n",
    "    p2 = Person()\n",
    "    print(type(p1), type(p2))"
   ]
  },
  {
   "cell_type": "markdown",
   "id": "4ef359e3-5c02-4b8b-b5c3-81ecdeb99481",
   "metadata": {},
   "source": [
    "# class attribute vs object attribute"
   ]
  },
  {
   "cell_type": "markdown",
   "id": "e36a4981-4822-42bb-a2f9-8a1644d84fe3",
   "metadata": {},
   "source": [
    "# class attribute"
   ]
  },
  {
   "cell_type": "code",
   "execution_count": 15,
   "id": "e3c31423-3f2a-448e-adb1-9905f1d068ae",
   "metadata": {},
   "outputs": [
    {
     "data": {
      "text/plain": [
       "True"
      ]
     },
     "execution_count": 15,
     "metadata": {},
     "output_type": "execute_result"
    }
   ],
   "source": [
    "class Mammal:\n",
    "  has_hair = True # class attribut  \n",
    "\n",
    "human = Mammal()\n",
    "cow = Mammal()\n",
    "human.has_hair"
   ]
  },
  {
   "cell_type": "code",
   "execution_count": 16,
   "id": "6110125f-9f32-4655-9590-0102064a1072",
   "metadata": {},
   "outputs": [
    {
     "data": {
      "text/plain": [
       "True"
      ]
     },
     "execution_count": 16,
     "metadata": {},
     "output_type": "execute_result"
    }
   ],
   "source": [
    "cow.has_hair"
   ]
  },
  {
   "cell_type": "markdown",
   "id": "8750cf7f-1978-427f-ba5d-74d533ec4205",
   "metadata": {},
   "source": [
    "# class attribute is same for all objectsm"
   ]
  },
  {
   "cell_type": "markdown",
   "id": "bf0c7f00-68bb-4824-8dd7-622be4763935",
   "metadata": {},
   "source": [
    "# object attribute"
   ]
  },
  {
   "cell_type": "code",
   "execution_count": 28,
   "id": "61162ce5-a984-48df-9393-a55a8d6f0f1f",
   "metadata": {},
   "outputs": [],
   "source": [
    "class Mammal:\n",
    "    def __init__(self, no_of_legs): # __init__ le initilizes object attribute\n",
    "        self.no_of_legs = no_of_legs"
   ]
  },
  {
   "cell_type": "code",
   "execution_count": 33,
   "id": "1f57d270-525a-412f-9856-cc1dd5197d6c",
   "metadata": {},
   "outputs": [
    {
     "ename": "TypeError",
     "evalue": "Mammal.__init__() missing 1 required positional argument: 'no_of_legs'",
     "output_type": "error",
     "traceback": [
      "\u001b[1;31m---------------------------------------------------------------------------\u001b[0m",
      "\u001b[1;31mTypeError\u001b[0m                                 Traceback (most recent call last)",
      "Cell \u001b[1;32mIn[33], line 1\u001b[0m\n\u001b[1;32m----> 1\u001b[0m human \u001b[38;5;241m=\u001b[39m \u001b[43mMammal\u001b[49m\u001b[43m(\u001b[49m\u001b[43m)\u001b[49m\n",
      "\u001b[1;31mTypeError\u001b[0m: Mammal.__init__() missing 1 required positional argument: 'no_of_legs'"
     ]
    }
   ],
   "source": [
    "human = Mammal()"
   ]
  },
  {
   "cell_type": "code",
   "execution_count": 34,
   "id": "1b8d26e6-b3cc-48f7-a744-528f76b56ad7",
   "metadata": {},
   "outputs": [],
   "source": [
    "human = Mammal(no_of_legs=2)"
   ]
  },
  {
   "cell_type": "code",
   "execution_count": 35,
   "id": "eebbecdc-ff0f-4dc2-a990-885ca4200ab2",
   "metadata": {},
   "outputs": [
    {
     "data": {
      "text/plain": [
       "2"
      ]
     },
     "execution_count": 35,
     "metadata": {},
     "output_type": "execute_result"
    }
   ],
   "source": [
    "human.no_of_legs"
   ]
  },
  {
   "cell_type": "code",
   "execution_count": 36,
   "id": "a76f1e14-c6c2-46d1-b580-d2f42fc86475",
   "metadata": {},
   "outputs": [],
   "source": [
    "dog = Mammal(no_of_legs = 4)"
   ]
  },
  {
   "cell_type": "code",
   "execution_count": 37,
   "id": "f8c82b29-069d-4560-a4e8-f2d76052ad7f",
   "metadata": {},
   "outputs": [
    {
     "data": {
      "text/plain": [
       "4"
      ]
     },
     "execution_count": 37,
     "metadata": {},
     "output_type": "execute_result"
    }
   ],
   "source": [
    "dog.no_of_legs"
   ]
  },
  {
   "cell_type": "code",
   "execution_count": 40,
   "id": "1593ca2c-7ffe-4a6e-80d4-b2fda309a60c",
   "metadata": {},
   "outputs": [],
   "source": [
    "class Person:\n",
    "    def __init__(self):\n",
    "        print(type(self)) # self is an object of person"
   ]
  },
  {
   "cell_type": "code",
   "execution_count": 39,
   "id": "65beb732-01d2-41a1-b505-5909784be099",
   "metadata": {},
   "outputs": [
    {
     "name": "stdout",
     "output_type": "stream",
     "text": [
      "<class '__main__.Person'>\n",
      "<class '__main__.Person'>\n"
     ]
    }
   ],
   "source": [
    "p1 = Person()\n",
    "print(type(p1))"
   ]
  },
  {
   "cell_type": "markdown",
   "id": "7a3beb92-c071-4b9b-be10-a00fb3eeae0d",
   "metadata": {},
   "source": [
    "# constructor\n",
    "* <b> constructor is used to create an object\n",
    "* <b> __init__ is not constructor because an object self is passed as an argument\n",
    "* <b> object is created by \\_\\_new__() in python \\.\\_\\_new__ is a constructor\n",
    "* <b> \\_\\_init__ is an object attribute initilizer\n",
    "* <b> \\_\\_init__ can only return None"
   ]
  },
  {
   "cell_type": "code",
   "execution_count": 41,
   "id": "4fd9d926-0c15-4395-af08-974c5b8d7e72",
   "metadata": {},
   "outputs": [],
   "source": [
    "class Person:\n",
    "    def __init__(self):\n",
    "        return 5"
   ]
  },
  {
   "cell_type": "code",
   "execution_count": 42,
   "id": "6e866e2f-4d0f-44fc-a254-9a94806fd592",
   "metadata": {},
   "outputs": [
    {
     "ename": "TypeError",
     "evalue": "__init__() should return None, not 'int'",
     "output_type": "error",
     "traceback": [
      "\u001b[1;31m---------------------------------------------------------------------------\u001b[0m",
      "\u001b[1;31mTypeError\u001b[0m                                 Traceback (most recent call last)",
      "Cell \u001b[1;32mIn[42], line 1\u001b[0m\n\u001b[1;32m----> 1\u001b[0m p1 \u001b[38;5;241m=\u001b[39m \u001b[43mPerson\u001b[49m\u001b[43m(\u001b[49m\u001b[43m)\u001b[49m\n",
      "\u001b[1;31mTypeError\u001b[0m: __init__() should return None, not 'int'"
     ]
    }
   ],
   "source": [
    "p1 = Person()"
   ]
  },
  {
   "cell_type": "code",
   "execution_count": 43,
   "id": "68ea2b4b-f5b6-4450-b01b-5bc0e7bf0c2a",
   "metadata": {},
   "outputs": [],
   "source": [
    "# TypeError: __init__() should return None, not 'int'\n",
    "# tei vyera __init__ ma return statement lekhnu hoina \n"
   ]
  },
  {
   "cell_type": "code",
   "execution_count": 46,
   "id": "9541d2b8-130a-498b-9139-69743b45c645",
   "metadata": {},
   "outputs": [],
   "source": [
    "class Rectangle:\n",
    "    def __init__(self,length,breadth):\n",
    "        self.length = length\n",
    "        self.breadth = breadth\n",
    "    def area(self):\n",
    "        return self.length * self.breadth\n",
    "    def parimeter(self):\n",
    "        return 2 * (self.length + self.breadth)"
   ]
  },
  {
   "cell_type": "code",
   "execution_count": 47,
   "id": "bf9397f1-54fe-4379-80b3-30f7c0041b9b",
   "metadata": {},
   "outputs": [
    {
     "data": {
      "text/plain": [
       "6"
      ]
     },
     "execution_count": 47,
     "metadata": {},
     "output_type": "execute_result"
    }
   ],
   "source": [
    "r1 = Rectangle(length = 2, breadth = 3)\n",
    "r1.area()"
   ]
  },
  {
   "cell_type": "code",
   "execution_count": 50,
   "id": "2ced03b4-f645-4325-8670-bbef8190b377",
   "metadata": {},
   "outputs": [
    {
     "data": {
      "text/plain": [
       "10"
      ]
     },
     "execution_count": 50,
     "metadata": {},
     "output_type": "execute_result"
    }
   ],
   "source": [
    "r1.parimeter()"
   ]
  },
  {
   "cell_type": "code",
   "execution_count": 51,
   "id": "55b8bf1e-1aab-4a11-9085-ee33e796bf05",
   "metadata": {},
   "outputs": [],
   "source": [
    "r2 = Rectangle(length = 4,breadth = 6)"
   ]
  },
  {
   "cell_type": "code",
   "execution_count": 52,
   "id": "191e37fc-f953-4a1b-a4be-e2f6bb0df25a",
   "metadata": {},
   "outputs": [
    {
     "data": {
      "text/plain": [
       "24"
      ]
     },
     "execution_count": 52,
     "metadata": {},
     "output_type": "execute_result"
    }
   ],
   "source": [
    "r2.area()\n"
   ]
  },
  {
   "cell_type": "code",
   "execution_count": 53,
   "id": "754383a5-fe86-4db0-939e-7f6921daa2c6",
   "metadata": {},
   "outputs": [
    {
     "data": {
      "text/plain": [
       "20"
      ]
     },
     "execution_count": 53,
     "metadata": {},
     "output_type": "execute_result"
    }
   ],
   "source": [
    "r2.parimeter()"
   ]
  },
  {
   "cell_type": "code",
   "execution_count": 55,
   "id": "1063b13d-5682-4d05-955a-e1d1b9374312",
   "metadata": {},
   "outputs": [],
   "source": [
    "import math\n",
    "class Circle:\n",
    "    def __init__(self, r):\n",
    "        self.r = r\n",
    "    def area(self):\n",
    "        return math.pi * self.r**2\n",
    "    def parimeter(self):\n",
    "        return 2 * math.pi * self.r\n",
    "        "
   ]
  },
  {
   "cell_type": "code",
   "execution_count": 56,
   "id": "f759a72c-c873-4511-9ee6-dbab01b3693d",
   "metadata": {},
   "outputs": [
    {
     "data": {
      "text/plain": [
       "50.26548245743669"
      ]
     },
     "execution_count": 56,
     "metadata": {},
     "output_type": "execute_result"
    }
   ],
   "source": [
    "c1 = Circle(r=4)\n",
    "c1.area()"
   ]
  },
  {
   "cell_type": "code",
   "execution_count": 57,
   "id": "c3cc1aec-64a9-4c16-87d7-5a2650e259f3",
   "metadata": {},
   "outputs": [
    {
     "data": {
      "text/plain": [
       "25.132741228718345"
      ]
     },
     "execution_count": 57,
     "metadata": {},
     "output_type": "execute_result"
    }
   ],
   "source": [
    "c1.parimeter()"
   ]
  },
  {
   "cell_type": "code",
   "execution_count": 58,
   "id": "cebd8436-79ce-4be2-8ca0-873c08ca13e9",
   "metadata": {},
   "outputs": [],
   "source": [
    "# volume of sphere assignment"
   ]
  },
  {
   "cell_type": "code",
   "execution_count": 4,
   "id": "4a2ce860-347b-44fb-9201-6f062c35b0ea",
   "metadata": {},
   "outputs": [
    {
     "name": "stdin",
     "output_type": "stream",
     "text": [
      "Enter a radius of a sphere:  12\n"
     ]
    },
    {
     "data": {
      "text/plain": [
       "7238.229473870882"
      ]
     },
     "execution_count": 4,
     "metadata": {},
     "output_type": "execute_result"
    }
   ],
   "source": [
    "import math\n",
    "class Sphere:\n",
    "    def __init__(self, r):\n",
    "        self.r = r\n",
    "    def volume(self):\n",
    "        return 4 / 3 * math.pi * self.r ** 3\n",
    "\n",
    "# radius = float(input(\"Enter a radius of a sphere: \"))\n",
    "sphere1 = Sphere(r = float(input(\"Enter a radius of a sphere: \")))\n",
    "sphere1.volume()"
   ]
  },
  {
   "cell_type": "code",
   "execution_count": 5,
   "id": "c92ce3ef-e3e4-4c81-826e-73c204c3401e",
   "metadata": {},
   "outputs": [
    {
     "data": {
      "text/plain": [
       "11"
      ]
     },
     "execution_count": 5,
     "metadata": {},
     "output_type": "execute_result"
    }
   ],
   "source": [
    "class Operation:\n",
    "    def __init__(self,a,b):\n",
    "        self.a = a\n",
    "        self.b = b\n",
    "    def add(self):\n",
    "        return self.a + self.b\n",
    "    def diff(self):\n",
    "        return self.a - self.b\n",
    "    def mul(self):\n",
    "        return self.a * self.b\n",
    "    def div(self):\n",
    "        return self.a / self.b\n",
    "    def expo(self):\n",
    "        return self.a ** self.b\n",
    "    def floor(self):\n",
    "        return self.a // self.b\n",
    "\n",
    "operation_1 = Operation(a = 5 , b = 6)\n",
    "operation_1.add()"
   ]
  },
  {
   "cell_type": "code",
   "execution_count": 6,
   "id": "25bf275e-b901-4969-8f67-b603e8215121",
   "metadata": {},
   "outputs": [
    {
     "data": {
      "text/plain": [
       "15625"
      ]
     },
     "execution_count": 6,
     "metadata": {},
     "output_type": "execute_result"
    }
   ],
   "source": [
    "operation_1.expo()"
   ]
  },
  {
   "cell_type": "code",
   "execution_count": 7,
   "id": "383715ea-0a4d-4270-a1e7-c1744c58834e",
   "metadata": {},
   "outputs": [
    {
     "data": {
      "text/plain": [
       "15625"
      ]
     },
     "execution_count": 7,
     "metadata": {},
     "output_type": "execute_result"
    }
   ],
   "source": [
    "5 ** 6\n"
   ]
  },
  {
   "cell_type": "code",
   "execution_count": null,
   "id": "3adbd1e2-3676-441a-a9cd-5285414f3252",
   "metadata": {},
   "outputs": [],
   "source": []
  }
 ],
 "metadata": {
  "kernelspec": {
   "display_name": "Python 3 (ipykernel)",
   "language": "python",
   "name": "python3"
  },
  "language_info": {
   "codemirror_mode": {
    "name": "ipython",
    "version": 3
   },
   "file_extension": ".py",
   "mimetype": "text/x-python",
   "name": "python",
   "nbconvert_exporter": "python",
   "pygments_lexer": "ipython3",
   "version": "3.11.1"
  }
 },
 "nbformat": 4,
 "nbformat_minor": 5
}
