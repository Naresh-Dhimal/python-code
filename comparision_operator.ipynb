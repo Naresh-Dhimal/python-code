{
 "cells": [
  {
   "cell_type": "markdown",
   "id": "670f1558-c5ba-4852-9735-d613b389fb4e",
   "metadata": {},
   "source": [
    "# Comparision Operator\n",
    "* Equal to: '=='\n",
    "* Not equal to: '!='\n",
    "* less than: '<'\n",
    "* greater than: '>'\n",
    "* less than or equal to: '<='\n",
    "* greater than or equal to: '>='"
   ]
  },
  {
   "cell_type": "code",
   "execution_count": 2,
   "id": "1ad902a6-b094-4462-8d91-f10fbc6accdd",
   "metadata": {},
   "outputs": [
    {
     "name": "stdout",
     "output_type": "stream",
     "text": [
      "True\n",
      "False\n",
      "False\n",
      "True\n",
      "True\n",
      "True\n"
     ]
    }
   ],
   "source": [
    "print(2 == 2) # True\n",
    "print(2 != 2) # False\n",
    "print(3 < 2) # False\n",
    "print(3 > 2) # True\n",
    "print(3 <= 3) # True\n",
    "print(4 >= 3) # True"
   ]
  },
  {
   "cell_type": "code",
   "execution_count": null,
   "id": "17f70bc7-988f-48dc-a990-12a8511b4c14",
   "metadata": {},
   "outputs": [],
   "source": []
  }
 ],
 "metadata": {
  "kernelspec": {
   "display_name": "Python 3 (ipykernel)",
   "language": "python",
   "name": "python3"
  },
  "language_info": {
   "codemirror_mode": {
    "name": "ipython",
    "version": 3
   },
   "file_extension": ".py",
   "mimetype": "text/x-python",
   "name": "python",
   "nbconvert_exporter": "python",
   "pygments_lexer": "ipython3",
   "version": "3.11.1"
  }
 },
 "nbformat": 4,
 "nbformat_minor": 5
}
