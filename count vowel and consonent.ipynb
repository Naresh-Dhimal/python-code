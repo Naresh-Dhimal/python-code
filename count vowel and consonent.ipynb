{
 "cells": [
  {
   "cell_type": "markdown",
   "id": "bcaa8f97-824d-492a-b9dc-5c10fb6603c8",
   "metadata": {},
   "source": [
    "# Membership operator\n",
    "<b> in and not in are the membership operator"
   ]
  },
  {
   "cell_type": "code",
   "execution_count": 2,
   "id": "d5128bfc-e100-4838-91e3-a5ebcfb2388e",
   "metadata": {
    "scrolled": true
   },
   "outputs": [
    {
     "name": "stdout",
     "output_type": "stream",
     "text": [
      "i\n",
      "a\n",
      "u\n",
      "i\n",
      "i\n",
      "o\n",
      "a\n",
      "a\n",
      "The total number of vowel in iamstudyinginbroadways is 8.\n",
      "The total number of consonent in iamstudyinginbroadwaysis 14\n"
     ]
    }
   ],
   "source": [
    "message = 'iamstudyinginbroadways'\n",
    "count_vowel = 0\n",
    "count_conso = 0\n",
    "for index in range(0,len(message),1):\n",
    "    #print(index)\n",
    "    #print(message[index])\n",
    "    # letter = message[index]\n",
    "    if message[index] == 'a' or message[index] == 'e' or message[index] == 'i' or message[index] == 'o' or message[index] == 'u':\n",
    "        count_vowel = count_vowel + 1\n",
    "        print(message[index])\n",
    "    else:\n",
    "        count_conso = count_conso + 1\n",
    "print(f'The total number of vowel in {message} is {count_vowel}.')\n",
    "print(f'The total number of consonent in {message}is {count_conso}')"
   ]
  },
  {
   "cell_type": "code",
   "execution_count": 3,
   "id": "dc4f1f78-b7b3-42e5-a77c-25ef79774c89",
   "metadata": {},
   "outputs": [
    {
     "name": "stdout",
     "output_type": "stream",
     "text": [
      "isha\n"
     ]
    }
   ],
   "source": [
    "name = '!$h@'\n",
    "name = name.replace('!','i')\n",
    "name = name.replace('$','s')\n",
    "name = name.replace('@','a')\n",
    "print(name)"
   ]
  },
  {
   "cell_type": "code",
   "execution_count": null,
   "id": "8531832a-1ef7-4c93-87b6-97cfd3d9d1ee",
   "metadata": {},
   "outputs": [],
   "source": []
  }
 ],
 "metadata": {
  "kernelspec": {
   "display_name": "Python 3 (ipykernel)",
   "language": "python",
   "name": "python3"
  },
  "language_info": {
   "codemirror_mode": {
    "name": "ipython",
    "version": 3
   },
   "file_extension": ".py",
   "mimetype": "text/x-python",
   "name": "python",
   "nbconvert_exporter": "python",
   "pygments_lexer": "ipython3",
   "version": "3.11.1"
  }
 },
 "nbformat": 4,
 "nbformat_minor": 5
}
