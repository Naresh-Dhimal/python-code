{
 "cells": [
  {
   "cell_type": "code",
   "execution_count": 1,
   "id": "2348bd3c-ae64-4388-a32a-96204c009ec1",
   "metadata": {},
   "outputs": [],
   "source": [
    "a, b, c = 2, 0.3 , 1.1 + 2j"
   ]
  },
  {
   "cell_type": "code",
   "execution_count": null,
   "id": "e9880deb",
   "metadata": {},
   "outputs": [],
   "source": []
  },
  {
   "cell_type": "code",
   "execution_count": 2,
   "id": "8bed0234-933f-4627-8980-385fd420be6d",
   "metadata": {},
   "outputs": [
    {
     "name": "stdout",
     "output_type": "stream",
     "text": [
      "2\n"
     ]
    }
   ],
   "source": [
    "print(a) # int\n"
   ]
  },
  {
   "cell_type": "code",
   "execution_count": 3,
   "id": "63cdd6a5-3f6e-46e9-8317-2184dd656d49",
   "metadata": {},
   "outputs": [
    {
     "name": "stdout",
     "output_type": "stream",
     "text": [
      "0.3\n"
     ]
    }
   ],
   "source": [
    "print(b) # float"
   ]
  },
  {
   "cell_type": "code",
   "execution_count": 4,
   "id": "068801e8-9c0d-457d-8820-6e0226d1e16b",
   "metadata": {},
   "outputs": [
    {
     "name": "stdout",
     "output_type": "stream",
     "text": [
      "(1.1+2j)\n"
     ]
    }
   ],
   "source": [
    "print(c) #complex"
   ]
  },
  {
   "cell_type": "markdown",
   "id": "8214f93b-f146-4d77-9f1f-be34b0ea8866",
   "metadata": {},
   "source": [
    "# Checking data types"
   ]
  },
  {
   "cell_type": "code",
   "execution_count": 5,
   "id": "03e38b41-6645-4b2f-a532-54235a50645e",
   "metadata": {},
   "outputs": [
    {
     "data": {
      "text/plain": [
       "int"
      ]
     },
     "execution_count": 5,
     "metadata": {},
     "output_type": "execute_result"
    }
   ],
   "source": [
    "type(a)"
   ]
  },
  {
   "cell_type": "code",
   "execution_count": 6,
   "id": "fdcabcfc-420a-4370-aa53-b96f491d5398",
   "metadata": {},
   "outputs": [
    {
     "data": {
      "text/plain": [
       "float"
      ]
     },
     "execution_count": 6,
     "metadata": {},
     "output_type": "execute_result"
    }
   ],
   "source": [
    "type(b)"
   ]
  },
  {
   "cell_type": "code",
   "execution_count": 7,
   "id": "2f1a7024-70ce-454e-8fe1-e318bb20b368",
   "metadata": {},
   "outputs": [
    {
     "data": {
      "text/plain": [
       "complex"
      ]
     },
     "execution_count": 7,
     "metadata": {},
     "output_type": "execute_result"
    }
   ],
   "source": [
    "type(c)"
   ]
  },
  {
   "cell_type": "markdown",
   "id": "605f844a-6ec4-4f8e-92a5-51649c1fd47b",
   "metadata": {},
   "source": [
    "# Note\n",
    "str means string"
   ]
  },
  {
   "cell_type": "code",
   "execution_count": 9,
   "id": "14589d97-6ee8-43db-97f1-d6e8c2f0cc75",
   "metadata": {},
   "outputs": [
    {
     "data": {
      "text/plain": [
       "str"
      ]
     },
     "execution_count": 9,
     "metadata": {},
     "output_type": "execute_result"
    }
   ],
   "source": [
    "name = 'Naresh'\n",
    "type(name)"
   ]
  },
  {
   "cell_type": "markdown",
   "id": "d6a72c21-355f-4f62-b204-da6cf5d37411",
   "metadata": {},
   "source": [
    "# Type validaiton"
   ]
  },
  {
   "cell_type": "markdown",
   "id": "e6c5ac7f-09cc-43fa-ad63-36d496eb50f6",
   "metadata": {},
   "source": [
    "To check variable datatypes is true or false"
   ]
  },
  {
   "cell_type": "code",
   "execution_count": 11,
   "id": "23b2a2db-9d41-4152-b879-efe27f7d6b55",
   "metadata": {},
   "outputs": [
    {
     "data": {
      "text/plain": [
       "True"
      ]
     },
     "execution_count": 11,
     "metadata": {},
     "output_type": "execute_result"
    }
   ],
   "source": [
    "isinstance(a,int)"
   ]
  },
  {
   "cell_type": "code",
   "execution_count": 17,
   "id": "41d95a85-a493-4c5b-b485-58cf5d9428af",
   "metadata": {},
   "outputs": [
    {
     "data": {
      "text/plain": [
       "False"
      ]
     },
     "execution_count": 17,
     "metadata": {},
     "output_type": "execute_result"
    }
   ],
   "source": [
    "isinstance(a,float)"
   ]
  },
  {
   "cell_type": "code",
   "execution_count": 13,
   "id": "6aa8dcd7-9f97-4f00-bdcc-a39884fec150",
   "metadata": {},
   "outputs": [
    {
     "data": {
      "text/plain": [
       "True"
      ]
     },
     "execution_count": 13,
     "metadata": {},
     "output_type": "execute_result"
    }
   ],
   "source": [
    "isinstance(c, complex)"
   ]
  },
  {
   "cell_type": "code",
   "execution_count": 14,
   "id": "1aeb0a99-94ce-423b-b3b7-94da8c1fd2a5",
   "metadata": {},
   "outputs": [
    {
     "data": {
      "text/plain": [
       "bool"
      ]
     },
     "execution_count": 14,
     "metadata": {},
     "output_type": "execute_result"
    }
   ],
   "source": [
    "type(True)"
   ]
  },
  {
   "cell_type": "code",
   "execution_count": 16,
   "id": "27a850ec-8512-4bb2-af01-4b3122823e76",
   "metadata": {},
   "outputs": [
    {
     "data": {
      "text/plain": [
       "bool"
      ]
     },
     "execution_count": 16,
     "metadata": {},
     "output_type": "execute_result"
    }
   ],
   "source": [
    "type(False)"
   ]
  },
  {
   "cell_type": "markdown",
   "id": "53ad92c5-cfe0-4bbd-b1e5-22ac6b6701db",
   "metadata": {},
   "source": [
    "# Data Types in Python\n",
    "* Python Numbers : int , float, complex\n",
    "* Python String\n",
    "* Python List\n",
    "* Python Tuple\n",
    "* Python set\n",
    "* Python Dictionary\n",
    "\n",
    "\n",
    "\n",
    "<br>\n",
    "List , set, Tuple and Dictionary are the 4 built-in datatypes of python"
   ]
  },
  {
   "cell_type": "code",
   "execution_count": 18,
   "id": "b245f8bd-baa0-488d-87ea-71d6b57cf021",
   "metadata": {},
   "outputs": [
    {
     "data": {
      "text/plain": [
       "2"
      ]
     },
     "execution_count": 18,
     "metadata": {},
     "output_type": "execute_result"
    }
   ],
   "source": [
    "True + True"
   ]
  },
  {
   "cell_type": "code",
   "execution_count": 19,
   "id": "a7665a10-ed1b-43c6-a866-a654e10603dc",
   "metadata": {},
   "outputs": [
    {
     "data": {
      "text/plain": [
       "1"
      ]
     },
     "execution_count": 19,
     "metadata": {},
     "output_type": "execute_result"
    }
   ],
   "source": [
    "True + False"
   ]
  },
  {
   "cell_type": "code",
   "execution_count": 20,
   "id": "243c46aa-41d0-41c6-99aa-1563034befa5",
   "metadata": {},
   "outputs": [
    {
     "data": {
      "text/plain": [
       "1"
      ]
     },
     "execution_count": 20,
     "metadata": {},
     "output_type": "execute_result"
    }
   ],
   "source": [
    "False + True"
   ]
  },
  {
   "cell_type": "code",
   "execution_count": 21,
   "id": "b2d86b4a-d9c8-48a3-9cea-2c58c3e0400e",
   "metadata": {},
   "outputs": [
    {
     "data": {
      "text/plain": [
       "0"
      ]
     },
     "execution_count": 21,
     "metadata": {},
     "output_type": "execute_result"
    }
   ],
   "source": [
    "False + False"
   ]
  },
  {
   "cell_type": "code",
   "execution_count": null,
   "id": "a841a6ac-278e-47f3-80b8-17ddb6ef8fb8",
   "metadata": {},
   "outputs": [],
   "source": []
  }
 ],
 "metadata": {
  "kernelspec": {
   "display_name": "Python 3 (ipykernel)",
   "language": "python",
   "name": "python3"
  },
  "language_info": {
   "codemirror_mode": {
    "name": "ipython",
    "version": 3
   },
   "file_extension": ".py",
   "mimetype": "text/x-python",
   "name": "python",
   "nbconvert_exporter": "python",
   "pygments_lexer": "ipython3",
   "version": "3.11.1"
  }
 },
 "nbformat": 4,
 "nbformat_minor": 5
}
