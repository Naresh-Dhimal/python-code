{
 "cells": [
  {
   "cell_type": "markdown",
   "id": "0486e7a8-b200-419d-93a3-c3188fa66baf",
   "metadata": {},
   "source": [
    "# Inheritance"
   ]
  },
  {
   "cell_type": "code",
   "execution_count": 2,
   "id": "b89caa2d-b09a-45fe-90cb-28d47042a1be",
   "metadata": {},
   "outputs": [
    {
     "ename": "AttributeError",
     "evalue": "'Child' object has no attribute 'eyes'",
     "output_type": "error",
     "traceback": [
      "\u001b[1;31m---------------------------------------------------------------------------\u001b[0m",
      "\u001b[1;31mAttributeError\u001b[0m                            Traceback (most recent call last)",
      "Cell \u001b[1;32mIn[2], line 10\u001b[0m\n\u001b[0;32m      6\u001b[0m     hair \u001b[38;5;241m=\u001b[39m \u001b[38;5;124m\"\u001b[39m\u001b[38;5;124mwhite\u001b[39m\u001b[38;5;124m\"\u001b[39m \u001b[38;5;66;03m# child class attribute\u001b[39;00m\n\u001b[0;32m      9\u001b[0m c1 \u001b[38;5;241m=\u001b[39m Child()\n\u001b[1;32m---> 10\u001b[0m \u001b[43mc1\u001b[49m\u001b[38;5;241;43m.\u001b[39;49m\u001b[43meyes\u001b[49m \u001b[38;5;66;03m# yo garna paudaina because eyes in an attribute of parent class\u001b[39;00m\n",
      "\u001b[1;31mAttributeError\u001b[0m: 'Child' object has no attribute 'eyes'"
     ]
    }
   ],
   "source": [
    "# example: \n",
    "class Parent:\n",
    "    eyes = \"Brown\" # parent class attribute\n",
    "    \n",
    "class Child:\n",
    "    hair = \"white\" # child class attribute\n",
    "\n",
    "\n",
    "c1 = Child()\n",
    "c1.eyes # yo garna paudaina because eyes in an attribute of parent class\n"
   ]
  },
  {
   "cell_type": "markdown",
   "id": "6709ddab-3c13-476c-bf10-1104e78908c5",
   "metadata": {},
   "source": [
    "# Single inheritance"
   ]
  },
  {
   "cell_type": "code",
   "execution_count": 4,
   "id": "1de63257-163d-46eb-95e5-d251c96f5dbe",
   "metadata": {},
   "outputs": [],
   "source": [
    "class Parent:\n",
    "    eyes = \"Brown\" # parent class attribute\n",
    "    \n",
    "class Child(Parent): # step 1 pass parent class as an argument on child class\n",
    "    hair = \"white\" # child class attribute\n",
    "    def __inti__(self):\n",
    "        super().__init__() # step2: call the super() method"
   ]
  },
  {
   "cell_type": "code",
   "execution_count": 5,
   "id": "20bcf41c-0bba-4a93-8910-ed94d2f1130e",
   "metadata": {},
   "outputs": [
    {
     "data": {
      "text/plain": [
       "'Brown'"
      ]
     },
     "execution_count": 5,
     "metadata": {},
     "output_type": "execute_result"
    }
   ],
   "source": [
    "c1 = Child()\n",
    "c1.eyes"
   ]
  },
  {
   "cell_type": "code",
   "execution_count": 6,
   "id": "8d1a8474-11e5-430c-a3f2-fdf4cdf07e38",
   "metadata": {},
   "outputs": [
    {
     "data": {
      "text/plain": [
       "'white'"
      ]
     },
     "execution_count": 6,
     "metadata": {},
     "output_type": "execute_result"
    }
   ],
   "source": [
    "c1.hair\n"
   ]
  },
  {
   "cell_type": "code",
   "execution_count": 33,
   "id": "ef75ecfe-de89-425a-9028-5644d3589989",
   "metadata": {},
   "outputs": [],
   "source": [
    "# another Example\n",
    "class Computer:\n",
    "    def __init__(self, model):\n",
    "        self.model = model\n",
    "    def show_model(self):\n",
    "        print(f\"Your model is {self.model}.\")\n",
    "\n",
    "class Mobile(Computer): # step 1:\n",
    "    def __init__(self, has_flash, model):\n",
    "        self.has_flash = has_flash\n",
    "        super().__init__(model) # step 2:\n",
    "        "
   ]
  },
  {
   "cell_type": "code",
   "execution_count": 29,
   "id": "d36d3bb1-c472-4cbe-ab13-0e2e78e864a9",
   "metadata": {},
   "outputs": [],
   "source": [
    "m1 = Mobile(has_flash=True, model=\"Iphone\")"
   ]
  },
  {
   "cell_type": "code",
   "execution_count": 30,
   "id": "3f0e8146-1f37-4a22-8dfe-93948e506eb0",
   "metadata": {},
   "outputs": [
    {
     "data": {
      "text/plain": [
       "'Iphone'"
      ]
     },
     "execution_count": 30,
     "metadata": {},
     "output_type": "execute_result"
    }
   ],
   "source": [
    "m1.model\n"
   ]
  },
  {
   "cell_type": "code",
   "execution_count": 31,
   "id": "6047752c-e815-4f8b-a8d5-8968a5a9a184",
   "metadata": {},
   "outputs": [
    {
     "data": {
      "text/plain": [
       "True"
      ]
     },
     "execution_count": 31,
     "metadata": {},
     "output_type": "execute_result"
    }
   ],
   "source": [
    "m1.has_flash"
   ]
  },
  {
   "cell_type": "code",
   "execution_count": 32,
   "id": "ee8a874e-10b0-40c7-8bb8-a69bcfcc6846",
   "metadata": {},
   "outputs": [
    {
     "name": "stdout",
     "output_type": "stream",
     "text": [
      "Your model is Iphone.\n"
     ]
    }
   ],
   "source": [
    "m1.show_model()"
   ]
  },
  {
   "cell_type": "markdown",
   "id": "5fb9739b-d915-4de5-910f-37f2e597da2f",
   "metadata": {},
   "source": [
    "# Multiple inheritance"
   ]
  },
  {
   "cell_type": "code",
   "execution_count": 35,
   "id": "9eb1c95c-169e-4da5-87d9-46ed82999f27",
   "metadata": {},
   "outputs": [],
   "source": [
    "class Father:\n",
    "    father_name = \"Ram\"\n",
    "\n",
    "class Mother:\n",
    "    mother_name = \"sita\"\n",
    "\n",
    "class Child(Father, Mother): # step 1:\n",
    "    child_name = \"love-kush\"\n",
    "    def __init__(self):\n",
    "        Father.__init__(self) # step 2:\n",
    "        Mother.__init__(self) # step 2:\n",
    "        \n",
    "        \n",
    "        "
   ]
  },
  {
   "cell_type": "code",
   "execution_count": 36,
   "id": "f73d982a-7966-4527-bb23-52da1c4f083a",
   "metadata": {},
   "outputs": [
    {
     "data": {
      "text/plain": [
       "'Ram'"
      ]
     },
     "execution_count": 36,
     "metadata": {},
     "output_type": "execute_result"
    }
   ],
   "source": [
    "c1 = Child()\n",
    "c1.father_name"
   ]
  },
  {
   "cell_type": "code",
   "execution_count": 37,
   "id": "1b77365d-7fc2-4164-a01d-f9f1ab886d92",
   "metadata": {},
   "outputs": [
    {
     "data": {
      "text/plain": [
       "'sita'"
      ]
     },
     "execution_count": 37,
     "metadata": {},
     "output_type": "execute_result"
    }
   ],
   "source": [
    "c1.mother_name"
   ]
  },
  {
   "cell_type": "markdown",
   "id": "24c7e86e-832e-47d1-b4de-188c2e02ec4a",
   "metadata": {},
   "source": [
    "# Multi_level inheritance"
   ]
  },
  {
   "cell_type": "code",
   "execution_count": 50,
   "id": "99c3b3f1-4921-4c02-ab43-81df8dd93ac5",
   "metadata": {},
   "outputs": [],
   "source": [
    "class Grandfather:\n",
    "    g_name = \"Dasarath\"\n",
    "    eyes = \"black\"\n",
    "\n",
    "class Father(Grandfather):\n",
    "    f_name  = \"Ram\"\n",
    "    def __init__(self):\n",
    "        Grandfather.__init__(self)\n",
    "\n",
    "class Child(Father):\n",
    "    c_name = \"Lov-kush\"\n",
    "    def __init__(self):\n",
    "        Father().__init__(self)"
   ]
  },
  {
   "cell_type": "code",
   "execution_count": 48,
   "id": "95e92ecd-b03b-4449-a8c5-677cfe0cac8e",
   "metadata": {},
   "outputs": [
    {
     "data": {
      "text/plain": [
       "'Dasarath'"
      ]
     },
     "execution_count": 48,
     "metadata": {},
     "output_type": "execute_result"
    }
   ],
   "source": [
    "c1 = Child()\n",
    "c1.g_name"
   ]
  },
  {
   "cell_type": "code",
   "execution_count": 49,
   "id": "10d4dac8-7862-410e-9333-d0494d73b449",
   "metadata": {},
   "outputs": [
    {
     "data": {
      "text/plain": [
       "'black'"
      ]
     },
     "execution_count": 49,
     "metadata": {},
     "output_type": "execute_result"
    }
   ],
   "source": [
    "c1.eyes"
   ]
  },
  {
   "cell_type": "code",
   "execution_count": null,
   "id": "3b2a4248-a222-45db-a28c-d8848daa1c46",
   "metadata": {},
   "outputs": [],
   "source": []
  }
 ],
 "metadata": {
  "kernelspec": {
   "display_name": "Python 3 (ipykernel)",
   "language": "python",
   "name": "python3"
  },
  "language_info": {
   "codemirror_mode": {
    "name": "ipython",
    "version": 3
   },
   "file_extension": ".py",
   "mimetype": "text/x-python",
   "name": "python",
   "nbconvert_exporter": "python",
   "pygments_lexer": "ipython3",
   "version": "3.11.1"
  }
 },
 "nbformat": 4,
 "nbformat_minor": 5
}
