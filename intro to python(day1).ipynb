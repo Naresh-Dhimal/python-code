{
 "cells": [
  {
   "cell_type": "code",
   "execution_count": 1,
   "id": "540a1f65-f7f2-460f-9876-8fb675a4bc28",
   "metadata": {},
   "outputs": [
    {
     "data": {
      "text/plain": [
       "4"
      ]
     },
     "execution_count": 1,
     "metadata": {},
     "output_type": "execute_result"
    }
   ],
   "source": [
    "2 + 2"
   ]
  },
  {
   "cell_type": "code",
   "execution_count": 2,
   "id": "cb38730c-e551-4096-a12e-4833b2f0ec26",
   "metadata": {},
   "outputs": [
    {
     "data": {
      "text/plain": [
       "7"
      ]
     },
     "execution_count": 2,
     "metadata": {},
     "output_type": "execute_result"
    }
   ],
   "source": [
    "2 + 5"
   ]
  },
  {
   "cell_type": "code",
   "execution_count": 3,
   "id": "3255393f-ca3c-4449-becd-f18997382b96",
   "metadata": {},
   "outputs": [
    {
     "data": {
      "text/plain": [
       "1"
      ]
     },
     "execution_count": 3,
     "metadata": {},
     "output_type": "execute_result"
    }
   ],
   "source": [
    "6 - 5"
   ]
  },
  {
   "cell_type": "code",
   "execution_count": 4,
   "id": "c531c9a4-3806-4164-b928-bf7c55137b7e",
   "metadata": {},
   "outputs": [
    {
     "data": {
      "text/plain": [
       "32"
      ]
     },
     "execution_count": 4,
     "metadata": {},
     "output_type": "execute_result"
    }
   ],
   "source": [
    "4 * 8"
   ]
  },
  {
   "cell_type": "code",
   "execution_count": 15,
   "id": "0f2e06bc-8783-467a-8a09-bf115fe44192",
   "metadata": {},
   "outputs": [
    {
     "data": {
      "text/plain": [
       "3.5"
      ]
     },
     "execution_count": 15,
     "metadata": {},
     "output_type": "execute_result"
    }
   ],
   "source": [
    "7 / 2"
   ]
  },
  {
   "cell_type": "code",
   "execution_count": 7,
   "id": "ddbaa356-268a-4c5b-8360-de657ac6657a",
   "metadata": {},
   "outputs": [
    {
     "name": "stdout",
     "output_type": "stream",
     "text": [
      "hello world\n"
     ]
    }
   ],
   "source": [
    "print(\"hello world\")"
   ]
  },
  {
   "cell_type": "code",
   "execution_count": 13,
   "id": "f7ce213d-b640-4b96-bb16-451176015458",
   "metadata": {},
   "outputs": [
    {
     "name": "stdout",
     "output_type": "stream",
     "text": [
      "14\n"
     ]
    }
   ],
   "source": [
    "print(2 + 12)"
   ]
  },
  {
   "cell_type": "code",
   "execution_count": 14,
   "id": "ba217ab5-8fee-4a62-bef4-1541de937152",
   "metadata": {},
   "outputs": [
    {
     "name": "stdout",
     "output_type": "stream",
     "text": [
      "2.5\n"
     ]
    }
   ],
   "source": [
    "print(5 / 2)"
   ]
  },
  {
   "cell_type": "code",
   "execution_count": 10,
   "id": "e858063e-4cb8-456b-8285-3f4647aa9eb8",
   "metadata": {},
   "outputs": [
    {
     "ename": "SyntaxError",
     "evalue": "invalid syntax. Perhaps you forgot a comma? (2497053111.py, line 1)",
     "output_type": "error",
     "traceback": [
      "\u001b[1;36m  Cell \u001b[1;32mIn[10], line 1\u001b[1;36m\u001b[0m\n\u001b[1;33m    print(hello world)\u001b[0m\n\u001b[1;37m          ^\u001b[0m\n\u001b[1;31mSyntaxError\u001b[0m\u001b[1;31m:\u001b[0m invalid syntax. Perhaps you forgot a comma?\n"
     ]
    }
   ],
   "source": [
    "print(hello world) # string or text lai double or single quote ma lekhnu parxa"
   ]
  },
  {
   "cell_type": "code",
   "execution_count": 11,
   "id": "9a934dd5-6adc-4159-91f2-87576820bc18",
   "metadata": {},
   "outputs": [],
   "source": [
    "#hash bata  start hune lai comment vanxa ra eslai python le execute gardaena"
   ]
  },
  {
   "cell_type": "code",
   "execution_count": 12,
   "id": "b67341d0-5af2-4095-90d0-385d5274d88b",
   "metadata": {},
   "outputs": [
    {
     "name": "stdout",
     "output_type": "stream",
     "text": [
      "Hello world\n"
     ]
    }
   ],
   "source": [
    "print('Hello world')"
   ]
  },
  {
   "cell_type": "code",
   "execution_count": 17,
   "id": "e5be80a1-92c5-4c0f-a4d2-fcd30650ec70",
   "metadata": {},
   "outputs": [
    {
     "name": "stdout",
     "output_type": "stream",
     "text": [
      "Hello world!\n"
     ]
    }
   ],
   "source": [
    "print('Hello world!')"
   ]
  },
  {
   "cell_type": "code",
   "execution_count": 18,
   "id": "b3508f92-cfce-43f2-acf8-8ec89213f9a4",
   "metadata": {},
   "outputs": [
    {
     "name": "stdout",
     "output_type": "stream",
     "text": [
      "MY Name is Naresh Dhimal\n"
     ]
    }
   ],
   "source": [
    "print(\"MY Name is Naresh Dhimal\")"
   ]
  },
  {
   "cell_type": "code",
   "execution_count": 19,
   "id": "adde1f24-06f2-40a1-98a1-ecf84daa6dcd",
   "metadata": {},
   "outputs": [
    {
     "name": "stdout",
     "output_type": "stream",
     "text": [
      "My name is Naresh Dhimal\n"
     ]
    }
   ],
   "source": [
    "print(\"My name is Naresh Dhimal\")"
   ]
  },
  {
   "cell_type": "code",
   "execution_count": 20,
   "id": "1c95bc9d-0319-46eb-9f67-0725bb2c95a1",
   "metadata": {},
   "outputs": [
    {
     "name": "stdout",
     "output_type": "stream",
     "text": [
      "My name is Naresh Dhimal\n"
     ]
    }
   ],
   "source": [
    "print('My name is Naresh Dhimal')"
   ]
  },
  {
   "cell_type": "markdown",
   "id": "b3b1cb80-cc7b-4ce4-8e67-f040b85132c7",
   "metadata": {},
   "source": [
    "# Python as a Calculator(algebra)"
   ]
  },
  {
   "cell_type": "code",
   "execution_count": 21,
   "id": "92663ecd-e102-489d-a496-d88c1fb6809e",
   "metadata": {},
   "outputs": [
    {
     "name": "stdout",
     "output_type": "stream",
     "text": [
      "12\n"
     ]
    }
   ],
   "source": [
    "a = 8 \n",
    "b = 4\n",
    "c = a + b\n",
    "print(c)"
   ]
  },
  {
   "cell_type": "markdown",
   "id": "59568776-bb7a-4453-a28a-2d4d9dd38799",
   "metadata": {},
   "source": [
    "# `a, b and c` are variables"
   ]
  },
  {
   "cell_type": "markdown",
   "id": "f177f732-57d3-4385-bab3-d108627ef4b6",
   "metadata": {},
   "source": [
    "# A python variable is a reserved memory location to store values"
   ]
  },
  {
   "cell_type": "code",
   "execution_count": 22,
   "id": "798384a5-acce-4e22-81a4-96b8d75f5e85",
   "metadata": {},
   "outputs": [
    {
     "name": "stdout",
     "output_type": "stream",
     "text": [
      "-1\n"
     ]
    }
   ],
   "source": [
    "p = 9\n",
    "q = 10\n",
    "r = p - q\n",
    "print(r)\n"
   ]
  },
  {
   "cell_type": "markdown",
   "id": "9aafee07-ae53-4e86-b4ad-388ebbdc20a4",
   "metadata": {},
   "source": [
    "# In above code p, q and r are variables."
   ]
  },
  {
   "cell_type": "code",
   "execution_count": 25,
   "id": "9ee3bef1-6a86-46f2-9d07-3e500790da2f",
   "metadata": {},
   "outputs": [
    {
     "name": "stdout",
     "output_type": "stream",
     "text": [
      "30\n"
     ]
    }
   ],
   "source": [
    "x = 6\n",
    "y = 5\n",
    "z = x * y\n",
    "print(z)"
   ]
  },
  {
   "cell_type": "code",
   "execution_count": 24,
   "id": "96363e88-7fbd-478c-8ee0-32d431f8bd50",
   "metadata": {},
   "outputs": [
    {
     "name": "stdout",
     "output_type": "stream",
     "text": [
      "2.3333333333333335\n"
     ]
    }
   ],
   "source": [
    "x = 7\n",
    "y = 3\n",
    "z = x / y\n",
    "print(z)"
   ]
  },
  {
   "cell_type": "markdown",
   "id": "0fd974ae-f959-4872-aa11-3335a18deb75",
   "metadata": {},
   "source": [
    "# Python is a high level interpreted programmming languages.\n",
    "Easy to use"
   ]
  },
  {
   "cell_type": "markdown",
   "id": "a8f4b2f5-bec0-4dee-9b9f-a174bbe1f85d",
   "metadata": {
    "jp-MarkdownHeadingCollapsed": true
   },
   "source": [
    "# what is python?\n",
    "Python is a high level interpreted programming languages.\n",
    "Python is dynamic typing language.( 1 + \"2\" unsupported operanded types  for +: 'int' and 'str').\n",
    "\n",
    "# What is Pip?\n",
    "Pip is the package installer for Python. The standard package manager for Python. It allows you to install and manage packages.\n",
    "\n",
    "# What is Pypi?\n",
    "The Python Package Index (PyPI) is a repository of software package for the Python programming language. "
   ]
  },
  {
   "cell_type": "markdown",
   "id": "4c6f069e-6f70-475e-94de-f7c6b1df4a42",
   "metadata": {},
   "source": [
    "# What is dynamic typing and static typing?\n",
    "Static typing requires user to define datatpye before initialization of variables.\n",
    "Dynamic typing not necessary to define datatype before initialization. \n",
    "\n",
    "# Compiled and interpreted difference\n",
    "Interpreted - one statement at a time\n",
    "compiled - entire program and translate \n",
    "\n",
    "# What is variable?\n",
    "Python variables are simply containers for storing data values.\n",
    "\n",
    "# What is DataTpye?\n",
    "Data type are classification of the type of value a variable has."
   ]
  },
  {
   "cell_type": "code",
   "execution_count": 1,
   "id": "11a4ce02-670a-468b-b740-cac76240a55f",
   "metadata": {},
   "outputs": [
    {
     "name": "stdout",
     "output_type": "stream",
     "text": [
      "30.5\n"
     ]
    }
   ],
   "source": [
    "first_number = 60.5 #\"first_number\" is variable name ,\"=\" is arithmetic operator(subtraction) and 60.5 is value.\n",
    "second_number = 30\n",
    "difference = first_number - second_number\n",
    "print(difference)"
   ]
  },
  {
   "cell_type": "code",
   "execution_count": 1,
   "id": "e2f0382c-53db-47fa-95ec-d015634f91b6",
   "metadata": {},
   "outputs": [
    {
     "data": {
      "text/plain": [
       "4"
      ]
     },
     "execution_count": 1,
     "metadata": {},
     "output_type": "execute_result"
    }
   ],
   "source": [
    "2 + 2"
   ]
  },
  {
   "cell_type": "code",
   "execution_count": 2,
   "id": "66ffa238-53bf-43ba-a9fe-9e99c8bbe463",
   "metadata": {},
   "outputs": [
    {
     "name": "stdout",
     "output_type": "stream",
     "text": [
      "4\n"
     ]
    }
   ],
   "source": [
    "a = 2 \n",
    "b = 2\n",
    "c = a + b\n",
    "print(c)"
   ]
  },
  {
   "cell_type": "code",
   "execution_count": null,
   "id": "6b98afd7-8ffd-490f-84ea-d8ad9f1a692f",
   "metadata": {},
   "outputs": [],
   "source": []
  }
 ],
 "metadata": {
  "kernelspec": {
   "display_name": "Python 3 (ipykernel)",
   "language": "python",
   "name": "python3"
  },
  "language_info": {
   "codemirror_mode": {
    "name": "ipython",
    "version": 3
   },
   "file_extension": ".py",
   "mimetype": "text/x-python",
   "name": "python",
   "nbconvert_exporter": "python",
   "pygments_lexer": "ipython3",
   "version": "3.11.1"
  }
 },
 "nbformat": 4,
 "nbformat_minor": 5
}
