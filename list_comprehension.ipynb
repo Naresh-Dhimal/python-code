{
 "cells": [
  {
   "cell_type": "markdown",
   "id": "6de74c99-58ce-4b8e-adab-fc29f160c2fc",
   "metadata": {},
   "source": [
    "# List comprehension"
   ]
  },
  {
   "cell_type": "code",
   "execution_count": 1,
   "id": "25ced9f4-7d9e-4581-afb2-9347eb11300a",
   "metadata": {},
   "outputs": [],
   "source": [
    "nums = [8, 3, 4, 5]"
   ]
  },
  {
   "cell_type": "code",
   "execution_count": 3,
   "id": "c43b4b21-15b9-4790-8e71-9736a478eb01",
   "metadata": {},
   "outputs": [
    {
     "data": {
      "text/plain": [
       "[64, 9, 16, 25]"
      ]
     },
     "execution_count": 3,
     "metadata": {},
     "output_type": "execute_result"
    }
   ],
   "source": [
    "sq = []\n",
    "for item in nums:\n",
    "    sq.append(item ** 2)\n",
    "sq"
   ]
  },
  {
   "cell_type": "code",
   "execution_count": 4,
   "id": "362d5376-89f6-49d6-baaa-712452a30647",
   "metadata": {},
   "outputs": [],
   "source": [
    "nums = [8, 3, 4, 5]\n",
    "sq = [item ** 2 for item in nums]"
   ]
  },
  {
   "cell_type": "code",
   "execution_count": 5,
   "id": "8094ccd5-4fa2-41df-b552-ddc3c03a0288",
   "metadata": {},
   "outputs": [
    {
     "data": {
      "text/plain": [
       "[64, 9, 16, 25]"
      ]
     },
     "execution_count": 5,
     "metadata": {},
     "output_type": "execute_result"
    }
   ],
   "source": [
    "sq"
   ]
  },
  {
   "cell_type": "markdown",
   "id": "0faf21a0-628b-44a7-9721-1916b396d162",
   "metadata": {},
   "source": [
    "# Syntax\n",
    "```python\n",
    "[Expression for item in iterables]\n",
    "```"
   ]
  },
  {
   "cell_type": "code",
   "execution_count": 6,
   "id": "a4a6f7d6-47c3-49ad-b4f8-d8bcac1600f3",
   "metadata": {},
   "outputs": [
    {
     "data": {
      "text/plain": [
       "[512, 27, 64, 125]"
      ]
     },
     "execution_count": 6,
     "metadata": {},
     "output_type": "execute_result"
    }
   ],
   "source": [
    "nums = [8, 3, 4, 5]\n",
    "cube = [item ** 3 for item in nums]\n",
    "cube"
   ]
  },
  {
   "cell_type": "code",
   "execution_count": 7,
   "id": "497e42e9-da8c-4d84-958b-8910d7e4cbed",
   "metadata": {},
   "outputs": [],
   "source": [
    "# An expression is a combination of values, variables, operators, and calls to functions."
   ]
  },
  {
   "cell_type": "markdown",
   "id": "992da72c-2978-4a31-96c1-2b8fd747a783",
   "metadata": {},
   "source": [
    "# randomly generate 10 number bewteen -5 to 5 using list comprehension"
   ]
  },
  {
   "cell_type": "code",
   "execution_count": 11,
   "id": "1d7a2114-4d1a-447e-ab17-b8f77da1b1d6",
   "metadata": {
    "scrolled": true
   },
   "outputs": [
    {
     "data": {
      "text/plain": [
       "-3"
      ]
     },
     "execution_count": 11,
     "metadata": {},
     "output_type": "execute_result"
    }
   ],
   "source": [
    "import random\n",
    "random.randint(-5,5) # non deterministic "
   ]
  },
  {
   "cell_type": "raw",
   "id": "ce16a996-52c2-4d58-a545-38b3a7d51bae",
   "metadata": {},
   "source": [
    "import random\n",
    "random.seed(2022) # deterministic random number generation \n",
    "random.randint(-5,5)"
   ]
  },
  {
   "cell_type": "code",
   "execution_count": 21,
   "id": "8b03cd80-0491-4df5-8cdb-33d2377e8f7d",
   "metadata": {},
   "outputs": [
    {
     "data": {
      "text/plain": [
       "[1, 1, -5, -1, 3, 2, 1, -1, 2, 0]"
      ]
     },
     "execution_count": 21,
     "metadata": {},
     "output_type": "execute_result"
    }
   ],
   "source": [
    "random.seed(0)\n",
    "random_numbers = [random.randint(-5,5) for index in range(10)]\n",
    "random_numbers"
   ]
  },
  {
   "cell_type": "markdown",
   "id": "84b2b443-ea74-4091-b9de-0f489876e99e",
   "metadata": {},
   "source": [
    "# list comprehension with if else statement"
   ]
  },
  {
   "cell_type": "markdown",
   "id": "bebf8c46-1ba8-4044-8abb-379f9f1449a2",
   "metadata": {},
   "source": [
    "# Extract positive number"
   ]
  },
  {
   "cell_type": "code",
   "execution_count": 33,
   "id": "2657461e-097e-404b-9965-4bcf132bc2bf",
   "metadata": {},
   "outputs": [
    {
     "data": {
      "text/plain": [
       "[1, 1, 3]"
      ]
     },
     "execution_count": 33,
     "metadata": {},
     "output_type": "execute_result"
    }
   ],
   "source": [
    "num = [1, 1, -5, -1, 3]\n",
    "positive_num = []\n",
    "for item in num:\n",
    "    # print(type(item))\n",
    "    if item > 0:\n",
    "        positive_num.append(item)\n",
    "positive_num"
   ]
  },
  {
   "cell_type": "code",
   "execution_count": 25,
   "id": "2bf24c96-5039-4b20-8ea3-4aeffa656ef5",
   "metadata": {},
   "outputs": [
    {
     "data": {
      "text/plain": [
       "[1, 1, 3]"
      ]
     },
     "execution_count": 25,
     "metadata": {},
     "output_type": "execute_result"
    }
   ],
   "source": [
    "num = [1, 1, -5, -1, 3]\n",
    "pos = [item for item in num if item > 0]\n",
    "pos"
   ]
  },
  {
   "cell_type": "code",
   "execution_count": 40,
   "id": "05d3604c-2aa3-429d-bd63-625e203d70b2",
   "metadata": {},
   "outputs": [
    {
     "data": {
      "text/plain": [
       "['naresh', 'dhimal']"
      ]
     },
     "execution_count": 40,
     "metadata": {},
     "output_type": "execute_result"
    }
   ],
   "source": [
    "list_1 = [\"naresh\", 12, 21, \"dhimal\"]\n",
    "string_1 = [item for item in list_1 if type(item) is str]\n",
    "string_1"
   ]
  },
  {
   "cell_type": "code",
   "execution_count": 35,
   "id": "3de796d2-1b20-43cd-9146-cef44ee1b65b",
   "metadata": {},
   "outputs": [
    {
     "data": {
      "text/plain": [
       "True"
      ]
     },
     "execution_count": 35,
     "metadata": {},
     "output_type": "execute_result"
    }
   ],
   "source": [
    "name = 'ndfjn'\n",
    "name != str"
   ]
  },
  {
   "cell_type": "code",
   "execution_count": 39,
   "id": "c8863c37-ddad-4eb8-8c00-892dbcd9f083",
   "metadata": {},
   "outputs": [
    {
     "data": {
      "text/plain": [
       "True"
      ]
     },
     "execution_count": 39,
     "metadata": {},
     "output_type": "execute_result"
    }
   ],
   "source": [
    "type(name) is str"
   ]
  },
  {
   "cell_type": "code",
   "execution_count": 38,
   "id": "816c373b-ba7d-4fdc-b459-e4c0193a9ba7",
   "metadata": {},
   "outputs": [
    {
     "data": {
      "text/plain": [
       "False"
      ]
     },
     "execution_count": 38,
     "metadata": {},
     "output_type": "execute_result"
    }
   ],
   "source": [
    "n = 12\n",
    "type(n) != int"
   ]
  },
  {
   "cell_type": "markdown",
   "id": "1501143b-66ce-41c3-acde-7b3a4ab135aa",
   "metadata": {},
   "source": [
    "# List comprehension with if else\n",
    "```Python\n",
    "[Expression if True else expression for item in iterable]\n",
    "```"
   ]
  },
  {
   "cell_type": "markdown",
   "id": "68af318a-4f44-433d-acdb-716541427f48",
   "metadata": {},
   "source": [
    "<img src = \"https://www.nomidl.com/wp-content/uploads/2022/04/image-10.png\" height = 350 width = 350>"
   ]
  },
  {
   "cell_type": "code",
   "execution_count": 44,
   "id": "4f2cc8ff-f597-4e99-9e55-226d4e68663b",
   "metadata": {},
   "outputs": [],
   "source": [
    "x = range(-10, 11)"
   ]
  },
  {
   "cell_type": "code",
   "execution_count": 45,
   "id": "e141af74-06b3-4ed9-a8a7-1e125b7a4327",
   "metadata": {},
   "outputs": [
    {
     "data": {
      "text/plain": [
       "[0, 0, 0, 0, 0, 0, 0, 0, 0, 0, 0, 1, 2, 3, 4, 5, 6, 7, 8, 9, 10]"
      ]
     },
     "execution_count": 45,
     "metadata": {},
     "output_type": "execute_result"
    }
   ],
   "source": [
    "output = []\n",
    "for item in x:\n",
    "    if item <= 0:\n",
    "        output.append(0)\n",
    "    else:\n",
    "        output.append(item)\n",
    "output"
   ]
  },
  {
   "cell_type": "code",
   "execution_count": 47,
   "id": "b120c0a0-f268-409b-9512-04b0dfa699fa",
   "metadata": {},
   "outputs": [
    {
     "data": {
      "text/plain": [
       "[0, 0, 0, 0, 0, 0, 0, 0, 0, 0, 0, 1, 2, 3, 4, 5, 6, 7, 8, 9, 10]"
      ]
     },
     "execution_count": 47,
     "metadata": {},
     "output_type": "execute_result"
    }
   ],
   "source": [
    "output = [0 if item <= 0 else item for item in x]\n",
    "output"
   ]
  },
  {
   "cell_type": "code",
   "execution_count": null,
   "id": "ba8c10ac-8b17-43a7-a0ab-bea03df4c1c3",
   "metadata": {},
   "outputs": [],
   "source": []
  }
 ],
 "metadata": {
  "kernelspec": {
   "display_name": "Python 3 (ipykernel)",
   "language": "python",
   "name": "python3"
  },
  "language_info": {
   "codemirror_mode": {
    "name": "ipython",
    "version": 3
   },
   "file_extension": ".py",
   "mimetype": "text/x-python",
   "name": "python",
   "nbconvert_exporter": "python",
   "pygments_lexer": "ipython3",
   "version": "3.11.1"
  }
 },
 "nbformat": 4,
 "nbformat_minor": 5
}
