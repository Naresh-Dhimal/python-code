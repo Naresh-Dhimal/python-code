{
 "cells": [
  {
   "cell_type": "markdown",
   "id": "5e9a2546-1019-4434-a047-e76de10e91b9",
   "metadata": {},
   "source": [
    "# List in python\n",
    "* <b>list is a collection of items under one variable.\n",
    "* <b>list can hold multiple values with multiple data type.\n",
    "* <b>allow duplicate values.\n",
    "* <b>Mutable.\n",
    "* <b>written inside [] with items seperated by comma.\n",
    "* <b>ordered, indexed\n",
    "* <b>changeable"
   ]
  },
  {
   "cell_type": "code",
   "execution_count": 2,
   "id": "a88ac0a4-1968-49b6-a6f9-e45cd750f527",
   "metadata": {},
   "outputs": [
    {
     "name": "stdout",
     "output_type": "stream",
     "text": [
      "[5, 0.3, True, 'hello']\n"
     ]
    }
   ],
   "source": [
    "list_1 = [5, 0.3, True, 'hello']\n",
    "print(list_1)"
   ]
  },
  {
   "cell_type": "code",
   "execution_count": 3,
   "id": "730c70d1-3791-4dd5-9c78-3e0ddf9244e0",
   "metadata": {},
   "outputs": [
    {
     "name": "stdout",
     "output_type": "stream",
     "text": [
      "<class 'list'>\n"
     ]
    }
   ],
   "source": [
    "print(type(list_1))"
   ]
  },
  {
   "cell_type": "code",
   "execution_count": 7,
   "id": "d7542c11-c3b0-459b-b46c-0876f7bcc84e",
   "metadata": {},
   "outputs": [
    {
     "name": "stdout",
     "output_type": "stream",
     "text": [
      "['iphone', 'Ps5', 'Guiter', 'Usa Visa', 'EDV', 'Car', 'Flower', 'Chocolate']\n"
     ]
    }
   ],
   "source": [
    "gift = ['iphone', 'Ps5', 'Guiter', 'Usa Visa', 'EDV', 'Car', 'Flower', 'Chocolate']\n",
    "print(gift)"
   ]
  },
  {
   "cell_type": "code",
   "execution_count": 9,
   "id": "2bc9dc79-8928-48e9-8984-3200234abee1",
   "metadata": {},
   "outputs": [
    {
     "name": "stdout",
     "output_type": "stream",
     "text": [
      "Ps5\n"
     ]
    }
   ],
   "source": [
    "print(gift[1])"
   ]
  },
  {
   "cell_type": "code",
   "execution_count": 10,
   "id": "b0b7c513-f60e-4421-9c5a-f8569e212779",
   "metadata": {},
   "outputs": [
    {
     "name": "stdout",
     "output_type": "stream",
     "text": [
      "iphone\n"
     ]
    }
   ],
   "source": [
    "print(gift[0])"
   ]
  },
  {
   "cell_type": "code",
   "execution_count": 11,
   "id": "0e6f4d2e-3af4-4db0-80dc-edd44758f163",
   "metadata": {},
   "outputs": [
    {
     "name": "stdout",
     "output_type": "stream",
     "text": [
      "Car\n"
     ]
    }
   ],
   "source": [
    "print(gift[5])"
   ]
  },
  {
   "cell_type": "markdown",
   "id": "29e9debd-6382-4032-a158-5d1593567fb3",
   "metadata": {},
   "source": [
    "# Negative Indexing"
   ]
  },
  {
   "cell_type": "code",
   "execution_count": 12,
   "id": "8eda6fd9-4f36-4192-85ee-836e352f97a3",
   "metadata": {},
   "outputs": [
    {
     "name": "stdout",
     "output_type": "stream",
     "text": [
      "Chocolate\n"
     ]
    }
   ],
   "source": [
    "print(gift[-1])"
   ]
  },
  {
   "cell_type": "code",
   "execution_count": 13,
   "id": "978e699d-3015-4df2-8741-16393d46cfd3",
   "metadata": {},
   "outputs": [
    {
     "name": "stdout",
     "output_type": "stream",
     "text": [
      "iphone\n"
     ]
    }
   ],
   "source": [
    "print(gift[-0])"
   ]
  },
  {
   "cell_type": "code",
   "execution_count": 15,
   "id": "1f2fab42-24fa-4fbe-8648-0eaf9d51717a",
   "metadata": {},
   "outputs": [
    {
     "name": "stdout",
     "output_type": "stream",
     "text": [
      "EDV\n"
     ]
    }
   ],
   "source": [
    "print(gift[-4])"
   ]
  },
  {
   "cell_type": "code",
   "execution_count": 18,
   "id": "7013809a-d7b7-4106-a007-3c85b4bc0a15",
   "metadata": {},
   "outputs": [
    {
     "name": "stdout",
     "output_type": "stream",
     "text": [
      "['Usa Visa', 'EDV']\n"
     ]
    }
   ],
   "source": [
    "print(gift[3:5])"
   ]
  },
  {
   "cell_type": "code",
   "execution_count": 21,
   "id": "3ca178d4-08c0-4458-ab40-bbcdaf85bd66",
   "metadata": {},
   "outputs": [
    {
     "data": {
      "text/plain": [
       "['Car', 'Flower', 'Chocolate']"
      ]
     },
     "execution_count": 21,
     "metadata": {},
     "output_type": "execute_result"
    }
   ],
   "source": [
    "gift[-3:] #-3 index bata right side ko sabai aauxa\n"
   ]
  },
  {
   "cell_type": "code",
   "execution_count": 22,
   "id": "e23da25c-3666-49a2-933f-b93bf1ffab7a",
   "metadata": {},
   "outputs": [
    {
     "data": {
      "text/plain": [
       "['iphone', 'Ps5', 'Guiter', 'Usa Visa', 'EDV']"
      ]
     },
     "execution_count": 22,
     "metadata": {},
     "output_type": "execute_result"
    }
   ],
   "source": [
    "gift[:-3] # -3 index bata left side ko sabai aauxa"
   ]
  },
  {
   "cell_type": "markdown",
   "id": "6dfc9528-2158-4673-af9f-ca735d9e44f9",
   "metadata": {},
   "source": [
    "# use of brackets:\n",
    "# [] -> list, indexing ,slicing\n",
    "# {} -> f-string ,dictionary, set\n",
    "# () -> function call, Object creation, method call, tuples"
   ]
  },
  {
   "cell_type": "code",
   "execution_count": 23,
   "id": "fcad84a2-142b-4971-b306-782412e3416b",
   "metadata": {},
   "outputs": [
    {
     "data": {
      "text/plain": [
       "8"
      ]
     },
     "execution_count": 23,
     "metadata": {},
     "output_type": "execute_result"
    }
   ],
   "source": [
    "gift = ['iphone', 'Ps5', 'Guiter', 'Usa Visa', 'EDV', 'Car', 'Flower', 'Chocolate']\n",
    "len(gift)\n"
   ]
  },
  {
   "cell_type": "code",
   "execution_count": 26,
   "id": "85121e47-29d7-42db-9384-ad6def274764",
   "metadata": {},
   "outputs": [
    {
     "name": "stdout",
     "output_type": "stream",
     "text": [
      "0 iphone\n",
      "1 Ps5\n",
      "2 Guiter\n",
      "3 Usa Visa\n",
      "4 EDV\n",
      "5 Car\n",
      "6 Flower\n",
      "7 Chocolate\n"
     ]
    }
   ],
   "source": [
    "for index in range(len(gift)):\n",
    "    print(index, gift[index])"
   ]
  },
  {
   "cell_type": "code",
   "execution_count": 27,
   "id": "3aa96714-76a7-4a45-99b3-3cd12034f0a2",
   "metadata": {},
   "outputs": [
    {
     "name": "stdout",
     "output_type": "stream",
     "text": [
      "iphone\n",
      "Ps5\n",
      "Guiter\n",
      "Usa Visa\n",
      "EDV\n",
      "Car\n",
      "Flower\n",
      "Chocolate\n"
     ]
    }
   ],
   "source": [
    "gift = ['iphone', 'Ps5', 'Guiter', 'Usa Visa', 'EDV', 'Car', 'Flower', 'Chocolate']\n",
    "for item in gift:\n",
    "    print(item)"
   ]
  },
  {
   "cell_type": "code",
   "execution_count": 28,
   "id": "bf74bfe9-1301-4ae1-867f-e079beee2f37",
   "metadata": {},
   "outputs": [
    {
     "name": "stdout",
     "output_type": "stream",
     "text": [
      "h\n",
      "e\n",
      "l\n",
      "l\n",
      "o\n"
     ]
    }
   ],
   "source": [
    "s = 'hello'\n",
    "for name in s:\n",
    "    print(name)"
   ]
  },
  {
   "cell_type": "markdown",
   "id": "763fa371-c453-42c6-8440-819b5bde628e",
   "metadata": {},
   "source": [
    "#  Find sum of list item of 1,2,6,7"
   ]
  },
  {
   "cell_type": "code",
   "execution_count": 32,
   "id": "61f73e08-c122-48ec-8f09-102f55d8b1b7",
   "metadata": {},
   "outputs": [
    {
     "name": "stdout",
     "output_type": "stream",
     "text": [
      "16\n"
     ]
    }
   ],
   "source": [
    "numbers = [1,2, 6, 7]\n",
    "total_sum = 0\n",
    "for item in numbers:\n",
    "    total_sum = total_sum + item\n",
    "print(total_sum)"
   ]
  },
  {
   "cell_type": "code",
   "execution_count": 37,
   "id": "7e9b5742-ff82-4e17-ba0e-c8a8b674e408",
   "metadata": {},
   "outputs": [
    {
     "name": "stdout",
     "output_type": "stream",
     "text": [
      "16\n",
      "Mean = 4.0\n"
     ]
    }
   ],
   "source": [
    "numbers = [1,2,6,7]\n",
    "total_sum  = 0\n",
    "for index in range(len(numbers)):\n",
    "    # print(numbers[index])\n",
    "    total_sum = total_sum + numbers[index]\n",
    "print(total_sum)\n",
    "print(f'Mean = {total_sum/len(numbers)}')"
   ]
  },
  {
   "cell_type": "markdown",
   "id": "c1e4d4d9-c9fa-4b48-879b-d59657864fc7",
   "metadata": {},
   "source": [
    "# Find mean"
   ]
  },
  {
   "cell_type": "code",
   "execution_count": 39,
   "id": "c46367b4-d033-434f-8788-74d733fffaff",
   "metadata": {},
   "outputs": [
    {
     "name": "stdout",
     "output_type": "stream",
     "text": [
      "Mean of [1, 2, 3, 7] is 4.0\n"
     ]
    }
   ],
   "source": [
    "number = [1,2,3,7]\n",
    "total_sum = 0\n",
    "for item in numbers:\n",
    "    total_sum = total_sum + item\n",
    "print(f'Mean of {number} is {total_sum/len(number)}')"
   ]
  },
  {
   "cell_type": "markdown",
   "id": "49ca2816-4491-4ee0-afce-aef226afc14c",
   "metadata": {},
   "source": [
    "# Membership Operator"
   ]
  },
  {
   "cell_type": "code",
   "execution_count": 46,
   "id": "19acd3fb-d125-4665-9b71-afb924dc3db6",
   "metadata": {},
   "outputs": [
    {
     "data": {
      "text/plain": [
       "True"
      ]
     },
     "execution_count": 46,
     "metadata": {},
     "output_type": "execute_result"
    }
   ],
   "source": [
    "fruits = ['apple', 'banana', 'mango', 'orange', 'pear']\n",
    "'mango' in fruits"
   ]
  },
  {
   "cell_type": "code",
   "execution_count": 47,
   "id": "6c5a45bd-cad8-4348-9684-a818ec2197fc",
   "metadata": {},
   "outputs": [
    {
     "data": {
      "text/plain": [
       "False"
      ]
     },
     "execution_count": 47,
     "metadata": {},
     "output_type": "execute_result"
    }
   ],
   "source": [
    "'gova' in fruits\n"
   ]
  },
  {
   "cell_type": "code",
   "execution_count": 48,
   "id": "74bca287-299a-4aad-9178-33fdfd26b59c",
   "metadata": {},
   "outputs": [
    {
     "data": {
      "text/plain": [
       "True"
      ]
     },
     "execution_count": 48,
     "metadata": {},
     "output_type": "execute_result"
    }
   ],
   "source": [
    "'orange' in fruits"
   ]
  },
  {
   "cell_type": "code",
   "execution_count": 49,
   "id": "b0fec3b8-35ff-47d9-894c-c7bfb9b4e716",
   "metadata": {},
   "outputs": [
    {
     "data": {
      "text/plain": [
       "False"
      ]
     },
     "execution_count": 49,
     "metadata": {},
     "output_type": "execute_result"
    }
   ],
   "source": [
    "'peach' in fruits"
   ]
  },
  {
   "cell_type": "code",
   "execution_count": 50,
   "id": "49b3447a-c4e1-4d27-ab71-6a3be3087cd7",
   "metadata": {},
   "outputs": [
    {
     "data": {
      "text/plain": [
       "False"
      ]
     },
     "execution_count": 50,
     "metadata": {},
     "output_type": "execute_result"
    }
   ],
   "source": [
    "'avogado' in fruits"
   ]
  },
  {
   "cell_type": "code",
   "execution_count": 51,
   "id": "2008b5e0-3853-4048-91b5-c9c305488121",
   "metadata": {},
   "outputs": [
    {
     "data": {
      "text/plain": [
       "True"
      ]
     },
     "execution_count": 51,
     "metadata": {},
     "output_type": "execute_result"
    }
   ],
   "source": [
    "'apple' in fruits\n"
   ]
  },
  {
   "cell_type": "code",
   "execution_count": null,
   "id": "e7bd82f9-d084-499b-8562-49ede0de92cf",
   "metadata": {},
   "outputs": [],
   "source": []
  }
 ],
 "metadata": {
  "kernelspec": {
   "display_name": "Python 3 (ipykernel)",
   "language": "python",
   "name": "python3"
  },
  "language_info": {
   "codemirror_mode": {
    "name": "ipython",
    "version": 3
   },
   "file_extension": ".py",
   "mimetype": "text/x-python",
   "name": "python",
   "nbconvert_exporter": "python",
   "pygments_lexer": "ipython3",
   "version": "3.11.1"
  }
 },
 "nbformat": 4,
 "nbformat_minor": 5
}
