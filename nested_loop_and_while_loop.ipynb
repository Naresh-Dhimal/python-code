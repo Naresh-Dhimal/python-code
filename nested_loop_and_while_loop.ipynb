{
 "cells": [
  {
   "cell_type": "markdown",
   "id": "35da2d04-c8b9-4c69-9327-5b22384aac0f",
   "metadata": {},
   "source": [
    "# Nested loop and while loop"
   ]
  },
  {
   "cell_type": "code",
   "execution_count": 1,
   "id": "62748367-bf42-44a3-bbd9-3690db940754",
   "metadata": {},
   "outputs": [
    {
     "name": "stdout",
     "output_type": "stream",
     "text": [
      "-------\n",
      "i = 0\n",
      "-------\n",
      "j = 0\n",
      "j = 1\n",
      "j = 2\n",
      "-------\n",
      "i = 1\n",
      "-------\n",
      "j = 0\n",
      "j = 1\n",
      "j = 2\n",
      "-------\n",
      "i = 2\n",
      "-------\n",
      "j = 0\n",
      "j = 1\n",
      "j = 2\n",
      "-------\n",
      "i = 3\n",
      "-------\n",
      "j = 0\n",
      "j = 1\n",
      "j = 2\n",
      "-------\n",
      "i = 4\n",
      "-------\n",
      "j = 0\n",
      "j = 1\n",
      "j = 2\n"
     ]
    }
   ],
   "source": [
    "for i in range(5):\n",
    "    print(\"-------\")\n",
    "    print(f\"i = {i}\")\n",
    "    print(\"-------\")\n",
    "    for j in range(3):\n",
    "        print(f\"j = {j}\")"
   ]
  },
  {
   "cell_type": "markdown",
   "id": "aa7fb249-9c49-42ee-a9a1-6a45c22dc0d2",
   "metadata": {},
   "source": [
    "# vitra ko loop nasakinjel baera ko loop ko value update hudaina"
   ]
  },
  {
   "cell_type": "code",
   "execution_count": 2,
   "id": "5a5d4a4c-8075-4537-8355-000ea1024d63",
   "metadata": {},
   "outputs": [],
   "source": [
    "data = [ [4,5], [1,6,7], [66,2,1,3,1]]"
   ]
  },
  {
   "cell_type": "code",
   "execution_count": 3,
   "id": "6b74a453-21ea-403e-80ce-184f88c1a940",
   "metadata": {},
   "outputs": [
    {
     "name": "stdout",
     "output_type": "stream",
     "text": [
      "[4, 5]\n",
      "[1, 6, 7]\n",
      "[66, 2, 1, 3, 1]\n"
     ]
    }
   ],
   "source": [
    "for item in data:\n",
    "    print(item)"
   ]
  },
  {
   "cell_type": "code",
   "execution_count": 14,
   "id": "9e1672f4-48a1-467c-82d5-c5402b946547",
   "metadata": {},
   "outputs": [
    {
     "name": "stdout",
     "output_type": "stream",
     "text": [
      "[9, 14, 73]\n"
     ]
    }
   ],
   "source": [
    "data = [ [4,5], [1,6,7], [66,2,1,3,1]]\n",
    "output = []\n",
    "for item in data:\n",
    "    # print(item)\n",
    "    total = 0\n",
    "    for i in item:\n",
    "        total = total + i\n",
    "    output.append(total)\n",
    "print(output)\n"
   ]
  },
  {
   "cell_type": "markdown",
   "id": "72e7980f-9bb1-4f19-9822-8daf67a414df",
   "metadata": {},
   "source": [
    "# while loop\n",
    "syntax: \n",
    "```python\n",
    "while true:\n",
    "   # body of loop\n",
    "```"
   ]
  },
  {
   "cell_type": "code",
   "execution_count": 15,
   "id": "6e39e91a-014c-457e-bd37-57ec37193f88",
   "metadata": {},
   "outputs": [],
   "source": [
    "data = [7, 9, 6]"
   ]
  },
  {
   "cell_type": "code",
   "execution_count": 17,
   "id": "74a36a6f-e4b2-443e-b360-ec04d25d51a9",
   "metadata": {},
   "outputs": [
    {
     "data": {
      "text/plain": [
       "22"
      ]
     },
     "execution_count": 17,
     "metadata": {},
     "output_type": "execute_result"
    }
   ],
   "source": [
    "total = 0\n",
    "index = 0\n",
    "\n",
    "while index < len(data):\n",
    "    item = data[index]\n",
    "    total = total + item\n",
    "    index = index + 1\n",
    "total"
   ]
  },
  {
   "cell_type": "code",
   "execution_count": 1,
   "id": "3bb80c3e-c828-4cfb-8a9f-c90b9c43f606",
   "metadata": {},
   "outputs": [
    {
     "data": {
      "text/plain": [
       "7.333333333333333"
      ]
     },
     "execution_count": 1,
     "metadata": {},
     "output_type": "execute_result"
    }
   ],
   "source": [
    "data = [7, 9, 6]\n",
    "total = 0\n",
    "index =  0\n",
    "while index < len(data):\n",
    "    item = data[index]\n",
    "    total = total + item\n",
    "    index = index + 1\n",
    "mean = total / len(data)\n",
    "mean\n",
    "    \n"
   ]
  },
  {
   "cell_type": "code",
   "execution_count": 3,
   "id": "c5de2186-c79d-4a3e-84ed-d3492d8414dc",
   "metadata": {},
   "outputs": [
    {
     "data": {
      "text/plain": [
       "7"
      ]
     },
     "execution_count": 3,
     "metadata": {},
     "output_type": "execute_result"
    }
   ],
   "source": [
    "round(7.33)\n"
   ]
  },
  {
   "cell_type": "code",
   "execution_count": 6,
   "id": "cd94f6cc-0ef6-4c4c-a4be-69892549a090",
   "metadata": {},
   "outputs": [
    {
     "data": {
      "text/plain": [
       "8"
      ]
     },
     "execution_count": 6,
     "metadata": {},
     "output_type": "execute_result"
    }
   ],
   "source": [
    "round(7.5)"
   ]
  },
  {
   "cell_type": "code",
   "execution_count": null,
   "id": "f3a93aba-17b4-4423-ac30-77f1a8f46aff",
   "metadata": {},
   "outputs": [],
   "source": []
  }
 ],
 "metadata": {
  "kernelspec": {
   "display_name": "Python 3 (ipykernel)",
   "language": "python",
   "name": "python3"
  },
  "language_info": {
   "codemirror_mode": {
    "name": "ipython",
    "version": 3
   },
   "file_extension": ".py",
   "mimetype": "text/x-python",
   "name": "python",
   "nbconvert_exporter": "python",
   "pygments_lexer": "ipython3",
   "version": "3.11.1"
  }
 },
 "nbformat": 4,
 "nbformat_minor": 5
}
