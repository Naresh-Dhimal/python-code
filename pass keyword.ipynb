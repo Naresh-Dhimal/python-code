{
 "cells": [
  {
   "cell_type": "markdown",
   "id": "99764c64-19fb-4712-8b6f-56528766264f",
   "metadata": {},
   "source": [
    "# pass keyword"
   ]
  },
  {
   "cell_type": "code",
   "execution_count": 1,
   "id": "970480b5-2bd7-4927-a566-a35722891423",
   "metadata": {},
   "outputs": [
    {
     "ename": "SyntaxError",
     "evalue": "incomplete input (2073817663.py, line 1)",
     "output_type": "error",
     "traceback": [
      "\u001b[1;36m  Cell \u001b[1;32mIn[1], line 1\u001b[1;36m\u001b[0m\n\u001b[1;33m    if 10 == 10:\u001b[0m\n\u001b[1;37m                ^\u001b[0m\n\u001b[1;31mSyntaxError\u001b[0m\u001b[1;31m:\u001b[0m incomplete input\n"
     ]
    }
   ],
   "source": [
    "if 10 == 10:"
   ]
  },
  {
   "cell_type": "code",
   "execution_count": 2,
   "id": "0374f1d2-45f0-41e2-a096-db4c358a36a4",
   "metadata": {},
   "outputs": [],
   "source": [
    "if 10 == 10:\n",
    "    pass"
   ]
  },
  {
   "cell_type": "code",
   "execution_count": 3,
   "id": "c06be54a-efbc-4942-a4d8-6356244c62a9",
   "metadata": {},
   "outputs": [],
   "source": [
    "def test():\n",
    "    pass"
   ]
  },
  {
   "cell_type": "markdown",
   "id": "26a1f191-aa39-4504-b2a6-3c02fc2225af",
   "metadata": {},
   "source": [
    "# pass is a placeholder to write future code"
   ]
  },
  {
   "cell_type": "code",
   "execution_count": 4,
   "id": "c47f51e4-e66b-4852-ac61-87d1d18fae15",
   "metadata": {},
   "outputs": [],
   "source": [
    "def lower_string(text):\n",
    "    pass\n",
    "    return text.lower()\n",
    "    "
   ]
  },
  {
   "cell_type": "code",
   "execution_count": 6,
   "id": "b3fc24f9-012e-407e-9f86-480a6f65c440",
   "metadata": {},
   "outputs": [
    {
     "data": {
      "text/plain": [
       "'knaljhlfa'"
      ]
     },
     "execution_count": 6,
     "metadata": {},
     "output_type": "execute_result"
    }
   ],
   "source": [
    "lower_string(text=\"knaljhlfA\")"
   ]
  },
  {
   "cell_type": "code",
   "execution_count": null,
   "id": "76ef0486-f278-4e58-9da6-af4031a65d89",
   "metadata": {},
   "outputs": [],
   "source": []
  }
 ],
 "metadata": {
  "kernelspec": {
   "display_name": "Python 3 (ipykernel)",
   "language": "python",
   "name": "python3"
  },
  "language_info": {
   "codemirror_mode": {
    "name": "ipython",
    "version": 3
   },
   "file_extension": ".py",
   "mimetype": "text/x-python",
   "name": "python",
   "nbconvert_exporter": "python",
   "pygments_lexer": "ipython3",
   "version": "3.11.1"
  }
 },
 "nbformat": 4,
 "nbformat_minor": 5
}
