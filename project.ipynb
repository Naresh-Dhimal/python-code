{
 "cells": [
  {
   "cell_type": "markdown",
   "id": "29c170b0-fda6-4009-a491-4a46aaeaf74f",
   "metadata": {},
   "source": [
    "# Project:"
   ]
  },
  {
   "attachments": {
    "dbb1d508-71fd-49d2-9aef-846457028993.png": {
     "image/png": "[encoded data removed]"
    }
   },
   "cell_type": "markdown",
   "id": "227c068e-02af-4dd9-9203-3e92018d3656",
   "metadata": {},
   "source": [
    "# project 1:\n",
    "![image.png](attachment:dbb1d508-71fd-49d2-9aef-846457028993.png)"
   ]
  },
  {
   "cell_type": "code",
   "execution_count": 4,
   "id": "67987af4-2ad3-48f7-920c-7fd98ecef0ea",
   "metadata": {},
   "outputs": [
    {
     "name": "stdout",
     "output_type": "stream",
     "text": [
      "Full form quiz game:\n"
     ]
    },
    {
     "name": "stdin",
     "output_type": "stream",
     "text": [
      "Do you want to play(yes/no)? yes\n"
     ]
    },
    {
     "name": "stdout",
     "output_type": "stream",
     "text": [
      "okay! lets play.\n"
     ]
    },
    {
     "name": "stdin",
     "output_type": "stream",
     "text": [
      "What is the full form of CPU?  central processing unit\n"
     ]
    },
    {
     "name": "stdout",
     "output_type": "stream",
     "text": [
      "you are correct!\n",
      "Your score = 1.\n"
     ]
    }
   ],
   "source": [
    "print(\"Full form quiz game:\")\n",
    "play = input(\"Do you want to play(yes/no)?\")\n",
    "if play.lower() != \"yes\":\n",
    "    exit()\n",
    "else:\n",
    "    print(\"okay! lets play.\")\n",
    "    score = 0\n",
    "    answer = input(\"What is the full form of CPU? \")\n",
    "    if answer.lower() == \"central processing unit\":\n",
    "        print(\"you are correct!\")\n",
    "        score = score + 1\n",
    "    else:\n",
    "        print(\"Incorrect!\")\n",
    "    print(f\"Your score = {score}.\")"
   ]
  },
  {
   "cell_type": "code",
   "execution_count": 5,
   "id": "8bf2ecc3-4c77-41cc-80df-51dca8e8e9b5",
   "metadata": {},
   "outputs": [
    {
     "name": "stdout",
     "output_type": "stream",
     "text": [
      "Welcome to full form quiz game:\n"
     ]
    },
    {
     "name": "stdin",
     "output_type": "stream",
     "text": [
      "Do you want to play?(yes/no): yes\n"
     ]
    },
    {
     "name": "stdout",
     "output_type": "stream",
     "text": [
      "Okay! lets play.\n"
     ]
    },
    {
     "name": "stdin",
     "output_type": "stream",
     "text": [
      "What does CPU stands for? center processing unit\n"
     ]
    },
    {
     "name": "stdout",
     "output_type": "stream",
     "text": [
      "Incorrect!\n",
      "score\n"
     ]
    }
   ],
   "source": [
    "print(\"Welcome to full form quiz game:\")\n",
    "play = input(\"Do you want to play?(yes/no):\")\n",
    "if play.lower() != \"yes\":\n",
    "    exit()\n",
    "else:\n",
    "    print(\"Okay! lets play.\")\n",
    "    score = 0\n",
    "    answer = input(\"What does CPU stands for?\")\n",
    "    if answer.lower == \"central processing unit\":\n",
    "        print(\"Correct answer.\")\n",
    "        score = score + 1\n",
    "    else:\n",
    "        print(\"Incorrect!\")\n",
    "print(\"score\")\n",
    "    "
   ]
  },
  {
   "cell_type": "code",
   "execution_count": null,
   "id": "7718a9e5-d4a5-45b8-b568-7178c7918d5e",
   "metadata": {},
   "outputs": [
    {
     "name": "stdout",
     "output_type": "stream",
     "text": [
      "Welcome to full form quiz game:\n"
     ]
    }
   ],
   "source": [
    "print(\"Welcome to full form quiz game:\")\n",
    "play = input(\"Do you want to play?(yes/no):\")\n",
    "if play.lower() != \"yes\":\n",
    "    exit()\n",
    "else:\n",
    "    print(\"Okay! lets play.\")\n",
    "    score = 0\n",
    "    for index in range(0,10):\n",
    "        if index == 0:\n",
    "            answer = input(\"What does CPU stands for?\")\n",
    "            if answer.lower() == \"central processing unit\":\n",
    "                print(\"Correct answer.\")\n",
    "                score = score + 1\n",
    "            else:\n",
    "                print(\"Incorrect!\")\n",
    "        elif index == 1:\n",
    "            answer = input(\"What does ROM stands for?\")\n",
    "            if answer.lower() == \"read only memory\":\n",
    "                print(\"Correct answer.\")\n",
    "                score = score + 1\n",
    "            else:\n",
    "                print(\"Incorrect!\")\n",
    "\n",
    "        \n",
    "    # answer = input(\"What does CPU stands for?\")\n",
    "    # if answer.lower == \"central processing unit\":\n",
    "    #     print(\"Correct answer.\")\n",
    "    #     score = score + 1\n",
    "    # else:\n",
    "    #     print(\"Incorrect!\")\n",
    "print(score)\n",
    "    "
   ]
  },
  {
   "cell_type": "code",
   "execution_count": null,
   "id": "345f2ff0-5bcf-4cba-9d23-80cdd2ac03d9",
   "metadata": {},
   "outputs": [],
   "source": []
  }
 ],
 "metadata": {
  "kernelspec": {
   "display_name": "Python 3 (ipykernel)",
   "language": "python",
   "name": "python3"
  },
  "language_info": {
   "codemirror_mode": {
    "name": "ipython",
    "version": 3
   },
   "file_extension": ".py",
   "mimetype": "text/x-python",
   "name": "python",
   "nbconvert_exporter": "python",
   "pygments_lexer": "ipython3",
   "version": "3.11.1"
  }
 },
 "nbformat": 4,
 "nbformat_minor": 5
}
