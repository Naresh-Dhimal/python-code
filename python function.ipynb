{
 "cells": [
  {
   "cell_type": "code",
   "execution_count": 2,
   "id": "ed436231-ea15-4498-9fb1-a38368b4e78d",
   "metadata": {},
   "outputs": [
    {
     "name": "stdout",
     "output_type": "stream",
     "text": [
      "print\n"
     ]
    }
   ],
   "source": [
    "def printFun(str):\n",
    "    return str\n",
    "print(printFun(\"print\"))"
   ]
  },
  {
   "cell_type": "code",
   "execution_count": 5,
   "id": "8eab619c-4584-4361-8ce2-809d368c2a96",
   "metadata": {},
   "outputs": [
    {
     "name": "stdout",
     "output_type": "stream",
     "text": [
      "3   9\n"
     ]
    }
   ],
   "source": [
    "def funtion(var1 = 5, var2 = 7):\n",
    "    var1 = 3\n",
    "    var2 = 9\n",
    "    print(var1, ' ', var2)\n",
    "funtion(10, 5)\n",
    "    "
   ]
  },
  {
   "cell_type": "markdown",
   "id": "8b0f96da-b12f-4183-92ec-83f876ac5702",
   "metadata": {},
   "source": [
    "# Python function"
   ]
  },
  {
   "cell_type": "code",
   "execution_count": 6,
   "id": "c670ef8b-4909-4788-8c02-36c0d81bcad0",
   "metadata": {},
   "outputs": [],
   "source": [
    "a = 5\n",
    "b = 3\n",
    "c = a + b"
   ]
  },
  {
   "cell_type": "code",
   "execution_count": 7,
   "id": "65d3cc24-51c2-407b-8a3b-9aa1c731c73d",
   "metadata": {},
   "outputs": [
    {
     "data": {
      "text/plain": [
       "8"
      ]
     },
     "execution_count": 7,
     "metadata": {},
     "output_type": "execute_result"
    }
   ],
   "source": [
    "c"
   ]
  },
  {
   "cell_type": "markdown",
   "id": "580f0c59-83ed-4afe-b65c-8c393969ad75",
   "metadata": {},
   "source": [
    "# Syntax:\n",
    "```Python\n",
    "def function_name(argument1,argument2,...):\n",
    "    #fuction body\n",
    "    return Expression\n",
    "function_name(parameter1, parameter2,...)\n",
    "```"
   ]
  },
  {
   "cell_type": "code",
   "execution_count": 11,
   "id": "16f195e1-e28b-4182-8b3e-bd1e7ecfddf9",
   "metadata": {},
   "outputs": [
    {
     "name": "stdout",
     "output_type": "stream",
     "text": [
      "8\n"
     ]
    }
   ],
   "source": [
    "def add():\n",
    "    a = 5\n",
    "    b = 3\n",
    "    c = a + b\n",
    "    print(c)\n",
    "add()"
   ]
  },
  {
   "cell_type": "code",
   "execution_count": 14,
   "id": "6190d30c-39c9-46c7-8671-e7eeaa064618",
   "metadata": {},
   "outputs": [
    {
     "ename": "TypeError",
     "evalue": "add() missing 2 required positional arguments: 'a' and 'b'",
     "output_type": "error",
     "traceback": [
      "\u001b[1;31m---------------------------------------------------------------------------\u001b[0m",
      "\u001b[1;31mTypeError\u001b[0m                                 Traceback (most recent call last)",
      "Cell \u001b[1;32mIn[14], line 4\u001b[0m\n\u001b[0;32m      2\u001b[0m     c \u001b[38;5;241m=\u001b[39m a \u001b[38;5;241m+\u001b[39m b\n\u001b[0;32m      3\u001b[0m     \u001b[38;5;28mprint\u001b[39m(c)\n\u001b[1;32m----> 4\u001b[0m \u001b[43madd\u001b[49m\u001b[43m(\u001b[49m\u001b[43m)\u001b[49m\n",
      "\u001b[1;31mTypeError\u001b[0m: add() missing 2 required positional arguments: 'a' and 'b'"
     ]
    }
   ],
   "source": [
    "def add(a,b):\n",
    "    c = a + b\n",
    "    print(c)\n",
    "add()"
   ]
  },
  {
   "cell_type": "code",
   "execution_count": 18,
   "id": "745097b1-7fa3-4c84-b227-c064c3090ad9",
   "metadata": {},
   "outputs": [
    {
     "name": "stdout",
     "output_type": "stream",
     "text": [
      "12\n"
     ]
    }
   ],
   "source": [
    "# standard way\n",
    "x = 5 \n",
    "y = 7\n",
    "add(a  = x, b = y) # esari lekhne ho"
   ]
  },
  {
   "cell_type": "code",
   "execution_count": 16,
   "id": "924c0c1e-6dd1-4a43-9f3d-52da6eabc1b1",
   "metadata": {},
   "outputs": [
    {
     "name": "stdout",
     "output_type": "stream",
     "text": [
      "12\n"
     ]
    }
   ],
   "source": [
    "add(x,y)"
   ]
  },
  {
   "cell_type": "code",
   "execution_count": 19,
   "id": "cf999350-1980-4155-9fbc-3a0bd733c770",
   "metadata": {},
   "outputs": [],
   "source": [
    "def add(a,b):\n",
    "    c = a + b\n",
    "    print(c)"
   ]
  },
  {
   "cell_type": "code",
   "execution_count": 20,
   "id": "d001c739-8140-45b5-850d-47f3d7a4eef3",
   "metadata": {},
   "outputs": [
    {
     "name": "stdout",
     "output_type": "stream",
     "text": [
      "18\n"
     ]
    }
   ],
   "source": [
    "add(a = 9, b = 9)"
   ]
  },
  {
   "cell_type": "code",
   "execution_count": 21,
   "id": "1ada1c38-f760-4ef3-a9ad-25c1f52bdb71",
   "metadata": {},
   "outputs": [],
   "source": [
    "def add(a,b):\n",
    "    c = a + b\n",
    "    return c\n",
    "\n",
    "output = add( a =  9, b = 2)"
   ]
  },
  {
   "cell_type": "code",
   "execution_count": 22,
   "id": "15f17ee7-08de-412c-9d83-5cc1f9b94b9a",
   "metadata": {},
   "outputs": [
    {
     "data": {
      "text/plain": [
       "11"
      ]
     },
     "execution_count": 22,
     "metadata": {},
     "output_type": "execute_result"
    }
   ],
   "source": [
    "output"
   ]
  },
  {
   "cell_type": "code",
   "execution_count": 31,
   "id": "c635dfc5-1cca-4c65-8b39-4af44c8d1604",
   "metadata": {},
   "outputs": [
    {
     "data": {
      "text/plain": [
       "7"
      ]
     },
     "execution_count": 31,
     "metadata": {},
     "output_type": "execute_result"
    }
   ],
   "source": [
    "#subtraction\n",
    "def arthimetic_operation(a,b):\n",
    "    \n",
    "    sub = a - b\n",
    "    return sub\n",
    "substraction = arthimetic_operation(a=9,b=2 )\n",
    "substraction"
   ]
  },
  {
   "cell_type": "code",
   "execution_count": 28,
   "id": "39b4ec41-8e32-4d67-b4a2-171173d43b07",
   "metadata": {},
   "outputs": [
    {
     "data": {
      "text/plain": [
       "18"
      ]
     },
     "execution_count": 28,
     "metadata": {},
     "output_type": "execute_result"
    }
   ],
   "source": [
    "def arthimetic_operation(a,b):\n",
    "   \n",
    "    mul = a * b\n",
    "    return mul\n",
    "multiplication = arthimetic_operation(a=9,b=2 )\n",
    "multiplication"
   ]
  },
  {
   "cell_type": "code",
   "execution_count": 30,
   "id": "f5194747-9baa-4713-bc85-9bd902a481c6",
   "metadata": {},
   "outputs": [
    {
     "data": {
      "text/plain": [
       "4.5"
      ]
     },
     "execution_count": 30,
     "metadata": {},
     "output_type": "execute_result"
    }
   ],
   "source": [
    "def arthimetic_operation(a,b):\n",
    "   \n",
    "    div = a / b\n",
    "    return div\n",
    "division = arthimetic_operation(a=9,b=2 )\n",
    "division"
   ]
  },
  {
   "cell_type": "markdown",
   "id": "803d3587-705c-47ad-a9f9-ba8c2a111990",
   "metadata": {},
   "source": [
    "# find volume of sphere using function"
   ]
  },
  {
   "cell_type": "code",
   "execution_count": 32,
   "id": "2a9309e1-8292-4aa4-8eb0-4e723b72d402",
   "metadata": {},
   "outputs": [],
   "source": [
    "\n",
    "import math\n",
    "def volume(radius): # radius is argument\n",
    "    return 4 / 3 * math.pi * radius ** 3"
   ]
  },
  {
   "cell_type": "code",
   "execution_count": 36,
   "id": "dda6cd70-c9d2-4ddf-9e9d-0311905f704d",
   "metadata": {},
   "outputs": [
    {
     "name": "stdin",
     "output_type": "stream",
     "text": [
      "Enter a radius of sphere:  5\n"
     ]
    },
    {
     "name": "stdout",
     "output_type": "stream",
     "text": [
      "The volume of radius is 523.5987755982989.\n"
     ]
    }
   ],
   "source": [
    "radius = float(input(\"Enter a radius of sphere: \"))\n",
    "vol = volume(radius = radius)\n",
    "print(f\"The volume of radius is {vol}.\")"
   ]
  },
  {
   "cell_type": "markdown",
   "id": "ed8f956c-25e6-44d1-9cab-aa6918b380a1",
   "metadata": {},
   "source": [
    "# Find area of circle using function"
   ]
  },
  {
   "cell_type": "code",
   "execution_count": 40,
   "id": "b703526c-451c-4e22-987e-48dd02f3f27a",
   "metadata": {},
   "outputs": [
    {
     "name": "stdin",
     "output_type": "stream",
     "text": [
      "Enter a radius:  5\n"
     ]
    },
    {
     "name": "stdout",
     "output_type": "stream",
     "text": [
      "The area of circle is 78.5398\n"
     ]
    }
   ],
   "source": [
    "import math\n",
    "def area(r):\n",
    "    return math.pi * r ** 2\n",
    "    \n",
    "radius = float(input(\"Enter a radius: \"))\n",
    "total_area = area(r = radius)\n",
    "print(f\"The area of circle is {round(total_area,4)}\")"
   ]
  },
  {
   "cell_type": "markdown",
   "id": "edec7a61-264a-4f44-8b3a-9eba1680d312",
   "metadata": {},
   "source": [
    "# Default vs non default arguments"
   ]
  },
  {
   "cell_type": "code",
   "execution_count": 1,
   "id": "620f0390-3690-4865-8abe-b6b41519fe30",
   "metadata": {},
   "outputs": [],
   "source": [
    "def greet(name, msg):\n",
    "    return (f\"Hello {name}, {msg}\")"
   ]
  },
  {
   "cell_type": "code",
   "execution_count": 3,
   "id": "e4e65297-db83-45af-8c05-ce072886ad02",
   "metadata": {},
   "outputs": [
    {
     "data": {
      "text/plain": [
       "'Hello Pooja, good morning'"
      ]
     },
     "execution_count": 3,
     "metadata": {},
     "output_type": "execute_result"
    }
   ],
   "source": [
    "greet(name = \"Pooja\", msg = \"good morning\")"
   ]
  },
  {
   "cell_type": "code",
   "execution_count": 44,
   "id": "94d566ba-5f38-4458-8e62-aaa71663992d",
   "metadata": {},
   "outputs": [
    {
     "name": "stdout",
     "output_type": "stream",
     "text": [
      "Hello Naresh, good morning\n"
     ]
    }
   ],
   "source": [
    "greet(name = \"Naresh\", msg = \"good morning\")"
   ]
  },
  {
   "cell_type": "code",
   "execution_count": 47,
   "id": "27c11403-69d6-4a64-bf3d-e99fd622ea9b",
   "metadata": {},
   "outputs": [
    {
     "name": "stdout",
     "output_type": "stream",
     "text": [
      "Hello  Agni, Good Morning\n"
     ]
    }
   ],
   "source": [
    "def greet(name, msg = \"Good Morning\"): # msg is a default argument\n",
    "    print(f\"Hello  {name}, {msg}\")\n",
    "\n",
    "greet(name = \"Agni\")"
   ]
  },
  {
   "cell_type": "code",
   "execution_count": 46,
   "id": "449cfbb9-ea6f-4d78-a46a-143c43197927",
   "metadata": {},
   "outputs": [
    {
     "name": "stdout",
     "output_type": "stream",
     "text": [
      "Hello  Munawar, Good Morning\n"
     ]
    }
   ],
   "source": [
    "greet(name = \"Munawar\")"
   ]
  },
  {
   "cell_type": "code",
   "execution_count": 48,
   "id": "75a1000e-218b-4840-932d-68644aca955e",
   "metadata": {},
   "outputs": [
    {
     "name": "stdout",
     "output_type": "stream",
     "text": [
      "Hello  Hari, Afternoon\n"
     ]
    }
   ],
   "source": [
    "greet(name = \"Hari\", msg = \"Afternoon\")"
   ]
  },
  {
   "cell_type": "code",
   "execution_count": 49,
   "id": "51898def-4b8c-4519-916c-ffceb31dd8c8",
   "metadata": {},
   "outputs": [],
   "source": [
    "# default argument chha kunai function ma tyo argument ko value\n",
    "# function call garda naya dinuvayo vane default value use navayera\n",
    "# function call ko value use hunxa"
   ]
  },
  {
   "cell_type": "code",
   "execution_count": 50,
   "id": "d9b6ad71-4016-4563-9fbe-2eded21334de",
   "metadata": {},
   "outputs": [
    {
     "name": "stdout",
     "output_type": "stream",
     "text": [
      "Hello  dell, Good Morning\n"
     ]
    }
   ],
   "source": [
    "greet(\"dell\")"
   ]
  },
  {
   "cell_type": "code",
   "execution_count": 51,
   "id": "0fd6287f-6e52-4610-b5f6-5b434c264c02",
   "metadata": {},
   "outputs": [
    {
     "ename": "SyntaxError",
     "evalue": "non-default argument follows default argument (4061591176.py, line 1)",
     "output_type": "error",
     "traceback": [
      "\u001b[1;36m  Cell \u001b[1;32mIn[51], line 1\u001b[1;36m\u001b[0m\n\u001b[1;33m    def greet(msg = \"Good Morning\", name):\u001b[0m\n\u001b[1;37m                                    ^\u001b[0m\n\u001b[1;31mSyntaxError\u001b[0m\u001b[1;31m:\u001b[0m non-default argument follows default argument\n"
     ]
    }
   ],
   "source": [
    "def greet(msg = \"Good Morning\", name):\n",
    "    print(f\"Hello {name}, {msg}\")"
   ]
  },
  {
   "cell_type": "markdown",
   "id": "0f84088a-ed50-418f-914d-d32696e44850",
   "metadata": {},
   "source": [
    "# Global VS Local "
   ]
  },
  {
   "cell_type": "code",
   "execution_count": 52,
   "id": "e45817ad-b927-4537-9f7c-6f0addb76281",
   "metadata": {},
   "outputs": [
    {
     "name": "stdout",
     "output_type": "stream",
     "text": [
      "awesome\n"
     ]
    }
   ],
   "source": [
    "x  = \"awesome\"\n",
    "def text():\n",
    "    x = \"fantastic\"\n",
    "    print(x)\n",
    "\n",
    "print(x)\n"
   ]
  },
  {
   "cell_type": "markdown",
   "id": "95d575fb-d2de-45fb-9c0f-3425476f1332",
   "metadata": {},
   "source": [
    "# function vitra lekheko value local hunxa"
   ]
  },
  {
   "cell_type": "code",
   "execution_count": 54,
   "id": "3656013f-009a-4c05-9aaa-ceef0e41390c",
   "metadata": {},
   "outputs": [
    {
     "name": "stdout",
     "output_type": "stream",
     "text": [
      "fantastic\n"
     ]
    }
   ],
   "source": [
    "text()"
   ]
  },
  {
   "cell_type": "code",
   "execution_count": 57,
   "id": "d2ebc51f-6ae6-4ac0-b897-ff5abaa9d8a2",
   "metadata": {},
   "outputs": [
    {
     "ename": "NameError",
     "evalue": "name 'p' is not defined",
     "output_type": "error",
     "traceback": [
      "\u001b[1;31m---------------------------------------------------------------------------\u001b[0m",
      "\u001b[1;31mNameError\u001b[0m                                 Traceback (most recent call last)",
      "Cell \u001b[1;32mIn[57], line 5\u001b[0m\n\u001b[0;32m      1\u001b[0m \u001b[38;5;28;01mdef\u001b[39;00m \u001b[38;5;21msomething\u001b[39m():\n\u001b[0;32m      2\u001b[0m     p \u001b[38;5;241m=\u001b[39m \u001b[38;5;241m55\u001b[39m\n\u001b[1;32m----> 5\u001b[0m \u001b[38;5;28mprint\u001b[39m(\u001b[43mp\u001b[49m) \u001b[38;5;66;03m# p is local value function ko scope baira vairable known hudaina\u001b[39;00m\n",
      "\u001b[1;31mNameError\u001b[0m: name 'p' is not defined"
     ]
    }
   ],
   "source": [
    "def something():\n",
    "    p = 55\n",
    "\n",
    "\n",
    "print(p) # p is local value function ko scope baira vairable known hudaina"
   ]
  },
  {
   "cell_type": "code",
   "execution_count": 61,
   "id": "02d7ffbd-9877-427d-81b6-3db31e340ced",
   "metadata": {},
   "outputs": [],
   "source": [
    "x = \"bijay\"\n",
    "def viral():\n",
    "    x = \"hutututu\"\n",
    "    print(x)"
   ]
  },
  {
   "cell_type": "code",
   "execution_count": 59,
   "id": "4362db6d-885b-4eac-83ab-614b0b9ed38e",
   "metadata": {},
   "outputs": [
    {
     "data": {
      "text/plain": [
       "'bijay'"
      ]
     },
     "execution_count": 59,
     "metadata": {},
     "output_type": "execute_result"
    }
   ],
   "source": [
    "x"
   ]
  },
  {
   "cell_type": "code",
   "execution_count": 62,
   "id": "cc5472d1-f269-44a6-a8b8-2a7986aa84f7",
   "metadata": {},
   "outputs": [
    {
     "name": "stdout",
     "output_type": "stream",
     "text": [
      "hutututu\n"
     ]
    }
   ],
   "source": [
    "viral()"
   ]
  },
  {
   "cell_type": "code",
   "execution_count": 63,
   "id": "bc6c23df-11c4-4e20-b20c-34f999e33a22",
   "metadata": {},
   "outputs": [
    {
     "data": {
      "text/plain": [
       "'bijay'"
      ]
     },
     "execution_count": 63,
     "metadata": {},
     "output_type": "execute_result"
    }
   ],
   "source": [
    "x"
   ]
  },
  {
   "cell_type": "code",
   "execution_count": 68,
   "id": "36973645-04b9-4014-a35c-5f7b38acec8b",
   "metadata": {},
   "outputs": [],
   "source": [
    "# not preferred\n",
    "x = \"bijay\"\n",
    "def viral():\n",
    "    global x\n",
    "    x = \"hutututu\"\n",
    "    print(x)"
   ]
  },
  {
   "cell_type": "code",
   "execution_count": 65,
   "id": "909f168e-cd48-45fd-b50b-048eaf64b5af",
   "metadata": {},
   "outputs": [
    {
     "data": {
      "text/plain": [
       "'bijay'"
      ]
     },
     "execution_count": 65,
     "metadata": {},
     "output_type": "execute_result"
    }
   ],
   "source": [
    "x"
   ]
  },
  {
   "cell_type": "code",
   "execution_count": 66,
   "id": "37e8776d-cb7c-437f-a3ff-9ec1e9dee862",
   "metadata": {},
   "outputs": [
    {
     "name": "stdout",
     "output_type": "stream",
     "text": [
      "hutututu\n"
     ]
    }
   ],
   "source": [
    "viral()"
   ]
  },
  {
   "cell_type": "code",
   "execution_count": 67,
   "id": "daa205bd-39ad-4491-8e3b-089acfb0acc4",
   "metadata": {},
   "outputs": [
    {
     "data": {
      "text/plain": [
       "'hutututu'"
      ]
     },
     "execution_count": 67,
     "metadata": {},
     "output_type": "execute_result"
    }
   ],
   "source": [
    "x"
   ]
  },
  {
   "cell_type": "code",
   "execution_count": 71,
   "id": "6d4d2323-f06a-4ace-a29e-85bfe96593be",
   "metadata": {},
   "outputs": [],
   "source": [
    "def add(a,b):\n",
    "    \"\"\"\n",
    "    Argument :\n",
    "        a : int - first input variable\n",
    "        b : int - second input variable\n",
    "    Returns:\n",
    "        total of a + b\n",
    "    \"\"\"\n",
    "    return a + b"
   ]
  },
  {
   "cell_type": "code",
   "execution_count": 72,
   "id": "2e3e1fe2-d0c8-46ef-b3bb-2528381ab58b",
   "metadata": {},
   "outputs": [
    {
     "data": {
      "text/plain": [
       "9"
      ]
     },
     "execution_count": 72,
     "metadata": {},
     "output_type": "execute_result"
    }
   ],
   "source": [
    "add(4,5)"
   ]
  },
  {
   "cell_type": "code",
   "execution_count": null,
   "id": "9f4bddb8-e15c-48d8-ac33-a8bd7c3ac2e1",
   "metadata": {},
   "outputs": [],
   "source": []
  }
 ],
 "metadata": {
  "kernelspec": {
   "display_name": "Python 3 (ipykernel)",
   "language": "python",
   "name": "python3"
  },
  "language_info": {
   "codemirror_mode": {
    "name": "ipython",
    "version": 3
   },
   "file_extension": ".py",
   "mimetype": "text/x-python",
   "name": "python",
   "nbconvert_exporter": "python",
   "pygments_lexer": "ipython3",
   "version": "3.11.1"
  }
 },
 "nbformat": 4,
 "nbformat_minor": 5
}
