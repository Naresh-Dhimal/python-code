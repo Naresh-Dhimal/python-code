{
 "cells": [
  {
   "cell_type": "markdown",
   "id": "bf7c37d8-faa7-4278-90dc-974a35b9703d",
   "metadata": {},
   "source": [
    "# Range\n",
    "<b>range(start, stop, step)"
   ]
  },
  {
   "cell_type": "code",
   "execution_count": 2,
   "id": "3a4ed6d6-e387-4016-9a45-80ac852725a5",
   "metadata": {},
   "outputs": [
    {
     "data": {
      "text/plain": [
       "range(0, 11)"
      ]
     },
     "execution_count": 2,
     "metadata": {},
     "output_type": "execute_result"
    }
   ],
   "source": [
    "range(0, 11) # 0 is start; 11 is stop; step is 1; step is default 1"
   ]
  },
  {
   "cell_type": "markdown",
   "id": "91684347-002b-4da5-af71-c4dde7ca724f",
   "metadata": {},
   "source": [
    "# For loop"
   ]
  },
  {
   "cell_type": "code",
   "execution_count": 11,
   "id": "dd730560-b6f9-4c2e-ae18-d03d011cacca",
   "metadata": {},
   "outputs": [
    {
     "name": "stdout",
     "output_type": "stream",
     "text": [
      "0\n",
      "1\n",
      "2\n",
      "3\n",
      "4\n"
     ]
    }
   ],
   "source": [
    "for index in range(0,5):\n",
    "    print(index)"
   ]
  },
  {
   "cell_type": "code",
   "execution_count": 12,
   "id": "ea2d6eff-3f55-40de-a5eb-b908ee846dc8",
   "metadata": {},
   "outputs": [
    {
     "name": "stdout",
     "output_type": "stream",
     "text": [
      "10\n",
      "11\n",
      "12\n",
      "13\n",
      "14\n"
     ]
    }
   ],
   "source": [
    "for index in range(10,15):\n",
    "    print(index)"
   ]
  },
  {
   "cell_type": "code",
   "execution_count": 14,
   "id": "84e461bc-2b9c-4ca7-b49b-b173c09a4fe7",
   "metadata": {},
   "outputs": [
    {
     "name": "stdout",
     "output_type": "stream",
     "text": [
      "2\n",
      "4\n",
      "6\n",
      "8\n",
      "10\n"
     ]
    }
   ],
   "source": [
    "for index in range(2,11,2):\n",
    "    print(index)"
   ]
  },
  {
   "cell_type": "code",
   "execution_count": 16,
   "id": "fd9d55fe-c1d2-4915-8757-82a452f54e10",
   "metadata": {},
   "outputs": [
    {
     "name": "stdout",
     "output_type": "stream",
     "text": [
      "1\n",
      "3\n",
      "5\n",
      "7\n",
      "9\n"
     ]
    }
   ],
   "source": [
    "for index in range(1,11,2):\n",
    "    print(index)"
   ]
  },
  {
   "cell_type": "code",
   "execution_count": 17,
   "id": "66d5145e-2330-4d4b-860d-e06e544d5921",
   "metadata": {},
   "outputs": [
    {
     "data": {
      "text/plain": [
       "'l'"
      ]
     },
     "execution_count": 17,
     "metadata": {},
     "output_type": "execute_result"
    }
   ],
   "source": [
    "text = 'Hello world'\n",
    "index= 2\n",
    "text[index]"
   ]
  },
  {
   "cell_type": "code",
   "execution_count": 18,
   "id": "bff3ecdd-e34a-4e06-9f5b-d0da02f99ff6",
   "metadata": {},
   "outputs": [
    {
     "data": {
      "text/plain": [
       "'l'"
      ]
     },
     "execution_count": 18,
     "metadata": {},
     "output_type": "execute_result"
    }
   ],
   "source": [
    "text[2]"
   ]
  },
  {
   "cell_type": "code",
   "execution_count": 19,
   "id": "b3c76dab-5616-4716-a728-1d24dd9f566e",
   "metadata": {},
   "outputs": [
    {
     "name": "stdout",
     "output_type": "stream",
     "text": [
      "l\n"
     ]
    }
   ],
   "source": [
    "index = 2\n",
    "letter = text[index]\n",
    "print(letter)"
   ]
  },
  {
   "cell_type": "code",
   "execution_count": 21,
   "id": "04e515b9-d3f2-4402-8252-2c6dcebf5d34",
   "metadata": {},
   "outputs": [
    {
     "data": {
      "text/plain": [
       "11"
      ]
     },
     "execution_count": 21,
     "metadata": {},
     "output_type": "execute_result"
    }
   ],
   "source": [
    "s = 'Hello World'\n",
    "len(s)"
   ]
  },
  {
   "cell_type": "code",
   "execution_count": 23,
   "id": "ba3212de-fed4-4f0b-ba3d-243ae6e64790",
   "metadata": {},
   "outputs": [
    {
     "data": {
      "text/plain": [
       "range(0, 11)"
      ]
     },
     "execution_count": 23,
     "metadata": {},
     "output_type": "execute_result"
    }
   ],
   "source": [
    "range(0,len(s))"
   ]
  },
  {
   "cell_type": "code",
   "execution_count": 24,
   "id": "e3fb0161-322c-4495-87c5-acf2771ae947",
   "metadata": {},
   "outputs": [
    {
     "name": "stdout",
     "output_type": "stream",
     "text": [
      "Index: 0 and letter: H\n",
      "Index: 1 and letter: e\n",
      "Index: 2 and letter: l\n",
      "Index: 3 and letter: l\n",
      "Index: 4 and letter: o\n",
      "Index: 5 and letter:  \n",
      "Index: 6 and letter: W\n",
      "Index: 7 and letter: o\n",
      "Index: 8 and letter: r\n",
      "Index: 9 and letter: l\n",
      "Index: 10 and letter: d\n"
     ]
    }
   ],
   "source": [
    "for index in range(0, len(s)):\n",
    "    letter = s[index]\n",
    "    print(f'Index: {index} and letter: {letter}')"
   ]
  },
  {
   "cell_type": "code",
   "execution_count": 26,
   "id": "ee1633b3-23d9-46f3-b9da-fb7565870fb7",
   "metadata": {},
   "outputs": [
    {
     "name": "stdin",
     "output_type": "stream",
     "text": [
      "Enter a message:  Naresh dhimal\n"
     ]
    },
    {
     "name": "stdout",
     "output_type": "stream",
     "text": [
      "Index= 0 and letter = N\n",
      "Index= 1 and letter = a\n",
      "Index= 2 and letter = r\n",
      "Index= 3 and letter = e\n",
      "Index= 4 and letter = s\n",
      "Index= 5 and letter = h\n",
      "Index= 6 and letter =  \n",
      "Index= 7 and letter = d\n",
      "Index= 8 and letter = h\n",
      "Index= 9 and letter = i\n",
      "Index= 10 and letter = m\n",
      "Index= 11 and letter = a\n",
      "Index= 12 and letter = l\n"
     ]
    }
   ],
   "source": [
    "text = input('Enter a message: ')\n",
    "for message in range(0, len(text)):\n",
    "    letter = text[message]\n",
    "    print(f'Index= {message} and letter = {let\n",
    "    ter}')"
   ]
  },
  {
   "cell_type": "code",
   "execution_count": 44,
   "id": "e680ef59-ebe4-4d97-a67c-51c3bdd755d3",
   "metadata": {},
   "outputs": [
    {
     "name": "stdout",
     "output_type": "stream",
     "text": [
      "Index = 10 and letter = d\n",
      "Index = 9 and letter = l\n",
      "Index = 8 and letter = r\n",
      "Index = 7 and letter = o\n",
      "Index = 6 and letter = W\n",
      "Index = 5 and letter =  \n",
      "Index = 4 and letter = o\n",
      "Index = 3 and letter = l\n",
      "Index = 2 and letter = l\n",
      "Index = 1 and letter = e\n",
      "Index = 0 and letter = H\n"
     ]
    }
   ],
   "source": [
    "s = \"Hello World\"\n",
    "for index in range(len(s)-1,-1,-1):\n",
    "    letter = s[index]\n",
    "    print(f'Index = {index} and letter = {letter}')"
   ]
  },
  {
   "cell_type": "code",
   "execution_count": 35,
   "id": "576bbe9b-224e-425d-bd4b-44a8f43ff7cc",
   "metadata": {},
   "outputs": [
    {
     "name": "stdout",
     "output_type": "stream",
     "text": [
      "h\n",
      "6\n"
     ]
    }
   ],
   "source": [
    "s = 'naresh'\n",
    "print(s[5])\n",
    "print(len(s))"
   ]
  },
  {
   "cell_type": "code",
   "execution_count": 32,
   "id": "54465563-03ea-4a42-aadd-c2d9a088715d",
   "metadata": {},
   "outputs": [
    {
     "data": {
      "text/plain": [
       "'h'"
      ]
     },
     "execution_count": 32,
     "metadata": {},
     "output_type": "execute_result"
    }
   ],
   "source": [
    "index = 5\n",
    "s[index]"
   ]
  },
  {
   "cell_type": "code",
   "execution_count": 45,
   "id": "c5d38c00-2f3b-4f79-a579-ab6c5d6f52cc",
   "metadata": {},
   "outputs": [
    {
     "name": "stdout",
     "output_type": "stream",
     "text": [
      "H\n",
      "e\n",
      "l\n",
      "l\n",
      "o\n",
      " \n",
      "W\n",
      "o\n",
      "r\n",
      "l\n",
      "d\n"
     ]
    }
   ],
   "source": [
    "for index in range(0,len(s)):\n",
    "    letter = s [index]\n",
    "    print(letter)"
   ]
  },
  {
   "cell_type": "code",
   "execution_count": 53,
   "id": "ee55dfb4-35f1-4a4d-8bad-641e3e424625",
   "metadata": {},
   "outputs": [
    {
     "name": "stdout",
     "output_type": "stream",
     "text": [
      "5 h\n",
      "4 s\n",
      "3 e\n",
      "2 r\n",
      "1 a\n",
      "0 n\n"
     ]
    }
   ],
   "source": [
    "name = 'naresh'\n",
    "for index in range(len(name)-1, -1, -1):\n",
    "    letter = name[index]\n",
    "    print(index, letter)"
   ]
  },
  {
   "cell_type": "code",
   "execution_count": 52,
   "id": "6d29c261-6cf4-4778-add5-8618261fbcca",
   "metadata": {},
   "outputs": [
    {
     "name": "stdout",
     "output_type": "stream",
     "text": [
      "The letter = n is consonant.\n",
      "The letter = a is vowel.\n",
      "The letter = r is consonant.\n",
      "The letter = e is vowel.\n",
      "The letter = s is consonant.\n",
      "The letter = h is consonant.\n",
      "The letter = d is consonant.\n",
      "The letter = h is consonant.\n",
      "The letter = i is vowel.\n",
      "The letter = m is consonant.\n",
      "The letter = a is vowel.\n",
      "The letter = l is consonant.\n"
     ]
    }
   ],
   "source": [
    "s = 'naresh dhimal'\n",
    "for index in range(0,len(s)):\n",
    "    letter = s[index]\n",
    "    if letter =='a' or letter == 'e' or letter == 'i' or letter == 'o' or letter == 'u':\n",
    "        print(f'The letter = {letter} is vowel.')\n",
    "    elif letter == \" \":\n",
    "        continue\n",
    "    else:\n",
    "        print(f'The letter = {letter} is consonant.')"
   ]
  },
  {
   "cell_type": "code",
   "execution_count": null,
   "id": "434b7914-a241-4af6-bb32-0ee30e7f1afc",
   "metadata": {},
   "outputs": [],
   "source": []
  },
  {
   "cell_type": "code",
   "execution_count": null,
   "id": "4e6c96f7-1dfa-42ad-8e07-6d4d8ffe4e51",
   "metadata": {},
   "outputs": [],
   "source": []
  }
 ],
 "metadata": {
  "kernelspec": {
   "display_name": "Python 3 (ipykernel)",
   "language": "python",
   "name": "python3"
  },
  "language_info": {
   "codemirror_mode": {
    "name": "ipython",
    "version": 3
   },
   "file_extension": ".py",
   "mimetype": "text/x-python",
   "name": "python",
   "nbconvert_exporter": "python",
   "pygments_lexer": "ipython3",
   "version": "3.11.1"
  }
 },
 "nbformat": 4,
 "nbformat_minor": 5
}
