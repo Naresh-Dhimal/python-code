{
 "cells": [
  {
   "cell_type": "markdown",
   "id": "7631930f-862d-4436-ba5a-a14a57269bd3",
   "metadata": {},
   "source": [
    "# Updating variable Values"
   ]
  },
  {
   "cell_type": "code",
   "execution_count": 1,
   "id": "31d4457b-8f4f-4bd1-b272-0dd148affd53",
   "metadata": {},
   "outputs": [
    {
     "name": "stdout",
     "output_type": "stream",
     "text": [
      "Horlicks\n"
     ]
    }
   ],
   "source": [
    "batta = 'Horlicks'\n",
    "print(batta)"
   ]
  },
  {
   "cell_type": "code",
   "execution_count": 3,
   "id": "3a7a32f3-5225-4346-956d-1da61c889d9d",
   "metadata": {},
   "outputs": [
    {
     "name": "stdout",
     "output_type": "stream",
     "text": [
      "Gheu\n"
     ]
    }
   ],
   "source": [
    "batta = 'Gheu'\n",
    "print(batta)"
   ]
  },
  {
   "cell_type": "code",
   "execution_count": 4,
   "id": "0b7b5e53-4ba7-4464-b0e3-7724855d45b0",
   "metadata": {},
   "outputs": [],
   "source": [
    "weight = 12\n",
    "weight = 12 + 13"
   ]
  },
  {
   "cell_type": "code",
   "execution_count": 5,
   "id": "62ab4abb-4a67-47d0-a34e-b5a052e2655a",
   "metadata": {},
   "outputs": [
    {
     "name": "stdout",
     "output_type": "stream",
     "text": [
      "25\n"
     ]
    }
   ],
   "source": [
    "print(weight)"
   ]
  },
  {
   "cell_type": "markdown",
   "id": "d181fe38-4abe-426a-93d7-7ae2501ecdb0",
   "metadata": {},
   "source": [
    "# Assigning Multiple values to multiple variable"
   ]
  },
  {
   "cell_type": "code",
   "execution_count": 6,
   "id": "6c521465-5d60-4cc8-b1e7-0732623b3507",
   "metadata": {},
   "outputs": [],
   "source": [
    "a = 2\n",
    "b = 3.2\n",
    "c = 4 + 5j\n"
   ]
  },
  {
   "cell_type": "code",
   "execution_count": null,
   "id": "9e08d816-632a-4fb7-8a14-30667c04d1d7",
   "metadata": {},
   "outputs": [],
   "source": [
    "a, b, c = 3 , 5.4 , 4 + 4j\n"
   ]
  },
  {
   "cell_type": "code",
   "execution_count": 7,
   "id": "d93204f0-0a95-40c9-b8b0-62a9483771e2",
   "metadata": {},
   "outputs": [
    {
     "name": "stdout",
     "output_type": "stream",
     "text": [
      "2 3.2 (4+5j)\n"
     ]
    }
   ],
   "source": [
    "print(a, b, c)"
   ]
  },
  {
   "cell_type": "markdown",
   "id": "ddbfed28-4255-4907-a963-6387208fbafe",
   "metadata": {},
   "source": [
    "# Swap two number"
   ]
  },
  {
   "cell_type": "code",
   "execution_count": 8,
   "id": "2415497d-1b1d-4730-98d7-9a57086412d9",
   "metadata": {},
   "outputs": [
    {
     "name": "stdout",
     "output_type": "stream",
     "text": [
      "0.65 0.3\n"
     ]
    }
   ],
   "source": [
    "a = 0.3\n",
    "b = 0.65\n",
    "a, b = b, a\n",
    "print(a, b)"
   ]
  },
  {
   "cell_type": "markdown",
   "id": "5d6f05bc-64b4-437e-85fa-2412b5d9e605",
   "metadata": {},
   "source": [
    "# f-String"
   ]
  },
  {
   "cell_type": "code",
   "execution_count": 1,
   "id": "eda90b16-8947-462e-8298-6c6e160d056e",
   "metadata": {},
   "outputs": [
    {
     "name": "stdout",
     "output_type": "stream",
     "text": [
      "I am studying Python in Broadway.\n"
     ]
    }
   ],
   "source": [
    "subject = 'Python'\n",
    "institute = 'Broadway'\n",
    "print(f'I am studying {subject} in {institute}.')"
   ]
  },
  {
   "cell_type": "markdown",
   "id": "2f1bd7fc-983d-466d-b74d-c4f8053ec358",
   "metadata": {},
   "source": [
    "name = input('Enter a name:')\n",
    "location = input('Enter a location:')\n",
    "print(f'I am is {name} and i am living in {location}.')"
   ]
  },
  {
   "cell_type": "markdown",
   "id": "ce0a5e14-32d5-431f-9a27-f9ffbd92b347",
   "metadata": {},
   "source": [
    "# Datatype"
   ]
  },
  {
   "cell_type": "code",
   "execution_count": 2,
   "id": "8099b13b-952b-4891-85d3-261454d92382",
   "metadata": {},
   "outputs": [],
   "source": [
    "a, b, c = 2, 0.3, 0.5 + 6j"
   ]
  },
  {
   "cell_type": "code",
   "execution_count": 3,
   "id": "6a601463-74be-45fc-9117-4f20a742ef53",
   "metadata": {},
   "outputs": [
    {
     "data": {
      "text/plain": [
       "int"
      ]
     },
     "execution_count": 3,
     "metadata": {},
     "output_type": "execute_result"
    }
   ],
   "source": [
    "type(a)"
   ]
  },
  {
   "cell_type": "code",
   "execution_count": 4,
   "id": "193841c9-ba3a-4687-9a42-2b084582bb42",
   "metadata": {},
   "outputs": [
    {
     "data": {
      "text/plain": [
       "float"
      ]
     },
     "execution_count": 4,
     "metadata": {},
     "output_type": "execute_result"
    }
   ],
   "source": [
    "type(b)"
   ]
  },
  {
   "cell_type": "code",
   "execution_count": 5,
   "id": "c9be816f-db0a-43c5-a9db-21d8552033d6",
   "metadata": {},
   "outputs": [
    {
     "data": {
      "text/plain": [
       "complex"
      ]
     },
     "execution_count": 5,
     "metadata": {},
     "output_type": "execute_result"
    }
   ],
   "source": [
    "type(c)"
   ]
  },
  {
   "cell_type": "code",
   "execution_count": 6,
   "id": "1d05cf3d-c3db-45b8-a4aa-f1577d4b7e95",
   "metadata": {},
   "outputs": [
    {
     "data": {
      "text/plain": [
       "str"
      ]
     },
     "execution_count": 6,
     "metadata": {},
     "output_type": "execute_result"
    }
   ],
   "source": [
    "name = 'Ram'\n",
    "type(name)"
   ]
  },
  {
   "cell_type": "markdown",
   "id": "f0ac0f24-8c34-441c-9729-b0a29e37938f",
   "metadata": {},
   "source": [
    "* list\n",
    "* set\n",
    "* tuples\n",
    "* dictionary\n",
    "  are 4 built-in data type of python"
   ]
  },
  {
   "cell_type": "markdown",
   "id": "e91c0ec5-838c-435e-9763-81918f8f7954",
   "metadata": {},
   "source": [
    "# type validation"
   ]
  },
  {
   "cell_type": "code",
   "execution_count": 7,
   "id": "3e23d618-83a3-4832-b2ec-23dbf121d13a",
   "metadata": {},
   "outputs": [
    {
     "data": {
      "text/plain": [
       "True"
      ]
     },
     "execution_count": 7,
     "metadata": {},
     "output_type": "execute_result"
    }
   ],
   "source": [
    "a = 0.5\n",
    "# I want to check if a is float or not\n",
    "isinstance(a, float)"
   ]
  },
  {
   "cell_type": "code",
   "execution_count": 8,
   "id": "a297f3f3-de8d-49cf-8542-56747bd37cdc",
   "metadata": {},
   "outputs": [
    {
     "data": {
      "text/plain": [
       "False"
      ]
     },
     "execution_count": 8,
     "metadata": {},
     "output_type": "execute_result"
    }
   ],
   "source": [
    "isinstance(a, int)"
   ]
  },
  {
   "cell_type": "markdown",
   "id": "12e5efed-7bc5-4e94-b9d8-c0c35256f783",
   "metadata": {},
   "source": [
    "# Taking imput from user"
   ]
  },
  {
   "cell_type": "code",
   "execution_count": 9,
   "id": "499ecb03-1adb-4970-bac6-fe46b8369fbb",
   "metadata": {},
   "outputs": [
    {
     "name": "stdin",
     "output_type": "stream",
     "text": [
      "Enter a number: 12.5\n"
     ]
    },
    {
     "name": "stdout",
     "output_type": "stream",
     "text": [
      "12.5\n"
     ]
    }
   ],
   "source": [
    "num = float(input('Enter a number:'))\n",
    "print(num)"
   ]
  },
  {
   "cell_type": "code",
   "execution_count": 10,
   "id": "8dbbc53d-50da-4b78-af9b-4075183738f1",
   "metadata": {},
   "outputs": [
    {
     "data": {
      "text/plain": [
       "float"
      ]
     },
     "execution_count": 10,
     "metadata": {},
     "output_type": "execute_result"
    }
   ],
   "source": [
    "type(num)"
   ]
  },
  {
   "cell_type": "code",
   "execution_count": 11,
   "id": "f05e988d-2532-45cf-b51f-e6081b821c8b",
   "metadata": {},
   "outputs": [
    {
     "name": "stdin",
     "output_type": "stream",
     "text": [
      "enter a first number:  12\n",
      "enter a second number:  13\n"
     ]
    },
    {
     "data": {
      "text/plain": [
       "25"
      ]
     },
     "execution_count": 11,
     "metadata": {},
     "output_type": "execute_result"
    }
   ],
   "source": [
    "a = int(input('enter a first number: '))\n",
    "b = int(input('enter a second number: '))\n",
    "a + b"
   ]
  },
  {
   "cell_type": "markdown",
   "id": "3c56d748-478b-4150-808b-a15793ed606f",
   "metadata": {},
   "source": [
    "# Find the volume of sphere"
   ]
  },
  {
   "cell_type": "code",
   "execution_count": 16,
   "id": "55155755-136f-443e-b3af-5a75a86de3a4",
   "metadata": {},
   "outputs": [
    {
     "name": "stdin",
     "output_type": "stream",
     "text": [
      "Enter a radius:  5\n"
     ]
    },
    {
     "data": {
      "text/plain": [
       "523.5988"
      ]
     },
     "execution_count": 16,
     "metadata": {},
     "output_type": "execute_result"
    }
   ],
   "source": [
    "import math\n",
    "radius = float(input('Enter a radius: '))\n",
    "volume = 4 / 3 * math.pi * radius ** 3\n",
    "round(volume,4)"
   ]
  },
  {
   "cell_type": "raw",
   "id": "b8aec947-d87b-40ea-8bb6-bcf400e40294",
   "metadata": {},
   "source": []
  }
 ],
 "metadata": {
  "kernelspec": {
   "display_name": "Python 3 (ipykernel)",
   "language": "python",
   "name": "python3"
  },
  "language_info": {
   "codemirror_mode": {
    "name": "ipython",
    "version": 3
   },
   "file_extension": ".py",
   "mimetype": "text/x-python",
   "name": "python",
   "nbconvert_exporter": "python",
   "pygments_lexer": "ipython3",
   "version": "3.11.1"
  }
 },
 "nbformat": 4,
 "nbformat_minor": 5
}
