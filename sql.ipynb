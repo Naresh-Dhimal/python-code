{
 "cells": [
  {
   "cell_type": "markdown",
   "id": "5b79108e-4e8e-49df-b71b-0b1616ce6519",
   "metadata": {},
   "source": [
    "# Structure Query language (SQL)\n",
    "<b>SQL is a standard language for storing, manipulating and retrieving data in database."
   ]
  },
  {
   "cell_type": "code",
   "execution_count": 2,
   "id": "8e735163-66f3-4e7d-9e09-174522dee8e7",
   "metadata": {},
   "outputs": [],
   "source": [
    "import sqlite3"
   ]
  },
  {
   "cell_type": "markdown",
   "id": "046e876f-caf9-481e-9e9b-38cd1560657b",
   "metadata": {},
   "source": [
    "# CRUID operation"
   ]
  },
  {
   "cell_type": "markdown",
   "id": "3516d2d3-4458-4eab-889b-31adee6a58ce",
   "metadata": {},
   "source": [
    "# Create database and connect to the database"
   ]
  },
  {
   "cell_type": "code",
   "execution_count": 3,
   "id": "5f68c89d-c396-4f8f-ba45-d37a21967e8d",
   "metadata": {},
   "outputs": [],
   "source": [
    "connection = sqlite3.connect(\"student.db\")"
   ]
  },
  {
   "cell_type": "code",
   "execution_count": 4,
   "id": "60a9c732-d17c-4b9a-a2da-5bbb20cafddb",
   "metadata": {},
   "outputs": [
    {
     "data": {
      "text/plain": [
       "<sqlite3.Connection at 0x1f9bab15990>"
      ]
     },
     "execution_count": 4,
     "metadata": {},
     "output_type": "execute_result"
    }
   ],
   "source": [
    "connection"
   ]
  },
  {
   "cell_type": "markdown",
   "id": "29ad47a1-8ee6-4dea-b48a-bb03d0b304bf",
   "metadata": {},
   "source": [
    "# Cursor executes SQL query"
   ]
  },
  {
   "cell_type": "code",
   "execution_count": 5,
   "id": "6221a67e-e6a4-4dcc-9319-b3e6a9e4c8ce",
   "metadata": {},
   "outputs": [],
   "source": [
    "cur = connection.cursor()"
   ]
  },
  {
   "cell_type": "markdown",
   "id": "23ddb632-aea3-42c9-99f9-004c0b8a328f",
   "metadata": {},
   "source": [
    "# Creating table in the Database\n",
    "syntax:\n",
    "```sql\n",
    "create table table_name (column_name1 datatype, column_name2 datatype....., column_name_n datatype)\n",
    "```"
   ]
  },
  {
   "cell_type": "code",
   "execution_count": 8,
   "id": "a1a0ab31-07bf-43cc-96ba-4bfc619d99cf",
   "metadata": {},
   "outputs": [],
   "source": [
    "query = \"\"\"\n",
    "create table std\n",
    "(\n",
    "    roll_no int, \n",
    "    name varchar(50)\n",
    ")\n",
    "\"\"\""
   ]
  },
  {
   "cell_type": "code",
   "execution_count": 9,
   "id": "83067054-31ef-4ecc-a652-3e2e1c25c8c4",
   "metadata": {},
   "outputs": [
    {
     "data": {
      "text/plain": [
       "<sqlite3.Cursor at 0x1f9bab3ab40>"
      ]
     },
     "execution_count": 9,
     "metadata": {},
     "output_type": "execute_result"
    }
   ],
   "source": [
    "cur.execute(query)"
   ]
  },
  {
   "cell_type": "markdown",
   "id": "a874b395-abc1-4b11-8656-0e68261a5d81",
   "metadata": {},
   "source": [
    "# Insert Operation\n",
    "syntax:\n",
    "```sql\n",
    "insert into table_name\n",
    "(column_name_1, column_name_2,........)\n",
    "values\n",
    "(value_1, value_2,............)\n",
    "```"
   ]
  },
  {
   "cell_type": "code",
   "execution_count": 15,
   "id": "4e59840f-268c-4988-b62e-9b31b74d3b97",
   "metadata": {},
   "outputs": [],
   "source": [
    "query = \"\"\"\n",
    "insert into std\n",
    "(roll_no,name)\n",
    "values\n",
    "(1, 'Naresh'),\n",
    "(2, 'Rajendra')\n",
    "\"\"\""
   ]
  },
  {
   "cell_type": "code",
   "execution_count": 16,
   "id": "d25d45b4-2106-48d8-aa77-e2b23e8f90c4",
   "metadata": {},
   "outputs": [
    {
     "data": {
      "text/plain": [
       "<sqlite3.Cursor at 0x1f9bab3ab40>"
      ]
     },
     "execution_count": 16,
     "metadata": {},
     "output_type": "execute_result"
    }
   ],
   "source": [
    "cur.execute(query)"
   ]
  },
  {
   "cell_type": "markdown",
   "id": "a00b48e0-74f8-4271-9e2b-6b6a4fbfc571",
   "metadata": {},
   "source": [
    "# Read or Selection Statement\n",
    "synax:\n",
    "```sql\n",
    "select * from table_name\n",
    "```\n",
    "```sql\n",
    "select column_name1, column_name2 from table_name\n",
    "```"
   ]
  },
  {
   "cell_type": "code",
   "execution_count": 18,
   "id": "535f1625-4df7-4555-a9de-7ef8ef8f4b75",
   "metadata": {},
   "outputs": [
    {
     "data": {
      "text/plain": [
       "[(1, 'Naresh'), (2, 'Rajendra')]"
      ]
     },
     "execution_count": 18,
     "metadata": {},
     "output_type": "execute_result"
    }
   ],
   "source": [
    "query = \"select * from std\"\n",
    "cur.execute(query).fetchall()\n"
   ]
  },
  {
   "cell_type": "code",
   "execution_count": 19,
   "id": "d992f31a-1c85-4c15-bd00-90f23f1508ad",
   "metadata": {},
   "outputs": [
    {
     "data": {
      "text/plain": [
       "[('Naresh',), ('Rajendra',)]"
      ]
     },
     "execution_count": 19,
     "metadata": {},
     "output_type": "execute_result"
    }
   ],
   "source": [
    "cur.execute(\"select name from std\").fetchall()"
   ]
  },
  {
   "cell_type": "code",
   "execution_count": 20,
   "id": "9c192601-59c9-43c8-9b6b-2d1e7ac6203d",
   "metadata": {},
   "outputs": [
    {
     "data": {
      "text/plain": [
       "[(1,), (2,)]"
      ]
     },
     "execution_count": 20,
     "metadata": {},
     "output_type": "execute_result"
    }
   ],
   "source": [
    "cur.execute(\"select roll_no from std\").fetchall()\n"
   ]
  },
  {
   "cell_type": "markdown",
   "id": "3c302483-1748-4077-8cc0-ca4d24620e98",
   "metadata": {},
   "source": [
    "# Where clause/condition"
   ]
  },
  {
   "cell_type": "code",
   "execution_count": 21,
   "id": "2aaa92b9-e3ac-4827-aa61-89efed6b561e",
   "metadata": {},
   "outputs": [],
   "source": [
    "query = \"\"\"\n",
    "select name from std\n",
    "where roll_no = 2\n",
    "\"\"\""
   ]
  },
  {
   "cell_type": "code",
   "execution_count": 22,
   "id": "a8f064e9-c390-4275-937b-b3afcb24ef2c",
   "metadata": {},
   "outputs": [
    {
     "data": {
      "text/plain": [
       "[('Rajendra',)]"
      ]
     },
     "execution_count": 22,
     "metadata": {},
     "output_type": "execute_result"
    }
   ],
   "source": [
    "cur.execute(query).fetchall()"
   ]
  },
  {
   "cell_type": "code",
   "execution_count": 23,
   "id": "ad5c0f6a-716d-4060-b4ff-6539ac737994",
   "metadata": {},
   "outputs": [],
   "source": [
    "query = \"\"\"\n",
    "select name from std\n",
    "where roll_no = 1\n",
    "\"\"\""
   ]
  },
  {
   "cell_type": "code",
   "execution_count": 24,
   "id": "abb820b3-7f38-4c56-aeae-d419f75c292b",
   "metadata": {},
   "outputs": [
    {
     "data": {
      "text/plain": [
       "[('Naresh',)]"
      ]
     },
     "execution_count": 24,
     "metadata": {},
     "output_type": "execute_result"
    }
   ],
   "source": [
    "cur.execute(query).fetchall()"
   ]
  },
  {
   "cell_type": "markdown",
   "id": "3c8ed3d1-452e-4dba-8ff1-90e5c467a292",
   "metadata": {},
   "source": [
    "# Update statement\n",
    "syntax:\n",
    "```sql\n",
    "update table_name\n",
    "set column_name = vlaue\n",
    "where condition\n",
    "```\n"
   ]
  },
  {
   "cell_type": "code",
   "execution_count": 25,
   "id": "b4506d72-c0ee-47fd-8662-4b03ab704684",
   "metadata": {},
   "outputs": [],
   "source": [
    "query = \"\"\"\n",
    "update std\n",
    "set name = 'Naresh dhimal'\n",
    "where roll_no = 1\n",
    "\"\"\""
   ]
  },
  {
   "cell_type": "code",
   "execution_count": 26,
   "id": "191ba257-6cba-4098-9bf5-0cb0d8735466",
   "metadata": {},
   "outputs": [
    {
     "data": {
      "text/plain": [
       "<sqlite3.Cursor at 0x1f9bab3ab40>"
      ]
     },
     "execution_count": 26,
     "metadata": {},
     "output_type": "execute_result"
    }
   ],
   "source": [
    "cur.execute(query)"
   ]
  },
  {
   "cell_type": "code",
   "execution_count": 28,
   "id": "0180064a-f655-4daa-962f-e73c98c7dda7",
   "metadata": {},
   "outputs": [
    {
     "data": {
      "text/plain": [
       "[(1, 'Naresh dhimal'), (2, 'Rajendra')]"
      ]
     },
     "execution_count": 28,
     "metadata": {},
     "output_type": "execute_result"
    }
   ],
   "source": [
    "cur.execute(\"select * from std\").fetchall() # read"
   ]
  },
  {
   "cell_type": "markdown",
   "id": "c9cb38c9-7416-4a2f-8a15-7d9d54dfc6aa",
   "metadata": {},
   "source": [
    "# Delete rows in SQL\n",
    "syntax:\n",
    "\n",
    "```sql\n",
    "delete from table_name \n",
    "where condition\n",
    "```"
   ]
  },
  {
   "cell_type": "code",
   "execution_count": 30,
   "id": "5d947a07-76c8-4b2a-a415-a7395f2deedc",
   "metadata": {},
   "outputs": [
    {
     "data": {
      "text/plain": [
       "<sqlite3.Cursor at 0x1f9bab3ab40>"
      ]
     },
     "execution_count": 30,
     "metadata": {},
     "output_type": "execute_result"
    }
   ],
   "source": [
    "cur.execute(\"delete from std where roll_no = 1\") # roll_no 1 ko data delete garne"
   ]
  },
  {
   "cell_type": "code",
   "execution_count": 31,
   "id": "8ae1ca6b-0a84-455f-b2a8-efe81dde8c33",
   "metadata": {},
   "outputs": [
    {
     "data": {
      "text/plain": [
       "[(2, 'Rajendra')]"
      ]
     },
     "execution_count": 31,
     "metadata": {},
     "output_type": "execute_result"
    }
   ],
   "source": [
    "cur.execute(\"select * from std\").fetchall()"
   ]
  },
  {
   "cell_type": "code",
   "execution_count": null,
   "id": "f1977211-0baf-40b3-b559-6be22808f9b1",
   "metadata": {},
   "outputs": [],
   "source": []
  },
  {
   "cell_type": "code",
   "execution_count": null,
   "id": "b4ac744e-53f6-49c0-b5c5-e0672585664f",
   "metadata": {},
   "outputs": [],
   "source": []
  },
  {
   "cell_type": "code",
   "execution_count": null,
   "id": "edf4efd5-6825-4435-aab3-5938caed2bcd",
   "metadata": {},
   "outputs": [],
   "source": []
  }
 ],
 "metadata": {
  "kernelspec": {
   "display_name": "Python 3 (ipykernel)",
   "language": "python",
   "name": "python3"
  },
  "language_info": {
   "codemirror_mode": {
    "name": "ipython",
    "version": 3
   },
   "file_extension": ".py",
   "mimetype": "text/x-python",
   "name": "python",
   "nbconvert_exporter": "python",
   "pygments_lexer": "ipython3",
   "version": "3.11.1"
  }
 },
 "nbformat": 4,
 "nbformat_minor": 5
}
