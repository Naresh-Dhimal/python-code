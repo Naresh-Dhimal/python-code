{
 "cells": [
  {
   "cell_type": "markdown",
   "id": "56e34989-8b6e-42ae-a3d5-69edcfa42674",
   "metadata": {},
   "source": [
    "# Tuples:\n",
    "* <b> Immutable\n",
    "* <b>orderded\n",
    "* <b>indexed\n",
    "* <b>read only\n",
    "* <b>allow duplicate value\n",
    "* <b>items written inside () seperated by comma"
   ]
  },
  {
   "cell_type": "raw",
   "id": "b16e72b2-2dac-4ef1-971b-3ec3439771ae",
   "metadata": {},
   "source": []
  },
  {
   "cell_type": "code",
   "execution_count": 1,
   "id": "e5b51935-5eec-4359-91da-b25851301be3",
   "metadata": {},
   "outputs": [
    {
     "data": {
      "text/plain": [
       "('Bmw', 'Mercedes', 'Audi')"
      ]
     },
     "execution_count": 1,
     "metadata": {},
     "output_type": "execute_result"
    }
   ],
   "source": [
    "cars = (\"Bmw\", \"Mercedes\", \"Audi\")\n",
    "cars"
   ]
  },
  {
   "cell_type": "code",
   "execution_count": 2,
   "id": "0f5a1bb8-71e0-4474-9d24-7fdfe340efdc",
   "metadata": {},
   "outputs": [
    {
     "data": {
      "text/plain": [
       "'Mercedes'"
      ]
     },
     "execution_count": 2,
     "metadata": {},
     "output_type": "execute_result"
    }
   ],
   "source": [
    "cars[1]"
   ]
  },
  {
   "cell_type": "code",
   "execution_count": 3,
   "id": "ad90c05b-983e-4d3e-97ca-0309c788ce13",
   "metadata": {},
   "outputs": [
    {
     "data": {
      "text/plain": [
       "'Audi'"
      ]
     },
     "execution_count": 3,
     "metadata": {},
     "output_type": "execute_result"
    }
   ],
   "source": [
    "cars[-1]"
   ]
  },
  {
   "cell_type": "code",
   "execution_count": 4,
   "id": "688283a8-c62e-4346-9fe9-db2e7220d03b",
   "metadata": {},
   "outputs": [
    {
     "data": {
      "text/plain": [
       "('Bmw', 'Mercedes')"
      ]
     },
     "execution_count": 4,
     "metadata": {},
     "output_type": "execute_result"
    }
   ],
   "source": [
    "cars[0:2]"
   ]
  },
  {
   "cell_type": "code",
   "execution_count": 5,
   "id": "a7b63f0f-aa4a-4697-82c8-279a9d9b766f",
   "metadata": {},
   "outputs": [
    {
     "data": {
      "text/plain": [
       "('Bmw', 'Mercedes')"
      ]
     },
     "execution_count": 5,
     "metadata": {},
     "output_type": "execute_result"
    }
   ],
   "source": [
    "cars[:-1]"
   ]
  },
  {
   "cell_type": "code",
   "execution_count": 6,
   "id": "545a004c-c2c5-49ca-b115-30e7c8d12479",
   "metadata": {},
   "outputs": [
    {
     "data": {
      "text/plain": [
       "('Audi',)"
      ]
     },
     "execution_count": 6,
     "metadata": {},
     "output_type": "execute_result"
    }
   ],
   "source": [
    "cars[-1:]"
   ]
  },
  {
   "cell_type": "code",
   "execution_count": 7,
   "id": "e10efcc4-eb12-4d06-9cc4-f89024d9c3d1",
   "metadata": {},
   "outputs": [
    {
     "name": "stdout",
     "output_type": "stream",
     "text": [
      "Index = 0 and item = Bmw\n",
      "Index = 1 and item = Mercedes\n",
      "Index = 2 and item = Audi\n"
     ]
    }
   ],
   "source": [
    "cars = (\"Bmw\", \"Mercedes\", \"Audi\")\n",
    "for index in range(len(cars)):\n",
    "    item = cars[index]\n",
    "    print(f\"Index = {index} and item = {item}\")"
   ]
  },
  {
   "cell_type": "markdown",
   "id": "7b120ae0-4f56-4528-bf4a-044901067ef3",
   "metadata": {},
   "source": [
    "# Tuple is Immutable(read only)"
   ]
  },
  {
   "cell_type": "code",
   "execution_count": 8,
   "id": "b7ff348b-9efd-41b2-ac79-0f4ffe5e586b",
   "metadata": {},
   "outputs": [],
   "source": [
    "cars = (\"Audi\",\"Bmw\", \"Ferrari\")\n",
    "\n"
   ]
  },
  {
   "cell_type": "code",
   "execution_count": 9,
   "id": "c7efbd1f-5a7b-45c1-9abf-c4402a5600b5",
   "metadata": {},
   "outputs": [
    {
     "data": {
      "text/plain": [
       "'Ferrari'"
      ]
     },
     "execution_count": 9,
     "metadata": {},
     "output_type": "execute_result"
    }
   ],
   "source": [
    "cars[2]"
   ]
  },
  {
   "cell_type": "code",
   "execution_count": 10,
   "id": "2b05ba25-82c4-4cf3-bef0-212f6aac2b5d",
   "metadata": {},
   "outputs": [
    {
     "ename": "TypeError",
     "evalue": "'tuple' object does not support item assignment",
     "output_type": "error",
     "traceback": [
      "\u001b[1;31m---------------------------------------------------------------------------\u001b[0m",
      "\u001b[1;31mTypeError\u001b[0m                                 Traceback (most recent call last)",
      "Cell \u001b[1;32mIn[10], line 1\u001b[0m\n\u001b[1;32m----> 1\u001b[0m \u001b[43mcars\u001b[49m\u001b[43m[\u001b[49m\u001b[38;5;241;43m2\u001b[39;49m\u001b[43m]\u001b[49m \u001b[38;5;241m=\u001b[39m \u001b[38;5;124m\"\u001b[39m\u001b[38;5;124mMercedes\u001b[39m\u001b[38;5;124m\"\u001b[39m\n",
      "\u001b[1;31mTypeError\u001b[0m: 'tuple' object does not support item assignment"
     ]
    }
   ],
   "source": [
    "cars[2] = \"Mercedes\""
   ]
  },
  {
   "cell_type": "code",
   "execution_count": 11,
   "id": "53a9dc44-608e-4713-9d6b-f78c8ff13ab4",
   "metadata": {},
   "outputs": [
    {
     "data": {
      "text/plain": [
       "['Audi', 'Bmw', 'Mercedes']"
      ]
     },
     "execution_count": 11,
     "metadata": {},
     "output_type": "execute_result"
    }
   ],
   "source": [
    "cars = [\"Audi\",\"Bmw\", \"Ferrari\"]\n",
    "cars[2] = \"Mercedes\"\n",
    "cars\n"
   ]
  },
  {
   "cell_type": "markdown",
   "id": "f7bb898b-13e3-43f9-ae7c-873766664129",
   "metadata": {},
   "source": [
    "# List is a mutabe so we can read and write in list but tuple is a immutable so we can only read "
   ]
  },
  {
   "cell_type": "markdown",
   "id": "51847eb0-d1f7-4745-a177-d4b43e52a9a1",
   "metadata": {},
   "source": [
    "# Type casting"
   ]
  },
  {
   "cell_type": "code",
   "execution_count": 12,
   "id": "6de5dd57-95d5-447c-8841-8c8a2299db43",
   "metadata": {},
   "outputs": [
    {
     "ename": "AttributeError",
     "evalue": "'tuple' object has no attribute 'append'",
     "output_type": "error",
     "traceback": [
      "\u001b[1;31m---------------------------------------------------------------------------\u001b[0m",
      "\u001b[1;31mAttributeError\u001b[0m                            Traceback (most recent call last)",
      "Cell \u001b[1;32mIn[12], line 2\u001b[0m\n\u001b[0;32m      1\u001b[0m cars \u001b[38;5;241m=\u001b[39m (\u001b[38;5;124m\"\u001b[39m\u001b[38;5;124mAudi\u001b[39m\u001b[38;5;124m\"\u001b[39m,\u001b[38;5;124m\"\u001b[39m\u001b[38;5;124mBmw\u001b[39m\u001b[38;5;124m\"\u001b[39m, \u001b[38;5;124m\"\u001b[39m\u001b[38;5;124mFerrari\u001b[39m\u001b[38;5;124m\"\u001b[39m)\n\u001b[1;32m----> 2\u001b[0m \u001b[43mcars\u001b[49m\u001b[38;5;241;43m.\u001b[39;49m\u001b[43mappend\u001b[49m(\u001b[38;5;124m\"\u001b[39m\u001b[38;5;124mMercedes\u001b[39m\u001b[38;5;124m\"\u001b[39m)\n",
      "\u001b[1;31mAttributeError\u001b[0m: 'tuple' object has no attribute 'append'"
     ]
    }
   ],
   "source": [
    "cars = (\"Audi\",\"Bmw\", \"Ferrari\")\n",
    "cars.append(\"Mercedes\")"
   ]
  },
  {
   "cell_type": "markdown",
   "id": "59535c8c-8fd7-4047-a072-2ef3853a95a9",
   "metadata": {},
   "source": [
    "# we can convert tuple in list and list in tuple using idea of type casting"
   ]
  },
  {
   "cell_type": "code",
   "execution_count": 18,
   "id": "e26480b9-3ac9-410c-9796-6943b4822add",
   "metadata": {},
   "outputs": [],
   "source": [
    "cars = list(cars) # type casting"
   ]
  },
  {
   "cell_type": "code",
   "execution_count": 14,
   "id": "66397054-82c3-4ee2-b9da-80dcce0c6a9b",
   "metadata": {},
   "outputs": [],
   "source": [
    "cars.append(\"Mercedes\")"
   ]
  },
  {
   "cell_type": "code",
   "execution_count": 15,
   "id": "0bca146d-3ea7-46f5-9134-5e022fd200db",
   "metadata": {},
   "outputs": [
    {
     "data": {
      "text/plain": [
       "['Audi', 'Bmw', 'Ferrari', 'Mercedes']"
      ]
     },
     "execution_count": 15,
     "metadata": {},
     "output_type": "execute_result"
    }
   ],
   "source": [
    "cars"
   ]
  },
  {
   "cell_type": "code",
   "execution_count": 19,
   "id": "1ae46c80-f4f3-470f-ab25-9b849249a99d",
   "metadata": {},
   "outputs": [],
   "source": [
    "cars = tuple(cars) # type casting"
   ]
  },
  {
   "cell_type": "code",
   "execution_count": 17,
   "id": "079d276b-be4b-4a36-acae-2bb0b50cea21",
   "metadata": {},
   "outputs": [
    {
     "data": {
      "text/plain": [
       "('Audi', 'Bmw', 'Ferrari', 'Mercedes')"
      ]
     },
     "execution_count": 17,
     "metadata": {},
     "output_type": "execute_result"
    }
   ],
   "source": [
    "cars"
   ]
  },
  {
   "cell_type": "markdown",
   "id": "0e6526b1-d197-4a88-a741-59b1f0c929f0",
   "metadata": {},
   "source": [
    "# Tuple unpacking"
   ]
  },
  {
   "cell_type": "code",
   "execution_count": 21,
   "id": "8457c9b3-9b6c-47c3-a54a-fd6eface5200",
   "metadata": {},
   "outputs": [],
   "source": [
    "x, y = (6, 8)"
   ]
  },
  {
   "cell_type": "code",
   "execution_count": 22,
   "id": "18ccff7f-c935-4031-b703-1b17383266f3",
   "metadata": {},
   "outputs": [
    {
     "data": {
      "text/plain": [
       "6"
      ]
     },
     "execution_count": 22,
     "metadata": {},
     "output_type": "execute_result"
    }
   ],
   "source": [
    "x\n"
   ]
  },
  {
   "cell_type": "code",
   "execution_count": 23,
   "id": "89bb94df-549b-4666-87b7-84fe8457dcd3",
   "metadata": {},
   "outputs": [
    {
     "data": {
      "text/plain": [
       "8"
      ]
     },
     "execution_count": 23,
     "metadata": {},
     "output_type": "execute_result"
    }
   ],
   "source": [
    "y"
   ]
  },
  {
   "cell_type": "code",
   "execution_count": 28,
   "id": "e6c5ce78-11c8-43d4-85a8-22f5a63c2ce0",
   "metadata": {},
   "outputs": [
    {
     "data": {
      "text/plain": [
       "17"
      ]
     },
     "execution_count": 28,
     "metadata": {},
     "output_type": "execute_result"
    }
   ],
   "source": [
    "# while loop in tuple\n",
    "num = (2, 5, 7, 3)\n",
    "index = 0\n",
    "total = 0 \n",
    "while index < len(num):\n",
    "    total = total + num[index]\n",
    "    index = index + 1\n",
    "total"
   ]
  },
  {
   "cell_type": "code",
   "execution_count": 27,
   "id": "e8d5cf52-f478-47b8-a496-a5c734492ac1",
   "metadata": {},
   "outputs": [
    {
     "name": "stdout",
     "output_type": "stream",
     "text": [
      "The mean of (2, 5, 7, 3) is 4.25.\n"
     ]
    }
   ],
   "source": [
    "mean = total / len(num)\n",
    "print(f\"The mean of {num} is {mean}.\")"
   ]
  },
  {
   "cell_type": "code",
   "execution_count": null,
   "id": "c650fa88-2380-479e-8364-88b5a50ecc39",
   "metadata": {},
   "outputs": [],
   "source": []
  }
 ],
 "metadata": {
  "kernelspec": {
   "display_name": "Python 3 (ipykernel)",
   "language": "python",
   "name": "python3"
  },
  "language_info": {
   "codemirror_mode": {
    "name": "ipython",
    "version": 3
   },
   "file_extension": ".py",
   "mimetype": "text/x-python",
   "name": "python",
   "nbconvert_exporter": "python",
   "pygments_lexer": "ipython3",
   "version": "3.11.1"
  }
 },
 "nbformat": 4,
 "nbformat_minor": 5
}
