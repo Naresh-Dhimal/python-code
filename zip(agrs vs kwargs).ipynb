{
 "cells": [
  {
   "cell_type": "code",
   "execution_count": 2,
   "id": "7d858af9-4890-4ed8-94e1-640d54766182",
   "metadata": {},
   "outputs": [
    {
     "name": "stdout",
     "output_type": "stream",
     "text": [
      "0\n",
      "0\n"
     ]
    }
   ],
   "source": [
    "for i in range(0,1):\n",
    "    print(i)\n",
    "    for j in range(0,1):\n",
    "        print(j)"
   ]
  },
  {
   "cell_type": "code",
   "execution_count": 3,
   "id": "215ccb94-45da-4688-bda6-2844a5dd2ba5",
   "metadata": {},
   "outputs": [
    {
     "name": "stdout",
     "output_type": "stream",
     "text": [
      "0\n",
      "0\n",
      "0\n",
      "1\n",
      "0\n",
      "0\n"
     ]
    }
   ],
   "source": [
    "for i in range(0,2):\n",
    "    print(i)\n",
    "    for j in range(0,1):\n",
    "        print(j)\n",
    "        for a in range(0,1):\n",
    "            print(a)\n"
   ]
  },
  {
   "cell_type": "code",
   "execution_count": 12,
   "id": "4dfe9039-e5fd-463f-80a1-7cff017cf899",
   "metadata": {},
   "outputs": [
    {
     "name": "stdout",
     "output_type": "stream",
     "text": [
      "95763\n",
      "9576\n",
      "957\n",
      "95\n",
      "9\n"
     ]
    }
   ],
   "source": [
    "a= \"95763\"\n",
    "for i in range(len(a),0,-1):\n",
    "    print(a[:i])\n",
    "    \n",
    "    "
   ]
  },
  {
   "cell_type": "code",
   "execution_count": 13,
   "id": "9f3de89a-b2a4-45c5-be97-02a24a8afd22",
   "metadata": {},
   "outputs": [],
   "source": [
    "employee_id = ['e01', 'e02', 'e04']\n",
    "employee_name = ['Kshitiz', 'Ram', 'Rita']"
   ]
  },
  {
   "cell_type": "code",
   "execution_count": 14,
   "id": "49b2f0d9-fa4b-4468-a3e1-89631ce2178a",
   "metadata": {},
   "outputs": [
    {
     "data": {
      "text/plain": [
       "<zip at 0x111d2e90b00>"
      ]
     },
     "execution_count": 14,
     "metadata": {},
     "output_type": "execute_result"
    }
   ],
   "source": [
    "zip(employee_id, employee_name)"
   ]
  },
  {
   "cell_type": "code",
   "execution_count": 15,
   "id": "06e246ac-aa2a-4ea1-bc8f-9fd1481ed7c8",
   "metadata": {},
   "outputs": [
    {
     "name": "stdout",
     "output_type": "stream",
     "text": [
      "('e01', 'Kshitiz')\n",
      "('e02', 'Ram')\n",
      "('e04', 'Rita')\n"
     ]
    }
   ],
   "source": [
    "for item in zip(employee_id, employee_name):\n",
    "    print(item)\n"
   ]
  },
  {
   "cell_type": "code",
   "execution_count": 17,
   "id": "b571aaf0-9c38-4238-88de-e8f85c31664c",
   "metadata": {},
   "outputs": [
    {
     "data": {
      "text/plain": [
       "{'e01': 'Kshitiz', 'e02': 'Ram', 'e04': 'Rita'}"
      ]
     },
     "execution_count": 17,
     "metadata": {},
     "output_type": "execute_result"
    }
   ],
   "source": [
    "dict(zip(employee_id, employee_name))\n"
   ]
  },
  {
   "cell_type": "code",
   "execution_count": null,
   "id": "e0efbd66-8bd9-470e-ad27-369921ed1f40",
   "metadata": {},
   "outputs": [],
   "source": []
  },
  {
   "cell_type": "code",
   "execution_count": null,
   "id": "823d0224-d8c6-44ed-acd6-5fe6d0d8ae46",
   "metadata": {},
   "outputs": [],
   "source": []
  }
 ],
 "metadata": {
  "kernelspec": {
   "display_name": "Python 3 (ipykernel)",
   "language": "python",
   "name": "python3"
  },
  "language_info": {
   "codemirror_mode": {
    "name": "ipython",
    "version": 3
   },
   "file_extension": ".py",
   "mimetype": "text/x-python",
   "name": "python",
   "nbconvert_exporter": "python",
   "pygments_lexer": "ipython3",
   "version": "3.11.1"
  }
 },
 "nbformat": 4,
 "nbformat_minor": 5
}
